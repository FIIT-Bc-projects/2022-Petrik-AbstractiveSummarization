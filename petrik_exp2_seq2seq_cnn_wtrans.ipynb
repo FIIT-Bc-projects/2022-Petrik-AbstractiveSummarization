{
 "cells": [
  {
   "cell_type": "markdown",
   "metadata": {
    "id": "gCeb8xO5gkGC"
   },
   "source": [
    "## Sebastian Petrik Abstractive Summarization Experiment 2\n",
    "## Seq2seq with advanced preparation\n",
    "\n",
    "- Adapted from https://github.com/mdipietro09/DataScience_ArtificialIntelligence_Utils/tree/master/natural_language_processing\n",
    "- Article: https://towardsdatascience.com/text-summarization-with-nlp-textrank-vs-seq2seq-vs-bart-474943efeb09"
   ]
  },
  {
   "cell_type": "markdown",
   "metadata": {
    "id": "8XiLRVKckQUk"
   },
   "source": [
    "# Setup"
   ]
  },
  {
   "cell_type": "markdown",
   "metadata": {
    "id": "LhnXZSipg7hr"
   },
   "source": [
    "### Session init"
   ]
  },
  {
   "cell_type": "code",
   "execution_count": 5,
   "metadata": {
    "colab": {
     "base_uri": "https://localhost:8080/"
    },
    "id": "AbRs7uW_giym",
    "outputId": "cc6f7a8f-0e42-4abc-c68e-261164a7ed5c"
   },
   "outputs": [
    {
     "name": "stdout",
     "output_type": "stream",
     "text": [
      "Not running on CoLab\n",
      "Running in Vast.AI\n"
     ]
    }
   ],
   "source": [
    "import os\n",
    "\n",
    "# detect Colab\n",
    "if 'google.colab' in str(get_ipython()):\n",
    "  print('Running on CoLab')\n",
    "  from google.colab import drive\n",
    "  drive.mount('/content/drive/')\n",
    "  %cd /content/drive/My Drive/PietroSum\n",
    "else:\n",
    "  print('Not running on CoLab')\n",
    "\n",
    "# detect Vast.AI\n",
    "if 'VAST_CONTAINERLABEL' in os.environ:\n",
    "  print('Running in Vast.AI')\n",
    "\n",
    "# import sys\n",
    "# import os\n",
    "# py_file_location = \"/content/drive/My Drive/PietroSum\"\n",
    "# sys.path.append(os.path.abspath(py_file_location))"
   ]
  },
  {
   "cell_type": "markdown",
   "metadata": {
    "id": "iRwmJ18XhV1S"
   },
   "source": [
    "### Libraries"
   ]
  },
  {
   "cell_type": "code",
   "execution_count": 6,
   "metadata": {
    "colab": {
     "base_uri": "https://localhost:8080/"
    },
    "id": "XRIBP6_2hWur",
    "outputId": "745365bb-b134-4eff-cbed-a7016afca4ab"
   },
   "outputs": [
    {
     "name": "stdout",
     "output_type": "stream",
     "text": [
      "Requirement already satisfied: numpy in /usr/local/lib/python3.8/dist-packages (1.23.4)\n",
      "Collecting pandas\n",
      "  Downloading pandas-1.5.3-cp38-cp38-manylinux_2_17_x86_64.manylinux2014_x86_64.whl (12.2 MB)\n",
      "\u001b[K     |████████████████████████████████| 12.2 MB 14.3 MB/s eta 0:00:01\n",
      "\u001b[?25hCollecting xlrd\n",
      "  Downloading xlrd-2.0.1-py2.py3-none-any.whl (96 kB)\n",
      "\u001b[K     |████████████████████████████████| 96 kB 12.0 MB/s  eta 0:00:01\n",
      "\u001b[?25hRequirement already satisfied: pytz>=2020.1 in /usr/local/lib/python3.8/dist-packages (from pandas) (2022.7.1)\n",
      "Requirement already satisfied: python-dateutil>=2.8.1 in /usr/local/lib/python3.8/dist-packages (from pandas) (2.8.2)\n",
      "Requirement already satisfied: six>=1.5 in /usr/lib/python3/dist-packages (from python-dateutil>=2.8.1->pandas) (1.14.0)\n",
      "Installing collected packages: pandas, xlrd\n",
      "Successfully installed pandas-1.5.3 xlrd-2.0.1\n",
      "\u001b[33mWARNING: You are using pip version 20.2.4; however, version 22.3.1 is available.\n",
      "You should consider upgrading via the '/usr/bin/python3 -m pip install --upgrade pip' command.\u001b[0m\n",
      "Note: you may need to restart the kernel to use updated packages.\n",
      "Collecting matplotlib\n",
      "  Downloading matplotlib-3.6.3-cp38-cp38-manylinux_2_12_x86_64.manylinux2010_x86_64.whl (9.4 MB)\n",
      "\u001b[K     |████████████████████████████████| 9.4 MB 15.2 MB/s eta 0:00:01\n",
      "\u001b[?25hCollecting seaborn\n",
      "  Downloading seaborn-0.12.2-py3-none-any.whl (293 kB)\n",
      "\u001b[K     |████████████████████████████████| 293 kB 117.4 MB/s eta 0:00:01\n",
      "\u001b[?25hRequirement already satisfied: pyparsing>=2.2.1 in /usr/local/lib/python3.8/dist-packages (from matplotlib) (3.0.9)\n",
      "Collecting fonttools>=4.22.0\n",
      "  Downloading fonttools-4.38.0-py3-none-any.whl (965 kB)\n",
      "\u001b[K     |████████████████████████████████| 965 kB 85.0 MB/s eta 0:00:01\n",
      "\u001b[?25hCollecting cycler>=0.10\n",
      "  Downloading cycler-0.11.0-py3-none-any.whl (6.4 kB)\n",
      "Collecting pillow>=6.2.0\n",
      "  Downloading Pillow-9.4.0-cp38-cp38-manylinux_2_17_x86_64.manylinux2014_x86_64.whl (3.3 MB)\n",
      "\u001b[K     |████████████████████████████████| 3.3 MB 54.5 MB/s eta 0:00:01\n",
      "\u001b[?25hCollecting kiwisolver>=1.0.1\n",
      "  Downloading kiwisolver-1.4.4-cp38-cp38-manylinux_2_5_x86_64.manylinux1_x86_64.whl (1.2 MB)\n",
      "\u001b[K     |████████████████████████████████| 1.2 MB 124.7 MB/s eta 0:00:01\n",
      "\u001b[?25hRequirement already satisfied: python-dateutil>=2.7 in /usr/local/lib/python3.8/dist-packages (from matplotlib) (2.8.2)\n",
      "Collecting contourpy>=1.0.1\n",
      "  Downloading contourpy-1.0.7-cp38-cp38-manylinux_2_17_x86_64.manylinux2014_x86_64.whl (300 kB)\n",
      "\u001b[K     |████████████████████████████████| 300 kB 98.6 MB/s eta 0:00:01\n",
      "\u001b[?25hRequirement already satisfied: numpy>=1.19 in /usr/local/lib/python3.8/dist-packages (from matplotlib) (1.23.4)\n",
      "Requirement already satisfied: packaging>=20.0 in /usr/local/lib/python3.8/dist-packages (from matplotlib) (21.3)\n",
      "Requirement already satisfied: pandas>=0.25 in /usr/local/lib/python3.8/dist-packages (from seaborn) (1.5.3)\n",
      "Requirement already satisfied: six>=1.5 in /usr/lib/python3/dist-packages (from python-dateutil>=2.7->matplotlib) (1.14.0)\n",
      "Requirement already satisfied: pytz>=2020.1 in /usr/local/lib/python3.8/dist-packages (from pandas>=0.25->seaborn) (2022.7.1)\n",
      "Installing collected packages: fonttools, cycler, pillow, kiwisolver, contourpy, matplotlib, seaborn\n",
      "Successfully installed contourpy-1.0.7 cycler-0.11.0 fonttools-4.38.0 kiwisolver-1.4.4 matplotlib-3.6.3 pillow-9.4.0 seaborn-0.12.2\n",
      "\u001b[33mWARNING: You are using pip version 20.2.4; however, version 22.3.1 is available.\n",
      "You should consider upgrading via the '/usr/bin/python3 -m pip install --upgrade pip' command.\u001b[0m\n",
      "Note: you may need to restart the kernel to use updated packages.\n",
      "Collecting scikit-learn\n",
      "  Downloading scikit_learn-1.2.1-cp38-cp38-manylinux_2_17_x86_64.manylinux2014_x86_64.whl (9.8 MB)\n",
      "\u001b[K     |████████████████████████████████| 9.8 MB 15.6 MB/s eta 0:00:01\n",
      "\u001b[?25hCollecting lime\n",
      "  Downloading lime-0.2.0.1.tar.gz (275 kB)\n",
      "\u001b[K     |████████████████████████████████| 275 kB 100.6 MB/s eta 0:00:01\n",
      "\u001b[?25hRequirement already satisfied: numpy>=1.17.3 in /usr/local/lib/python3.8/dist-packages (from scikit-learn) (1.23.4)\n",
      "Collecting scipy>=1.3.2\n",
      "  Downloading scipy-1.10.0-cp38-cp38-manylinux_2_17_x86_64.manylinux2014_x86_64.whl (34.5 MB)\n",
      "\u001b[K     |████████████████████████████████| 34.5 MB 56.4 MB/s eta 0:00:01\n",
      "\u001b[?25hCollecting joblib>=1.1.1\n",
      "  Downloading joblib-1.2.0-py3-none-any.whl (297 kB)\n",
      "\u001b[K     |████████████████████████████████| 297 kB 64.6 MB/s eta 0:00:01\n",
      "\u001b[?25hCollecting threadpoolctl>=2.0.0\n",
      "  Downloading threadpoolctl-3.1.0-py3-none-any.whl (14 kB)\n",
      "Requirement already satisfied: matplotlib in /usr/local/lib/python3.8/dist-packages (from lime) (3.6.3)\n",
      "Collecting tqdm\n",
      "  Downloading tqdm-4.64.1-py2.py3-none-any.whl (78 kB)\n",
      "\u001b[K     |████████████████████████████████| 78 kB 13.3 MB/s  eta 0:00:01\n",
      "\u001b[?25hCollecting scikit-image>=0.12\n",
      "  Downloading scikit_image-0.19.3-cp38-cp38-manylinux_2_17_x86_64.manylinux2014_x86_64.whl (14.0 MB)\n",
      "\u001b[K     |████████████████████████████████| 14.0 MB 119.3 MB/s eta 0:00:01\n",
      "\u001b[?25hRequirement already satisfied: kiwisolver>=1.0.1 in /usr/local/lib/python3.8/dist-packages (from matplotlib->lime) (1.4.4)\n",
      "Requirement already satisfied: pillow>=6.2.0 in /usr/local/lib/python3.8/dist-packages (from matplotlib->lime) (9.4.0)\n",
      "Requirement already satisfied: packaging>=20.0 in /usr/local/lib/python3.8/dist-packages (from matplotlib->lime) (21.3)\n",
      "Requirement already satisfied: python-dateutil>=2.7 in /usr/local/lib/python3.8/dist-packages (from matplotlib->lime) (2.8.2)\n",
      "Requirement already satisfied: fonttools>=4.22.0 in /usr/local/lib/python3.8/dist-packages (from matplotlib->lime) (4.38.0)\n",
      "Requirement already satisfied: pyparsing>=2.2.1 in /usr/local/lib/python3.8/dist-packages (from matplotlib->lime) (3.0.9)\n",
      "Requirement already satisfied: cycler>=0.10 in /usr/local/lib/python3.8/dist-packages (from matplotlib->lime) (0.11.0)\n",
      "Requirement already satisfied: contourpy>=1.0.1 in /usr/local/lib/python3.8/dist-packages (from matplotlib->lime) (1.0.7)\n",
      "Collecting tifffile>=2019.7.26\n",
      "  Downloading tifffile-2023.1.23.1-py3-none-any.whl (214 kB)\n",
      "\u001b[K     |████████████████████████████████| 214 kB 132.8 MB/s eta 0:00:01\n",
      "\u001b[?25hCollecting PyWavelets>=1.1.1\n",
      "  Downloading PyWavelets-1.4.1-cp38-cp38-manylinux_2_17_x86_64.manylinux2014_x86_64.whl (6.9 MB)\n",
      "\u001b[K     |████████████████████████████████| 6.9 MB 87.7 MB/s eta 0:00:01\n",
      "\u001b[?25hCollecting networkx>=2.2\n",
      "  Downloading networkx-3.0-py3-none-any.whl (2.0 MB)\n",
      "\u001b[K     |████████████████████████████████| 2.0 MB 120.6 MB/s eta 0:00:01\n",
      "\u001b[?25hCollecting imageio>=2.4.1\n",
      "  Downloading imageio-2.25.0-py3-none-any.whl (3.4 MB)\n",
      "\u001b[K     |████████████████████████████████| 3.4 MB 133.6 MB/s eta 0:00:01\n",
      "\u001b[?25hRequirement already satisfied: six>=1.5 in /usr/lib/python3/dist-packages (from python-dateutil>=2.7->matplotlib->lime) (1.14.0)\n",
      "Building wheels for collected packages: lime\n",
      "  Building wheel for lime (setup.py) ... \u001b[?25ldone\n",
      "\u001b[?25h  Created wheel for lime: filename=lime-0.2.0.1-py3-none-any.whl size=283839 sha256=9fba4c5faad838d4872ceea0b7990b3e98614af3ad19155c7680e57df7a94e58\n",
      "  Stored in directory: /root/.cache/pip/wheels/e6/a6/20/cc1e293fcdb67ede666fed293cb895395e7ecceb4467779546\n",
      "Successfully built lime\n",
      "Installing collected packages: scipy, joblib, threadpoolctl, scikit-learn, tqdm, tifffile, PyWavelets, networkx, imageio, scikit-image, lime\n",
      "Successfully installed PyWavelets-1.4.1 imageio-2.25.0 joblib-1.2.0 lime-0.2.0.1 networkx-3.0 scikit-image-0.19.3 scikit-learn-1.2.1 scipy-1.10.0 threadpoolctl-3.1.0 tifffile-2023.1.23.1 tqdm-4.64.1\n",
      "\u001b[33mWARNING: You are using pip version 20.2.4; however, version 22.3.1 is available.\n",
      "You should consider upgrading via the '/usr/bin/python3 -m pip install --upgrade pip' command.\u001b[0m\n",
      "Note: you may need to restart the kernel to use updated packages.\n",
      "Requirement already satisfied: tensorflow in /usr/local/lib/python3.8/dist-packages (2.11.0)\n",
      "Collecting shap\n",
      "  Downloading shap-0.41.0-cp38-cp38-manylinux_2_12_x86_64.manylinux2010_x86_64.whl (575 kB)\n",
      "\u001b[K     |████████████████████████████████| 575 kB 20.4 MB/s eta 0:00:01\n",
      "\u001b[?25hRequirement already satisfied: protobuf<3.20,>=3.9.2 in /usr/local/lib/python3.8/dist-packages (from tensorflow) (3.19.6)\n",
      "Requirement already satisfied: gast<=0.4.0,>=0.2.1 in /usr/local/lib/python3.8/dist-packages (from tensorflow) (0.4.0)\n",
      "Requirement already satisfied: tensorflow-estimator<2.12,>=2.11.0 in /usr/local/lib/python3.8/dist-packages (from tensorflow) (2.11.0)\n",
      "Requirement already satisfied: six>=1.12.0 in /usr/lib/python3/dist-packages (from tensorflow) (1.14.0)\n",
      "Requirement already satisfied: setuptools in /usr/local/lib/python3.8/dist-packages (from tensorflow) (65.5.1)\n",
      "Requirement already satisfied: absl-py>=1.0.0 in /usr/local/lib/python3.8/dist-packages (from tensorflow) (1.3.0)\n",
      "Requirement already satisfied: tensorboard<2.12,>=2.11 in /usr/local/lib/python3.8/dist-packages (from tensorflow) (2.11.0)\n",
      "Requirement already satisfied: wrapt>=1.11.0 in /usr/local/lib/python3.8/dist-packages (from tensorflow) (1.14.1)\n",
      "Requirement already satisfied: tensorflow-io-gcs-filesystem>=0.23.1; platform_machine != \"arm64\" or platform_system != \"Darwin\" in /usr/local/lib/python3.8/dist-packages (from tensorflow) (0.27.0)\n",
      "Requirement already satisfied: flatbuffers>=2.0 in /usr/local/lib/python3.8/dist-packages (from tensorflow) (22.10.26)\n",
      "Requirement already satisfied: keras<2.12,>=2.11.0 in /usr/local/lib/python3.8/dist-packages (from tensorflow) (2.11.0)\n",
      "Requirement already satisfied: astunparse>=1.6.0 in /usr/local/lib/python3.8/dist-packages (from tensorflow) (1.6.3)\n",
      "Requirement already satisfied: packaging in /usr/local/lib/python3.8/dist-packages (from tensorflow) (21.3)\n",
      "Requirement already satisfied: typing-extensions>=3.6.6 in /usr/local/lib/python3.8/dist-packages (from tensorflow) (4.4.0)\n",
      "Requirement already satisfied: numpy>=1.20 in /usr/local/lib/python3.8/dist-packages (from tensorflow) (1.23.4)\n",
      "Requirement already satisfied: grpcio<2.0,>=1.24.3 in /usr/local/lib/python3.8/dist-packages (from tensorflow) (1.50.0)\n",
      "Requirement already satisfied: google-pasta>=0.1.1 in /usr/local/lib/python3.8/dist-packages (from tensorflow) (0.2.0)\n",
      "Requirement already satisfied: opt-einsum>=2.3.2 in /usr/local/lib/python3.8/dist-packages (from tensorflow) (3.3.0)\n",
      "Requirement already satisfied: libclang>=13.0.0 in /usr/local/lib/python3.8/dist-packages (from tensorflow) (14.0.6)\n",
      "Requirement already satisfied: termcolor>=1.1.0 in /usr/local/lib/python3.8/dist-packages (from tensorflow) (2.1.0)\n",
      "Requirement already satisfied: h5py>=2.9.0 in /usr/local/lib/python3.8/dist-packages (from tensorflow) (3.7.0)\n",
      "Requirement already satisfied: tqdm>4.25.0 in /usr/local/lib/python3.8/dist-packages (from shap) (4.64.1)\n",
      "Collecting cloudpickle\n",
      "  Downloading cloudpickle-2.2.1-py3-none-any.whl (25 kB)\n",
      "Collecting slicer==0.0.7\n",
      "  Downloading slicer-0.0.7-py3-none-any.whl (14 kB)\n",
      "Collecting numba\n",
      "  Downloading numba-0.56.4-cp38-cp38-manylinux2014_x86_64.manylinux_2_17_x86_64.whl (3.5 MB)\n",
      "\u001b[K     |████████████████████████████████| 3.5 MB 91.3 MB/s eta 0:00:01\n",
      "\u001b[?25hRequirement already satisfied: scipy in /usr/local/lib/python3.8/dist-packages (from shap) (1.10.0)\n",
      "Requirement already satisfied: pandas in /usr/local/lib/python3.8/dist-packages (from shap) (1.5.3)\n",
      "Requirement already satisfied: scikit-learn in /usr/local/lib/python3.8/dist-packages (from shap) (1.2.1)\n",
      "Requirement already satisfied: markdown>=2.6.8 in /usr/local/lib/python3.8/dist-packages (from tensorboard<2.12,>=2.11->tensorflow) (3.4.1)\n",
      "Requirement already satisfied: wheel>=0.26 in /usr/lib/python3/dist-packages (from tensorboard<2.12,>=2.11->tensorflow) (0.34.2)\n",
      "Requirement already satisfied: google-auth<3,>=1.6.3 in /usr/local/lib/python3.8/dist-packages (from tensorboard<2.12,>=2.11->tensorflow) (2.14.1)\n",
      "Requirement already satisfied: requests<3,>=2.21.0 in /usr/local/lib/python3.8/dist-packages (from tensorboard<2.12,>=2.11->tensorflow) (2.28.2)\n",
      "Requirement already satisfied: tensorboard-plugin-wit>=1.6.0 in /usr/local/lib/python3.8/dist-packages (from tensorboard<2.12,>=2.11->tensorflow) (1.8.1)\n",
      "Requirement already satisfied: werkzeug>=1.0.1 in /usr/local/lib/python3.8/dist-packages (from tensorboard<2.12,>=2.11->tensorflow) (2.2.2)\n",
      "Requirement already satisfied: google-auth-oauthlib<0.5,>=0.4.1 in /usr/local/lib/python3.8/dist-packages (from tensorboard<2.12,>=2.11->tensorflow) (0.4.6)\n",
      "Requirement already satisfied: tensorboard-data-server<0.7.0,>=0.6.0 in /usr/local/lib/python3.8/dist-packages (from tensorboard<2.12,>=2.11->tensorflow) (0.6.1)\n",
      "Requirement already satisfied: pyparsing!=3.0.5,>=2.0.2 in /usr/local/lib/python3.8/dist-packages (from packaging->tensorflow) (3.0.9)\n",
      "Requirement already satisfied: importlib-metadata; python_version < \"3.9\" in /usr/local/lib/python3.8/dist-packages (from numba->shap) (5.0.0)\n",
      "Collecting llvmlite<0.40,>=0.39.0dev0\n",
      "  Downloading llvmlite-0.39.1-cp38-cp38-manylinux_2_17_x86_64.manylinux2014_x86_64.whl (34.6 MB)\n",
      "\u001b[K     |████████████████████████████████| 34.6 MB 86.6 MB/s eta 0:00:01\n",
      "\u001b[?25hRequirement already satisfied: pytz>=2020.1 in /usr/local/lib/python3.8/dist-packages (from pandas->shap) (2022.7.1)\n",
      "Requirement already satisfied: python-dateutil>=2.8.1 in /usr/local/lib/python3.8/dist-packages (from pandas->shap) (2.8.2)\n",
      "Requirement already satisfied: joblib>=1.1.1 in /usr/local/lib/python3.8/dist-packages (from scikit-learn->shap) (1.2.0)\n",
      "Requirement already satisfied: threadpoolctl>=2.0.0 in /usr/local/lib/python3.8/dist-packages (from scikit-learn->shap) (3.1.0)\n",
      "Requirement already satisfied: rsa<5,>=3.1.4; python_version >= \"3.6\" in /usr/local/lib/python3.8/dist-packages (from google-auth<3,>=1.6.3->tensorboard<2.12,>=2.11->tensorflow) (4.9)\n",
      "Requirement already satisfied: pyasn1-modules>=0.2.1 in /usr/local/lib/python3.8/dist-packages (from google-auth<3,>=1.6.3->tensorboard<2.12,>=2.11->tensorflow) (0.2.8)\n",
      "Requirement already satisfied: cachetools<6.0,>=2.0.0 in /usr/local/lib/python3.8/dist-packages (from google-auth<3,>=1.6.3->tensorboard<2.12,>=2.11->tensorflow) (5.2.0)\n",
      "Requirement already satisfied: urllib3<1.27,>=1.21.1 in /usr/lib/python3/dist-packages (from requests<3,>=2.21.0->tensorboard<2.12,>=2.11->tensorflow) (1.25.8)\n",
      "Requirement already satisfied: idna<4,>=2.5 in /usr/lib/python3/dist-packages (from requests<3,>=2.21.0->tensorboard<2.12,>=2.11->tensorflow) (2.8)\n",
      "Requirement already satisfied: charset-normalizer<4,>=2 in /usr/local/lib/python3.8/dist-packages (from requests<3,>=2.21.0->tensorboard<2.12,>=2.11->tensorflow) (3.0.1)\n",
      "Requirement already satisfied: certifi>=2017.4.17 in /usr/lib/python3/dist-packages (from requests<3,>=2.21.0->tensorboard<2.12,>=2.11->tensorflow) (2019.11.28)\n",
      "Requirement already satisfied: MarkupSafe>=2.1.1 in /usr/local/lib/python3.8/dist-packages (from werkzeug>=1.0.1->tensorboard<2.12,>=2.11->tensorflow) (2.1.1)\n",
      "Requirement already satisfied: requests-oauthlib>=0.7.0 in /usr/local/lib/python3.8/dist-packages (from google-auth-oauthlib<0.5,>=0.4.1->tensorboard<2.12,>=2.11->tensorflow) (1.3.1)\n",
      "Requirement already satisfied: zipp>=0.5 in /usr/local/lib/python3.8/dist-packages (from importlib-metadata; python_version < \"3.9\"->numba->shap) (3.10.0)\n",
      "Requirement already satisfied: pyasn1>=0.1.3 in /usr/local/lib/python3.8/dist-packages (from rsa<5,>=3.1.4; python_version >= \"3.6\"->google-auth<3,>=1.6.3->tensorboard<2.12,>=2.11->tensorflow) (0.4.8)\n",
      "Requirement already satisfied: oauthlib>=3.0.0 in /usr/local/lib/python3.8/dist-packages (from requests-oauthlib>=0.7.0->google-auth-oauthlib<0.5,>=0.4.1->tensorboard<2.12,>=2.11->tensorflow) (3.2.2)\n",
      "Installing collected packages: cloudpickle, slicer, llvmlite, numba, shap\n",
      "Successfully installed cloudpickle-2.2.1 llvmlite-0.39.1 numba-0.56.4 shap-0.41.0 slicer-0.0.7\n",
      "\u001b[33mWARNING: You are using pip version 20.2.4; however, version 22.3.1 is available.\n",
      "You should consider upgrading via the '/usr/bin/python3 -m pip install --upgrade pip' command.\u001b[0m\n",
      "Note: you may need to restart the kernel to use updated packages.\n",
      "Collecting nltk\n",
      "  Downloading nltk-3.8.1-py3-none-any.whl (1.5 MB)\n",
      "\u001b[K     |████████████████████████████████| 1.5 MB 17.0 MB/s eta 0:00:01\n",
      "\u001b[?25hCollecting spacy\n",
      "  Downloading spacy-3.5.0-cp38-cp38-manylinux_2_17_x86_64.manylinux2014_x86_64.whl (6.7 MB)\n",
      "\u001b[K     |████████████████████████████████| 6.7 MB 117.6 MB/s eta 0:00:01\n",
      "\u001b[?25hCollecting gensim\n",
      "  Downloading gensim-4.3.0-cp38-cp38-manylinux_2_12_x86_64.manylinux2010_x86_64.whl (24.1 MB)\n",
      "\u001b[K     |████████████████████████████████| 24.1 MB 135.0 MB/s eta 0:00:01\n",
      "\u001b[?25hCollecting wordcloud\n",
      "  Downloading wordcloud-1.8.2.2-cp38-cp38-manylinux_2_17_x86_64.manylinux2014_x86_64.whl (458 kB)\n",
      "\u001b[K     |████████████████████████████████| 458 kB 55.8 MB/s eta 0:00:01\n",
      "\u001b[?25hCollecting langdetect\n",
      "  Downloading langdetect-1.0.9.tar.gz (981 kB)\n",
      "\u001b[K     |████████████████████████████████| 981 kB 101.0 MB/s eta 0:00:01\n",
      "\u001b[?25hCollecting textblob\n",
      "  Downloading textblob-0.17.1-py2.py3-none-any.whl (636 kB)\n",
      "\u001b[K     |████████████████████████████████| 636 kB 82.2 MB/s eta 0:00:01\n",
      "\u001b[?25hCollecting transformers\n",
      "  Downloading transformers-4.26.0-py3-none-any.whl (6.3 MB)\n",
      "\u001b[K     |████████████████████████████████| 6.3 MB 120.0 MB/s eta 0:00:01\n",
      "\u001b[?25hCollecting rouge\n",
      "  Downloading rouge-1.0.1-py3-none-any.whl (13 kB)\n",
      "Collecting contractions\n",
      "  Downloading contractions-0.1.73-py2.py3-none-any.whl (8.7 kB)\n",
      "Collecting click\n",
      "  Downloading click-8.1.3-py3-none-any.whl (96 kB)\n",
      "\u001b[K     |████████████████████████████████| 96 kB 12.1 MB/s  eta 0:00:01\n",
      "\u001b[?25hCollecting regex>=2021.8.3\n",
      "  Downloading regex-2022.10.31-cp38-cp38-manylinux_2_17_x86_64.manylinux2014_x86_64.whl (772 kB)\n",
      "\u001b[K     |████████████████████████████████| 772 kB 117.2 MB/s eta 0:00:01\n",
      "\u001b[?25hRequirement already satisfied: tqdm in /usr/local/lib/python3.8/dist-packages (from nltk) (4.64.1)\n",
      "Requirement already satisfied: joblib in /usr/local/lib/python3.8/dist-packages (from nltk) (1.2.0)\n",
      "Collecting pydantic!=1.8,!=1.8.1,<1.11.0,>=1.7.4\n",
      "  Downloading pydantic-1.10.4-cp38-cp38-manylinux_2_17_x86_64.manylinux2014_x86_64.whl (3.2 MB)\n",
      "\u001b[K     |████████████████████████████████| 3.2 MB 122.1 MB/s eta 0:00:01\n",
      "\u001b[?25hRequirement already satisfied: setuptools in /usr/local/lib/python3.8/dist-packages (from spacy) (65.5.1)\n",
      "Collecting thinc<8.2.0,>=8.1.0\n",
      "  Downloading thinc-8.1.7-cp38-cp38-manylinux_2_17_x86_64.manylinux2014_x86_64.whl (828 kB)\n",
      "\u001b[K     |████████████████████████████████| 828 kB 131.2 MB/s eta 0:00:01\n",
      "\u001b[?25hCollecting murmurhash<1.1.0,>=0.28.0\n",
      "  Downloading murmurhash-1.0.9-cp38-cp38-manylinux_2_5_x86_64.manylinux1_x86_64.manylinux_2_17_x86_64.manylinux2014_x86_64.whl (21 kB)\n",
      "Collecting wasabi<1.2.0,>=0.9.1\n",
      "  Downloading wasabi-1.1.1-py3-none-any.whl (27 kB)\n",
      "Requirement already satisfied: jinja2 in /usr/local/lib/python3.8/dist-packages (from spacy) (3.1.2)\n",
      "Collecting spacy-loggers<2.0.0,>=1.0.0\n",
      "  Downloading spacy_loggers-1.0.4-py3-none-any.whl (11 kB)\n",
      "Collecting catalogue<2.1.0,>=2.0.6\n",
      "  Downloading catalogue-2.0.8-py3-none-any.whl (17 kB)\n",
      "Collecting langcodes<4.0.0,>=3.2.0\n",
      "  Downloading langcodes-3.3.0-py3-none-any.whl (181 kB)\n",
      "\u001b[K     |████████████████████████████████| 181 kB 130.1 MB/s eta 0:00:01\n",
      "\u001b[?25hCollecting smart-open<7.0.0,>=5.2.1\n",
      "  Downloading smart_open-6.3.0-py3-none-any.whl (56 kB)\n",
      "\u001b[K     |████████████████████████████████| 56 kB 6.3 MB/s s eta 0:00:01\n",
      "\u001b[?25hCollecting spacy-legacy<3.1.0,>=3.0.11\n",
      "  Downloading spacy_legacy-3.0.12-py2.py3-none-any.whl (29 kB)\n",
      "Collecting srsly<3.0.0,>=2.4.3\n",
      "  Downloading srsly-2.4.5-cp38-cp38-manylinux_2_17_x86_64.manylinux2014_x86_64.whl (492 kB)\n",
      "\u001b[K     |████████████████████████████████| 492 kB 143.9 MB/s eta 0:00:01\n",
      "\u001b[?25hRequirement already satisfied: packaging>=20.0 in /usr/local/lib/python3.8/dist-packages (from spacy) (21.3)\n",
      "Collecting cymem<2.1.0,>=2.0.2\n",
      "  Downloading cymem-2.0.7-cp38-cp38-manylinux_2_17_x86_64.manylinux2014_x86_64.whl (36 kB)\n",
      "Collecting pathy>=0.10.0\n",
      "  Downloading pathy-0.10.1-py3-none-any.whl (48 kB)\n",
      "\u001b[K     |████████████████████████████████| 48 kB 7.4 MB/s s eta 0:00:01\n",
      "\u001b[?25hCollecting typer<0.8.0,>=0.3.0\n",
      "  Downloading typer-0.7.0-py3-none-any.whl (38 kB)\n",
      "Requirement already satisfied: numpy>=1.15.0 in /usr/local/lib/python3.8/dist-packages (from spacy) (1.23.4)\n",
      "Requirement already satisfied: requests<3.0.0,>=2.13.0 in /usr/local/lib/python3.8/dist-packages (from spacy) (2.28.2)\n",
      "Collecting preshed<3.1.0,>=3.0.2\n",
      "  Downloading preshed-3.0.8-cp38-cp38-manylinux_2_5_x86_64.manylinux1_x86_64.manylinux_2_17_x86_64.manylinux2014_x86_64.whl (130 kB)\n",
      "\u001b[K     |████████████████████████████████| 130 kB 126.0 MB/s eta 0:00:01\n",
      "\u001b[?25hCollecting FuzzyTM>=0.4.0\n",
      "  Downloading FuzzyTM-2.0.5-py3-none-any.whl (29 kB)\n",
      "Requirement already satisfied: scipy>=1.7.0 in /usr/local/lib/python3.8/dist-packages (from gensim) (1.10.0)\n",
      "Requirement already satisfied: pillow in /usr/local/lib/python3.8/dist-packages (from wordcloud) (9.4.0)\n",
      "Requirement already satisfied: matplotlib in /usr/local/lib/python3.8/dist-packages (from wordcloud) (3.6.3)\n",
      "Requirement already satisfied: six in /usr/lib/python3/dist-packages (from langdetect) (1.14.0)\n",
      "Requirement already satisfied: matplotlib in /usr/local/lib/python3.8/dist-packages (from wordcloud) (3.6.3)\n",
      "Requirement already satisfied: six in /usr/lib/python3/dist-packages (from langdetect) (1.14.0)\n",
      "Collecting tokenizers!=0.11.3,<0.14,>=0.11.1\n",
      "  Downloading tokenizers-0.13.2-cp38-cp38-manylinux_2_17_x86_64.manylinux2014_x86_64.whl (7.6 MB)\n",
      "\u001b[K     |████████████████████████████████| 7.6 MB 54.7 MB/s eta 0:00:01\n",
      "\u001b[?25hCollecting filelock\n",
      "  Downloading filelock-3.9.0-py3-none-any.whl (9.7 kB)\n",
      "Collecting huggingface-hub<1.0,>=0.11.0\n",
      "  Downloading huggingface_hub-0.12.0-py3-none-any.whl (190 kB)\n",
      "\u001b[K     |████████████████████████████████| 190 kB 126.8 MB/s eta 0:00:01\n",
      "\u001b[?25hRequirement already satisfied: pyyaml>=5.1 in /usr/local/lib/python3.8/dist-packages (from transformers) (6.0)\n",
      "Collecting textsearch>=0.0.21\n",
      "  Downloading textsearch-0.0.24-py2.py3-none-any.whl (7.6 kB)\n",
      "Requirement already satisfied: typing-extensions>=4.2.0 in /usr/local/lib/python3.8/dist-packages (from pydantic!=1.8,!=1.8.1,<1.11.0,>=1.7.4->spacy) (4.4.0)\n",
      "Collecting confection<1.0.0,>=0.0.1\n",
      "  Downloading confection-0.0.4-py3-none-any.whl (32 kB)\n",
      "Collecting blis<0.8.0,>=0.7.8\n",
      "  Downloading blis-0.7.9-cp38-cp38-manylinux_2_17_x86_64.manylinux2014_x86_64.whl (10.2 MB)\n",
      "\u001b[K     |████████████████████████████████| 10.2 MB 88.1 MB/s eta 0:00:01\n",
      "\u001b[?25hRequirement already satisfied: MarkupSafe>=2.0 in /usr/local/lib/python3.8/dist-packages (from jinja2->spacy) (2.1.1)\n",
      "Requirement already satisfied: pyparsing!=3.0.5,>=2.0.2 in /usr/local/lib/python3.8/dist-packages (from packaging>=20.0->spacy) (3.0.9)\n",
      "Requirement already satisfied: certifi>=2017.4.17 in /usr/lib/python3/dist-packages (from requests<3.0.0,>=2.13.0->spacy) (2019.11.28)\n",
      "Requirement already satisfied: urllib3<1.27,>=1.21.1 in /usr/lib/python3/dist-packages (from requests<3.0.0,>=2.13.0->spacy) (1.25.8)\n",
      "Requirement already satisfied: charset-normalizer<4,>=2 in /usr/local/lib/python3.8/dist-packages (from requests<3.0.0,>=2.13.0->spacy) (3.0.1)\n",
      "Requirement already satisfied: idna<4,>=2.5 in /usr/lib/python3/dist-packages (from requests<3.0.0,>=2.13.0->spacy) (2.8)\n",
      "Requirement already satisfied: pandas in /usr/local/lib/python3.8/dist-packages (from FuzzyTM>=0.4.0->gensim) (1.5.3)\n",
      "Collecting pyfume\n",
      "  Downloading pyFUME-0.2.25-py3-none-any.whl (67 kB)\n",
      "\u001b[K     |████████████████████████████████| 67 kB 6.9 MB/s  eta 0:00:01\n",
      "\u001b[?25hRequirement already satisfied: contourpy>=1.0.1 in /usr/local/lib/python3.8/dist-packages (from matplotlib->wordcloud) (1.0.7)\n",
      "Requirement already satisfied: cycler>=0.10 in /usr/local/lib/python3.8/dist-packages (from matplotlib->wordcloud) (0.11.0)\n",
      "Requirement already satisfied: kiwisolver>=1.0.1 in /usr/local/lib/python3.8/dist-packages (from matplotlib->wordcloud) (1.4.4)\n",
      "Requirement already satisfied: fonttools>=4.22.0 in /usr/local/lib/python3.8/dist-packages (from matplotlib->wordcloud) (4.38.0)\n",
      "Requirement already satisfied: python-dateutil>=2.7 in /usr/local/lib/python3.8/dist-packages (from matplotlib->wordcloud) (2.8.2)\n",
      "Collecting pyahocorasick\n",
      "  Downloading pyahocorasick-2.0.0-cp38-cp38-manylinux_2_5_x86_64.manylinux1_x86_64.whl (104 kB)\n",
      "\u001b[K     |████████████████████████████████| 104 kB 64.2 MB/s eta 0:00:01\n",
      "\u001b[?25hCollecting anyascii\n",
      "  Downloading anyascii-0.3.1-py3-none-any.whl (287 kB)\n",
      "\u001b[K     |████████████████████████████████| 287 kB 128.9 MB/s eta 0:00:01\n",
      "\u001b[?25hRequirement already satisfied: pytz>=2020.1 in /usr/local/lib/python3.8/dist-packages (from pandas->FuzzyTM>=0.4.0->gensim) (2022.7.1)\n",
      "Collecting fst-pso\n",
      "  Downloading fst-pso-1.8.1.tar.gz (18 kB)\n",
      "Collecting simpful\n",
      "  Downloading simpful-2.9.0-py3-none-any.whl (30 kB)\n",
      "Collecting miniful\n",
      "  Downloading miniful-0.0.6.tar.gz (2.8 kB)\n",
      "Building wheels for collected packages: langdetect, fst-pso, miniful\n",
      "  Building wheel for langdetect (setup.py) ... \u001b[?25ldone\n",
      "\u001b[?25h  Created wheel for langdetect: filename=langdetect-1.0.9-py3-none-any.whl size=993225 sha256=a26a0cfed1561f8e88d90a419fb28b42abf8cb1b952e427de9ca2e1d8afabbce\n",
      "  Stored in directory: /root/.cache/pip/wheels/13/c7/b0/79f66658626032e78fc1a83103690ef6797d551cb22e56e734\n",
      "  Building wheel for fst-pso (setup.py) ... \u001b[?25ldone\n",
      "\u001b[?25h  Created wheel for fst-pso: filename=fst_pso-1.8.1-py3-none-any.whl size=20430 sha256=a74481b6a0a625b6fb18fa285e0a10cbe5529bfc030bbb2731951b5ea055802c\n",
      "  Stored in directory: /root/.cache/pip/wheels/6a/65/c4/d27eeee9ba3fc150a0dae150519591103b9e0dbffde3ae77dc\n",
      "  Building wheel for miniful (setup.py) ... \u001b[?25ldone\n",
      "\u001b[?25h  Created wheel for miniful: filename=miniful-0.0.6-py3-none-any.whl size=3513 sha256=596912db4d85e8dd6b04a388b9403cc1fd764461c7944a2c0628fcd18bee336c\n",
      "  Stored in directory: /root/.cache/pip/wheels/ba/d9/a0/ddd93af16d5855dd9bad417623e70948fdac119d1d34fb17c8\n",
      "Successfully built langdetect fst-pso miniful\n",
      "Installing collected packages: click, regex, nltk, pydantic, cymem, wasabi, catalogue, srsly, confection, murmurhash, blis, preshed, thinc, spacy-loggers, langcodes, smart-open, spacy-legacy, typer, pathy, spacy, miniful, fst-pso, simpful, pyfume, FuzzyTM, gensim, wordcloud, langdetect, textblob, tokenizers, filelock, huggingface-hub, transformers, rouge, pyahocorasick, anyascii, textsearch, contractions\n",
      "Successfully installed FuzzyTM-2.0.5 anyascii-0.3.1 blis-0.7.9 catalogue-2.0.8 click-8.1.3 confection-0.0.4 contractions-0.1.73 cymem-2.0.7 filelock-3.9.0 fst-pso-1.8.1 gensim-4.3.0 huggingface-hub-0.12.0 langcodes-3.3.0 langdetect-1.0.9 miniful-0.0.6 murmurhash-1.0.9 nltk-3.8.1 pathy-0.10.1 preshed-3.0.8 pyahocorasick-2.0.0 pydantic-1.10.4 pyfume-0.2.25 regex-2022.10.31 rouge-1.0.1 simpful-2.9.0 smart-open-6.3.0 spacy-3.5.0 spacy-legacy-3.0.12 spacy-loggers-1.0.4 srsly-2.4.5 textblob-0.17.1 textsearch-0.0.24 thinc-8.1.7 tokenizers-0.13.2 transformers-4.26.0 typer-0.7.0 wasabi-1.1.1 wordcloud-1.8.2.2\n",
      "\u001b[33mWARNING: You are using pip version 20.2.4; however, version 22.3.1 is available.\n",
      "You should consider upgrading via the '/usr/bin/python3 -m pip install --upgrade pip' command.\u001b[0m\n",
      "Note: you may need to restart the kernel to use updated packages.\n"
     ]
    }
   ],
   "source": [
    "## data\n",
    "%pip install numpy pandas xlrd\n",
    "## plot\n",
    "%pip install matplotlib seaborn\n",
    "## machine learning\n",
    "%pip install scikit-learn lime\n",
    "## deep learning\n",
    "%pip install tensorflow shap\n",
    "## nlp\n",
    "%pip install nltk spacy gensim wordcloud langdetect textblob transformers rouge contractions langdetect"
   ]
  },
  {
   "cell_type": "markdown",
   "metadata": {
    "id": "24awabz5iL7_"
   },
   "source": [
    "### Library importing"
   ]
  },
  {
   "cell_type": "code",
   "execution_count": 7,
   "metadata": {
    "id": "J4el-O8Jh-kl"
   },
   "outputs": [
    {
     "name": "stderr",
     "output_type": "stream",
     "text": [
      "2023-01-27 08:06:55.125664: I tensorflow/core/platform/cpu_feature_guard.cc:193] This TensorFlow binary is optimized with oneAPI Deep Neural Network Library (oneDNN) to use the following CPU instructions in performance-critical operations:  AVX2 FMA\n",
      "To enable them in other operations, rebuild TensorFlow with the appropriate compiler flags.\n"
     ]
    }
   ],
   "source": [
    "import warnings\n",
    "warnings.filterwarnings(\"ignore\")\n",
    "\n",
    "import pandas as pd\n",
    "import numpy as np\n",
    "import matplotlib.pyplot as plt\n",
    "import seaborn as sns\n",
    "import re\n",
    "import langdetect \n",
    "import nltk\n",
    "import wordcloud\n",
    "import contractions\n",
    "import spacy\n",
    "import collections\n",
    "from tensorflow import keras\n",
    "from tensorflow.keras import backend as K\n",
    "from lime import lime_text\n",
    "import shap\n",
    "import gensim\n",
    "import gensim.downloader\n",
    "import transformers\n",
    "import rouge\n",
    "import difflib\n",
    "from IPython.core.display import display, HTML"
   ]
  },
  {
   "cell_type": "markdown",
   "metadata": {
    "id": "piLgf0hUk8G1"
   },
   "source": [
    "### Library data loading"
   ]
  },
  {
   "cell_type": "code",
   "execution_count": 8,
   "metadata": {
    "colab": {
     "base_uri": "https://localhost:8080/"
    },
    "id": "S3S4y20Rk9vf",
    "outputId": "61fd81d4-e2b9-4d06-8a9c-672b86233f04"
   },
   "outputs": [
    {
     "name": "stderr",
     "output_type": "stream",
     "text": [
      "[nltk_data] Downloading package stopwords to /root/nltk_data...\n",
      "[nltk_data]   Unzipping corpora/stopwords.zip.\n",
      "[nltk_data] Downloading package wordnet to /root/nltk_data...\n",
      "[nltk_data] Downloading package omw-1.4 to /root/nltk_data...\n",
      "[nltk_data] Downloading package punkt to /root/nltk_data...\n",
      "[nltk_data]   Unzipping tokenizers/punkt.zip.\n"
     ]
    },
    {
     "data": {
      "text/plain": [
       "True"
      ]
     },
     "execution_count": 8,
     "metadata": {},
     "output_type": "execute_result"
    }
   ],
   "source": [
    "nltk.download(['stopwords', 'wordnet', 'omw-1.4', 'punkt']) # nltk stuff we need"
   ]
  },
  {
   "cell_type": "markdown",
   "metadata": {
    "id": "pCc-cS4UjTpp"
   },
   "source": [
    "### Dataset loading"
   ]
  },
  {
   "cell_type": "code",
   "execution_count": 9,
   "metadata": {
    "id": "wqUpT2dDi-wN"
   },
   "outputs": [],
   "source": [
    "# Direct full cnn:\n",
    "#import datasets\n",
    "#dataset = datasets.load_dataset(\"cnn_dailymail\", '3.0.0')\n",
    "\n",
    "#lst_dics = [dic for dic in dataset[\"train\"]]\n",
    "#dtf = pd.DataFrame(lst_dics).rename(columns={\"article\":\"text\", \"highlights\":\"y\"})[[\"text\",\"y\"]].head(20000)\n",
    "#dtf.to_csv(\"data_summary.csv\", index=False)\n",
    "#dtf.head()"
   ]
  },
  {
   "cell_type": "code",
   "execution_count": 10,
   "metadata": {
    "colab": {
     "base_uri": "https://localhost:8080/",
     "height": 206
    },
    "id": "FflzfoxZjbIB",
    "outputId": "b3609a75-bdb3-45d4-96c8-3b90f0f57ee1"
   },
   "outputs": [
    {
     "data": {
      "text/html": [
       "<div>\n",
       "<style scoped>\n",
       "    .dataframe tbody tr th:only-of-type {\n",
       "        vertical-align: middle;\n",
       "    }\n",
       "\n",
       "    .dataframe tbody tr th {\n",
       "        vertical-align: top;\n",
       "    }\n",
       "\n",
       "    .dataframe thead th {\n",
       "        text-align: right;\n",
       "    }\n",
       "</style>\n",
       "<table border=\"1\" class=\"dataframe\">\n",
       "  <thead>\n",
       "    <tr style=\"text-align: right;\">\n",
       "      <th></th>\n",
       "      <th>Unnamed: 0</th>\n",
       "      <th>text</th>\n",
       "      <th>y</th>\n",
       "    </tr>\n",
       "  </thead>\n",
       "  <tbody>\n",
       "    <tr>\n",
       "      <th>0</th>\n",
       "      <td>0</td>\n",
       "      <td>It's official: U.S. President Barack Obama wan...</td>\n",
       "      <td>Syrian official: Obama climbed to the top of t...</td>\n",
       "    </tr>\n",
       "    <tr>\n",
       "      <th>1</th>\n",
       "      <td>1</td>\n",
       "      <td>(CNN) -- Usain Bolt rounded off the world cham...</td>\n",
       "      <td>Usain Bolt wins third gold of world championsh...</td>\n",
       "    </tr>\n",
       "    <tr>\n",
       "      <th>2</th>\n",
       "      <td>2</td>\n",
       "      <td>Kansas City, Missouri (CNN) -- The General Ser...</td>\n",
       "      <td>The employee in agency's Kansas City office is...</td>\n",
       "    </tr>\n",
       "    <tr>\n",
       "      <th>3</th>\n",
       "      <td>3</td>\n",
       "      <td>Los Angeles (CNN) -- A medical doctor in Vanco...</td>\n",
       "      <td>NEW: A Canadian doctor says she was part of a ...</td>\n",
       "    </tr>\n",
       "    <tr>\n",
       "      <th>4</th>\n",
       "      <td>4</td>\n",
       "      <td>(CNN) -- Police arrested another teen Thursday...</td>\n",
       "      <td>Another arrest made in gang rape outside Calif...</td>\n",
       "    </tr>\n",
       "  </tbody>\n",
       "</table>\n",
       "</div>"
      ],
      "text/plain": [
       "   Unnamed: 0                                               text  \\\n",
       "0           0  It's official: U.S. President Barack Obama wan...   \n",
       "1           1  (CNN) -- Usain Bolt rounded off the world cham...   \n",
       "2           2  Kansas City, Missouri (CNN) -- The General Ser...   \n",
       "3           3  Los Angeles (CNN) -- A medical doctor in Vanco...   \n",
       "4           4  (CNN) -- Police arrested another teen Thursday...   \n",
       "\n",
       "                                                   y  \n",
       "0  Syrian official: Obama climbed to the top of t...  \n",
       "1  Usain Bolt wins third gold of world championsh...  \n",
       "2  The employee in agency's Kansas City office is...  \n",
       "3  NEW: A Canadian doctor says she was part of a ...  \n",
       "4  Another arrest made in gang rape outside Calif...  "
      ]
     },
     "execution_count": 10,
     "metadata": {},
     "output_type": "execute_result"
    }
   ],
   "source": [
    "df_raw = pd.read_csv(\"data_summary.csv\") # mounted\n",
    "df_raw.head()"
   ]
  },
  {
   "cell_type": "markdown",
   "metadata": {
    "id": "MeBbXBQMny8_"
   },
   "source": [
    "### Visualisation setup"
   ]
  },
  {
   "cell_type": "code",
   "execution_count": 11,
   "metadata": {
    "id": "NQeAToxhn08E"
   },
   "outputs": [],
   "source": [
    "'''\n",
    "Find the matching substrings in 2 strings.\n",
    ":parameter\n",
    "    :param a: string - raw text\n",
    "    :param b: string - raw text\n",
    ":return\n",
    "    2 lists used in to display matches\n",
    "'''\n",
    "def utils_split_sentences(a, b):\n",
    "    ## find clean matches\n",
    "    match = difflib.SequenceMatcher(isjunk=None, a=a, b=b, autojunk=True)\n",
    "    lst_match = [block for block in match.get_matching_blocks() if block.size > 20]\n",
    "    \n",
    "    ## difflib didn't find any match\n",
    "    if len(lst_match) == 0:\n",
    "        lst_a, lst_b = nltk.sent_tokenize(a), nltk.sent_tokenize(b)\n",
    "    \n",
    "    ## work with matches\n",
    "    else:\n",
    "        first_m, last_m = lst_match[0], lst_match[-1]\n",
    "\n",
    "        ### a\n",
    "        string = a[0 : first_m.a]\n",
    "        lst_a = [t for t in nltk.sent_tokenize(string)]\n",
    "        for n in range(len(lst_match)):\n",
    "            m = lst_match[n]\n",
    "            string = a[m.a : m.a+m.size]\n",
    "            lst_a.append(string)\n",
    "            if n+1 < len(lst_match):\n",
    "                next_m = lst_match[n+1]\n",
    "                string = a[m.a+m.size : next_m.a]\n",
    "                lst_a = lst_a + [t for t in nltk.sent_tokenize(string)]\n",
    "            else:\n",
    "                break\n",
    "        string = a[last_m.a+last_m.size :]\n",
    "        lst_a = lst_a + [t for t in nltk.sent_tokenize(string)]\n",
    "\n",
    "        ### b\n",
    "        string = b[0 : first_m.b]\n",
    "        lst_b = [t for t in nltk.sent_tokenize(string)]\n",
    "        for n in range(len(lst_match)):\n",
    "            m = lst_match[n]\n",
    "            string = b[m.b : m.b+m.size]\n",
    "            lst_b.append(string)\n",
    "            if n+1 < len(lst_match):\n",
    "                next_m = lst_match[n+1]\n",
    "                string = b[m.b+m.size : next_m.b]\n",
    "                lst_b = lst_b + [t for t in nltk.sent_tokenize(string)]\n",
    "            else:\n",
    "                break\n",
    "        string = b[last_m.b+last_m.size :]\n",
    "        lst_b = lst_b + [t for t in nltk.sent_tokenize(string)]\n",
    "    \n",
    "    return lst_a, lst_b\n",
    "\n",
    "'''\n",
    "Highlights the matched strings in text.\n",
    ":parameter\n",
    "    :param a: string - raw text\n",
    "    :param b: string - raw text\n",
    "    :param both: bool - search a in b and, if True, viceversa\n",
    "    :param sentences: bool - if False matches single words\n",
    ":return\n",
    "    text html, it can be visualized on notebook with display(HTML(text))\n",
    "'''\n",
    "def display_string_matching(a, b, both=True, sentences=True, titles=[]):\n",
    "    if sentences is True:\n",
    "        lst_a, lst_b = utils_split_sentences(a, b)\n",
    "    else:\n",
    "        lst_a, lst_b = a.split(), b.split()       \n",
    "    \n",
    "    ## highlight a\n",
    "    first_text = []\n",
    "    for i in lst_a:\n",
    "        if re.sub(r'[^\\w\\s]', '', i.lower()) in [re.sub(r'[^\\w\\s]', '', z.lower()) for z in lst_b]:\n",
    "            first_text.append('<span style=\"background-color:rgba(255,215,0,0.3);\">' + i + '</span>')\n",
    "        else:\n",
    "            first_text.append(i)\n",
    "    first_text = ' '.join(first_text)\n",
    "    \n",
    "    ## highlight b\n",
    "    second_text = []\n",
    "    if both is True:\n",
    "        for i in lst_b:\n",
    "            if re.sub(r'[^\\w\\s]', '', i.lower()) in [re.sub(r'[^\\w\\s]', '', z.lower()) for z in lst_a]:\n",
    "                second_text.append('<span style=\"background-color:rgba(255,215,0,0.3);\">' + i + '</span>')\n",
    "            else:\n",
    "                second_text.append(i)\n",
    "    else:\n",
    "        second_text.append(b) \n",
    "    second_text = ' '.join(second_text)\n",
    "    \n",
    "    ## concatenate\n",
    "    if len(titles) > 0:\n",
    "        first_text = \"<strong>\"+titles[0]+\"</strong><br>\"+first_text\n",
    "    if len(titles) > 1:\n",
    "        second_text = \"<strong>\"+titles[1]+\"</strong><br>\"+second_text\n",
    "    else:\n",
    "        second_text = \"---\"*65+\"<br><br>\"+second_text\n",
    "    final_text = first_text +'<br><br>'+ second_text\n",
    "    return final_text"
   ]
  },
  {
   "cell_type": "code",
   "execution_count": 12,
   "metadata": {
    "colab": {
     "base_uri": "https://localhost:8080/",
     "height": 503
    },
    "id": "NJmqLec8ogmR",
    "outputId": "9954ef3c-19a8-4559-8691-9b3be8f056e1"
   },
   "outputs": [
    {
     "data": {
      "text/html": [
       "(CNN) -- Usain Bolt rounded off the world championships Sunday by claiming his third gold in Moscow as he anchored Jamaica to victory in the men's 4x100m relay. The fastest man in the world charged clear of United States rival Justin Gatlin as the Jamaican quartet of Nesta Carter, Kemar Bailey-Cole, Nickel Ashmeade and Bolt won in 37.36 seconds. The U.S finished second in 37.56 seconds with Canada taking the bronze after Britain were disqualified for a faulty handover. The 26-year-old Bolt has now collected eight gold medals at world championships, equaling the record held by American trio Carl Lewis, Michael Johnson and Allyson Felix, not to mention the small matter of six Olympic titles. The relay triumph followed individual successes in the 100 and 200 meters in the Russian capital. \"I'm proud of myself and I'll continue to work to dominate for as long as possible,\" Bolt said, having previously expressed his intention to carry on until the 2016 Rio Olympics. Victory was never seriously in doubt once he got the baton safely in hand from Ashmeade, while Gatlin and the United States third leg runner Rakieem Salaam had problems. Gatlin strayed out of his lane as he struggled to get full control of their baton and was never able to get on terms with Bolt. Earlier, Jamaica's women underlined their dominance in the sprint events by winning the 4x100m relay gold, anchored by Shelly-Ann Fraser-Pryce, who like Bolt was completing a triple. Their quartet recorded a championship record of 41.29 seconds, well clear of France, who crossed the line in second place in 42.73 seconds. Defending champions, the United States, were initially back in the bronze medal position after losing time on the second handover between Alexandria Anderson and English Gardner, but promoted to silver when France were subsequently disqualified for an illegal handover. The British quartet, who were initially fourth, were promoted to the bronze which eluded their men's team. Fraser-Pryce, like Bolt aged 26, became the first woman to achieve three golds in the 100-200 and the relay. In other final action on the last day of the championships, France's Teddy Tamgho became the third man to leap over 18m in the triple jump, exceeding the mark by four centimeters to take gold. Germany's Christina Obergfoll finally took gold at global level in the women's javelin after five previous silvers, while Kenya's Asbel Kiprop easily won a tactical men's 1500m final. Kiprop's compatriot Eunice Jepkoech Sum was a surprise winner of the women's 800m. Bolt's final dash for golden glory brought the eight-day championship to a rousing finale, but while the hosts topped the medal table from the United States there was criticism of the poor attendances in the Luzhniki Stadium. There was further concern when their pole vault gold medalist Yelena Isinbayeva made controversial remarks in support of Russia's new laws, which make \"the propagandizing of non-traditional sexual relations among minors\" a criminal offense. She later attempted to clarify her comments, but there were renewed calls by gay rights groups for a boycott of the 2014 Winter Games in Sochi, the next major sports event in Russia.<br><br>---------------------------------------------------------------------------------------------------------------------------------------------------------------------------------------------------<br><br>Usain Bolt wins third gold of world championship . Anchors Jamaica to 4x100m relay victory . Eighth gold at the championships for Bolt . Jamaica double up in women's 4x100m relay ."
      ],
      "text/plain": [
       "<IPython.core.display.HTML object>"
      ]
     },
     "metadata": {},
     "output_type": "display_data"
    }
   ],
   "source": [
    "display(HTML(display_string_matching(df_raw[\"text\"][1], df_raw[\"y\"][1])))"
   ]
  },
  {
   "cell_type": "markdown",
   "metadata": {
    "id": "hivhuGEikX7w"
   },
   "source": [
    "# Text preprocessing and cleaning"
   ]
  },
  {
   "cell_type": "code",
   "execution_count": 13,
   "metadata": {
    "colab": {
     "base_uri": "https://localhost:8080/"
    },
    "id": "UW8TRwuEkHxT",
    "outputId": "65abc200-2882-40ca-db4d-fb28471be22e"
   },
   "outputs": [
    {
     "data": {
      "text/plain": [
       "['i', 'me', 'my', 'myself', 'we']"
      ]
     },
     "execution_count": 13,
     "metadata": {},
     "output_type": "execute_result"
    }
   ],
   "source": [
    "lst_stopwords = nltk.corpus.stopwords.words('english') + [\"cnn\",\"say\",\"said\",\"new\",\"wa\",\"ha\"]\n",
    "lst_stopwords[:5]"
   ]
  },
  {
   "cell_type": "code",
   "execution_count": 14,
   "metadata": {
    "id": "FxSFM2Pqk1-T"
   },
   "outputs": [],
   "source": [
    "'''\n",
    "Preprocess a string.\n",
    ":parameter\n",
    "    :param txt: string - name of column containing text\n",
    "    :param lst_regex: list - list of regex to remove\n",
    "    :param punkt: bool - if True removes punctuations and characters\n",
    "    :param lower: bool - if True convert lowercase\n",
    "    :param slang: bool - if True fix slang into normal words\n",
    "    :param lst_stopwords: list - list of stopwords to remove\n",
    "    :param stemm: bool - whether stemming is to be applied\n",
    "    :param lemm: bool - whether lemmitisation is to be applied\n",
    ":return\n",
    "    cleaned text\n",
    "'''\n",
    "def preprocess_text(txt, lst_regex=None, punkt=True, lower=True, slang=True, lst_stopwords=None, stemm=False, lemm=True):\n",
    "    ## Regex (in case, before cleaning)\n",
    "    if lst_regex is not None: \n",
    "        for regex in lst_regex:\n",
    "            txt = re.sub(regex, '', txt)\n",
    "\n",
    "    ## Clean \n",
    "    ### separate sentences with '. '\n",
    "    txt = re.sub(r'\\.(?=[^ \\W\\d])', '. ', str(txt))\n",
    "    ### remove punctuations and characters\n",
    "    txt = re.sub(r'[^\\w\\s]', '', txt) if punkt is True else txt\n",
    "    ### strip\n",
    "    txt = \" \".join([word.strip() for word in txt.split()])\n",
    "    ### lowercase\n",
    "    txt = txt.lower() if lower is True else txt\n",
    "    ### slang\n",
    "    txt = contractions.fix(txt) if slang is True else txt\n",
    "            \n",
    "    ## Tokenize (convert from string to list)\n",
    "    lst_txt = txt.split()\n",
    "                \n",
    "    ## Stemming (remove -ing, -ly, ...)\n",
    "    if stemm is True:\n",
    "        ps = nltk.stem.porter.PorterStemmer()\n",
    "        lst_txt = [ps.stem(word) for word in lst_txt]\n",
    "                \n",
    "    ## Lemmatization (convert the word into root word)\n",
    "    if lemm is True:\n",
    "        lem = nltk.stem.wordnet.WordNetLemmatizer()\n",
    "        lst_txt = [lem.lemmatize(word) for word in lst_txt]\n",
    "\n",
    "    ## Stopwords\n",
    "    if lst_stopwords is not None:\n",
    "        lst_txt = [word for word in lst_txt if word not in lst_stopwords]\n",
    "            \n",
    "    ## Back to string\n",
    "    txt = \" \".join(lst_txt)\n",
    "    return txt"
   ]
  },
  {
   "cell_type": "code",
   "execution_count": 15,
   "metadata": {
    "id": "1FvsrGSoliji"
   },
   "outputs": [],
   "source": [
    "'''\n",
    "Adds a column of preprocessed text.\n",
    ":parameter\n",
    "    :param dtf: dataframe - dtf with a text column\n",
    "    :param column: string - name of column containing text\n",
    ":return\n",
    "    : input dataframe with two new columns\n",
    "'''\n",
    "def add_preprocessed_text(data, column, lst_regex=None, punkt=False, lower=False, slang=False, lst_stopwords=None, stemm=False, lemm=False, remove_na=True):\n",
    "    dtf = data.copy()\n",
    "\n",
    "    ## apply preprocess\n",
    "    dtf = dtf[ pd.notnull(dtf[column]) ]\n",
    "    dtf[column+\"_clean\"] = dtf[column].apply(lambda x: preprocess_text(x, lst_regex, punkt, lower, slang, lst_stopwords, stemm, lemm))\n",
    "    \n",
    "    ## residuals\n",
    "    dtf[\"check\"] = dtf[column+\"_clean\"].apply(lambda x: len(x))\n",
    "    if dtf[\"check\"].min() == 0:\n",
    "        print(\"--- found NAs ---\")\n",
    "        print(dtf[[column,column+\"_clean\"]][dtf[\"check\"]==0].head())\n",
    "        if remove_na is True:\n",
    "            dtf = dtf[dtf[\"check\"]>0] \n",
    "            \n",
    "    return dtf.drop(\"check\", axis=1)"
   ]
  },
  {
   "cell_type": "code",
   "execution_count": 16,
   "metadata": {
    "colab": {
     "base_uri": "https://localhost:8080/",
     "height": 354
    },
    "id": "fi0-nsL3lt_c",
    "outputId": "0cca24d8-a2a6-4259-bf9c-068f47a25e5f"
   },
   "outputs": [
    {
     "data": {
      "text/html": [
       "<div>\n",
       "<style scoped>\n",
       "    .dataframe tbody tr th:only-of-type {\n",
       "        vertical-align: middle;\n",
       "    }\n",
       "\n",
       "    .dataframe tbody tr th {\n",
       "        vertical-align: top;\n",
       "    }\n",
       "\n",
       "    .dataframe thead th {\n",
       "        text-align: right;\n",
       "    }\n",
       "</style>\n",
       "<table border=\"1\" class=\"dataframe\">\n",
       "  <thead>\n",
       "    <tr style=\"text-align: right;\">\n",
       "      <th></th>\n",
       "      <th>Unnamed: 0</th>\n",
       "      <th>text</th>\n",
       "      <th>y</th>\n",
       "      <th>text_clean</th>\n",
       "      <th>y_clean</th>\n",
       "    </tr>\n",
       "  </thead>\n",
       "  <tbody>\n",
       "    <tr>\n",
       "      <th>0</th>\n",
       "      <td>0</td>\n",
       "      <td>It's official: U.S. President Barack Obama wan...</td>\n",
       "      <td>Syrian official: Obama climbed to the top of t...</td>\n",
       "      <td>official president barack obama want lawmaker ...</td>\n",
       "      <td>syrian official obama climbed top tree doe kno...</td>\n",
       "    </tr>\n",
       "    <tr>\n",
       "      <th>1</th>\n",
       "      <td>1</td>\n",
       "      <td>(CNN) -- Usain Bolt rounded off the world cham...</td>\n",
       "      <td>Usain Bolt wins third gold of world championsh...</td>\n",
       "      <td>usain bolt rounded world championship sunday c...</td>\n",
       "      <td>usain bolt win third gold world championship a...</td>\n",
       "    </tr>\n",
       "    <tr>\n",
       "      <th>2</th>\n",
       "      <td>2</td>\n",
       "      <td>Kansas City, Missouri (CNN) -- The General Ser...</td>\n",
       "      <td>The employee in agency's Kansas City office is...</td>\n",
       "      <td>kansa city missouri general service administra...</td>\n",
       "      <td>employee agency kansa city office among hundre...</td>\n",
       "    </tr>\n",
       "    <tr>\n",
       "      <th>3</th>\n",
       "      <td>3</td>\n",
       "      <td>Los Angeles (CNN) -- A medical doctor in Vanco...</td>\n",
       "      <td>NEW: A Canadian doctor says she was part of a ...</td>\n",
       "      <td>los angeles medical doctor vancouver british c...</td>\n",
       "      <td>canadian doctor part team examining harry burk...</td>\n",
       "    </tr>\n",
       "    <tr>\n",
       "      <th>4</th>\n",
       "      <td>4</td>\n",
       "      <td>(CNN) -- Police arrested another teen Thursday...</td>\n",
       "      <td>Another arrest made in gang rape outside Calif...</td>\n",
       "      <td>police arrested another teen thursday sixth su...</td>\n",
       "      <td>another arrest made gang rape outside californ...</td>\n",
       "    </tr>\n",
       "  </tbody>\n",
       "</table>\n",
       "</div>"
      ],
      "text/plain": [
       "   Unnamed: 0                                               text  \\\n",
       "0           0  It's official: U.S. President Barack Obama wan...   \n",
       "1           1  (CNN) -- Usain Bolt rounded off the world cham...   \n",
       "2           2  Kansas City, Missouri (CNN) -- The General Ser...   \n",
       "3           3  Los Angeles (CNN) -- A medical doctor in Vanco...   \n",
       "4           4  (CNN) -- Police arrested another teen Thursday...   \n",
       "\n",
       "                                                   y  \\\n",
       "0  Syrian official: Obama climbed to the top of t...   \n",
       "1  Usain Bolt wins third gold of world championsh...   \n",
       "2  The employee in agency's Kansas City office is...   \n",
       "3  NEW: A Canadian doctor says she was part of a ...   \n",
       "4  Another arrest made in gang rape outside Calif...   \n",
       "\n",
       "                                          text_clean  \\\n",
       "0  official president barack obama want lawmaker ...   \n",
       "1  usain bolt rounded world championship sunday c...   \n",
       "2  kansa city missouri general service administra...   \n",
       "3  los angeles medical doctor vancouver british c...   \n",
       "4  police arrested another teen thursday sixth su...   \n",
       "\n",
       "                                             y_clean  \n",
       "0  syrian official obama climbed top tree doe kno...  \n",
       "1  usain bolt win third gold world championship a...  \n",
       "2  employee agency kansa city office among hundre...  \n",
       "3  canadian doctor part team examining harry burk...  \n",
       "4  another arrest made gang rape outside californ...  "
      ]
     },
     "execution_count": 16,
     "metadata": {},
     "output_type": "execute_result"
    }
   ],
   "source": [
    "# proprocess text into separate columns\n",
    "df_pre = add_preprocessed_text(df_raw, column=\"text\", \n",
    "                            punkt=True, lower=True, slang=True, lst_stopwords=lst_stopwords, lemm=True)\n",
    "df_pre = add_preprocessed_text(df_pre, column=\"y\", \n",
    "                            punkt=True, lower=True, slang=True, lst_stopwords=lst_stopwords, lemm=True)\n",
    "df_pre.head()"
   ]
  },
  {
   "cell_type": "code",
   "execution_count": 17,
   "metadata": {
    "colab": {
     "base_uri": "https://localhost:8080/",
     "height": 399
    },
    "id": "q6M6zYItmUEY",
    "outputId": "705c50fa-a71a-4b54-ceca-be3a30095463"
   },
   "outputs": [
    {
     "data": {
      "text/html": [
       "usain bolt rounde <span style=\"background-color:rgba(255,215,0,0.3);\">d world championship </span> sunday claiming third gold moscow anchored jamaica victory men 4x100m relay fastest man world charged clear united state rival justin gatlin jamaican quartet nesta carter kemar baileycole nickel ashmeade bolt 3736 second finished second 3756 second canada taking bronze britain disqualified faulty handover 26yearold bolt collected eight gold medal world championship equaling record held american trio carl lewis michael johnson allyson felix mention small matter six olympic title relay triumph followed individual success 100 200 meter russian capital proud ill continue work dominate long possible bolt previously expressed intention carry 2016 rio olympics victory never seriously doubt got baton safely hand ashmeade gatlin united state third leg runner rakieem salaam problem gatlin strayed lane struggled get full control baton never able get term bolt earlier jamaica woman underlined dominance sprint event winning 4x100m relay gold anchored shellyann fraserpryce like bolt completing triple quartet recorded championship record 4129 second well clear france crossed line second place 4273 second defending champion united state initially back bronze medal position losing time second handover alexandria anderson english gardner promoted silver france subsequently disqualified illegal handover british quartet initially fourth promoted bronze eluded men team fraserpryce like bolt aged 26 became first woman achieve three gold 100200 relay final action last day championship france teddy tamgho became third man leap 18m triple jump exceeding mark four centimeter take gold germany christina obergfoll finally took gold global level woman javelin five previous silver kenya asbel kiprop easily tactical men 1500m final kiprops compatriot eunice jepkoech sum surprise winner woman 800m bolt final dash golden glory brought eightday championship rousing finale host topped medal table united state criticism poor attendance luzhniki stadium concern pole vault gold medalist yelena isinbayeva made controversial remark support russia law make propagandizing nontraditional sexual relation among minor criminal offense later attempted clarify comment renewed call gay right group boycott 2014 winter game sochi next major sport event russia<br><br>---------------------------------------------------------------------------------------------------------------------------------------------------------------------------------------------------<br><br>usain bolt win third gol <span style=\"background-color:rgba(255,215,0,0.3);\">d world championship </span> anchor jamaica 4x100m relay victory eighth gold championship bolt jamaica double woman 4x100m relay"
      ],
      "text/plain": [
       "<IPython.core.display.HTML object>"
      ]
     },
     "metadata": {},
     "output_type": "display_data"
    }
   ],
   "source": [
    "display(HTML(display_string_matching(df_pre[\"text_clean\"][1], df_pre[\"y_clean\"][1])))"
   ]
  },
  {
   "cell_type": "markdown",
   "metadata": {
    "id": "4pLxQtsMncvP"
   },
   "source": [
    "### Word frequency analysis"
   ]
  },
  {
   "cell_type": "code",
   "execution_count": 18,
   "metadata": {
    "id": "que9Wl1Mne8V"
   },
   "outputs": [],
   "source": [
    "'''\n",
    "Compute n-grams frequency with nltk tokenizer.\n",
    ":parameter\n",
    "    :param corpus: list - dtf[\"text\"]\n",
    "    :param ngrams: int or list - 1 for unigrams, 2 for bigrams, [1,2] for both\n",
    "    :param top: num - plot the top frequent words\n",
    ":return\n",
    "    dtf_count: dtf with word frequency\n",
    "'''\n",
    "def word_freq(corpus, ngrams=[1,2,3], top=10, figsize=(10,7)):\n",
    "    lst_tokens = nltk.tokenize.word_tokenize(corpus.str.cat(sep=\" \"))\n",
    "    ngrams = [ngrams] if type(ngrams) is int else ngrams\n",
    "    \n",
    "    ## calculate\n",
    "    dtf_freq = pd.DataFrame()\n",
    "    for n in ngrams:\n",
    "        dic_words_freq = nltk.FreqDist(nltk.ngrams(lst_tokens, n))\n",
    "        dtf_n = pd.DataFrame(dic_words_freq.most_common(), columns=[\"word\",\"freq\"])\n",
    "        dtf_n[\"ngrams\"] = n\n",
    "        dtf_freq = dtf_freq.append(dtf_n)\n",
    "    dtf_freq[\"word\"] = dtf_freq[\"word\"].apply(lambda x: \" \".join(string for string in x) )\n",
    "    dtf_freq = dtf_freq.sort_values([\"ngrams\",\"freq\"], ascending=[True,False])\n",
    "    \n",
    "    ## plot\n",
    "    fig, ax = plt.subplots(figsize=figsize)\n",
    "    sns.barplot(x=\"freq\", y=\"word\", hue=\"ngrams\", dodge=False, ax=ax,\n",
    "                data=dtf_freq.groupby('ngrams')[\"ngrams\",\"freq\",\"word\"].head(top))\n",
    "    ax.set(xlabel=None, ylabel=None, title=\"Most frequent words\")\n",
    "    ax.grid(axis=\"x\")\n",
    "    plt.show()\n",
    "    return dtf_freq"
   ]
  },
  {
   "cell_type": "code",
   "execution_count": 19,
   "metadata": {
    "colab": {
     "base_uri": "https://localhost:8080/",
     "height": 889
    },
    "id": "lMOACJfbm8wF",
    "outputId": "4421f0fc-74b6-4364-ae09-ad3a1eacf5a6"
   },
   "outputs": [
    {
     "data": {
      "image/png": "[encoded data removed]",
      "text/plain": [
       "<Figure size 1000x700 with 1 Axes>"
      ]
     },
     "metadata": {},
     "output_type": "display_data"
    },
    {
     "data": {
      "image/png": "[encoded data removed]",
      "text/plain": [
       "<Figure size 1000x700 with 1 Axes>"
      ]
     },
     "metadata": {},
     "output_type": "display_data"
    },
    {
     "data": {
      "text/plain": [
       "(42997, 10245)"
      ]
     },
     "execution_count": 19,
     "metadata": {},
     "output_type": "execute_result"
    }
   ],
   "source": [
    "# Find most common words in text\n",
    "\n",
    "threshold = 5\n",
    "df_freq = word_freq(corpus=df_pre[\"text_clean\"], ngrams=[1], top=30, figsize=(10,7))\n",
    "X_top_words = len(df_freq[df_freq[\"freq\"]>threshold]) # get only above threshold\n",
    "\n",
    "df_freq = word_freq(corpus=df_pre[\"y_clean\"], ngrams=[1], top=30, figsize=(10,7))\n",
    "y_top_words = len(df_freq[df_freq[\"freq\"]>threshold])\n",
    "\n",
    "(X_top_words, y_top_words)"
   ]
  },
  {
   "cell_type": "markdown",
   "metadata": {
    "id": "MnjUwRFmp1JL"
   },
   "source": [
    "### Sequence length analysis"
   ]
  },
  {
   "cell_type": "code",
   "execution_count": 20,
   "metadata": {
    "id": "NEKpBjuEpHr7"
   },
   "outputs": [],
   "source": [
    "'''\n",
    "Compute different text length metrics.\n",
    ":parameter\n",
    "    :param dtf: dataframe - dtf with a text column\n",
    "    :param column: string - name of column containing text\n",
    ":return\n",
    "    dtf: input dataframe with 2 new columns\n",
    "'''\n",
    "def add_text_length(data, column):\n",
    "    dtf = data.copy()\n",
    "    dtf['word_count'] = dtf[column].apply(lambda x: len(nltk.word_tokenize(str(x))) )\n",
    "    dtf['char_count'] = dtf[column].apply(lambda x: sum(len(word) for word in nltk.word_tokenize(str(x))) )\n",
    "    dtf['sentence_count'] = dtf[column].apply(lambda x: len(nltk.sent_tokenize(str(x))) )\n",
    "    dtf['avg_word_length'] = dtf['char_count'] / dtf['word_count']\n",
    "    dtf['avg_sentence_lenght'] = dtf['word_count'] / dtf['sentence_count']\n",
    "    print(dtf[['char_count','word_count','sentence_count','avg_word_length','avg_sentence_lenght']].describe().T[[\"min\",\"mean\",\"max\"]])\n",
    "    return dtf"
   ]
  },
  {
   "cell_type": "code",
   "execution_count": 21,
   "metadata": {
    "colab": {
     "base_uri": "https://localhost:8080/"
    },
    "id": "BkE1IVAZp6bp",
    "outputId": "60b7c0b3-a18e-4c12-e9e1-78accb57ad45"
   },
   "outputs": [
    {
     "name": "stdout",
     "output_type": "stream",
     "text": [
      "                            min         mean          max\n",
      "char_count           103.000000  2260.120300  10038.00000\n",
      "word_count            19.000000   363.755600   1309.00000\n",
      "sentence_count         1.000000     1.000000      1.00000\n",
      "avg_word_length        3.992945     6.210552     35.34507\n",
      "avg_sentence_lenght   19.000000   363.755600   1309.00000\n",
      "                       min        mean    max\n",
      "char_count           35.00  164.703400  319.0\n",
      "word_count            4.00   27.015400   50.0\n",
      "sentence_count        1.00    1.000000    1.0\n",
      "avg_word_length       4.15    6.117243   10.0\n",
      "avg_sentence_lenght   4.00   27.015400   50.0\n"
     ]
    }
   ],
   "source": [
    "X = add_text_length(df_pre, \"text_clean\")\n",
    "y = add_text_length(df_pre, \"y_clean\")"
   ]
  },
  {
   "cell_type": "code",
   "execution_count": 22,
   "metadata": {
    "id": "LgdZ4FddqTtl"
   },
   "outputs": [],
   "source": [
    "'''\n",
    "Plot univariate and bivariate distributions.\n",
    "'''\n",
    "def plot_distributions(dtf, x, max_cat=20, top=None, y=None, bins=None, figsize=(10,5)):\n",
    "    ## univariate\n",
    "    if y is None:\n",
    "        fig, ax = plt.subplots(figsize=figsize)\n",
    "        fig.suptitle(x, fontsize=15)\n",
    "        ### categorical\n",
    "        if dtf[x].nunique() <= max_cat:\n",
    "            if top is None:\n",
    "                dtf[x].reset_index().groupby(x).count().sort_values(by=\"index\").plot(kind=\"barh\", legend=False, ax=ax).grid(axis='x')\n",
    "            else:   \n",
    "                dtf[x].reset_index().groupby(x).count().sort_values(by=\"index\").tail(top).plot(kind=\"barh\", legend=False, ax=ax).grid(axis='x')\n",
    "            ax.set(ylabel=None)\n",
    "        ### numerical\n",
    "        else:\n",
    "            sns.distplot(dtf[x], hist=True, kde=True, kde_kws={\"shade\":True}, ax=ax)\n",
    "            ax.grid(True)\n",
    "            ax.set(xlabel=None, yticklabels=[], yticks=[])\n",
    "\n",
    "    ## bivariate\n",
    "    else:\n",
    "        fig, ax = plt.subplots(nrows=1, ncols=2, sharex=False, sharey=False, figsize=figsize)\n",
    "        fig.suptitle(x, fontsize=15)\n",
    "        for i in dtf[y].unique():\n",
    "            sns.distplot(dtf[dtf[y]==i][x], hist=True, kde=False, bins=bins, hist_kws={\"alpha\":0.8}, axlabel=\"\", ax=ax[0])\n",
    "            sns.distplot(dtf[dtf[y]==i][x], hist=False, kde=True, kde_kws={\"shade\":True}, axlabel=\"\", ax=ax[1])\n",
    "        ax[0].set(title=\"histogram\")\n",
    "        ax[0].grid(True)\n",
    "        ax[0].legend(dtf[y].unique())\n",
    "        ax[1].set(title=\"density\")\n",
    "        ax[1].grid(True)\n",
    "    plt.show()"
   ]
  },
  {
   "cell_type": "code",
   "execution_count": 23,
   "metadata": {
    "colab": {
     "base_uri": "https://localhost:8080/",
     "height": 449
    },
    "id": "WLQ3gA89qAei",
    "outputId": "0794251d-56fc-4de0-d35f-d2fb22e4cd99"
   },
   "outputs": [
    {
     "data": {
      "image/png": "[encoded data removed]",
      "text/plain": [
       "<Figure size 1000x300 with 1 Axes>"
      ]
     },
     "metadata": {},
     "output_type": "display_data"
    },
    {
     "data": {
      "image/png": "[encoded data removed]",
      "text/plain": [
       "<Figure size 1000x300 with 1 Axes>"
      ]
     },
     "metadata": {},
     "output_type": "display_data"
    }
   ],
   "source": [
    "plot_distributions(X, x=\"word_count\", figsize=(10,3))\n",
    "plot_distributions(y, x=\"word_count\", max_cat=1, figsize=(10,3))"
   ]
  },
  {
   "cell_type": "code",
   "execution_count": 24,
   "metadata": {
    "id": "hLtE-KBQqAys"
   },
   "outputs": [],
   "source": [
    "# set maximum sequence length based on dist\n",
    "X_len = 400\n",
    "y_len = 40"
   ]
  },
  {
   "cell_type": "markdown",
   "metadata": {
    "id": "FRhdqgkgsJgo"
   },
   "source": [
    "# Train and test set split"
   ]
  },
  {
   "cell_type": "code",
   "execution_count": 25,
   "metadata": {
    "colab": {
     "base_uri": "https://localhost:8080/",
     "height": 647
    },
    "id": "7HqzoylusLMH",
    "outputId": "8bc9a982-b6f1-4243-b41c-a765a5db1177"
   },
   "outputs": [
    {
     "data": {
      "text/html": [
       "<div>\n",
       "<style scoped>\n",
       "    .dataframe tbody tr th:only-of-type {\n",
       "        vertical-align: middle;\n",
       "    }\n",
       "\n",
       "    .dataframe tbody tr th {\n",
       "        vertical-align: top;\n",
       "    }\n",
       "\n",
       "    .dataframe thead th {\n",
       "        text-align: right;\n",
       "    }\n",
       "</style>\n",
       "<table border=\"1\" class=\"dataframe\">\n",
       "  <thead>\n",
       "    <tr style=\"text-align: right;\">\n",
       "      <th></th>\n",
       "      <th>Unnamed: 0</th>\n",
       "      <th>text</th>\n",
       "      <th>y</th>\n",
       "      <th>text_clean</th>\n",
       "      <th>y_clean</th>\n",
       "    </tr>\n",
       "  </thead>\n",
       "  <tbody>\n",
       "    <tr>\n",
       "      <th>0</th>\n",
       "      <td>0</td>\n",
       "      <td>It's official: U.S. President Barack Obama wan...</td>\n",
       "      <td>Syrian official: Obama climbed to the top of t...</td>\n",
       "      <td>official president barack obama want lawmaker ...</td>\n",
       "      <td>syrian official obama climbed top tree doe kno...</td>\n",
       "    </tr>\n",
       "    <tr>\n",
       "      <th>1</th>\n",
       "      <td>1</td>\n",
       "      <td>(CNN) -- Usain Bolt rounded off the world cham...</td>\n",
       "      <td>Usain Bolt wins third gold of world championsh...</td>\n",
       "      <td>usain bolt rounded world championship sunday c...</td>\n",
       "      <td>usain bolt win third gold world championship a...</td>\n",
       "    </tr>\n",
       "    <tr>\n",
       "      <th>2</th>\n",
       "      <td>2</td>\n",
       "      <td>Kansas City, Missouri (CNN) -- The General Ser...</td>\n",
       "      <td>The employee in agency's Kansas City office is...</td>\n",
       "      <td>kansa city missouri general service administra...</td>\n",
       "      <td>employee agency kansa city office among hundre...</td>\n",
       "    </tr>\n",
       "    <tr>\n",
       "      <th>3</th>\n",
       "      <td>3</td>\n",
       "      <td>Los Angeles (CNN) -- A medical doctor in Vanco...</td>\n",
       "      <td>NEW: A Canadian doctor says she was part of a ...</td>\n",
       "      <td>los angeles medical doctor vancouver british c...</td>\n",
       "      <td>canadian doctor part team examining harry burk...</td>\n",
       "    </tr>\n",
       "    <tr>\n",
       "      <th>4</th>\n",
       "      <td>4</td>\n",
       "      <td>(CNN) -- Police arrested another teen Thursday...</td>\n",
       "      <td>Another arrest made in gang rape outside Calif...</td>\n",
       "      <td>police arrested another teen thursday sixth su...</td>\n",
       "      <td>another arrest made gang rape outside californ...</td>\n",
       "    </tr>\n",
       "    <tr>\n",
       "      <th>5</th>\n",
       "      <td>5</td>\n",
       "      <td>(CNN) -- Thousands on Saturday fled the area i...</td>\n",
       "      <td>Humanitarian groups expect 4,000 refugees in o...</td>\n",
       "      <td>thousand saturday fled area southwestern ivory...</td>\n",
       "      <td>humanitarian group expect 4000 refugee one cam...</td>\n",
       "    </tr>\n",
       "    <tr>\n",
       "      <th>6</th>\n",
       "      <td>6</td>\n",
       "      <td>(CNN) -- Four groups that advocate for immigra...</td>\n",
       "      <td>NEW: 4 groups announce legal challenge in Phoe...</td>\n",
       "      <td>four group advocate immigrant right thursday c...</td>\n",
       "      <td>4 group announce legal challenge phoenix ameri...</td>\n",
       "    </tr>\n",
       "    <tr>\n",
       "      <th>7</th>\n",
       "      <td>7</td>\n",
       "      <td>While Labor Day is the unofficial end of summe...</td>\n",
       "      <td>Labor Day is the unofficial end of summer and ...</td>\n",
       "      <td>labor day unofficial end summer also unofficia...</td>\n",
       "      <td>labor day unofficial end summer unofficial sta...</td>\n",
       "    </tr>\n",
       "    <tr>\n",
       "      <th>8</th>\n",
       "      <td>8</td>\n",
       "      <td>Gaza City (CNN) -- An Italian humanitarian act...</td>\n",
       "      <td>NEW: Autopsy indicates he had been dead for ho...</td>\n",
       "      <td>gaza city italian humanitarian activist journa...</td>\n",
       "      <td>autopsy indicates dead hour police arrived you...</td>\n",
       "    </tr>\n",
       "    <tr>\n",
       "      <th>9</th>\n",
       "      <td>9</td>\n",
       "      <td>(CNN) -- Renowned radio personality Casey Kase...</td>\n",
       "      <td>The radio personality was taken to a hospital ...</td>\n",
       "      <td>renowned radio personality casey kasem critica...</td>\n",
       "      <td>radio personality taken hospital sunday spokes...</td>\n",
       "    </tr>\n",
       "    <tr>\n",
       "      <th>10</th>\n",
       "      <td>10</td>\n",
       "      <td>(CNN) -- If you travel by plane and arriving o...</td>\n",
       "      <td>Hawaiian Airlines again lands at No. 1 in on-t...</td>\n",
       "      <td>travel plane arriving time make difference try...</td>\n",
       "      <td>hawaiian airline land 1 ontime performance air...</td>\n",
       "    </tr>\n",
       "  </tbody>\n",
       "</table>\n",
       "</div>"
      ],
      "text/plain": [
       "    Unnamed: 0                                               text  \\\n",
       "0            0  It's official: U.S. President Barack Obama wan...   \n",
       "1            1  (CNN) -- Usain Bolt rounded off the world cham...   \n",
       "2            2  Kansas City, Missouri (CNN) -- The General Ser...   \n",
       "3            3  Los Angeles (CNN) -- A medical doctor in Vanco...   \n",
       "4            4  (CNN) -- Police arrested another teen Thursday...   \n",
       "5            5  (CNN) -- Thousands on Saturday fled the area i...   \n",
       "6            6  (CNN) -- Four groups that advocate for immigra...   \n",
       "7            7  While Labor Day is the unofficial end of summe...   \n",
       "8            8  Gaza City (CNN) -- An Italian humanitarian act...   \n",
       "9            9  (CNN) -- Renowned radio personality Casey Kase...   \n",
       "10          10  (CNN) -- If you travel by plane and arriving o...   \n",
       "\n",
       "                                                    y  \\\n",
       "0   Syrian official: Obama climbed to the top of t...   \n",
       "1   Usain Bolt wins third gold of world championsh...   \n",
       "2   The employee in agency's Kansas City office is...   \n",
       "3   NEW: A Canadian doctor says she was part of a ...   \n",
       "4   Another arrest made in gang rape outside Calif...   \n",
       "5   Humanitarian groups expect 4,000 refugees in o...   \n",
       "6   NEW: 4 groups announce legal challenge in Phoe...   \n",
       "7   Labor Day is the unofficial end of summer and ...   \n",
       "8   NEW: Autopsy indicates he had been dead for ho...   \n",
       "9   The radio personality was taken to a hospital ...   \n",
       "10  Hawaiian Airlines again lands at No. 1 in on-t...   \n",
       "\n",
       "                                           text_clean  \\\n",
       "0   official president barack obama want lawmaker ...   \n",
       "1   usain bolt rounded world championship sunday c...   \n",
       "2   kansa city missouri general service administra...   \n",
       "3   los angeles medical doctor vancouver british c...   \n",
       "4   police arrested another teen thursday sixth su...   \n",
       "5   thousand saturday fled area southwestern ivory...   \n",
       "6   four group advocate immigrant right thursday c...   \n",
       "7   labor day unofficial end summer also unofficia...   \n",
       "8   gaza city italian humanitarian activist journa...   \n",
       "9   renowned radio personality casey kasem critica...   \n",
       "10  travel plane arriving time make difference try...   \n",
       "\n",
       "                                              y_clean  \n",
       "0   syrian official obama climbed top tree doe kno...  \n",
       "1   usain bolt win third gold world championship a...  \n",
       "2   employee agency kansa city office among hundre...  \n",
       "3   canadian doctor part team examining harry burk...  \n",
       "4   another arrest made gang rape outside californ...  \n",
       "5   humanitarian group expect 4000 refugee one cam...  \n",
       "6   4 group announce legal challenge phoenix ameri...  \n",
       "7   labor day unofficial end summer unofficial sta...  \n",
       "8   autopsy indicates dead hour police arrived you...  \n",
       "9   radio personality taken hospital sunday spokes...  \n",
       "10  hawaiian airline land 1 ontime performance air...  "
      ]
     },
     "execution_count": 25,
     "metadata": {},
     "output_type": "execute_result"
    }
   ],
   "source": [
    "test_len = 10\n",
    "df_train = df_pre.iloc[test_len+1:].copy()\n",
    "df_test = df_pre.iloc[:test_len+1].copy()\n",
    "df_test"
   ]
  },
  {
   "cell_type": "markdown",
   "metadata": {
    "id": "NjACJG8hr1l1"
   },
   "source": [
    "# Feature engineering"
   ]
  },
  {
   "cell_type": "markdown",
   "metadata": {
    "id": "U1FlmUvsr4OW"
   },
   "source": [
    "### Tokenization"
   ]
  },
  {
   "cell_type": "code",
   "execution_count": 26,
   "metadata": {
    "id": "xll0ehYgtZYN"
   },
   "outputs": [],
   "source": [
    "'''\n",
    "Create a list of lists of grams with gensim:\n",
    "    [ [\"hi\", \"my\", \"name\", \"is\", \"Tom\"], \n",
    "      [\"what\", \"is\", \"yours\"] ]\n",
    ":parameter\n",
    "    :param corpus: list - dtf[\"text\"]\n",
    "    :param ngrams: num - ex. \"new\", \"york\"\n",
    "    :param grams_join: string - \"_\" (new_york), \" \" (new york)\n",
    "    :param lst_ngrams_detectors: list - [bigram and trigram models], if empty doesn't detect common n-grams\n",
    ":return\n",
    "    lst of lists of n-grams\n",
    "'''\n",
    "def utils_preprocess_ngrams(corpus, ngrams=1, grams_join=\" \", lst_ngrams_detectors=[]):\n",
    "    ## create list of n-grams\n",
    "    lst_corpus = []\n",
    "    for string in corpus:\n",
    "        lst_words = string.split()\n",
    "        lst_grams = [grams_join.join(lst_words[i:i + ngrams]) for i in range(0, len(lst_words), ngrams)]\n",
    "        lst_corpus.append(lst_grams)\n",
    "    \n",
    "    ## detect common bi-grams and tri-grams\n",
    "    if len(lst_ngrams_detectors) != 0:\n",
    "        for detector in lst_ngrams_detectors:\n",
    "            lst_corpus = list(detector[lst_corpus])\n",
    "    return lst_corpus"
   ]
  },
  {
   "cell_type": "code",
   "execution_count": 27,
   "metadata": {
    "id": "LDiZV3mRr1QI"
   },
   "outputs": [],
   "source": [
    "'''\n",
    "Transforms the corpus into an array of sequences of idx (tokenizer) with same length (padding).\n",
    ":parameter\n",
    "    :param corpus: list - dtf[\"text\"]\n",
    "    :param ngrams: num - ex. \"new\", \"york\"\n",
    "    :param grams_join: string - \"_\" (new_york), \" \" (new york)\n",
    "    :param lst_ngrams_detectors: list - [bigram and trigram models], if empty doesn't detect common n-grams\n",
    "    :param fitted_tokenizer: keras tokenizer - if None it creates one with fit and transorm (train set), if given it transforms only (test set)\n",
    "    :param top: num - if given the tokenizer keeps only top important words\n",
    "    :param oov: string - how to encode words not in vocabulary (ex. \"NAN\")\n",
    "    :param maxlen: num - dimensionality of the vectors, if None takes the max length in corpus\n",
    "    :param padding: string - <PAD> token\n",
    ":return\n",
    "    If training: matrix of sequences, tokenizer, dic_vocabulary. Else matrix of sequences only.\n",
    "'''\n",
    "def text2seq(corpus, ngrams=1, grams_join=\" \", lst_ngrams_detectors=[], fitted_tokenizer=None, top=None, oov=None, maxlen=None, padding=\"<PAD>\"):    \n",
    "    print(\"--- tokenization ---\")\n",
    "    \n",
    "    ## detect common n-grams in corpus\n",
    "    lst_corpus = utils_preprocess_ngrams(corpus, ngrams=ngrams, grams_join=grams_join, lst_ngrams_detectors=lst_ngrams_detectors)\n",
    "\n",
    "    ## bow with keras to get text2tokens without creating the sparse matrix\n",
    "    ### train\n",
    "    if fitted_tokenizer is None:\n",
    "        tokenizer = keras.preprocessing.text.Tokenizer(num_words=top, lower=False, split=' ', char_level=False, oov_token=oov,\n",
    "                                               filters='!\"#$%&()*+,-./:;<=>?@[\\\\]^_`{|}~\\t\\n')\n",
    "        tokenizer.fit_on_texts(lst_corpus)\n",
    "        dic_vocabulary = {padding:0}\n",
    "        words = tokenizer.word_index if top is None else dict(list(tokenizer.word_index.items())[0:top+1])\n",
    "        dic_vocabulary.update(words)\n",
    "        print(len(dic_vocabulary), \"words\")\n",
    "    else:\n",
    "        tokenizer = fitted_tokenizer\n",
    "    ### transform\n",
    "    lst_text2seq = tokenizer.texts_to_sequences(lst_corpus)\n",
    "\n",
    "    ## padding sequence (from [1,2],[3,4,5,6] to [0,0,1,2],[3,4,5,6])\n",
    "    print(\"--- padding to sequence ---\")\n",
    "    X = keras.preprocessing.sequence.pad_sequences(lst_text2seq, maxlen=maxlen, padding=\"post\", truncating=\"post\")\n",
    "    print(X.shape[0], \"sequences of length\", X.shape[1]) \n",
    "\n",
    "    ## plot heatmap\n",
    "    fig, ax = plt.subplots(figsize=(15,5))\n",
    "    sns.heatmap(X==0, vmin=0, vmax=1, cbar=False, ax=ax).set_title('Sequences Overview')\n",
    "    plt.show()\n",
    "    return (X, tokenizer, dic_vocabulary) if fitted_tokenizer is None else X"
   ]
  },
  {
   "cell_type": "markdown",
   "metadata": {
    "id": "SsC3h4EVt_jU"
   },
   "source": [
    "Text (X) tokenization:"
   ]
  },
  {
   "cell_type": "code",
   "execution_count": 28,
   "metadata": {
    "colab": {
     "base_uri": "https://localhost:8080/",
     "height": 798
    },
    "id": "s1DIW3jGtbHm",
    "outputId": "10c0fb46-7350-4afc-c182-f0a385dc458d"
   },
   "outputs": [
    {
     "name": "stdout",
     "output_type": "stream",
     "text": [
      "--- tokenization ---\n",
      "42999 words\n",
      "--- padding to sequence ---\n",
      "19989 sequences of length 400\n"
     ]
    },
    {
     "data": {
      "image/png": "[encoded data removed]",
      "text/plain": [
       "<Figure size 1500x500 with 1 Axes>"
      ]
     },
     "metadata": {},
     "output_type": "display_data"
    },
    {
     "name": "stdout",
     "output_type": "stream",
     "text": [
      "--- tokenization ---\n",
      "--- padding to sequence ---\n",
      "11 sequences of length 400\n"
     ]
    },
    {
     "data": {
      "image/png": "[encoded data removed]",
      "text/plain": [
       "<Figure size 1500x500 with 1 Axes>"
      ]
     },
     "metadata": {},
     "output_type": "display_data"
    }
   ],
   "source": [
    "# Tokenize X on train set\n",
    "X_train, X_tokenizer, X_vocabulary = text2seq(corpus=df_train[\"text_clean\"], top=X_top_words, maxlen=X_len)\n",
    "# Tokenize X on test set using train set tokenizer\n",
    "X_test = text2seq(corpus=df_test[\"text_clean\"], fitted_tokenizer=X_tokenizer, maxlen=X_train.shape[1])"
   ]
  },
  {
   "cell_type": "code",
   "execution_count": 29,
   "metadata": {
    "colab": {
     "base_uri": "https://localhost:8080/"
    },
    "id": "PxRUtzCmt65a",
    "outputId": "2a5a75c0-ba7c-450f-ae0d-5d6fae068f31"
   },
   "outputs": [
    {
     "data": {
      "text/plain": [
       "{'<PAD>': 0, 'one': 1, 'people': 2, 'year': 3, 'would': 4, 'time': 5}"
      ]
     },
     "execution_count": 29,
     "metadata": {},
     "output_type": "execute_result"
    }
   ],
   "source": [
    "dict(list(X_vocabulary.items())[0:6])"
   ]
  },
  {
   "cell_type": "markdown",
   "metadata": {
    "id": "fGr9u7HeuqDA"
   },
   "source": [
    "Summary (y) tokenization:"
   ]
  },
  {
   "cell_type": "code",
   "execution_count": 30,
   "metadata": {
    "id": "g2-8aOVHuLOk"
   },
   "outputs": [
    {
     "data": {
      "text/plain": [
       "'<START> usain bolt win third gold world championship anchor jamaica 4x100m relay victory eighth gold championship bolt jamaica double woman 4x100m relay <END>'"
      ]
     },
     "execution_count": 30,
     "metadata": {},
     "output_type": "execute_result"
    }
   ],
   "source": [
    "# Add START and END tokens to the summaries (y)\n",
    "special_tokens = (\"<START>\", \"<END>\")\n",
    "df_train[\"y_clean\"] = df_train['y_clean'].apply(lambda x: special_tokens[0]+' '+x+' '+special_tokens[1])\n",
    "df_test[\"y_clean\"] = df_test['y_clean'].apply(lambda x: special_tokens[0]+' '+x+' '+special_tokens[1])\n",
    "df_test[\"y_clean\"][1]"
   ]
  },
  {
   "cell_type": "code",
   "execution_count": 31,
   "metadata": {
    "colab": {
     "base_uri": "https://localhost:8080/",
     "height": 780
    },
    "id": "c3RdbAqPu0D3",
    "outputId": "c6329708-08f8-4594-fce8-fcbe75dd8845"
   },
   "outputs": [
    {
     "name": "stdout",
     "output_type": "stream",
     "text": [
      "--- tokenization ---\n",
      "10247 words\n",
      "--- padding to sequence ---\n",
      "19989 sequences of length 40\n"
     ]
    },
    {
     "data": {
      "image/png": "[encoded data removed]",
      "text/plain": [
       "<Figure size 1500x500 with 1 Axes>"
      ]
     },
     "metadata": {},
     "output_type": "display_data"
    },
    {
     "name": "stdout",
     "output_type": "stream",
     "text": [
      "--- tokenization ---\n",
      "--- padding to sequence ---\n",
      "11 sequences of length 40\n"
     ]
    },
    {
     "data": {
      "image/png": "[encoded data removed]",
      "text/plain": [
       "<Figure size 1500x500 with 1 Axes>"
      ]
     },
     "metadata": {},
     "output_type": "display_data"
    }
   ],
   "source": [
    "# Tokenize y on train set \n",
    "y_train, y_tokenizer, y_vocabulary = text2seq(corpus=df_train[\"y_clean\"], top=y_top_words, maxlen=y_len)\n",
    "# Tokenize y on test set with train set tokenizer\n",
    "y_test = text2seq(corpus=df_test[\"y_clean\"], fitted_tokenizer=y_tokenizer, maxlen=y_train.shape[1])"
   ]
  },
  {
   "cell_type": "markdown",
   "metadata": {
    "id": "NU8quABql4tp"
   },
   "source": [
    "## Word embeddings"
   ]
  },
  {
   "cell_type": "code",
   "execution_count": 47,
   "metadata": {
    "colab": {
     "base_uri": "https://localhost:8080/"
    },
    "id": "TfdX4_2Sl3GK",
    "outputId": "c1610d56-6539-467b-8f5a-ad6d16e6d3f4"
   },
   "outputs": [],
   "source": [
    "# Load pre-trained Word2Vec\n",
    "glove_vectors = gensim.downloader.load(\"glove-wiki-gigaword-300\")\n",
    "\n",
    "# Or train Word2Vec from scratch\n",
    "#corpus =  dtf_train[\"text_clean\"].append(dtf_train[\"y_clean\"])\n",
    "#lst_corpus, nlp = fit_w2v(corpus=corpus, min_count=1, size=300, window=y_avg_len)"
   ]
  },
  {
   "cell_type": "code",
   "execution_count": 49,
   "metadata": {
    "id": "rBqcJeZvmNTf"
   },
   "outputs": [],
   "source": [
    "'''\n",
    "Embeds a vocabulary of unigrams with gensim w2v.\n",
    ":parameter\n",
    "    :param dic_vocabulary: dict - {\"word\":1, \"word\":2, ...}\n",
    "    :param nlp: gensim model\n",
    ":return\n",
    "    Matric and the nlp model\n",
    "'''\n",
    "def vocabulary_embeddings(dic_vocabulary, nlp=None):\n",
    "    nlp = gensim.downloader.load(\"glove-wiki-gigaword-300\") if nlp is None else nlp\n",
    "    embeddings = np.zeros((len(dic_vocabulary)+1, nlp.vector_size))\n",
    "    for word,idx in dic_vocabulary.items():\n",
    "        ## update the row with vector\n",
    "        try:\n",
    "            embeddings[idx] =  nlp[word]\n",
    "        ## if word not in model then skip and the row stays all zeros\n",
    "        except:\n",
    "            pass\n",
    "    print(\"vocabulary mapped to\", embeddings.shape[0], \"vectors of size\", embeddings.shape[1])\n",
    "    return embeddings\n"
   ]
  },
  {
   "cell_type": "code",
   "execution_count": 50,
   "metadata": {
    "colab": {
     "base_uri": "https://localhost:8080/"
    },
    "id": "dp80NHcZmFNL",
    "outputId": "91ee362a-3d1d-4ae0-9354-b69bddd436bc"
   },
   "outputs": [
    {
     "name": "stdout",
     "output_type": "stream",
     "text": [
      "vocabulary mapped to 43000 vectors of size 300\n"
     ]
    },
    {
     "data": {
      "text/plain": [
       "(43000, 300)"
      ]
     },
     "execution_count": 50,
     "metadata": {},
     "output_type": "execute_result"
    }
   ],
   "source": [
    "# setup embedding weights\n",
    "X_embeddings = vocabulary_embeddings(X_vocabulary, glove_vectors)\n",
    "X_embeddings.shape"
   ]
  },
  {
   "cell_type": "code",
   "execution_count": 52,
   "metadata": {
    "colab": {
     "base_uri": "https://localhost:8080/"
    },
    "id": "xyCGs2u5oP16",
    "outputId": "91aff056-b1c3-49dd-b512-c1959adbd10e"
   },
   "outputs": [
    {
     "name": "stdout",
     "output_type": "stream",
     "text": [
      "vocabulary mapped to 10248 vectors of size 300\n"
     ]
    },
    {
     "data": {
      "text/plain": [
       "(10248, 300)"
      ]
     },
     "execution_count": 52,
     "metadata": {},
     "output_type": "execute_result"
    }
   ],
   "source": [
    "y_embeddings = vocabulary_embeddings(y_vocabulary, glove_vectors)\n",
    "y_embeddings.shape"
   ]
  },
  {
   "cell_type": "markdown",
   "metadata": {
    "id": "fupZu-gHm1G4"
   },
   "source": [
    "# Seq2seq model implementation"
   ]
  },
  {
   "cell_type": "markdown",
   "metadata": {
    "id": "DoprwACinWS3"
   },
   "source": [
    "Example of basic seq2seq model, 1 unidirectional LSTM layer, Embedding layer without pretrained embeddings"
   ]
  },
  {
   "cell_type": "code",
   "execution_count": 53,
   "metadata": {
    "id": "W0kUCvbemUZv"
   },
   "outputs": [],
   "source": [
    "# Basic Seq2Seq\n",
    "# lstm_units = 250\n",
    "# embeddings_size = 300\n",
    "\n",
    "# ##------------ ENCODER (embeddings + lstm) -----------------------------##\n",
    "# x_in = layers.Input(name=\"x_in\", shape=(X_train.shape[1],))\n",
    "# ### embedding\n",
    "# layer_x_emb = layers.Embedding(name=\"x_emb\", input_dim=len(X_dic_vocabulary), output_dim=embeddings_size, \n",
    "#                                trainable=True)\n",
    "# x_emb = layer_x_emb(x_in)\n",
    "# ### lstm \n",
    "# layer_x_lstm = layers.LSTM(name=\"x_lstm\", units=lstm_units, dropout=0.4,  \n",
    "#                            return_sequences=True, return_state=True)\n",
    "# x_out, state_h, state_c = layer_x_lstm(x_emb)\n",
    "\n",
    "# ##------------ DECODER (embeddings + lstm + dense) ---------------------##\n",
    "# y_in = layers.Input(name=\"y_in\", shape=(None,))\n",
    "# ### embedding\n",
    "# layer_y_emb = layers.Embedding(name=\"y_emb\", input_dim=len(y_dic_vocabulary), output_dim=embeddings_size, \n",
    "#                                trainable=True)\n",
    "# y_emb = layer_y_emb(y_in)\n",
    "# ### lstm \n",
    "# layer_y_lstm = layers.LSTM(name=\"y_lstm\", units=lstm_units, dropout=0.4,\n",
    "#                            return_sequences=True, return_state=True)\n",
    "# y_out, _, _ = layer_y_lstm(y_emb, initial_state=[state_h, state_c])\n",
    "# ### final dense layers\n",
    "# layer_dense = layers.TimeDistributed(name=\"dense\", \n",
    "#                                      layer=layers.Dense(units=len(y_dic_vocabulary), activation='softmax'))\n",
    "# y_out = layer_dense(y_out)\n",
    "\n",
    "# ##---------------------------- COMPILE --------------------------------##\n",
    "# model = models.Model(inputs=[x_in, y_in], outputs=y_out, name=\"Seq2Seq\")\n",
    "# model.compile(optimizer='rmsprop', loss='sparse_categorical_crossentropy', metrics=['accuracy'])\n",
    "\n",
    "# model.summary()"
   ]
  },
  {
   "cell_type": "markdown",
   "metadata": {
    "id": "cj5aJKcvn1bS"
   },
   "source": [
    "Advanced model, 3 bidirectional LSTM layers, pretrained embedding using GloVe:\n",
    "\n",
    "\n",
    "TODO: Enable cudnn perhaps with recurrent dropout ? https://stackoverflow.com/questions/68844792/lstm-will-not-use-cudnn-kernels-since-it-doesnt-meet-the-criteria-it-will-use"
   ]
  },
  {
   "cell_type": "code",
   "execution_count": 54,
   "metadata": {
    "colab": {
     "base_uri": "https://localhost:8080/"
    },
    "id": "eYC-sgIen9q_",
    "outputId": "097486ca-0fc5-4dcc-9322-78785b009fa0"
   },
   "outputs": [
    {
     "name": "stdout",
     "output_type": "stream",
     "text": [
      "WARNING:tensorflow:Layer lstm_3 will not use cuDNN kernels since it doesn't meet the criteria. It will use a generic GPU kernel as fallback when running on GPU.\n",
      "WARNING:tensorflow:Layer lstm_3 will not use cuDNN kernels since it doesn't meet the criteria. It will use a generic GPU kernel as fallback when running on GPU.\n",
      "WARNING:tensorflow:Layer lstm_3 will not use cuDNN kernels since it doesn't meet the criteria. It will use a generic GPU kernel as fallback when running on GPU.\n",
      "WARNING:tensorflow:Layer lstm_4 will not use cuDNN kernels since it doesn't meet the criteria. It will use a generic GPU kernel as fallback when running on GPU.\n",
      "WARNING:tensorflow:Layer lstm_4 will not use cuDNN kernels since it doesn't meet the criteria. It will use a generic GPU kernel as fallback when running on GPU.\n",
      "WARNING:tensorflow:Layer lstm_4 will not use cuDNN kernels since it doesn't meet the criteria. It will use a generic GPU kernel as fallback when running on GPU.\n",
      "WARNING:tensorflow:Layer lstm_5 will not use cuDNN kernels since it doesn't meet the criteria. It will use a generic GPU kernel as fallback when running on GPU.\n",
      "WARNING:tensorflow:Layer lstm_5 will not use cuDNN kernels since it doesn't meet the criteria. It will use a generic GPU kernel as fallback when running on GPU.\n",
      "WARNING:tensorflow:Layer lstm_5 will not use cuDNN kernels since it doesn't meet the criteria. It will use a generic GPU kernel as fallback when running on GPU.\n",
      "WARNING:tensorflow:Layer y_lstm will not use cuDNN kernels since it doesn't meet the criteria. It will use a generic GPU kernel as fallback when running on GPU.\n",
      "WARNING:tensorflow:Detecting that an object or model or tf.train.Checkpoint is being deleted with unrestored values. See the following logs for the specific values in question. To silence these warnings, use `status.expect_partial()`. See https://www.tensorflow.org/api_docs/python/tf/train/Checkpoint#restorefor details about the status object returned by the restore function.\n",
      "WARNING:tensorflow:Value in checkpoint could not be found in the restored object: (root).optimizer._variables.1\n",
      "WARNING:tensorflow:Value in checkpoint could not be found in the restored object: (root).optimizer._variables.2\n",
      "WARNING:tensorflow:Value in checkpoint could not be found in the restored object: (root).optimizer._variables.3\n",
      "WARNING:tensorflow:Value in checkpoint could not be found in the restored object: (root).optimizer._variables.4\n",
      "WARNING:tensorflow:Value in checkpoint could not be found in the restored object: (root).optimizer._variables.5\n",
      "WARNING:tensorflow:Value in checkpoint could not be found in the restored object: (root).optimizer._variables.6\n",
      "WARNING:tensorflow:Value in checkpoint could not be found in the restored object: (root).optimizer._variables.7\n",
      "WARNING:tensorflow:Value in checkpoint could not be found in the restored object: (root).optimizer._variables.8\n",
      "WARNING:tensorflow:Value in checkpoint could not be found in the restored object: (root).optimizer._variables.9\n",
      "WARNING:tensorflow:Value in checkpoint could not be found in the restored object: (root).optimizer._variables.10\n",
      "WARNING:tensorflow:Value in checkpoint could not be found in the restored object: (root).optimizer._variables.11\n",
      "WARNING:tensorflow:Value in checkpoint could not be found in the restored object: (root).optimizer._variables.12\n",
      "WARNING:tensorflow:Value in checkpoint could not be found in the restored object: (root).optimizer._variables.13\n",
      "WARNING:tensorflow:Value in checkpoint could not be found in the restored object: (root).optimizer._variables.14\n",
      "WARNING:tensorflow:Value in checkpoint could not be found in the restored object: (root).optimizer._variables.15\n",
      "WARNING:tensorflow:Value in checkpoint could not be found in the restored object: (root).optimizer._variables.16\n",
      "WARNING:tensorflow:Value in checkpoint could not be found in the restored object: (root).optimizer._variables.17\n",
      "WARNING:tensorflow:Value in checkpoint could not be found in the restored object: (root).optimizer._variables.18\n",
      "WARNING:tensorflow:Value in checkpoint could not be found in the restored object: (root).optimizer._variables.19\n",
      "WARNING:tensorflow:Value in checkpoint could not be found in the restored object: (root).optimizer._variables.20\n",
      "WARNING:tensorflow:Value in checkpoint could not be found in the restored object: (root).optimizer._variables.21\n",
      "WARNING:tensorflow:Value in checkpoint could not be found in the restored object: (root).optimizer._variables.22\n",
      "WARNING:tensorflow:Value in checkpoint could not be found in the restored object: (root).optimizer._variables.23\n",
      "Model: \"Seq2Seq\"\n",
      "__________________________________________________________________________________________________\n",
      " Layer (type)                   Output Shape         Param #     Connected to                     \n",
      "==================================================================================================\n",
      " x_in (InputLayer)              [(None, 400)]        0           []                               \n",
      "                                                                                                  \n",
      " x_emb (Embedding)              (None, 400, 300)     12900000    ['x_in[0][0]']                   \n",
      "                                                                                                  \n",
      " x_lstm_1 (Bidirectional)       [(None, 400, 500),   1102000     ['x_emb[0][0]']                  \n",
      "                                 (None, 250),                                                     \n",
      "                                 (None, 250),                                                     \n",
      "                                 (None, 250),                                                     \n",
      "                                 (None, 250)]                                                     \n",
      "                                                                                                  \n",
      " x_lstm_2 (Bidirectional)       [(None, 400, 500),   1502000     ['x_lstm_1[0][0]']               \n",
      "                                 (None, 250),                                                     \n",
      "                                 (None, 250),                                                     \n",
      "                                 (None, 250),                                                     \n",
      "                                 (None, 250)]                                                     \n",
      "                                                                                                  \n",
      " y_in (InputLayer)              [(None, None)]       0           []                               \n",
      "                                                                                                  \n",
      " x_lstm_3 (Bidirectional)       [(None, 400, 500),   1502000     ['x_lstm_2[0][0]']               \n",
      "                                 (None, 250),                                                     \n",
      "                                 (None, 250),                                                     \n",
      "                                 (None, 250),                                                     \n",
      "                                 (None, 250)]                                                     \n",
      "                                                                                                  \n",
      " y_emb (Embedding)              (None, None, 300)    3074400     ['y_in[0][0]']                   \n",
      "                                                                                                  \n",
      " concatenate_2 (Concatenate)    (None, 500)          0           ['x_lstm_3[0][1]',               \n",
      "                                                                  'x_lstm_3[0][3]']               \n",
      "                                                                                                  \n",
      " concatenate_3 (Concatenate)    (None, 500)          0           ['x_lstm_3[0][2]',               \n",
      "                                                                  'x_lstm_3[0][4]']               \n",
      "                                                                                                  \n",
      " y_lstm (LSTM)                  [(None, None, 500),  1602000     ['y_emb[0][0]',                  \n",
      "                                 (None, 500),                     'concatenate_2[0][0]',          \n",
      "                                 (None, 500)]                     'concatenate_3[0][0]']          \n",
      "                                                                                                  \n",
      " dense (TimeDistributed)        (None, None, 10247)  5133747     ['y_lstm[0][0]']                 \n",
      "                                                                                                  \n",
      "==================================================================================================\n",
      "Total params: 26,816,147\n",
      "Trainable params: 10,841,747\n",
      "Non-trainable params: 15,974,400\n",
      "__________________________________________________________________________________________________\n"
     ]
    }
   ],
   "source": [
    "# Advanced Seq2Seq\n",
    "lstm_units = 250\n",
    "\n",
    "##------------ ENCODER (pre-trained embeddings + 3 bi-lstm) ---------------##\n",
    "x_in = keras.layers.Input(name=\"x_in\", shape=(X_train.shape[1],))\n",
    "### embedding\n",
    "layer_x_emb = keras.layers.Embedding(name=\"x_emb\", input_dim=X_embeddings.shape[0], output_dim=X_embeddings.shape[1], \n",
    "                               weights=[X_embeddings], trainable=False)\n",
    "x_emb = layer_x_emb(x_in)\n",
    "### bi-lstm 1\n",
    "layer_x_bilstm = keras.layers.Bidirectional(keras.layers.LSTM(units=lstm_units, dropout=0.4, recurrent_dropout=0.4,\n",
    "                                                  return_sequences=True, return_state=True), \n",
    "                                      name=\"x_lstm_1\")\n",
    "x_out, _, _, _, _ = layer_x_bilstm(x_emb)\n",
    "### bi-lstm 2\n",
    "layer_x_bilstm = keras.layers.Bidirectional(keras.layers.LSTM(units=lstm_units, dropout=0.4, recurrent_dropout=0.4,\n",
    "                                                  return_sequences=True, return_state=True),\n",
    "                                      name=\"x_lstm_2\")\n",
    "x_out, _, _, _, _ = layer_x_bilstm(x_out)\n",
    "### bi-lstm 3 (here final states are collected)\n",
    "layer_x_bilstm = keras.layers.Bidirectional(keras.layers.LSTM(units=lstm_units, dropout=0.4, recurrent_dropout=0.4, \n",
    "                                                  return_sequences=True, return_state=True),\n",
    "                                      name=\"x_lstm_3\")\n",
    "x_out, forward_h, forward_c, backward_h, backward_c = layer_x_bilstm(x_out)\n",
    "state_h = keras.layers.Concatenate()([forward_h, backward_h])\n",
    "state_c = keras.layers.Concatenate()([forward_c, backward_c])\n",
    "\n",
    "##------------ DECODER (pre-trained embeddings + lstm + dense) ------------##\n",
    "y_in = keras.layers.Input(name=\"y_in\", shape=(None,))\n",
    "### embedding\n",
    "layer_y_emb = keras.layers.Embedding(name=\"y_emb\", input_dim=y_embeddings.shape[0], output_dim=y_embeddings.shape[1], \n",
    "                               weights=[y_embeddings], trainable=False)\n",
    "y_emb = layer_y_emb(y_in)\n",
    "### lstm\n",
    "layer_y_lstm = keras.layers.LSTM(name=\"y_lstm\", units=lstm_units*2, dropout=0.2, recurrent_dropout=0.2,\n",
    "                           return_sequences=True, return_state=True)\n",
    "y_out, _, _ = layer_y_lstm(y_emb, initial_state=[state_h, state_c])\n",
    "### final dense layers\n",
    "layer_dense = keras.layers.TimeDistributed(name=\"dense\", \n",
    "                                     layer=keras.layers.Dense(units=len(y_vocabulary), activation='softmax'))\n",
    "y_out = layer_dense(y_out)\n",
    "\n",
    "##---------------------------- COMPILE ------------------------------------##\n",
    "model = keras.models.Model(inputs=[x_in, y_in], outputs=y_out, name=\"Seq2Seq\")\n",
    "model.compile(optimizer='rmsprop', loss='sparse_categorical_crossentropy')\n",
    "\n",
    "model.summary()"
   ]
  },
  {
   "cell_type": "markdown",
   "metadata": {
    "id": "DR-N5U61pkZa"
   },
   "source": [
    "# Model training"
   ]
  },
  {
   "cell_type": "code",
   "execution_count": 55,
   "metadata": {
    "id": "deh_GhVcoXjV"
   },
   "outputs": [],
   "source": [
    "def utils_plot_keras_training(training):\n",
    "    metrics = [k for k in training.history.keys() if (\"loss\" not in k) and (\"val\" not in k)]\n",
    "    fig, ax = plt.subplots(nrows=1, ncols=2, sharey=True, figsize=(15,3))\n",
    "    \n",
    "    ## training\n",
    "    ax[0].set(title=\"Training\")\n",
    "    ax11 = ax[0].twinx()\n",
    "    ax[0].plot(training.history['loss'], color='black')\n",
    "    ax[0].set_xlabel('Epochs')\n",
    "    ax[0].set_ylabel('Loss', color='black')\n",
    "    for metric in metrics:\n",
    "        ax11.plot(training.history[metric], label=metric)\n",
    "    ax11.set_ylabel(\"Score\", color='steelblue')\n",
    "    ax11.legend()\n",
    "    \n",
    "    ## validation\n",
    "    ax[1].set(title=\"Validation\")\n",
    "    ax22 = ax[1].twinx()\n",
    "    ax[1].plot(training.history['val_loss'], color='black')\n",
    "    ax[1].set_xlabel('Epochs')\n",
    "    ax[1].set_ylabel('Loss', color='black')\n",
    "    for metric in metrics:\n",
    "        ax22.plot(training.history['val_'+metric], label=metric)\n",
    "    ax22.set_ylabel(\"Score\", color=\"steelblue\")\n",
    "    plt.show()"
   ]
  },
  {
   "cell_type": "markdown",
   "metadata": {
    "id": "uRiXraQar10j"
   },
   "source": [
    "Load model if present"
   ]
  },
  {
   "cell_type": "code",
   "execution_count": 56,
   "metadata": {
    "colab": {
     "base_uri": "https://localhost:8080/"
    },
    "id": "DhqXIRGor3NE",
    "outputId": "e8b2f00c-c697-432f-b80d-5c6494bba117"
   },
   "outputs": [
    {
     "name": "stdout",
     "output_type": "stream",
     "text": [
      "Target path: model/checkpoint.hdf\n",
      "Loaded model weights checkpoint.\n"
     ]
    }
   ],
   "source": [
    "modeldir = 'model'\n",
    "checkpoint_filepath = modeldir + '/checkpoint.hdf'\n",
    "print('Target path:', checkpoint_filepath)\n",
    "\n",
    "model_checkpoint_callback = keras.callbacks.ModelCheckpoint(\n",
    "    filepath=checkpoint_filepath,\n",
    "    save_weights_only=True,\n",
    "    monitor='val_loss',\n",
    "    mode='min',\n",
    "    save_best_only=True\n",
    ")\n",
    "\n",
    "csv_logger=keras.callbacks.CSVLogger(modeldir + '/log.csv', separator=\",\", append=True)\n",
    "\n",
    "try:\n",
    "  model.load_weights(checkpoint_filepath)\n",
    "  print('Loaded model weights checkpoint.')\n",
    "except:\n",
    "  print('Cannot load model weights from checkpoint, it may not exist yet.')"
   ]
  },
  {
   "cell_type": "markdown",
   "metadata": {
    "id": "eoWoX0fbqLd3"
   },
   "source": [
    "Start training:"
   ]
  },
  {
   "cell_type": "code",
   "execution_count": 57,
   "metadata": {
    "colab": {
     "base_uri": "https://localhost:8080/",
     "height": 461
    },
    "id": "3A9U2Dkapopx",
    "outputId": "c1862175-fa5b-4321-c1e6-97cee06bc0c4"
   },
   "outputs": [],
   "source": [
    "TRAIN_ENABLED = False\n",
    "\n",
    "epochs = 100\n",
    "early_stopping = keras.callbacks.EarlyStopping(monitor='val_loss', mode='min', verbose=1, patience=2)\n",
    "\n",
    "if TRAIN_ENABLED:\n",
    "  print('Starting training...')\n",
    "  training = model.fit(\n",
    "      x=[X_train, y_train[:,:-1]],\n",
    "      y=y_train.reshape(y_train.shape[0], y_train.shape[1], 1)[:,1:],\n",
    "      batch_size=200,\n",
    "      epochs=epochs,\n",
    "      shuffle=True,\n",
    "      verbose=1,\n",
    "      validation_split=0.3,\n",
    "      callbacks=[early_stopping, model_checkpoint_callback, csv_logger]\n",
    "  )\n",
    "\n"
   ]
  },
  {
   "cell_type": "code",
   "execution_count": 58,
   "metadata": {
    "id": "fpbNa2ixqNGI"
   },
   "outputs": [],
   "source": [
    "if TRAIN_ENABLED:\n",
    "  utils_plot_keras_training(training)"
   ]
  },
  {
   "cell_type": "markdown",
   "metadata": {
    "id": "DHhEorLgtcV7"
   },
   "source": [
    "# Model evaluation"
   ]
  },
  {
   "cell_type": "markdown",
   "metadata": {
    "id": "SWtii6klteNT"
   },
   "source": [
    "### Prediction model"
   ]
  },
  {
   "cell_type": "code",
   "execution_count": 59,
   "metadata": {
    "colab": {
     "base_uri": "https://localhost:8080/"
    },
    "id": "Ds3TNzTCtsVq",
    "outputId": "841c99e8-5211-4686-d923-ba005c61e83a"
   },
   "outputs": [
    {
     "name": "stdout",
     "output_type": "stream",
     "text": [
      "Model: \"Prediction_Encoder\"\n",
      "__________________________________________________________________________________________________\n",
      " Layer (type)                   Output Shape         Param #     Connected to                     \n",
      "==================================================================================================\n",
      " x_in (InputLayer)              [(None, 400)]        0           []                               \n",
      "                                                                                                  \n",
      " x_emb (Embedding)              (None, 400, 300)     12900000    ['x_in[0][0]']                   \n",
      "                                                                                                  \n",
      " x_lstm_1 (Bidirectional)       [(None, 400, 500),   1102000     ['x_emb[0][0]']                  \n",
      "                                 (None, 250),                                                     \n",
      "                                 (None, 250),                                                     \n",
      "                                 (None, 250),                                                     \n",
      "                                 (None, 250)]                                                     \n",
      "                                                                                                  \n",
      " x_lstm_2 (Bidirectional)       [(None, 400, 500),   1502000     ['x_lstm_1[0][0]']               \n",
      "                                 (None, 250),                                                     \n",
      "                                 (None, 250),                                                     \n",
      "                                 (None, 250),                                                     \n",
      "                                 (None, 250)]                                                     \n",
      "                                                                                                  \n",
      " x_lstm_3 (Bidirectional)       [(None, 400, 500),   1502000     ['x_lstm_2[0][0]']               \n",
      "                                 (None, 250),                                                     \n",
      "                                 (None, 250),                                                     \n",
      "                                 (None, 250),                                                     \n",
      "                                 (None, 250)]                                                     \n",
      "                                                                                                  \n",
      " concatenate_2 (Concatenate)    (None, 500)          0           ['x_lstm_3[0][1]',               \n",
      "                                                                  'x_lstm_3[0][3]']               \n",
      "                                                                                                  \n",
      " concatenate_3 (Concatenate)    (None, 500)          0           ['x_lstm_3[0][2]',               \n",
      "                                                                  'x_lstm_3[0][4]']               \n",
      "                                                                                                  \n",
      "==================================================================================================\n",
      "Total params: 17,006,000\n",
      "Trainable params: 4,106,000\n",
      "Non-trainable params: 12,900,000\n",
      "__________________________________________________________________________________________________\n"
     ]
    }
   ],
   "source": [
    "# Prediction Encoder\n",
    "encoder_model = keras.models.Model(inputs=x_in, outputs=[x_out, state_h, state_c], name=\"Prediction_Encoder\")\n",
    "encoder_model.summary()"
   ]
  },
  {
   "cell_type": "code",
   "execution_count": 60,
   "metadata": {
    "colab": {
     "base_uri": "https://localhost:8080/"
    },
    "id": "_I5SChBytdFL",
    "outputId": "c2541a85-44d6-4b9d-8f48-0cda5cb0e60b"
   },
   "outputs": [
    {
     "name": "stdout",
     "output_type": "stream",
     "text": [
      "Model: \"Prediction_Decoder\"\n",
      "__________________________________________________________________________________________________\n",
      " Layer (type)                   Output Shape         Param #     Connected to                     \n",
      "==================================================================================================\n",
      " y_in (InputLayer)              [(None, None)]       0           []                               \n",
      "                                                                                                  \n",
      " y_emb (Embedding)              (None, None, 300)    3074400     ['y_in[0][0]']                   \n",
      "                                                                                                  \n",
      " input_5 (InputLayer)           [(None, 500)]        0           []                               \n",
      "                                                                                                  \n",
      " input_6 (InputLayer)           [(None, 500)]        0           []                               \n",
      "                                                                                                  \n",
      " y_lstm (LSTM)                  [(None, None, 500),  1602000     ['y_emb[1][0]',                  \n",
      "                                 (None, 500),                     'input_5[0][0]',                \n",
      "                                 (None, 500)]                     'input_6[0][0]']                \n",
      "                                                                                                  \n",
      " input_4 (InputLayer)           [(None, 400, 500)]   0           []                               \n",
      "                                                                                                  \n",
      " dense (TimeDistributed)        (None, None, 10247)  5133747     ['y_lstm[1][0]']                 \n",
      "                                                                                                  \n",
      "==================================================================================================\n",
      "Total params: 9,810,147\n",
      "Trainable params: 6,735,747\n",
      "Non-trainable params: 3,074,400\n",
      "__________________________________________________________________________________________________\n"
     ]
    }
   ],
   "source": [
    "# Prediction Decoder\n",
    "## double the lstm units if you used bidirectional lstm\n",
    "# lstm_units = lstm_units*2 if any(\"Bidirectional\" in str(layer) for layer in model.layers) else lstm_units\n",
    "lstm_units = 500\n",
    "\n",
    "## states of the previous time step\n",
    "x_out2 = keras.layers.Input(shape=(X_train.shape[1], lstm_units))\n",
    "state_h, state_c = keras.layers.Input(shape=(lstm_units,)), keras.layers.Input(shape=(lstm_units,))\n",
    "\n",
    "## decoder embeddings\n",
    "y_emb2 = layer_y_emb(y_in)\n",
    "\n",
    "## lstm to predict the next word\n",
    "y_out2, new_state_h, new_state_c = layer_y_lstm(y_emb2, initial_state=[state_h, state_c])\n",
    "\n",
    "## softmax to generate probability distribution over the target vocabulary\n",
    "probs = layer_dense(y_out2)\n",
    "\n",
    "## compile\n",
    "decoder_model = keras.models.Model(inputs=[y_in, x_out2, state_h, state_c], \n",
    "                             outputs=[probs, new_state_h, new_state_c],\n",
    "                             name=\"Prediction_Decoder\")\n",
    "decoder_model.summary()\n"
   ]
  },
  {
   "cell_type": "markdown",
   "metadata": {
    "id": "tqC_JbyYueYS"
   },
   "source": [
    "# Sequence prediction"
   ]
  },
  {
   "cell_type": "code",
   "execution_count": 61,
   "metadata": {
    "id": "r6BY_JsitthA"
   },
   "outputs": [
    {
     "name": "stdout",
     "output_type": "stream",
     "text": [
      "<START> labor day unofficial end summer unofficial start campaign season much 34 billion could spent advertising midterm election five mustfollow race midterm <END>\n",
      "1/1 [==============================] - 2s 2s/step\n",
      "1/1 [==============================] - 0s 184ms/step\n",
      "republican\n",
      "1/1 [==============================] - 0s 22ms/step\n",
      "romney\n",
      "1/1 [==============================] - 0s 21ms/step\n",
      "campaign\n",
      "1/1 [==============================] - 0s 21ms/step\n",
      "campaign\n",
      "1/1 [==============================] - 0s 21ms/step\n"
     ]
    },
    {
     "ename": "KeyError",
     "evalue": "0",
     "output_type": "error",
     "traceback": [
      "\u001b[0;31m---------------------------------------------------------------------------\u001b[0m",
      "\u001b[0;31mKeyError\u001b[0m                                  Traceback (most recent call last)",
      "Cell \u001b[0;32mIn[61], line 60\u001b[0m\n\u001b[1;32m     57\u001b[0m \u001b[38;5;28mprint\u001b[39m(df_test\u001b[38;5;241m.\u001b[39mloc[i, \u001b[38;5;124m'\u001b[39m\u001b[38;5;124my_clean\u001b[39m\u001b[38;5;124m'\u001b[39m])\n\u001b[1;32m     59\u001b[0m \u001b[38;5;66;03m# predict test set\u001b[39;00m\n\u001b[0;32m---> 60\u001b[0m predicted \u001b[38;5;241m=\u001b[39m \u001b[43mpredict_seq2seq\u001b[49m\u001b[43m(\u001b[49m\u001b[43mX_test\u001b[49m\u001b[43m[\u001b[49m\u001b[43mi\u001b[49m\u001b[43m:\u001b[49m\u001b[43mi\u001b[49m\u001b[38;5;241;43m+\u001b[39;49m\u001b[38;5;241;43m1\u001b[39;49m\u001b[43m]\u001b[49m\u001b[43m,\u001b[49m\u001b[43m \u001b[49m\u001b[43mencoder_model\u001b[49m\u001b[43m,\u001b[49m\u001b[43m \u001b[49m\u001b[43mdecoder_model\u001b[49m\u001b[43m,\u001b[49m\u001b[43m \u001b[49m\u001b[43my_tokenizer\u001b[49m\u001b[43m,\u001b[49m\u001b[43m \u001b[49m\u001b[43mspecial_tokens\u001b[49m\u001b[43m)\u001b[49m\n\u001b[1;32m     61\u001b[0m predicted\n",
      "Cell \u001b[0;32mIn[61], line 37\u001b[0m, in \u001b[0;36mpredict_seq2seq\u001b[0;34m(X_test, encoder_model, decoder_model, fitted_tokenizer, special_tokens)\u001b[0m\n\u001b[1;32m     33\u001b[0m \u001b[38;5;66;03m## get predicted word\u001b[39;00m\n\u001b[1;32m     35\u001b[0m voc_idx \u001b[38;5;241m=\u001b[39m np\u001b[38;5;241m.\u001b[39margmax(probs[\u001b[38;5;241m0\u001b[39m,\u001b[38;5;241m-\u001b[39m\u001b[38;5;241m1\u001b[39m,:])\n\u001b[0;32m---> 37\u001b[0m pred_word \u001b[38;5;241m=\u001b[39m \u001b[43mfitted_tokenizer\u001b[49m\u001b[38;5;241;43m.\u001b[39;49m\u001b[43mindex_word\u001b[49m\u001b[43m[\u001b[49m\u001b[43mvoc_idx\u001b[49m\u001b[43m]\u001b[49m\n\u001b[1;32m     39\u001b[0m \u001b[38;5;28mprint\u001b[39m(pred_word)\n\u001b[1;32m     41\u001b[0m \u001b[38;5;66;03m## check stop\u001b[39;00m\n",
      "\u001b[0;31mKeyError\u001b[0m: 0"
     ]
    }
   ],
   "source": [
    "'''\n",
    "Predicts text sequences.\n",
    ":parameter\n",
    "    :param x: array - sequence of shape (n x max_seq_lenght)\n",
    "    :param encoder_model: keras model - input: x\n",
    "                                        output: [(1, max_seq_lenght, lstm_units), state_h, state_c]\n",
    "    :param decoder_model: keras model - input: [1 word idx, encoder output, state_h (1 x lstm_units), state_c (1 x lstm_units)] \n",
    "                                        output: [probs, new_state_h, new_state_c]\n",
    "    :param fitted_tokenizer: fitted tokenizer to convert predicted idx in words\n",
    "    :param special_tokens: tuple - start-of-seq token and end-of-seq token\n",
    ":return\n",
    "    list of predicted text\n",
    "'''\n",
    "def predict_seq2seq(X_test, encoder_model, decoder_model, fitted_tokenizer, special_tokens=(\"<START>\",\"<END>\")):\n",
    "    max_seq_lenght = X_test.shape[1]\n",
    "    predicted = []\n",
    "    for x in X_test:\n",
    "        x = x.reshape(1,-1)\n",
    "\n",
    "        ## encode X\n",
    "        x_out, state_h, state_c = encoder_model.predict(x)\n",
    "\n",
    "        ## prepare loop\n",
    "        y_in = np.array([fitted_tokenizer.word_index[special_tokens[0]]])\n",
    "        y_in2 = y_in.reshape(y_in.shape + (1,))\n",
    "        \n",
    "        predicted_text = \"\"\n",
    "        stop = False\n",
    "\n",
    "        while not stop:\n",
    "            ## predict dictionary probability distribution\n",
    "            probs, new_state_h, new_state_c = decoder_model.predict([y_in2, x_out, state_h, state_c])\n",
    "            ## get predicted word\n",
    "            \n",
    "            voc_idx = np.argmax(probs[0,-1,:])\n",
    "            \n",
    "            pred_word = fitted_tokenizer.index_word[voc_idx]\n",
    "            \n",
    "            print(pred_word)\n",
    "            \n",
    "            ## check stop\n",
    "            if (pred_word != special_tokens[1]) and (len(predicted_text.split()) < max_seq_lenght):\n",
    "                predicted_text = predicted_text +\" \"+ pred_word\n",
    "            else:\n",
    "                stop = True\n",
    "            ## next\n",
    "            y_in = np.array([voc_idx])\n",
    "            state_h, state_c = new_state_h, new_state_c\n",
    "\n",
    "        predicted_text = predicted_text.replace(special_tokens[0],\"\").strip()\n",
    "        predicted.append(predicted_text)\n",
    "\n",
    "    return predicted\n",
    "\n",
    "i = 7\n",
    "\n",
    "print(df_test.loc[i, 'y_clean'])\n",
    "\n",
    "# predict test set\n",
    "predicted = predict_seq2seq(X_test[i:i+1], encoder_model, decoder_model, y_tokenizer, special_tokens)\n",
    "predicted"
   ]
  },
  {
   "cell_type": "code",
   "execution_count": 64,
   "metadata": {},
   "outputs": [
    {
     "name": "stderr",
     "output_type": "stream",
     "text": [
      "No model was supplied, defaulted to t5-small and revision d769bba (https://huggingface.co/t5-small).\n",
      "Using a pipeline without specifying a model name and revision in production is not recommended.\n"
     ]
    },
    {
     "data": {
      "application/vnd.jupyter.widget-view+json": {
       "model_id": "3383a61250e9473fae8c6b7082e09e5b",
       "version_major": 2,
       "version_minor": 0
      },
      "text/plain": [
       "Downloading (…)lve/main/config.json:   0%|          | 0.00/1.21k [00:00<?, ?B/s]"
      ]
     },
     "metadata": {},
     "output_type": "display_data"
    },
    {
     "data": {
      "application/vnd.jupyter.widget-view+json": {
       "model_id": "1d4c557f5d784a81bacac79229acce78",
       "version_major": 2,
       "version_minor": 0
      },
      "text/plain": [
       "Downloading (…)\"tf_model.h5\";:   0%|          | 0.00/242M [00:00<?, ?B/s]"
      ]
     },
     "metadata": {},
     "output_type": "display_data"
    },
    {
     "name": "stderr",
     "output_type": "stream",
     "text": [
      "All model checkpoint layers were used when initializing TFT5ForConditionalGeneration.\n",
      "\n",
      "All the layers of TFT5ForConditionalGeneration were initialized from the model checkpoint at t5-small.\n",
      "If your task is similar to the task the model of the checkpoint was trained on, you can already use TFT5ForConditionalGeneration for predictions without further training.\n"
     ]
    },
    {
     "data": {
      "application/vnd.jupyter.widget-view+json": {
       "model_id": "946c63eca5a542e799c4e456c01e9388",
       "version_major": 2,
       "version_minor": 0
      },
      "text/plain": [
       "Downloading (…)neration_config.json:   0%|          | 0.00/147 [00:00<?, ?B/s]"
      ]
     },
     "metadata": {},
     "output_type": "display_data"
    },
    {
     "data": {
      "application/vnd.jupyter.widget-view+json": {
       "model_id": "2184d67dc02d4da399c7cb1b354a5a6a",
       "version_major": 2,
       "version_minor": 0
      },
      "text/plain": [
       "Downloading (…)ve/main/spiece.model:   0%|          | 0.00/792k [00:00<?, ?B/s]"
      ]
     },
     "metadata": {},
     "output_type": "display_data"
    },
    {
     "data": {
      "application/vnd.jupyter.widget-view+json": {
       "model_id": "f5a8f740c21f40839aa57a3389c62999",
       "version_major": 2,
       "version_minor": 0
      },
      "text/plain": [
       "Downloading (…)/main/tokenizer.json:   0%|          | 0.00/1.39M [00:00<?, ?B/s]"
      ]
     },
     "metadata": {},
     "output_type": "display_data"
    },
    {
     "name": "stderr",
     "output_type": "stream",
     "text": [
      "Your max_length is set to 40, but you input_length is only 16. You might consider decreasing max_length manually, e.g. summarizer('...', max_length=8)\n",
      "2023-01-27 08:19:04.392172: I tensorflow/compiler/xla/service/service.cc:173] XLA service 0x35b4c5d0 initialized for platform Host (this does not guarantee that XLA will be used). Devices:\n",
      "2023-01-27 08:19:04.392214: I tensorflow/compiler/xla/service/service.cc:181]   StreamExecutor device (0): Host, Default Version\n",
      "2023-01-27 08:19:04.398217: I tensorflow/compiler/mlir/tensorflow/utils/dump_mlir_util.cc:268] disabling MLIR crash reproducer, set env var `MLIR_CRASH_REPRODUCER_DIRECTORY` to enable.\n",
      "2023-01-27 08:19:04.421899: I tensorflow/compiler/jit/xla_compilation_cache.cc:477] Compiled cluster using XLA!  This line is logged at most once for the lifetime of the process.\n",
      "Your max_length is set to 40, but you input_length is only 20. You might consider decreasing max_length manually, e.g. summarizer('...', max_length=10)\n",
      "Your max_length is set to 40, but you input_length is only 15. You might consider decreasing max_length manually, e.g. summarizer('...', max_length=7)\n",
      "Your max_length is set to 40, but you input_length is only 14. You might consider decreasing max_length manually, e.g. summarizer('...', max_length=7)\n",
      "Your max_length is set to 40, but you input_length is only 14. You might consider decreasing max_length manually, e.g. summarizer('...', max_length=7)\n",
      "Your max_length is set to 40, but you input_length is only 14. You might consider decreasing max_length manually, e.g. summarizer('...', max_length=7)\n",
      "Your max_length is set to 40, but you input_length is only 15. You might consider decreasing max_length manually, e.g. summarizer('...', max_length=7)\n",
      "Your max_length is set to 40, but you input_length is only 12. You might consider decreasing max_length manually, e.g. summarizer('...', max_length=6)\n",
      "Your max_length is set to 40, but you input_length is only 15. You might consider decreasing max_length manually, e.g. summarizer('...', max_length=7)\n",
      "Your max_length is set to 40, but you input_length is only 13. You might consider decreasing max_length manually, e.g. summarizer('...', max_length=6)\n",
      "Your max_length is set to 40, but you input_length is only 16. You might consider decreasing max_length manually, e.g. summarizer('...', max_length=8)\n"
     ]
    },
    {
     "data": {
      "text/plain": [
       "[\"it's official: president obama's inauguration will be held in the u.s. on thursday.\",\n",
       " 'usain Bolt rounded off the worl. he is ranked second in the u.s. rankings.',\n",
       " 'the Gener was born in the u.s. at the age of 18. he was a member of the olympics.',\n",
       " 'a medical doctor in los angeles is a doctor in the u.s. he has been in the medical field for a few years.',\n",
       " 'another teen is arrested by police. he was arrested on suspicion of aggravated burglary. the teen was a teen in the u.s.',\n",
       " \"Thousands of people flee the city on saturday. cnn's john mccain says he's not the only one.\",\n",
       " 'four groups advocate for iraq. group: iran, syria, egypt, u.s..',\n",
       " \"Während Labor Day is the unofficial end of the year, there are no official deadlines for the end of this year's Labor Day.\",\n",
       " 'an italian humanitarism is the most important humanitarian humanitarianism in the world. it is the largest humanitar organization in the u.s.',\n",
       " 'radio personality Casey is a renommated radio personality. he was a member of a radio network based in the u.s.',\n",
       " \"if you travel by plane and arri, you'll be able to travel by avion and by arrior.\"]"
      ]
     },
     "execution_count": 64,
     "metadata": {},
     "output_type": "execute_result"
    }
   ],
   "source": [
    "'''\n",
    "Summarizes corpus with Bart.\n",
    ":parameter\n",
    "    :param corpus: list - dtf[\"text\"]\n",
    "    :param max_len: length of the summary\n",
    ":return\n",
    "    list of summaries\n",
    "'''\n",
    "def bart_pipe(corpus, max_len):\n",
    "    nlp = transformers.pipeline(\"summarization\")\n",
    "    lst_summaries = [nlp(txt[:max_len], max_length=max_len\n",
    "                        )[0][\"summary_text\"].replace(\" .\", \".\")\n",
    "                     for txt in corpus]\n",
    "    return lst_summaries\n",
    "\n",
    "predicted = bart_pipe(corpus=df_test[\"text\"], max_len=y_len)\n",
    "predicted"
   ]
  },
  {
   "cell_type": "code",
   "execution_count": null,
   "metadata": {},
   "outputs": [],
   "source": []
  }
 ],
 "metadata": {
  "accelerator": "GPU",
  "colab": {
   "provenance": [],
   "toc_visible": true
  },
  "gpuClass": "standard",
  "kernelspec": {
   "display_name": "Python 3 (ipykernel)",
   "language": "python",
   "name": "python3"
  },
  "language_info": {
   "codemirror_mode": {
    "name": "ipython",
    "version": 3
   },
   "file_extension": ".py",
   "mimetype": "text/x-python",
   "name": "python",
   "nbconvert_exporter": "python",
   "pygments_lexer": "ipython3",
   "version": "3.8.10"
  }
 },
 "nbformat": 4,
 "nbformat_minor": 1
}
