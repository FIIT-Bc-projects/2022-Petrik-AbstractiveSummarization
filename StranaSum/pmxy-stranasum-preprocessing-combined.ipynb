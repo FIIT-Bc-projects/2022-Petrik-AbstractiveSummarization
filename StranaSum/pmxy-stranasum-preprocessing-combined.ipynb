{
 "cells": [
  {
   "cell_type": "markdown",
   "id": "5f59d80b",
   "metadata": {
    "papermill": {
     "duration": 0.008116,
     "end_time": "2023-04-28T09:01:24.880451",
     "exception": false,
     "start_time": "2023-04-28T09:01:24.872335",
     "status": "completed"
    },
    "tags": []
   },
   "source": [
    "# Sebastian Petrik - Abstractive summarization - Data preparation and preprocessing"
   ]
  },
  {
   "cell_type": "markdown",
   "id": "54e03b62",
   "metadata": {
    "papermill": {
     "duration": 0.006418,
     "end_time": "2023-04-28T09:01:24.893887",
     "exception": false,
     "start_time": "2023-04-28T09:01:24.887469",
     "status": "completed"
    },
    "tags": []
   },
   "source": [
    "Datasets preprocessing, train-validation-test split, output as prepared frame with special tokens, ready for tokenization and training / inference / evaluation."
   ]
  },
  {
   "cell_type": "markdown",
   "id": "b2b25cff",
   "metadata": {
    "papermill": {
     "duration": 0.006167,
     "end_time": "2023-04-28T09:01:24.906630",
     "exception": false,
     "start_time": "2023-04-28T09:01:24.900463",
     "status": "completed"
    },
    "tags": []
   },
   "source": [
    "## Setup"
   ]
  },
  {
   "cell_type": "code",
   "execution_count": 1,
   "id": "9ea18ca2",
   "metadata": {
    "execution": {
     "iopub.execute_input": "2023-04-28T09:01:24.923242Z",
     "iopub.status.busy": "2023-04-28T09:01:24.922297Z",
     "iopub.status.idle": "2023-04-28T09:01:24.935842Z",
     "shell.execute_reply": "2023-04-28T09:01:24.934310Z"
    },
    "papermill": {
     "duration": 0.025959,
     "end_time": "2023-04-28T09:01:24.939065",
     "exception": false,
     "start_time": "2023-04-28T09:01:24.913106",
     "status": "completed"
    },
    "tags": []
   },
   "outputs": [],
   "source": [
    "# seed for random generators\n",
    "SEED = 42"
   ]
  },
  {
   "cell_type": "code",
   "execution_count": 2,
   "id": "4215a397",
   "metadata": {
    "execution": {
     "iopub.execute_input": "2023-04-28T09:01:24.954917Z",
     "iopub.status.busy": "2023-04-28T09:01:24.954481Z",
     "iopub.status.idle": "2023-04-28T09:01:38.122862Z",
     "shell.execute_reply": "2023-04-28T09:01:38.121299Z"
    },
    "papermill": {
     "duration": 13.180182,
     "end_time": "2023-04-28T09:01:38.126357",
     "exception": false,
     "start_time": "2023-04-28T09:01:24.946175",
     "status": "completed"
    },
    "tags": []
   },
   "outputs": [
    {
     "name": "stdout",
     "output_type": "stream",
     "text": [
      "\u001b[33mWARNING: Running pip as the 'root' user can result in broken permissions and conflicting behaviour with the system package manager. It is recommended to use a virtual environment instead: https://pip.pypa.io/warnings/venv\u001b[0m\u001b[33m\r\n",
      "\u001b[0m"
     ]
    }
   ],
   "source": [
    "!pip install openpyxl contractions --quiet"
   ]
  },
  {
   "cell_type": "code",
   "execution_count": 3,
   "id": "fd1d68c5",
   "metadata": {
    "execution": {
     "iopub.execute_input": "2023-04-28T09:01:38.142882Z",
     "iopub.status.busy": "2023-04-28T09:01:38.142410Z",
     "iopub.status.idle": "2023-04-28T09:01:38.149288Z",
     "shell.execute_reply": "2023-04-28T09:01:38.148039Z"
    },
    "papermill": {
     "duration": 0.018669,
     "end_time": "2023-04-28T09:01:38.152245",
     "exception": false,
     "start_time": "2023-04-28T09:01:38.133576",
     "status": "completed"
    },
    "tags": []
   },
   "outputs": [
    {
     "name": "stdout",
     "output_type": "stream",
     "text": [
      "kaggle_1VJ8ixEbmjAncFadHsFxKPPDu6DDpveG13BW3Gl6mQ-127548700-webtier\n"
     ]
    }
   ],
   "source": [
    "import os\n",
    "print(os.environ.get('KAGGLE_CONTAINER_NAME')) # check if kaggle"
   ]
  },
  {
   "cell_type": "code",
   "execution_count": 4,
   "id": "99ae579a",
   "metadata": {
    "execution": {
     "iopub.execute_input": "2023-04-28T09:01:38.169040Z",
     "iopub.status.busy": "2023-04-28T09:01:38.168139Z",
     "iopub.status.idle": "2023-04-28T09:01:38.182728Z",
     "shell.execute_reply": "2023-04-28T09:01:38.181365Z"
    },
    "papermill": {
     "duration": 0.026089,
     "end_time": "2023-04-28T09:01:38.185524",
     "exception": false,
     "start_time": "2023-04-28T09:01:38.159435",
     "status": "completed"
    },
    "tags": []
   },
   "outputs": [
    {
     "data": {
      "text/plain": [
       "[('keras', '2.11.0'),\n",
       " ('numpy', '1.21.6'),\n",
       " ('pandas', '1.3.5'),\n",
       " ('tensorflow', '2.11.0'),\n",
       " ('tensorflow-datasets', '4.8.2'),\n",
       " ('tensorflow-estimator', '2.11.0'),\n",
       " ('tensorflow-text', '2.11.0')]"
      ]
     },
     "execution_count": 4,
     "metadata": {},
     "output_type": "execute_result"
    }
   ],
   "source": [
    "import pkg_resources\n",
    "sorted(list(filter(\n",
    "    lambda x: x[0] in ['numpy', 'pandas', 'tensorflow', 'tensorflow-text', 'keras', 'tensorflow-estimator', 'tensorflow-datasets', 'contractions'],\n",
    "    [(i.key, i.version) for i in pkg_resources.working_set]\n",
    ")))"
   ]
  },
  {
   "cell_type": "code",
   "execution_count": 5,
   "id": "2d519690",
   "metadata": {
    "execution": {
     "iopub.execute_input": "2023-04-28T09:01:38.202224Z",
     "iopub.status.busy": "2023-04-28T09:01:38.201611Z",
     "iopub.status.idle": "2023-04-28T09:01:55.435414Z",
     "shell.execute_reply": "2023-04-28T09:01:55.433496Z"
    },
    "papermill": {
     "duration": 17.247686,
     "end_time": "2023-04-28T09:01:55.440357",
     "exception": false,
     "start_time": "2023-04-28T09:01:38.192671",
     "status": "completed"
    },
    "tags": []
   },
   "outputs": [],
   "source": [
    "# Imports\n",
    "import numpy as np\n",
    "import matplotlib.pyplot as plt\n",
    "import seaborn as sns\n",
    "import pandas as pd\n",
    "from collections import defaultdict\n",
    "import string\n",
    "import tensorflow as tf\n",
    "import re\n",
    "import os\n",
    "import time\n",
    "from tensorflow import keras\n",
    "from tensorflow.keras.layers import Dense, Input\n",
    "from tensorflow.keras.optimizers import Adam\n",
    "from tensorflow.keras.models import Model\n",
    "from tensorflow.keras.callbacks import ModelCheckpoint\n",
    "from sklearn.preprocessing import OneHotEncoder\n",
    "from sklearn.model_selection import train_test_split\n",
    "import operator as op\n",
    "import spacy\n",
    "import contractions"
   ]
  },
  {
   "cell_type": "markdown",
   "id": "7caf5963",
   "metadata": {
    "papermill": {
     "duration": 0.007352,
     "end_time": "2023-04-28T09:01:55.458055",
     "exception": false,
     "start_time": "2023-04-28T09:01:55.450703",
     "status": "completed"
    },
    "tags": []
   },
   "source": [
    "## Data loading"
   ]
  },
  {
   "cell_type": "code",
   "execution_count": 6,
   "id": "2b8dfef1",
   "metadata": {
    "execution": {
     "iopub.execute_input": "2023-04-28T09:01:55.478354Z",
     "iopub.status.busy": "2023-04-28T09:01:55.477124Z",
     "iopub.status.idle": "2023-04-28T09:01:58.812448Z",
     "shell.execute_reply": "2023-04-28T09:01:58.810741Z"
    },
    "papermill": {
     "duration": 3.349782,
     "end_time": "2023-04-28T09:01:58.815493",
     "exception": false,
     "start_time": "2023-04-28T09:01:55.465711",
     "status": "completed"
    },
    "tags": []
   },
   "outputs": [
    {
     "name": "stdout",
     "output_type": "stream",
     "text": [
      "inshorts-news-data  news-summarization\r\n",
      "'Inshorts Cleaned Data.xlsx'\r\n",
      "data.csv\r\n"
     ]
    }
   ],
   "source": [
    "# show available data\n",
    "!ls ../input\n",
    "!ls ../input/inshorts-news-data\n",
    "!ls ../input/news-summarization"
   ]
  },
  {
   "cell_type": "code",
   "execution_count": 7,
   "id": "2772cd48",
   "metadata": {
    "execution": {
     "iopub.execute_input": "2023-04-28T09:01:58.833470Z",
     "iopub.status.busy": "2023-04-28T09:01:58.832991Z",
     "iopub.status.idle": "2023-04-28T09:02:08.003947Z",
     "shell.execute_reply": "2023-04-28T09:02:08.002530Z"
    },
    "papermill": {
     "duration": 9.183483,
     "end_time": "2023-04-28T09:02:08.006790",
     "exception": false,
     "start_time": "2023-04-28T09:01:58.823307",
     "status": "completed"
    },
    "tags": []
   },
   "outputs": [
    {
     "data": {
      "text/html": [
       "<div>\n",
       "<style scoped>\n",
       "    .dataframe tbody tr th:only-of-type {\n",
       "        vertical-align: middle;\n",
       "    }\n",
       "\n",
       "    .dataframe tbody tr th {\n",
       "        vertical-align: top;\n",
       "    }\n",
       "\n",
       "    .dataframe thead th {\n",
       "        text-align: right;\n",
       "    }\n",
       "</style>\n",
       "<table border=\"1\" class=\"dataframe\">\n",
       "  <thead>\n",
       "    <tr style=\"text-align: right;\">\n",
       "      <th></th>\n",
       "      <th>Headline</th>\n",
       "      <th>Short</th>\n",
       "    </tr>\n",
       "  </thead>\n",
       "  <tbody>\n",
       "    <tr>\n",
       "      <th>0</th>\n",
       "      <td>4 ex-bank officials booked for cheating bank o...</td>\n",
       "      <td>The CBI on Saturday booked four former officia...</td>\n",
       "    </tr>\n",
       "    <tr>\n",
       "      <th>1</th>\n",
       "      <td>Supreme Court to go paperless in 6 months: CJI</td>\n",
       "      <td>Chief Justice JS Khehar has said the Supreme C...</td>\n",
       "    </tr>\n",
       "    <tr>\n",
       "      <th>2</th>\n",
       "      <td>At least 3 killed, 30 injured in blast in Sylh...</td>\n",
       "      <td>At least three people were killed, including a...</td>\n",
       "    </tr>\n",
       "    <tr>\n",
       "      <th>3</th>\n",
       "      <td>Why has Reliance been barred from trading in f...</td>\n",
       "      <td>Mukesh Ambani-led Reliance Industries (RIL) wa...</td>\n",
       "    </tr>\n",
       "    <tr>\n",
       "      <th>4</th>\n",
       "      <td>Was stopped from entering my own studio at Tim...</td>\n",
       "      <td>TV news anchor Arnab Goswami has said he was t...</td>\n",
       "    </tr>\n",
       "    <tr>\n",
       "      <th>...</th>\n",
       "      <td>...</td>\n",
       "      <td>...</td>\n",
       "    </tr>\n",
       "    <tr>\n",
       "      <th>55099</th>\n",
       "      <td>Sensex loses 400 points to hit 52-week low</td>\n",
       "      <td>Tracking weak cues from the Asian markets, the...</td>\n",
       "    </tr>\n",
       "    <tr>\n",
       "      <th>55100</th>\n",
       "      <td>China to inject $91 bn into the money markets</td>\n",
       "      <td>Amid growing concerns about China&amp;#39;s econom...</td>\n",
       "    </tr>\n",
       "    <tr>\n",
       "      <th>55101</th>\n",
       "      <td>Ghulam Ali set to make acting debut in Bollywood</td>\n",
       "      <td>Pakistani Ghazal singer Ghulam Ali will soon m...</td>\n",
       "    </tr>\n",
       "    <tr>\n",
       "      <th>55102</th>\n",
       "      <td>IS acknowledges death of Jihadi John: Report</td>\n",
       "      <td>The Islamic State (IS) has acknowledged the de...</td>\n",
       "    </tr>\n",
       "    <tr>\n",
       "      <th>55103</th>\n",
       "      <td>Cairn to seek $600 mn from India in damages</td>\n",
       "      <td>UK-based oil firm Cairn Energy on Tuesday said...</td>\n",
       "    </tr>\n",
       "  </tbody>\n",
       "</table>\n",
       "<p>55104 rows × 2 columns</p>\n",
       "</div>"
      ],
      "text/plain": [
       "                                                Headline  \\\n",
       "0      4 ex-bank officials booked for cheating bank o...   \n",
       "1         Supreme Court to go paperless in 6 months: CJI   \n",
       "2      At least 3 killed, 30 injured in blast in Sylh...   \n",
       "3      Why has Reliance been barred from trading in f...   \n",
       "4      Was stopped from entering my own studio at Tim...   \n",
       "...                                                  ...   \n",
       "55099         Sensex loses 400 points to hit 52-week low   \n",
       "55100      China to inject $91 bn into the money markets   \n",
       "55101   Ghulam Ali set to make acting debut in Bollywood   \n",
       "55102       IS acknowledges death of Jihadi John: Report   \n",
       "55103        Cairn to seek $600 mn from India in damages   \n",
       "\n",
       "                                                   Short  \n",
       "0      The CBI on Saturday booked four former officia...  \n",
       "1      Chief Justice JS Khehar has said the Supreme C...  \n",
       "2      At least three people were killed, including a...  \n",
       "3      Mukesh Ambani-led Reliance Industries (RIL) wa...  \n",
       "4      TV news anchor Arnab Goswami has said he was t...  \n",
       "...                                                  ...  \n",
       "55099  Tracking weak cues from the Asian markets, the...  \n",
       "55100  Amid growing concerns about China&#39;s econom...  \n",
       "55101  Pakistani Ghazal singer Ghulam Ali will soon m...  \n",
       "55102  The Islamic State (IS) has acknowledged the de...  \n",
       "55103  UK-based oil firm Cairn Energy on Tuesday said...  \n",
       "\n",
       "[55104 rows x 2 columns]"
      ]
     },
     "execution_count": 7,
     "metadata": {},
     "output_type": "execute_result"
    }
   ],
   "source": [
    "# Inshorts XLS dataset\n",
    "inshorts_raw = pd.read_excel(\"../input/inshorts-news-data/Inshorts Cleaned Data.xlsx\",engine = 'openpyxl')\n",
    "inshorts_raw.drop(['Source ', 'Time ', 'Publish Date'], axis=1, inplace=True)\n",
    "inshorts_raw"
   ]
  },
  {
   "cell_type": "code",
   "execution_count": 8,
   "id": "a7fcec05",
   "metadata": {
    "execution": {
     "iopub.execute_input": "2023-04-28T09:02:08.025548Z",
     "iopub.status.busy": "2023-04-28T09:02:08.024394Z",
     "iopub.status.idle": "2023-04-28T09:03:48.501670Z",
     "shell.execute_reply": "2023-04-28T09:03:48.500049Z"
    },
    "papermill": {
     "duration": 100.497636,
     "end_time": "2023-04-28T09:03:48.512638",
     "exception": false,
     "start_time": "2023-04-28T09:02:08.015002",
     "status": "completed"
    },
    "tags": []
   },
   "outputs": [
    {
     "data": {
      "text/html": [
       "<div>\n",
       "<style scoped>\n",
       "    .dataframe tbody tr th:only-of-type {\n",
       "        vertical-align: middle;\n",
       "    }\n",
       "\n",
       "    .dataframe tbody tr th {\n",
       "        vertical-align: top;\n",
       "    }\n",
       "\n",
       "    .dataframe thead th {\n",
       "        text-align: right;\n",
       "    }\n",
       "</style>\n",
       "<table border=\"1\" class=\"dataframe\">\n",
       "  <thead>\n",
       "    <tr style=\"text-align: right;\">\n",
       "      <th></th>\n",
       "      <th>ID</th>\n",
       "      <th>Content</th>\n",
       "      <th>Summary</th>\n",
       "      <th>Dataset</th>\n",
       "    </tr>\n",
       "  </thead>\n",
       "  <tbody>\n",
       "    <tr>\n",
       "      <th>0</th>\n",
       "      <td>f49ee725a0360aa6881ed1f7999cc531885dd06a</td>\n",
       "      <td>New York police are concerned drones could bec...</td>\n",
       "      <td>Police have investigated criminals who have ri...</td>\n",
       "      <td>CNN/Daily Mail</td>\n",
       "    </tr>\n",
       "    <tr>\n",
       "      <th>1</th>\n",
       "      <td>808fe317a53fbd3130c9b7563341a7eea6d15e94</td>\n",
       "      <td>By . Ryan Lipman . Perhaps Australian porn sta...</td>\n",
       "      <td>Porn star Angela White secretly filmed sex act...</td>\n",
       "      <td>CNN/Daily Mail</td>\n",
       "    </tr>\n",
       "    <tr>\n",
       "      <th>2</th>\n",
       "      <td>98fd67bd343e58bc4e275bbb5a4ea454ec827c0d</td>\n",
       "      <td>This was, Sergio Garcia conceded, much like be...</td>\n",
       "      <td>American draws inspiration from fellow country...</td>\n",
       "      <td>CNN/Daily Mail</td>\n",
       "    </tr>\n",
       "    <tr>\n",
       "      <th>3</th>\n",
       "      <td>e12b5bd7056287049d9ec98e41dbb287bd19a981</td>\n",
       "      <td>An Ebola outbreak that began in Guinea four mo...</td>\n",
       "      <td>World Health Organisation: 635 infections and ...</td>\n",
       "      <td>CNN/Daily Mail</td>\n",
       "    </tr>\n",
       "    <tr>\n",
       "      <th>4</th>\n",
       "      <td>b83e8bcfcd51419849160e789b6658b21a9aedcd</td>\n",
       "      <td>By . Associated Press and Daily Mail Reporter ...</td>\n",
       "      <td>A sinkhole opened up at 5:15am this morning in...</td>\n",
       "      <td>CNN/Daily Mail</td>\n",
       "    </tr>\n",
       "    <tr>\n",
       "      <th>...</th>\n",
       "      <td>...</td>\n",
       "      <td>...</td>\n",
       "      <td>...</td>\n",
       "      <td>...</td>\n",
       "    </tr>\n",
       "    <tr>\n",
       "      <th>870516</th>\n",
       "      <td>5d28cab74ffb4ea584cbb857d64a72a2157bf19f</td>\n",
       "      <td>The state of Oregon is ready to throw in the t...</td>\n",
       "      <td>Oregon is the only one of 16 states that has f...</td>\n",
       "      <td>CNN/Daily Mail</td>\n",
       "    </tr>\n",
       "    <tr>\n",
       "      <th>870517</th>\n",
       "      <td>6f3e12375fc400cf9dc3ad77b8191226e740e293</td>\n",
       "      <td>MADRID, Spain (CNN) -- A 92-year-old woman wit...</td>\n",
       "      <td>Two women, both from Uruguay, arrested after a...</td>\n",
       "      <td>CNN/Daily Mail</td>\n",
       "    </tr>\n",
       "    <tr>\n",
       "      <th>870518</th>\n",
       "      <td>NaN</td>\n",
       "      <td>A day after a 40-year-old man miraculously sur...</td>\n",
       "      <td>– Rescuers in Niagara Falls still haven't foun...</td>\n",
       "      <td>Multi-News</td>\n",
       "    </tr>\n",
       "    <tr>\n",
       "      <th>870519</th>\n",
       "      <td>9af32ebbdd03e1d543d5493e93b4ac8c8e489851</td>\n",
       "      <td>By . Deni Kirkova . PUBLISHED: . 09:27 EST, 23...</td>\n",
       "      <td>Women browse, evaluate and shop through an onl...</td>\n",
       "      <td>CNN/Daily Mail</td>\n",
       "    </tr>\n",
       "    <tr>\n",
       "      <th>870520</th>\n",
       "      <td>f566e97e2944891dc8aa116eea31e897d2f09ac7</td>\n",
       "      <td>Tiago Rocha, 26, has confessed to killing 39 p...</td>\n",
       "      <td>Tiago Henrique Gomes da Rocha, 26, confessed t...</td>\n",
       "      <td>CNN/Daily Mail</td>\n",
       "    </tr>\n",
       "  </tbody>\n",
       "</table>\n",
       "<p>870521 rows × 4 columns</p>\n",
       "</div>"
      ],
      "text/plain": [
       "                                              ID  \\\n",
       "0       f49ee725a0360aa6881ed1f7999cc531885dd06a   \n",
       "1       808fe317a53fbd3130c9b7563341a7eea6d15e94   \n",
       "2       98fd67bd343e58bc4e275bbb5a4ea454ec827c0d   \n",
       "3       e12b5bd7056287049d9ec98e41dbb287bd19a981   \n",
       "4       b83e8bcfcd51419849160e789b6658b21a9aedcd   \n",
       "...                                          ...   \n",
       "870516  5d28cab74ffb4ea584cbb857d64a72a2157bf19f   \n",
       "870517  6f3e12375fc400cf9dc3ad77b8191226e740e293   \n",
       "870518                                       NaN   \n",
       "870519  9af32ebbdd03e1d543d5493e93b4ac8c8e489851   \n",
       "870520  f566e97e2944891dc8aa116eea31e897d2f09ac7   \n",
       "\n",
       "                                                  Content  \\\n",
       "0       New York police are concerned drones could bec...   \n",
       "1       By . Ryan Lipman . Perhaps Australian porn sta...   \n",
       "2       This was, Sergio Garcia conceded, much like be...   \n",
       "3       An Ebola outbreak that began in Guinea four mo...   \n",
       "4       By . Associated Press and Daily Mail Reporter ...   \n",
       "...                                                   ...   \n",
       "870516  The state of Oregon is ready to throw in the t...   \n",
       "870517  MADRID, Spain (CNN) -- A 92-year-old woman wit...   \n",
       "870518  A day after a 40-year-old man miraculously sur...   \n",
       "870519  By . Deni Kirkova . PUBLISHED: . 09:27 EST, 23...   \n",
       "870520  Tiago Rocha, 26, has confessed to killing 39 p...   \n",
       "\n",
       "                                                  Summary         Dataset  \n",
       "0       Police have investigated criminals who have ri...  CNN/Daily Mail  \n",
       "1       Porn star Angela White secretly filmed sex act...  CNN/Daily Mail  \n",
       "2       American draws inspiration from fellow country...  CNN/Daily Mail  \n",
       "3       World Health Organisation: 635 infections and ...  CNN/Daily Mail  \n",
       "4       A sinkhole opened up at 5:15am this morning in...  CNN/Daily Mail  \n",
       "...                                                   ...             ...  \n",
       "870516  Oregon is the only one of 16 states that has f...  CNN/Daily Mail  \n",
       "870517  Two women, both from Uruguay, arrested after a...  CNN/Daily Mail  \n",
       "870518  – Rescuers in Niagara Falls still haven't foun...      Multi-News  \n",
       "870519  Women browse, evaluate and shop through an onl...  CNN/Daily Mail  \n",
       "870520  Tiago Henrique Gomes da Rocha, 26, confessed t...  CNN/Daily Mail  \n",
       "\n",
       "[870521 rows x 4 columns]"
      ]
     },
     "execution_count": 8,
     "metadata": {},
     "output_type": "execute_result"
    }
   ],
   "source": [
    "# combined 3 datasets 4GB\n",
    "news_sum_combined = pd.read_csv('../input/news-summarization/data.csv')\n",
    "news_sum_combined.drop(columns=news_sum_combined.columns[0], axis=1, inplace=True) # drop index col\n",
    "news_sum_combined"
   ]
  },
  {
   "cell_type": "markdown",
   "id": "af615afb",
   "metadata": {
    "papermill": {
     "duration": 0.007797,
     "end_time": "2023-04-28T09:03:48.528437",
     "exception": false,
     "start_time": "2023-04-28T09:03:48.520640",
     "status": "completed"
    },
    "tags": []
   },
   "source": [
    "## Preprocessing"
   ]
  },
  {
   "cell_type": "code",
   "execution_count": 9,
   "id": "7ca682d4",
   "metadata": {
    "execution": {
     "iopub.execute_input": "2023-04-28T09:03:48.547815Z",
     "iopub.status.busy": "2023-04-28T09:03:48.547305Z",
     "iopub.status.idle": "2023-04-28T09:03:48.584258Z",
     "shell.execute_reply": "2023-04-28T09:03:48.582786Z"
    },
    "papermill": {
     "duration": 0.050236,
     "end_time": "2023-04-28T09:03:48.586742",
     "exception": false,
     "start_time": "2023-04-28T09:03:48.536506",
     "status": "completed"
    },
    "tags": []
   },
   "outputs": [
    {
     "data": {
      "text/plain": [
       "'this text my text is not very clean it would have been better if it was ok'"
      ]
     },
     "execution_count": 9,
     "metadata": {},
     "output_type": "execute_result"
    }
   ],
   "source": [
    "class Preprocessor:\n",
    "    \n",
    "    def __init__(self, dot_token_enabled=True):\n",
    "        self.dot_token_enabled = dot_token_enabled\n",
    "    \n",
    "    # Text cleanup\n",
    "    def clean_text(self, text: str):\n",
    "\n",
    "        # lowercase\n",
    "        text = str(text).lower()\n",
    "\n",
    "        # remove &-escaped characters\n",
    "        text = re.sub(r\"&.[1-9]+;\",\" \", str(text))\n",
    "\n",
    "        # remove escaped characters\n",
    "        text=re.sub(\"(\\\\t)\", ' ', str(text))\n",
    "        text=re.sub(\"(\\\\r)\", ' ', str(text))\n",
    "        text=re.sub(\"(\\\\n)\", ' ', str(text))\n",
    "\n",
    "        # remove double characters\n",
    "        text=re.sub(\"(__+)\", ' ', str(text))  #remove _ if it occurs more than one time consecutively\n",
    "        text=re.sub(\"(--+)\", ' ', str(text))   #remove - if it occurs more than one time consecutively\n",
    "        text=re.sub(\"(~~+)\", ' ', str(text))   #remove ~ if it occurs more than one time consecutively\n",
    "        text=re.sub(\"(\\+\\++)\", ' ', str(text))  #remove + if it occurs more than one time consecutively\n",
    "        text=re.sub(\"(\\.\\.+)\", ' ', str(text))  #remove . if it occurs more than one time consecutively\n",
    "        \n",
    "        # fix contractions to base form\n",
    "        text = contractions.fix(text)\n",
    "\n",
    "        #remove special tokens <>()|&©ø\"',;?~*!\n",
    "        text=re.sub(r\"[<>()|&©ø\\[\\]\\'\\\",;?~*!]\", ' ', str(text)).lower()\n",
    "\n",
    "        # CNN mail data cleanup\n",
    "        text=re.sub(\"(mailto:)\", ' ', str(text)) #remove mailto:\n",
    "        text=re.sub(r\"(\\\\x9\\d)\", ' ', str(text)) #remove \\x9* in text\n",
    "        text=re.sub(\"([iI][nN][cC]\\d+)\", 'INC_NUM', str(text)) #replace INC nums to INC_NUM\n",
    "        text=re.sub(\"([cC][mM]\\d+)|([cC][hH][gG]\\d+)\", 'CM_NUM', str(text)) #replace CM# and CHG# to CM_NUM\n",
    "\n",
    "        # url replacement into base form\n",
    "        try:\n",
    "            url = re.search(r'((https*:\\/*)([^\\/\\s]+))(.[^\\s]+)', str(text))\n",
    "            repl_url = url.group(3)\n",
    "            text = re.sub(r'((https*:\\/*)([^\\/\\s]+))(.[^\\s]+)',repl_url, str(text))\n",
    "        except:\n",
    "            pass\n",
    "\n",
    "\n",
    "        # handle dot at the end of words\n",
    "        if self.dot_token_enabled:\n",
    "            text=re.sub(\"(\\.\\s+)\", ' . ', str(text))\n",
    "        else:\n",
    "            text=re.sub(\"(\\.\\s+)\", ' ', str(text)) # or completely remove\n",
    "        \n",
    "        text=re.sub(\"(\\-\\s+)\", ' ', str(text)) #remove - at end of words(not between)\n",
    "        text=re.sub(\"(\\:\\s+)\", ' ', str(text)) #remove : at end of words(not between)\n",
    "\n",
    "        #remove multiple spaces\n",
    "        text=re.sub(\"(\\s+)\",' ',str(text))\n",
    "\n",
    "        # apply lowercase again\n",
    "        text = text.lower().strip()\n",
    "        \n",
    "        # remove trailing dot, we will apply end of sequence anyway\n",
    "        text = re.sub(\"(\\.)$\", '', str(text)).strip()\n",
    "\n",
    "        return text\n",
    "\n",
    "    def apply_special_tokens(self, text):\n",
    "        text = str(text).strip()\n",
    "        text = \"<sos> \" + str(text).strip() + \" <eos>\"\n",
    "        \n",
    "#         if self.dot_token_enabled:\n",
    "#             text = text.replace(\".\", \"<dot>\")\n",
    "        \n",
    "        return text\n",
    "\n",
    "    def remove_special_tokens(self, text):\n",
    "        text = text.lower()\n",
    "        text = text.replace(\"<sos>\", \"\").replace(\"<eos>\", \"\")\n",
    "        text = text.replace(\"<unk>\", \"##\")\n",
    "#         text = text.replace(\"<dot>\", \". \") # normal syntax with dot at end\n",
    "        text = text.strip()\n",
    "        return text\n",
    "\n",
    "    def plot_approx_lengths(self, df: pd.DataFrame):\n",
    "        sns.displot(df['article_len_approx']), sns.displot(df['summary_len_approx'])\n",
    "\n",
    "    # preprocess sentence dataframe from raw format - clean, apply sos/eos tokens\n",
    "    # - removes articles with length outside bounds\n",
    "    def preprocess_frame(self, df: pd.DataFrame, article_len_range, summary_len_range):\n",
    "        \n",
    "        print(\"Preprocessing frame...\")\n",
    "\n",
    "        # apply text cleaning\n",
    "        df['article'] = df['article'].apply(self.clean_text)\n",
    "        df['summary'] = df['summary'].apply(self.clean_text)\n",
    "\n",
    "        # apply special tokens\n",
    "        df['article'] = df['article'].apply(self.apply_special_tokens)\n",
    "        df['summary'] = df['summary'].apply(self.apply_special_tokens)\n",
    "\n",
    "        # simple text length approximation for analysis\n",
    "        df['article_len_approx'] = df['article'].apply(lambda x: op.countOf(x, ' '))\n",
    "        df['summary_len_approx'] = df['summary'].apply(lambda x: op.countOf(x, ' '))\n",
    "        \n",
    "        print(\"Original length distribution:\")\n",
    "        self.plot_approx_lengths(df)\n",
    "\n",
    "        # remove longer than set length\n",
    "        article_min, article_max = article_len_range\n",
    "        summary_min, summary_max = summary_len_range\n",
    "        \n",
    "        df = df[\n",
    "            (df['article_len_approx'] <= article_max) &\n",
    "            (df['article_len_approx'] >= article_min) &\n",
    "            (df['summary_len_approx'] <= summary_max) &\n",
    "            (df['summary_len_approx'] >= summary_min)\n",
    "        ]\n",
    "\n",
    "        # print plots\n",
    "        print(\"After processing length distribution:\")\n",
    "        self.plot_approx_lengths(df)\n",
    "\n",
    "        return df\n",
    "    \n",
    "preprocessor = Preprocessor(dot_token_enabled=False)\n",
    "\n",
    "# Test\n",
    "preprocessor.clean_text(\"  This text (my text ) isn't ]] very - clean.  it WOULd'Ve been betteR? if, it was ok  \")"
   ]
  },
  {
   "cell_type": "code",
   "execution_count": 10,
   "id": "379aaa21",
   "metadata": {
    "execution": {
     "iopub.execute_input": "2023-04-28T09:03:48.606141Z",
     "iopub.status.busy": "2023-04-28T09:03:48.604861Z",
     "iopub.status.idle": "2023-04-28T09:03:48.617090Z",
     "shell.execute_reply": "2023-04-28T09:03:48.615814Z"
    },
    "papermill": {
     "duration": 0.024906,
     "end_time": "2023-04-28T09:03:48.619889",
     "exception": false,
     "start_time": "2023-04-28T09:03:48.594983",
     "status": "completed"
    },
    "tags": []
   },
   "outputs": [
    {
     "data": {
      "text/plain": [
       "'<sos> indian spinner ravichandran ashwin has broken the record for most wickets in a single test season taking his 79th this season during the dharamsala test against australia on saturday ashwin went past south african pacer dale steyn who had claimed 78 wickets in 12 tests in 2007-08 ashwin has taken seven five-wicket hauls this season in 13 matches <eos>'"
      ]
     },
     "execution_count": 10,
     "metadata": {},
     "output_type": "execute_result"
    }
   ],
   "source": [
    "preprocessor.apply_special_tokens(preprocessor.clean_text(inshorts_raw.iloc[100]['Short']))"
   ]
  },
  {
   "cell_type": "markdown",
   "id": "47f10883",
   "metadata": {
    "papermill": {
     "duration": 0.00774,
     "end_time": "2023-04-28T09:03:48.635985",
     "exception": false,
     "start_time": "2023-04-28T09:03:48.628245",
     "status": "completed"
    },
    "tags": []
   },
   "source": [
    "## Inshorts dataset"
   ]
  },
  {
   "cell_type": "code",
   "execution_count": 11,
   "id": "56a4a744",
   "metadata": {
    "execution": {
     "iopub.execute_input": "2023-04-28T09:03:48.654970Z",
     "iopub.status.busy": "2023-04-28T09:03:48.654031Z",
     "iopub.status.idle": "2023-04-28T09:04:01.208478Z",
     "shell.execute_reply": "2023-04-28T09:04:01.207287Z"
    },
    "papermill": {
     "duration": 12.566928,
     "end_time": "2023-04-28T09:04:01.211111",
     "exception": false,
     "start_time": "2023-04-28T09:03:48.644183",
     "status": "completed"
    },
    "tags": []
   },
   "outputs": [
    {
     "name": "stdout",
     "output_type": "stream",
     "text": [
      "Preprocessing frame...\n",
      "Original length distribution:\n",
      "After processing length distribution:\n",
      "       article_len_approx  summary_len_approx\n",
      "count        55098.000000        55098.000000\n",
      "mean            60.144561            9.474046\n",
      "std              2.694679            1.620789\n",
      "min             41.000000            4.000000\n",
      "25%             59.000000            8.000000\n",
      "50%             61.000000            9.000000\n",
      "75%             62.000000           11.000000\n",
      "max             70.000000           16.000000\n"
     ]
    },
    {
     "data": {
      "text/html": [
       "<div>\n",
       "<style scoped>\n",
       "    .dataframe tbody tr th:only-of-type {\n",
       "        vertical-align: middle;\n",
       "    }\n",
       "\n",
       "    .dataframe tbody tr th {\n",
       "        vertical-align: top;\n",
       "    }\n",
       "\n",
       "    .dataframe thead th {\n",
       "        text-align: right;\n",
       "    }\n",
       "</style>\n",
       "<table border=\"1\" class=\"dataframe\">\n",
       "  <thead>\n",
       "    <tr style=\"text-align: right;\">\n",
       "      <th></th>\n",
       "      <th>summary</th>\n",
       "      <th>article</th>\n",
       "      <th>article_len_approx</th>\n",
       "      <th>summary_len_approx</th>\n",
       "    </tr>\n",
       "  </thead>\n",
       "  <tbody>\n",
       "    <tr>\n",
       "      <th>0</th>\n",
       "      <td>&lt;sos&gt; 4 ex-bank officials booked for cheating ...</td>\n",
       "      <td>&lt;sos&gt; the cbi on saturday booked four former o...</td>\n",
       "      <td>61</td>\n",
       "      <td>11</td>\n",
       "    </tr>\n",
       "    <tr>\n",
       "      <th>1</th>\n",
       "      <td>&lt;sos&gt; supreme court to go paperless in 6 month...</td>\n",
       "      <td>&lt;sos&gt; chief justice js khehar has said the sup...</td>\n",
       "      <td>59</td>\n",
       "      <td>10</td>\n",
       "    </tr>\n",
       "    <tr>\n",
       "      <th>2</th>\n",
       "      <td>&lt;sos&gt; at least 3 killed 30 injured in blast in...</td>\n",
       "      <td>&lt;sos&gt; at least three people were killed includ...</td>\n",
       "      <td>61</td>\n",
       "      <td>12</td>\n",
       "    </tr>\n",
       "    <tr>\n",
       "      <th>3</th>\n",
       "      <td>&lt;sos&gt; why has reliance been barred from tradin...</td>\n",
       "      <td>&lt;sos&gt; mukesh ambani-led reliance industries ri...</td>\n",
       "      <td>61</td>\n",
       "      <td>10</td>\n",
       "    </tr>\n",
       "    <tr>\n",
       "      <th>4</th>\n",
       "      <td>&lt;sos&gt; was stopped from entering my own studio ...</td>\n",
       "      <td>&lt;sos&gt; tv news anchor arnab goswami has said he...</td>\n",
       "      <td>61</td>\n",
       "      <td>12</td>\n",
       "    </tr>\n",
       "    <tr>\n",
       "      <th>...</th>\n",
       "      <td>...</td>\n",
       "      <td>...</td>\n",
       "      <td>...</td>\n",
       "      <td>...</td>\n",
       "    </tr>\n",
       "    <tr>\n",
       "      <th>55099</th>\n",
       "      <td>&lt;sos&gt; sensex loses 400 points to hit 52-week l...</td>\n",
       "      <td>&lt;sos&gt; tracking weak cues from the asian market...</td>\n",
       "      <td>62</td>\n",
       "      <td>9</td>\n",
       "    </tr>\n",
       "    <tr>\n",
       "      <th>55100</th>\n",
       "      <td>&lt;sos&gt; china to inject $91 bn into the money ma...</td>\n",
       "      <td>&lt;sos&gt; amid growing concerns about china s econ...</td>\n",
       "      <td>62</td>\n",
       "      <td>10</td>\n",
       "    </tr>\n",
       "    <tr>\n",
       "      <th>55101</th>\n",
       "      <td>&lt;sos&gt; ghulam ali set to make acting debut in b...</td>\n",
       "      <td>&lt;sos&gt; pakistani ghazal singer ghulam ali will ...</td>\n",
       "      <td>61</td>\n",
       "      <td>10</td>\n",
       "    </tr>\n",
       "    <tr>\n",
       "      <th>55102</th>\n",
       "      <td>&lt;sos&gt; is acknowledges death of jihadi john rep...</td>\n",
       "      <td>&lt;sos&gt; the islamic state is has acknowledged th...</td>\n",
       "      <td>61</td>\n",
       "      <td>8</td>\n",
       "    </tr>\n",
       "    <tr>\n",
       "      <th>55103</th>\n",
       "      <td>&lt;sos&gt; cairn to seek $600 mn from india in dama...</td>\n",
       "      <td>&lt;sos&gt; uk-based oil firm cairn energy on tuesda...</td>\n",
       "      <td>62</td>\n",
       "      <td>10</td>\n",
       "    </tr>\n",
       "  </tbody>\n",
       "</table>\n",
       "<p>55098 rows × 4 columns</p>\n",
       "</div>"
      ],
      "text/plain": [
       "                                                 summary  \\\n",
       "0      <sos> 4 ex-bank officials booked for cheating ...   \n",
       "1      <sos> supreme court to go paperless in 6 month...   \n",
       "2      <sos> at least 3 killed 30 injured in blast in...   \n",
       "3      <sos> why has reliance been barred from tradin...   \n",
       "4      <sos> was stopped from entering my own studio ...   \n",
       "...                                                  ...   \n",
       "55099  <sos> sensex loses 400 points to hit 52-week l...   \n",
       "55100  <sos> china to inject $91 bn into the money ma...   \n",
       "55101  <sos> ghulam ali set to make acting debut in b...   \n",
       "55102  <sos> is acknowledges death of jihadi john rep...   \n",
       "55103  <sos> cairn to seek $600 mn from india in dama...   \n",
       "\n",
       "                                                 article  article_len_approx  \\\n",
       "0      <sos> the cbi on saturday booked four former o...                  61   \n",
       "1      <sos> chief justice js khehar has said the sup...                  59   \n",
       "2      <sos> at least three people were killed includ...                  61   \n",
       "3      <sos> mukesh ambani-led reliance industries ri...                  61   \n",
       "4      <sos> tv news anchor arnab goswami has said he...                  61   \n",
       "...                                                  ...                 ...   \n",
       "55099  <sos> tracking weak cues from the asian market...                  62   \n",
       "55100  <sos> amid growing concerns about china s econ...                  62   \n",
       "55101  <sos> pakistani ghazal singer ghulam ali will ...                  61   \n",
       "55102  <sos> the islamic state is has acknowledged th...                  61   \n",
       "55103  <sos> uk-based oil firm cairn energy on tuesda...                  62   \n",
       "\n",
       "       summary_len_approx  \n",
       "0                      11  \n",
       "1                      10  \n",
       "2                      12  \n",
       "3                      10  \n",
       "4                      12  \n",
       "...                   ...  \n",
       "55099                   9  \n",
       "55100                  10  \n",
       "55101                  10  \n",
       "55102                   8  \n",
       "55103                  10  \n",
       "\n",
       "[55098 rows x 4 columns]"
      ]
     },
     "execution_count": 11,
     "metadata": {},
     "output_type": "execute_result"
    },
    {
     "data": {
      "image/png": "[encoded data removed]",
      "text/plain": [
       "<Figure size 500x500 with 1 Axes>"
      ]
     },
     "metadata": {},
     "output_type": "display_data"
    },
    {
     "data": {
      "image/png": "[encoded data removed]",
      "text/plain": [
       "<Figure size 500x500 with 1 Axes>"
      ]
     },
     "metadata": {},
     "output_type": "display_data"
    },
    {
     "data": {
      "image/png": "[encoded data removed]",
      "text/plain": [
       "<Figure size 500x500 with 1 Axes>"
      ]
     },
     "metadata": {},
     "output_type": "display_data"
    },
    {
     "data": {
      "image/png": "[encoded data removed]",
      "text/plain": [
       "<Figure size 500x500 with 1 Axes>"
      ]
     },
     "metadata": {},
     "output_type": "display_data"
    }
   ],
   "source": [
    "df_inshorts = preprocessor.preprocess_frame(\n",
    "        inshorts_raw.rename({\"Short\": \"article\", \"Headline\": \"summary\"}, axis=1).reset_index(drop=True),\n",
    "        (10, 70),\n",
    "        (3, 16)\n",
    ")\n",
    "print(df_inshorts.describe())\n",
    "df_inshorts"
   ]
  },
  {
   "cell_type": "code",
   "execution_count": 12,
   "id": "ab208951",
   "metadata": {
    "execution": {
     "iopub.execute_input": "2023-04-28T09:04:01.235009Z",
     "iopub.status.busy": "2023-04-28T09:04:01.234280Z",
     "iopub.status.idle": "2023-04-28T09:06:45.730313Z",
     "shell.execute_reply": "2023-04-28T09:06:45.729050Z"
    },
    "papermill": {
     "duration": 164.511452,
     "end_time": "2023-04-28T09:06:45.733383",
     "exception": false,
     "start_time": "2023-04-28T09:04:01.221931",
     "status": "completed"
    },
    "tags": []
   },
   "outputs": [
    {
     "name": "stdout",
     "output_type": "stream",
     "text": [
      "News sum available datasets: Dataset\n",
      "CNN/Daily Mail    587594\n",
      "Multi-News         56216\n",
      "XSum              226711\n",
      "Name: Dataset, dtype: int64\n",
      "Preparing xsum ...\n",
      "Preprocessing frame...\n",
      "Original length distribution:\n",
      "After processing length distribution:\n",
      "       article_len_approx  summary_len_approx\n",
      "count       113521.000000       113521.000000\n",
      "mean           175.535963           21.388880\n",
      "std             75.622673            4.627048\n",
      "min             10.000000            3.000000\n",
      "25%            111.000000           18.000000\n",
      "50%            181.000000           21.000000\n",
      "75%            241.000000           25.000000\n",
      "max            300.000000           40.000000\n"
     ]
    },
    {
     "data": {
      "text/html": [
       "<div>\n",
       "<style scoped>\n",
       "    .dataframe tbody tr th:only-of-type {\n",
       "        vertical-align: middle;\n",
       "    }\n",
       "\n",
       "    .dataframe tbody tr th {\n",
       "        vertical-align: top;\n",
       "    }\n",
       "\n",
       "    .dataframe thead th {\n",
       "        text-align: right;\n",
       "    }\n",
       "</style>\n",
       "<table border=\"1\" class=\"dataframe\">\n",
       "  <thead>\n",
       "    <tr style=\"text-align: right;\">\n",
       "      <th></th>\n",
       "      <th>ID</th>\n",
       "      <th>article</th>\n",
       "      <th>summary</th>\n",
       "      <th>Dataset</th>\n",
       "      <th>article_len_approx</th>\n",
       "      <th>summary_len_approx</th>\n",
       "    </tr>\n",
       "  </thead>\n",
       "  <tbody>\n",
       "    <tr>\n",
       "      <th>1</th>\n",
       "      <td>36475048</td>\n",
       "      <td>&lt;sos&gt; 7 june 2016 last updated at 20:23 bst to...</td>\n",
       "      <td>&lt;sos&gt; terry butcher has been recalling alan br...</td>\n",
       "      <td>XSum</td>\n",
       "      <td>85</td>\n",
       "      <td>22</td>\n",
       "    </tr>\n",
       "    <tr>\n",
       "      <th>2</th>\n",
       "      <td>35586320</td>\n",
       "      <td>&lt;sos&gt; storms desmond eva frank and gertrude al...</td>\n",
       "      <td>&lt;sos&gt; borders councillors have been told the f...</td>\n",
       "      <td>XSum</td>\n",
       "      <td>133</td>\n",
       "      <td>19</td>\n",
       "    </tr>\n",
       "    <tr>\n",
       "      <th>7</th>\n",
       "      <td>27262382</td>\n",
       "      <td>&lt;sos&gt; thomas cook airlines will operate a week...</td>\n",
       "      <td>&lt;sos&gt; an airline has announced plans to introd...</td>\n",
       "      <td>XSum</td>\n",
       "      <td>240</td>\n",
       "      <td>17</td>\n",
       "    </tr>\n",
       "    <tr>\n",
       "      <th>9</th>\n",
       "      <td>34528727</td>\n",
       "      <td>&lt;sos&gt; roy hodgson s side are in pot one with w...</td>\n",
       "      <td>&lt;sos&gt; england wales and northern ireland canno...</td>\n",
       "      <td>XSum</td>\n",
       "      <td>157</td>\n",
       "      <td>29</td>\n",
       "    </tr>\n",
       "    <tr>\n",
       "      <th>12</th>\n",
       "      <td>14131354</td>\n",
       "      <td>&lt;sos&gt; mansfield district council debated the £...</td>\n",
       "      <td>&lt;sos&gt; plans for a major development of houses ...</td>\n",
       "      <td>XSum</td>\n",
       "      <td>265</td>\n",
       "      <td>18</td>\n",
       "    </tr>\n",
       "    <tr>\n",
       "      <th>...</th>\n",
       "      <td>...</td>\n",
       "      <td>...</td>\n",
       "      <td>...</td>\n",
       "      <td>...</td>\n",
       "      <td>...</td>\n",
       "      <td>...</td>\n",
       "    </tr>\n",
       "    <tr>\n",
       "      <th>226702</th>\n",
       "      <td>29718966</td>\n",
       "      <td>&lt;sos&gt; the man identified as robert kelvin elli...</td>\n",
       "      <td>&lt;sos&gt; the indonesian wife of a briton found wi...</td>\n",
       "      <td>XSum</td>\n",
       "      <td>207</td>\n",
       "      <td>28</td>\n",
       "    </tr>\n",
       "    <tr>\n",
       "      <th>226705</th>\n",
       "      <td>32071575</td>\n",
       "      <td>&lt;sos&gt; the 2000 olympic super-heavyweight champ...</td>\n",
       "      <td>&lt;sos&gt; audley harrison has retired from boxing ...</td>\n",
       "      <td>XSum</td>\n",
       "      <td>229</td>\n",
       "      <td>21</td>\n",
       "    </tr>\n",
       "    <tr>\n",
       "      <th>226706</th>\n",
       "      <td>15653768</td>\n",
       "      <td>&lt;sos&gt; the deal will begin in january and means...</td>\n",
       "      <td>&lt;sos&gt; microsoft yahoo and aol have announced a...</td>\n",
       "      <td>XSum</td>\n",
       "      <td>195</td>\n",
       "      <td>17</td>\n",
       "    </tr>\n",
       "    <tr>\n",
       "      <th>226708</th>\n",
       "      <td>37471696</td>\n",
       "      <td>&lt;sos&gt; the nigeria football federation nff want...</td>\n",
       "      <td>&lt;sos&gt; nigeria s players understand they will h...</td>\n",
       "      <td>XSum</td>\n",
       "      <td>263</td>\n",
       "      <td>23</td>\n",
       "    </tr>\n",
       "    <tr>\n",
       "      <th>226710</th>\n",
       "      <td>37512508</td>\n",
       "      <td>&lt;sos&gt; the first study of its kind in ni charts...</td>\n",
       "      <td>&lt;sos&gt; one in five older people in northern ire...</td>\n",
       "      <td>XSum</td>\n",
       "      <td>276</td>\n",
       "      <td>24</td>\n",
       "    </tr>\n",
       "  </tbody>\n",
       "</table>\n",
       "<p>113521 rows × 6 columns</p>\n",
       "</div>"
      ],
      "text/plain": [
       "              ID                                            article  \\\n",
       "1       36475048  <sos> 7 june 2016 last updated at 20:23 bst to...   \n",
       "2       35586320  <sos> storms desmond eva frank and gertrude al...   \n",
       "7       27262382  <sos> thomas cook airlines will operate a week...   \n",
       "9       34528727  <sos> roy hodgson s side are in pot one with w...   \n",
       "12      14131354  <sos> mansfield district council debated the £...   \n",
       "...          ...                                                ...   \n",
       "226702  29718966  <sos> the man identified as robert kelvin elli...   \n",
       "226705  32071575  <sos> the 2000 olympic super-heavyweight champ...   \n",
       "226706  15653768  <sos> the deal will begin in january and means...   \n",
       "226708  37471696  <sos> the nigeria football federation nff want...   \n",
       "226710  37512508  <sos> the first study of its kind in ni charts...   \n",
       "\n",
       "                                                  summary Dataset  \\\n",
       "1       <sos> terry butcher has been recalling alan br...    XSum   \n",
       "2       <sos> borders councillors have been told the f...    XSum   \n",
       "7       <sos> an airline has announced plans to introd...    XSum   \n",
       "9       <sos> england wales and northern ireland canno...    XSum   \n",
       "12      <sos> plans for a major development of houses ...    XSum   \n",
       "...                                                   ...     ...   \n",
       "226702  <sos> the indonesian wife of a briton found wi...    XSum   \n",
       "226705  <sos> audley harrison has retired from boxing ...    XSum   \n",
       "226706  <sos> microsoft yahoo and aol have announced a...    XSum   \n",
       "226708  <sos> nigeria s players understand they will h...    XSum   \n",
       "226710  <sos> one in five older people in northern ire...    XSum   \n",
       "\n",
       "        article_len_approx  summary_len_approx  \n",
       "1                       85                  22  \n",
       "2                      133                  19  \n",
       "7                      240                  17  \n",
       "9                      157                  29  \n",
       "12                     265                  18  \n",
       "...                    ...                 ...  \n",
       "226702                 207                  28  \n",
       "226705                 229                  21  \n",
       "226706                 195                  17  \n",
       "226708                 263                  23  \n",
       "226710                 276                  24  \n",
       "\n",
       "[113521 rows x 6 columns]"
      ]
     },
     "execution_count": 12,
     "metadata": {},
     "output_type": "execute_result"
    },
    {
     "data": {
      "image/png": "[encoded data removed]",
      "text/plain": [
       "<Figure size 500x500 with 1 Axes>"
      ]
     },
     "metadata": {},
     "output_type": "display_data"
    },
    {
     "data": {
      "image/png": "[encoded data removed]",
      "text/plain": [
       "<Figure size 500x500 with 1 Axes>"
      ]
     },
     "metadata": {},
     "output_type": "display_data"
    },
    {
     "data": {
      "image/png": "[encoded data removed]",
      "text/plain": [
       "<Figure size 500x500 with 1 Axes>"
      ]
     },
     "metadata": {},
     "output_type": "display_data"
    },
    {
     "data": {
      "image/png": "[encoded data removed]",
      "text/plain": [
       "<Figure size 500x500 with 1 Axes>"
      ]
     },
     "metadata": {},
     "output_type": "display_data"
    }
   ],
   "source": [
    "# Newssum combined -> get xsum\n",
    "print('News sum available datasets:', news_sum_combined.groupby('Dataset')['Dataset'].count())\n",
    "\n",
    "xsum_raw = news_sum_combined[ news_sum_combined['Dataset'] == 'XSum' ]\n",
    "\n",
    "print('Preparing xsum ...')\n",
    "df_xsum = preprocessor.preprocess_frame(\n",
    "    xsum_raw.rename({\"Content\": \"article\", \"Summary\": \"summary\"}, axis=1).reset_index(drop=True),\n",
    "    (10, 300),\n",
    "    (3, 40)\n",
    ")\n",
    "print(df_xsum.describe())\n",
    "df_xsum"
   ]
  },
  {
   "cell_type": "code",
   "execution_count": 13,
   "id": "8e24ec4e",
   "metadata": {
    "execution": {
     "iopub.execute_input": "2023-04-28T09:06:45.761412Z",
     "iopub.status.busy": "2023-04-28T09:06:45.760544Z",
     "iopub.status.idle": "2023-04-28T09:09:34.407338Z",
     "shell.execute_reply": "2023-04-28T09:09:34.405989Z"
    },
    "papermill": {
     "duration": 168.66402,
     "end_time": "2023-04-28T09:09:34.410374",
     "exception": false,
     "start_time": "2023-04-28T09:06:45.746354",
     "status": "completed"
    },
    "tags": []
   },
   "outputs": [
    {
     "name": "stdout",
     "output_type": "stream",
     "text": [
      "Preparing xsum shorter ...\n",
      "Preprocessing frame...\n",
      "Original length distribution:\n",
      "After processing length distribution:\n",
      "       article_len_approx  summary_len_approx\n",
      "count        43563.000000        43563.000000\n",
      "mean            93.590891           20.284094\n",
      "std             33.004596            4.635742\n",
      "min             10.000000            3.000000\n",
      "25%             64.000000           17.000000\n",
      "50%             92.000000           20.000000\n",
      "75%            123.000000           23.000000\n",
      "max            150.000000           40.000000\n"
     ]
    },
    {
     "data": {
      "text/html": [
       "<div>\n",
       "<style scoped>\n",
       "    .dataframe tbody tr th:only-of-type {\n",
       "        vertical-align: middle;\n",
       "    }\n",
       "\n",
       "    .dataframe tbody tr th {\n",
       "        vertical-align: top;\n",
       "    }\n",
       "\n",
       "    .dataframe thead th {\n",
       "        text-align: right;\n",
       "    }\n",
       "</style>\n",
       "<table border=\"1\" class=\"dataframe\">\n",
       "  <thead>\n",
       "    <tr style=\"text-align: right;\">\n",
       "      <th></th>\n",
       "      <th>ID</th>\n",
       "      <th>article</th>\n",
       "      <th>summary</th>\n",
       "      <th>Dataset</th>\n",
       "      <th>article_len_approx</th>\n",
       "      <th>summary_len_approx</th>\n",
       "    </tr>\n",
       "  </thead>\n",
       "  <tbody>\n",
       "    <tr>\n",
       "      <th>1</th>\n",
       "      <td>36475048</td>\n",
       "      <td>&lt;sos&gt; 7 june 2016 last updated at 20:23 bst to...</td>\n",
       "      <td>&lt;sos&gt; terry butcher has been recalling alan br...</td>\n",
       "      <td>XSum</td>\n",
       "      <td>85</td>\n",
       "      <td>22</td>\n",
       "    </tr>\n",
       "    <tr>\n",
       "      <th>2</th>\n",
       "      <td>35586320</td>\n",
       "      <td>&lt;sos&gt; storms desmond eva frank and gertrude al...</td>\n",
       "      <td>&lt;sos&gt; borders councillors have been told the f...</td>\n",
       "      <td>XSum</td>\n",
       "      <td>133</td>\n",
       "      <td>19</td>\n",
       "    </tr>\n",
       "    <tr>\n",
       "      <th>14</th>\n",
       "      <td>21608848</td>\n",
       "      <td>&lt;sos&gt; 27 february 2013 last updated at 17:20 g...</td>\n",
       "      <td>&lt;sos&gt; fisheries ministers at the european unio...</td>\n",
       "      <td>XSum</td>\n",
       "      <td>48</td>\n",
       "      <td>21</td>\n",
       "    </tr>\n",
       "    <tr>\n",
       "      <th>22</th>\n",
       "      <td>30878604</td>\n",
       "      <td>&lt;sos&gt; the high street shop in penarth vale of ...</td>\n",
       "      <td>&lt;sos&gt; a ukip office in south wales is inviting...</td>\n",
       "      <td>XSum</td>\n",
       "      <td>59</td>\n",
       "      <td>28</td>\n",
       "    </tr>\n",
       "    <tr>\n",
       "      <th>33</th>\n",
       "      <td>36486928</td>\n",
       "      <td>&lt;sos&gt; after heavy defeats in the opening two c...</td>\n",
       "      <td>&lt;sos&gt; lebron james scored 32 points as the cle...</td>\n",
       "      <td>XSum</td>\n",
       "      <td>93</td>\n",
       "      <td>25</td>\n",
       "    </tr>\n",
       "    <tr>\n",
       "      <th>...</th>\n",
       "      <td>...</td>\n",
       "      <td>...</td>\n",
       "      <td>...</td>\n",
       "      <td>...</td>\n",
       "      <td>...</td>\n",
       "      <td>...</td>\n",
       "    </tr>\n",
       "    <tr>\n",
       "      <th>226687</th>\n",
       "      <td>35957814</td>\n",
       "      <td>&lt;sos&gt; heather watson the british number two ha...</td>\n",
       "      <td>&lt;sos&gt; british number one johanna konta has mov...</td>\n",
       "      <td>XSum</td>\n",
       "      <td>94</td>\n",
       "      <td>22</td>\n",
       "    </tr>\n",
       "    <tr>\n",
       "      <th>226688</th>\n",
       "      <td>39990635</td>\n",
       "      <td>&lt;sos&gt; mcgregor 23 has previously been in gordo...</td>\n",
       "      <td>&lt;sos&gt; uncapped celtic midfielder callum mcgreg...</td>\n",
       "      <td>XSum</td>\n",
       "      <td>132</td>\n",
       "      <td>25</td>\n",
       "    </tr>\n",
       "    <tr>\n",
       "      <th>226693</th>\n",
       "      <td>39798803</td>\n",
       "      <td>&lt;sos&gt; bedene 27 took the opening set against l...</td>\n",
       "      <td>&lt;sos&gt; canadian top seed milos raonic came from...</td>\n",
       "      <td>XSum</td>\n",
       "      <td>74</td>\n",
       "      <td>27</td>\n",
       "    </tr>\n",
       "    <tr>\n",
       "      <th>226694</th>\n",
       "      <td>36333568</td>\n",
       "      <td>&lt;sos&gt; the 37-year-old wicketkeeper who made hi...</td>\n",
       "      <td>&lt;sos&gt; nottinghamshire captain chris read has s...</td>\n",
       "      <td>XSum</td>\n",
       "      <td>64</td>\n",
       "      <td>21</td>\n",
       "    </tr>\n",
       "    <tr>\n",
       "      <th>226699</th>\n",
       "      <td>36833533</td>\n",
       "      <td>&lt;sos&gt; the house price inflation rate remained ...</td>\n",
       "      <td>&lt;sos&gt; the price of an average house or flat in...</td>\n",
       "      <td>XSum</td>\n",
       "      <td>129</td>\n",
       "      <td>29</td>\n",
       "    </tr>\n",
       "  </tbody>\n",
       "</table>\n",
       "<p>43563 rows × 6 columns</p>\n",
       "</div>"
      ],
      "text/plain": [
       "              ID                                            article  \\\n",
       "1       36475048  <sos> 7 june 2016 last updated at 20:23 bst to...   \n",
       "2       35586320  <sos> storms desmond eva frank and gertrude al...   \n",
       "14      21608848  <sos> 27 february 2013 last updated at 17:20 g...   \n",
       "22      30878604  <sos> the high street shop in penarth vale of ...   \n",
       "33      36486928  <sos> after heavy defeats in the opening two c...   \n",
       "...          ...                                                ...   \n",
       "226687  35957814  <sos> heather watson the british number two ha...   \n",
       "226688  39990635  <sos> mcgregor 23 has previously been in gordo...   \n",
       "226693  39798803  <sos> bedene 27 took the opening set against l...   \n",
       "226694  36333568  <sos> the 37-year-old wicketkeeper who made hi...   \n",
       "226699  36833533  <sos> the house price inflation rate remained ...   \n",
       "\n",
       "                                                  summary Dataset  \\\n",
       "1       <sos> terry butcher has been recalling alan br...    XSum   \n",
       "2       <sos> borders councillors have been told the f...    XSum   \n",
       "14      <sos> fisheries ministers at the european unio...    XSum   \n",
       "22      <sos> a ukip office in south wales is inviting...    XSum   \n",
       "33      <sos> lebron james scored 32 points as the cle...    XSum   \n",
       "...                                                   ...     ...   \n",
       "226687  <sos> british number one johanna konta has mov...    XSum   \n",
       "226688  <sos> uncapped celtic midfielder callum mcgreg...    XSum   \n",
       "226693  <sos> canadian top seed milos raonic came from...    XSum   \n",
       "226694  <sos> nottinghamshire captain chris read has s...    XSum   \n",
       "226699  <sos> the price of an average house or flat in...    XSum   \n",
       "\n",
       "        article_len_approx  summary_len_approx  \n",
       "1                       85                  22  \n",
       "2                      133                  19  \n",
       "14                      48                  21  \n",
       "22                      59                  28  \n",
       "33                      93                  25  \n",
       "...                    ...                 ...  \n",
       "226687                  94                  22  \n",
       "226688                 132                  25  \n",
       "226693                  74                  27  \n",
       "226694                  64                  21  \n",
       "226699                 129                  29  \n",
       "\n",
       "[43563 rows x 6 columns]"
      ]
     },
     "execution_count": 13,
     "metadata": {},
     "output_type": "execute_result"
    },
    {
     "data": {
      "image/png": "[encoded data removed]",
      "text/plain": [
       "<Figure size 500x500 with 1 Axes>"
      ]
     },
     "metadata": {},
     "output_type": "display_data"
    },
    {
     "data": {
      "image/png": "[encoded data removed]",
      "text/plain": [
       "<Figure size 500x500 with 1 Axes>"
      ]
     },
     "metadata": {},
     "output_type": "display_data"
    },
    {
     "data": {
      "image/png": "[encoded data removed]",
      "text/plain": [
       "<Figure size 500x500 with 1 Axes>"
      ]
     },
     "metadata": {},
     "output_type": "display_data"
    },
    {
     "data": {
      "image/png": "[encoded data removed]",
      "text/plain": [
       "<Figure size 500x500 with 1 Axes>"
      ]
     },
     "metadata": {},
     "output_type": "display_data"
    }
   ],
   "source": [
    "print('Preparing xsum shorter ...')\n",
    "df_xsum_shorter = preprocessor.preprocess_frame(\n",
    "    xsum_raw.rename({\"Content\": \"article\", \"Summary\": \"summary\"}, axis=1).reset_index(drop=True),\n",
    "    (10, 150),\n",
    "    (3, 40)\n",
    ")\n",
    "print(df_xsum_shorter.describe())\n",
    "df_xsum_shorter"
   ]
  },
  {
   "cell_type": "markdown",
   "id": "ac60348f",
   "metadata": {
    "papermill": {
     "duration": 0.014411,
     "end_time": "2023-04-28T09:09:34.440102",
     "exception": false,
     "start_time": "2023-04-28T09:09:34.425691",
     "status": "completed"
    },
    "tags": []
   },
   "source": [
    "# EDIT - combine inshorts and xsum"
   ]
  },
  {
   "cell_type": "code",
   "execution_count": 14,
   "id": "4612ba79",
   "metadata": {
    "execution": {
     "iopub.execute_input": "2023-04-28T09:09:34.472094Z",
     "iopub.status.busy": "2023-04-28T09:09:34.471635Z",
     "iopub.status.idle": "2023-04-28T09:09:34.505041Z",
     "shell.execute_reply": "2023-04-28T09:09:34.503759Z"
    },
    "papermill": {
     "duration": 0.052869,
     "end_time": "2023-04-28T09:09:34.507866",
     "exception": false,
     "start_time": "2023-04-28T09:09:34.454997",
     "status": "completed"
    },
    "tags": []
   },
   "outputs": [
    {
     "data": {
      "text/html": [
       "<div>\n",
       "<style scoped>\n",
       "    .dataframe tbody tr th:only-of-type {\n",
       "        vertical-align: middle;\n",
       "    }\n",
       "\n",
       "    .dataframe tbody tr th {\n",
       "        vertical-align: top;\n",
       "    }\n",
       "\n",
       "    .dataframe thead th {\n",
       "        text-align: right;\n",
       "    }\n",
       "</style>\n",
       "<table border=\"1\" class=\"dataframe\">\n",
       "  <thead>\n",
       "    <tr style=\"text-align: right;\">\n",
       "      <th></th>\n",
       "      <th>summary</th>\n",
       "      <th>article</th>\n",
       "      <th>article_len_approx</th>\n",
       "      <th>summary_len_approx</th>\n",
       "      <th>ID</th>\n",
       "      <th>Dataset</th>\n",
       "    </tr>\n",
       "  </thead>\n",
       "  <tbody>\n",
       "    <tr>\n",
       "      <th>0</th>\n",
       "      <td>&lt;sos&gt; 4 ex-bank officials booked for cheating ...</td>\n",
       "      <td>&lt;sos&gt; the cbi on saturday booked four former o...</td>\n",
       "      <td>61</td>\n",
       "      <td>11</td>\n",
       "      <td>NaN</td>\n",
       "      <td>NaN</td>\n",
       "    </tr>\n",
       "    <tr>\n",
       "      <th>1</th>\n",
       "      <td>&lt;sos&gt; supreme court to go paperless in 6 month...</td>\n",
       "      <td>&lt;sos&gt; chief justice js khehar has said the sup...</td>\n",
       "      <td>59</td>\n",
       "      <td>10</td>\n",
       "      <td>NaN</td>\n",
       "      <td>NaN</td>\n",
       "    </tr>\n",
       "    <tr>\n",
       "      <th>2</th>\n",
       "      <td>&lt;sos&gt; at least 3 killed 30 injured in blast in...</td>\n",
       "      <td>&lt;sos&gt; at least three people were killed includ...</td>\n",
       "      <td>61</td>\n",
       "      <td>12</td>\n",
       "      <td>NaN</td>\n",
       "      <td>NaN</td>\n",
       "    </tr>\n",
       "    <tr>\n",
       "      <th>3</th>\n",
       "      <td>&lt;sos&gt; why has reliance been barred from tradin...</td>\n",
       "      <td>&lt;sos&gt; mukesh ambani-led reliance industries ri...</td>\n",
       "      <td>61</td>\n",
       "      <td>10</td>\n",
       "      <td>NaN</td>\n",
       "      <td>NaN</td>\n",
       "    </tr>\n",
       "    <tr>\n",
       "      <th>4</th>\n",
       "      <td>&lt;sos&gt; was stopped from entering my own studio ...</td>\n",
       "      <td>&lt;sos&gt; tv news anchor arnab goswami has said he...</td>\n",
       "      <td>61</td>\n",
       "      <td>12</td>\n",
       "      <td>NaN</td>\n",
       "      <td>NaN</td>\n",
       "    </tr>\n",
       "    <tr>\n",
       "      <th>...</th>\n",
       "      <td>...</td>\n",
       "      <td>...</td>\n",
       "      <td>...</td>\n",
       "      <td>...</td>\n",
       "      <td>...</td>\n",
       "      <td>...</td>\n",
       "    </tr>\n",
       "    <tr>\n",
       "      <th>98656</th>\n",
       "      <td>&lt;sos&gt; british number one johanna konta has mov...</td>\n",
       "      <td>&lt;sos&gt; heather watson the british number two ha...</td>\n",
       "      <td>94</td>\n",
       "      <td>22</td>\n",
       "      <td>35957814</td>\n",
       "      <td>XSum</td>\n",
       "    </tr>\n",
       "    <tr>\n",
       "      <th>98657</th>\n",
       "      <td>&lt;sos&gt; uncapped celtic midfielder callum mcgreg...</td>\n",
       "      <td>&lt;sos&gt; mcgregor 23 has previously been in gordo...</td>\n",
       "      <td>132</td>\n",
       "      <td>25</td>\n",
       "      <td>39990635</td>\n",
       "      <td>XSum</td>\n",
       "    </tr>\n",
       "    <tr>\n",
       "      <th>98658</th>\n",
       "      <td>&lt;sos&gt; canadian top seed milos raonic came from...</td>\n",
       "      <td>&lt;sos&gt; bedene 27 took the opening set against l...</td>\n",
       "      <td>74</td>\n",
       "      <td>27</td>\n",
       "      <td>39798803</td>\n",
       "      <td>XSum</td>\n",
       "    </tr>\n",
       "    <tr>\n",
       "      <th>98659</th>\n",
       "      <td>&lt;sos&gt; nottinghamshire captain chris read has s...</td>\n",
       "      <td>&lt;sos&gt; the 37-year-old wicketkeeper who made hi...</td>\n",
       "      <td>64</td>\n",
       "      <td>21</td>\n",
       "      <td>36333568</td>\n",
       "      <td>XSum</td>\n",
       "    </tr>\n",
       "    <tr>\n",
       "      <th>98660</th>\n",
       "      <td>&lt;sos&gt; the price of an average house or flat in...</td>\n",
       "      <td>&lt;sos&gt; the house price inflation rate remained ...</td>\n",
       "      <td>129</td>\n",
       "      <td>29</td>\n",
       "      <td>36833533</td>\n",
       "      <td>XSum</td>\n",
       "    </tr>\n",
       "  </tbody>\n",
       "</table>\n",
       "<p>98661 rows × 6 columns</p>\n",
       "</div>"
      ],
      "text/plain": [
       "                                                 summary  \\\n",
       "0      <sos> 4 ex-bank officials booked for cheating ...   \n",
       "1      <sos> supreme court to go paperless in 6 month...   \n",
       "2      <sos> at least 3 killed 30 injured in blast in...   \n",
       "3      <sos> why has reliance been barred from tradin...   \n",
       "4      <sos> was stopped from entering my own studio ...   \n",
       "...                                                  ...   \n",
       "98656  <sos> british number one johanna konta has mov...   \n",
       "98657  <sos> uncapped celtic midfielder callum mcgreg...   \n",
       "98658  <sos> canadian top seed milos raonic came from...   \n",
       "98659  <sos> nottinghamshire captain chris read has s...   \n",
       "98660  <sos> the price of an average house or flat in...   \n",
       "\n",
       "                                                 article  article_len_approx  \\\n",
       "0      <sos> the cbi on saturday booked four former o...                  61   \n",
       "1      <sos> chief justice js khehar has said the sup...                  59   \n",
       "2      <sos> at least three people were killed includ...                  61   \n",
       "3      <sos> mukesh ambani-led reliance industries ri...                  61   \n",
       "4      <sos> tv news anchor arnab goswami has said he...                  61   \n",
       "...                                                  ...                 ...   \n",
       "98656  <sos> heather watson the british number two ha...                  94   \n",
       "98657  <sos> mcgregor 23 has previously been in gordo...                 132   \n",
       "98658  <sos> bedene 27 took the opening set against l...                  74   \n",
       "98659  <sos> the 37-year-old wicketkeeper who made hi...                  64   \n",
       "98660  <sos> the house price inflation rate remained ...                 129   \n",
       "\n",
       "       summary_len_approx        ID Dataset  \n",
       "0                      11       NaN     NaN  \n",
       "1                      10       NaN     NaN  \n",
       "2                      12       NaN     NaN  \n",
       "3                      10       NaN     NaN  \n",
       "4                      12       NaN     NaN  \n",
       "...                   ...       ...     ...  \n",
       "98656                  22  35957814    XSum  \n",
       "98657                  25  39990635    XSum  \n",
       "98658                  27  39798803    XSum  \n",
       "98659                  21  36333568    XSum  \n",
       "98660                  29  36833533    XSum  \n",
       "\n",
       "[98661 rows x 6 columns]"
      ]
     },
     "execution_count": 14,
     "metadata": {},
     "output_type": "execute_result"
    }
   ],
   "source": [
    "df_combined = pd.concat([df_inshorts, df_xsum_shorter], ignore_index=True)\n",
    "df_combined"
   ]
  },
  {
   "cell_type": "code",
   "execution_count": 15,
   "id": "a42935f7",
   "metadata": {
    "execution": {
     "iopub.execute_input": "2023-04-28T09:09:34.540044Z",
     "iopub.status.busy": "2023-04-28T09:09:34.539583Z",
     "iopub.status.idle": "2023-04-28T09:09:35.877869Z",
     "shell.execute_reply": "2023-04-28T09:09:35.876896Z"
    },
    "papermill": {
     "duration": 1.357402,
     "end_time": "2023-04-28T09:09:35.880366",
     "exception": false,
     "start_time": "2023-04-28T09:09:34.522964",
     "status": "completed"
    },
    "tags": []
   },
   "outputs": [
    {
     "data": {
      "image/png": "[encoded data removed]",
      "text/plain": [
       "<Figure size 500x500 with 1 Axes>"
      ]
     },
     "metadata": {},
     "output_type": "display_data"
    },
    {
     "data": {
      "image/png": "[encoded data removed]",
      "text/plain": [
       "<Figure size 500x500 with 1 Axes>"
      ]
     },
     "metadata": {},
     "output_type": "display_data"
    }
   ],
   "source": [
    "preprocessor.plot_approx_lengths(df_combined)"
   ]
  },
  {
   "cell_type": "markdown",
   "id": "e466bd60",
   "metadata": {
    "papermill": {
     "duration": 0.015679,
     "end_time": "2023-04-28T09:09:35.912078",
     "exception": false,
     "start_time": "2023-04-28T09:09:35.896399",
     "status": "completed"
    },
    "tags": []
   },
   "source": [
    "## Assemble final train, validation and test sets"
   ]
  },
  {
   "cell_type": "code",
   "execution_count": 16,
   "id": "34b04b54",
   "metadata": {
    "execution": {
     "iopub.execute_input": "2023-04-28T09:09:35.946279Z",
     "iopub.status.busy": "2023-04-28T09:09:35.945292Z",
     "iopub.status.idle": "2023-04-28T09:09:35.958041Z",
     "shell.execute_reply": "2023-04-28T09:09:35.956815Z"
    },
    "papermill": {
     "duration": 0.032501,
     "end_time": "2023-04-28T09:09:35.960464",
     "exception": false,
     "start_time": "2023-04-28T09:09:35.927963",
     "status": "completed"
    },
    "tags": []
   },
   "outputs": [],
   "source": [
    "#  drop articles with only one member of length category, this will allow stratified split\n",
    "def ensure_min_summary_length_group_size(df: pd.DataFrame):\n",
    "    df = df[df.groupby('article_len_approx').summary_len_approx.transform('count') > 1]\n",
    "    return df\n",
    "\n",
    "# Stratified split into train, validation, test by article length\n",
    "def stratified_triple_split_by_article(df: pd.DataFrame, test_size=0.1, val_size=0.1):\n",
    "    df = ensure_min_summary_length_group_size(df)\n",
    "    df_trainval, df_test = train_test_split(\n",
    "        df,\n",
    "        test_size=test_size, \n",
    "        stratify=df['article_len_approx'],\n",
    "        random_state=SEED\n",
    "    )\n",
    "    df_trainval.shape, df_test.shape\n",
    "\n",
    "    # split train+val to train and validation,\n",
    "    # relative original full set with test set is 1.1 so we multiply the ratio to get ~|test|\n",
    "\n",
    "    df_trainval = ensure_min_summary_length_group_size(df_trainval)\n",
    "    df_train, df_val = train_test_split(\n",
    "        df_trainval,\n",
    "        test_size=val_size * (1 + test_size),\n",
    "        stratify=df_trainval['article_len_approx'],\n",
    "        random_state=SEED\n",
    "    )\n",
    "\n",
    "    return df_train, df_val, df_test\n",
    "\n",
    "def save_dataset(name: str, val_size: int, test_size: int, frame: int):\n",
    "    \n",
    "    print('Saving dataset ' + name)\n",
    "    \n",
    "    frame = frame[['article', 'summary', 'article_len_approx', 'summary_len_approx']].reset_index(drop=True)\n",
    "    \n",
    "    train, val, test = df_train, df_val, df_test = stratified_triple_split_by_article(\n",
    "        frame,\n",
    "        test_size=test_size,\n",
    "        val_size=val_size\n",
    "    )\n",
    "    \n",
    "    print(f\"Train:      {train.shape} - {1 - test_size - val_size}\")\n",
    "    print(f\"Validation: {val.shape} - {val_size}\")\n",
    "    print(f\"Test:       {test.shape} - {test_size}\")\n",
    "    \n",
    "    train.to_csv(name + f\"_v{val_size}_t{test_size}_train.csv\")\n",
    "    val.to_csv(name + f\"_v{val_size}_t{test_size}_val.csv\")\n",
    "    test.to_csv(name + f\"_v{val_size}_t{test_size}_test.csv\")\n",
    "    \n",
    "    print('Split and saved dataset ' + name)\n",
    "    "
   ]
  },
  {
   "cell_type": "code",
   "execution_count": 17,
   "id": "34ad1e5d",
   "metadata": {
    "execution": {
     "iopub.execute_input": "2023-04-28T09:09:35.994411Z",
     "iopub.status.busy": "2023-04-28T09:09:35.993955Z",
     "iopub.status.idle": "2023-04-28T09:09:37.558237Z",
     "shell.execute_reply": "2023-04-28T09:09:37.556828Z"
    },
    "papermill": {
     "duration": 1.584663,
     "end_time": "2023-04-28T09:09:37.560839",
     "exception": false,
     "start_time": "2023-04-28T09:09:35.976176",
     "status": "completed"
    },
    "tags": []
   },
   "outputs": [
    {
     "name": "stdout",
     "output_type": "stream",
     "text": [
      "Saving dataset combined_10-150_3-40\n",
      "Train:      (88806, 4) - 0.8999999999999999\n",
      "Validation: (4921, 4) - 0.05\n",
      "Test:       (4934, 4) - 0.05\n",
      "Split and saved dataset combined_10-150_3-40\n"
     ]
    }
   ],
   "source": [
    "save_dataset('combined_10-150_3-40', 0.05, 0.05, df_combined)"
   ]
  },
  {
   "cell_type": "code",
   "execution_count": 18,
   "id": "e9363c23",
   "metadata": {
    "execution": {
     "iopub.execute_input": "2023-04-28T09:09:37.595721Z",
     "iopub.status.busy": "2023-04-28T09:09:37.594561Z",
     "iopub.status.idle": "2023-04-28T09:09:38.890734Z",
     "shell.execute_reply": "2023-04-28T09:09:38.889224Z"
    },
    "papermill": {
     "duration": 1.317286,
     "end_time": "2023-04-28T09:09:38.894007",
     "exception": false,
     "start_time": "2023-04-28T09:09:37.576721",
     "status": "completed"
    },
    "tags": []
   },
   "outputs": [
    {
     "name": "stdout",
     "output_type": "stream",
     "text": [
      "__notebook__.ipynb\r\n",
      "combined_10-150_3-40_v0.05_t0.05_test.csv\r\n",
      "combined_10-150_3-40_v0.05_t0.05_train.csv\r\n",
      "combined_10-150_3-40_v0.05_t0.05_val.csv\r\n"
     ]
    }
   ],
   "source": [
    "!ls"
   ]
  },
  {
   "cell_type": "code",
   "execution_count": 19,
   "id": "fadf9e58",
   "metadata": {
    "execution": {
     "iopub.execute_input": "2023-04-28T09:09:38.928409Z",
     "iopub.status.busy": "2023-04-28T09:09:38.927921Z",
     "iopub.status.idle": "2023-04-28T09:09:38.933929Z",
     "shell.execute_reply": "2023-04-28T09:09:38.932999Z"
    },
    "papermill": {
     "duration": 0.026366,
     "end_time": "2023-04-28T09:09:38.936333",
     "exception": false,
     "start_time": "2023-04-28T09:09:38.909967",
     "status": "completed"
    },
    "tags": []
   },
   "outputs": [
    {
     "name": "stdout",
     "output_type": "stream",
     "text": [
      "Done\n"
     ]
    }
   ],
   "source": [
    "print(\"Done\")"
   ]
  },
  {
   "cell_type": "code",
   "execution_count": null,
   "id": "ba8b99f2",
   "metadata": {
    "papermill": {
     "duration": 0.015434,
     "end_time": "2023-04-28T09:09:38.967615",
     "exception": false,
     "start_time": "2023-04-28T09:09:38.952181",
     "status": "completed"
    },
    "tags": []
   },
   "outputs": [],
   "source": []
  }
 ],
 "metadata": {
  "kernelspec": {
   "display_name": "Python 3",
   "language": "python",
   "name": "python3"
  },
  "language_info": {
   "codemirror_mode": {
    "name": "ipython",
    "version": 3
   },
   "file_extension": ".py",
   "mimetype": "text/x-python",
   "name": "python",
   "nbconvert_exporter": "python",
   "pygments_lexer": "ipython3",
   "version": "3.7.12"
  },
  "papermill": {
   "default_parameters": {},
   "duration": 508.234212,
   "end_time": "2023-04-28T09:09:42.109881",
   "environment_variables": {},
   "exception": null,
   "input_path": "__notebook__.ipynb",
   "output_path": "__notebook__.ipynb",
   "parameters": {},
   "start_time": "2023-04-28T09:01:13.875669",
   "version": "2.4.0"
  }
 },
 "nbformat": 4,
 "nbformat_minor": 5
}
