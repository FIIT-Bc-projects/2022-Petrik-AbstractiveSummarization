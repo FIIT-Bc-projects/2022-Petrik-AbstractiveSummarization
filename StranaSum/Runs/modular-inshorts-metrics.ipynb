{
 "cells": [
  {
   "cell_type": "markdown",
   "id": "fd8c5615",
   "metadata": {
    "papermill": {
     "duration": 0.014975,
     "end_time": "2023-04-27T14:11:33.655846",
     "exception": false,
     "start_time": "2023-04-27T14:11:33.640871",
     "status": "completed"
    },
    "tags": []
   },
   "source": [
    "# Sebastian Petrik - Stranasum - Simple transformer abstractive summarization\n",
    "\n",
    "Inspired by:\n",
    "- https://www.kaggle.com/code/ashishsingh226/text-summarization-with-transformers\n",
    "- https://www.tensorflow.org/text/tutorials/transformer\n"
   ]
  },
  {
   "cell_type": "markdown",
   "id": "111d2815",
   "metadata": {
    "papermill": {
     "duration": 0.012937,
     "end_time": "2023-04-27T14:11:33.682159",
     "exception": false,
     "start_time": "2023-04-27T14:11:33.669222",
     "status": "completed"
    },
    "tags": []
   },
   "source": [
    "## Setup"
   ]
  },
  {
   "cell_type": "code",
   "execution_count": 1,
   "id": "950f114a",
   "metadata": {
    "execution": {
     "iopub.execute_input": "2023-04-27T14:11:33.709879Z",
     "iopub.status.busy": "2023-04-27T14:11:33.709478Z",
     "iopub.status.idle": "2023-04-27T14:11:58.189045Z",
     "shell.execute_reply": "2023-04-27T14:11:58.187857Z"
    },
    "papermill": {
     "duration": 24.496688,
     "end_time": "2023-04-27T14:11:58.191937",
     "exception": false,
     "start_time": "2023-04-27T14:11:33.695249",
     "status": "completed"
    },
    "tags": []
   },
   "outputs": [
    {
     "name": "stdout",
     "output_type": "stream",
     "text": [
      "\u001b[33mWARNING: Running pip as the 'root' user can result in broken permissions and conflicting behaviour with the system package manager. It is recommended to use a virtual environment instead: https://pip.pypa.io/warnings/venv\u001b[0m\u001b[33m\r\n",
      "\u001b[0m"
     ]
    }
   ],
   "source": [
    "!pip install --upgrade -q wandb --quiet\n",
    "!pip install evaluate rouge_score --quiet"
   ]
  },
  {
   "cell_type": "code",
   "execution_count": 2,
   "id": "37d028db",
   "metadata": {
    "execution": {
     "iopub.execute_input": "2023-04-27T14:11:58.221491Z",
     "iopub.status.busy": "2023-04-27T14:11:58.221166Z",
     "iopub.status.idle": "2023-04-27T14:11:58.226744Z",
     "shell.execute_reply": "2023-04-27T14:11:58.225718Z"
    },
    "papermill": {
     "duration": 0.022319,
     "end_time": "2023-04-27T14:11:58.228927",
     "exception": false,
     "start_time": "2023-04-27T14:11:58.206608",
     "status": "completed"
    },
    "tags": []
   },
   "outputs": [
    {
     "name": "stdout",
     "output_type": "stream",
     "text": [
      "kaggle_151J65sK68w7FfmTydC0sE87bsTqYa71banLd0a3gc-127459164-webtier\n"
     ]
    }
   ],
   "source": [
    "import os\n",
    "print(os.environ.get('KAGGLE_CONTAINER_NAME')) # check if kaggle"
   ]
  },
  {
   "cell_type": "code",
   "execution_count": 3,
   "id": "06d46912",
   "metadata": {
    "execution": {
     "iopub.execute_input": "2023-04-27T14:11:58.256537Z",
     "iopub.status.busy": "2023-04-27T14:11:58.256252Z",
     "iopub.status.idle": "2023-04-27T14:11:58.268780Z",
     "shell.execute_reply": "2023-04-27T14:11:58.267676Z"
    },
    "papermill": {
     "duration": 0.029052,
     "end_time": "2023-04-27T14:11:58.271165",
     "exception": false,
     "start_time": "2023-04-27T14:11:58.242113",
     "status": "completed"
    },
    "tags": []
   },
   "outputs": [
    {
     "data": {
      "text/plain": [
       "[('gensim', '4.0.1'),\n",
       " ('keras', '2.11.0'),\n",
       " ('numpy', '1.21.6'),\n",
       " ('pandas', '1.3.5'),\n",
       " ('tensorflow', '2.11.0'),\n",
       " ('tensorflow-datasets', '4.8.2'),\n",
       " ('tensorflow-estimator', '2.11.0'),\n",
       " ('tensorflow-text', '2.11.0'),\n",
       " ('wandb', '0.13.10')]"
      ]
     },
     "execution_count": 3,
     "metadata": {},
     "output_type": "execute_result"
    }
   ],
   "source": [
    "import pkg_resources\n",
    "sorted(list(filter(\n",
    "    lambda x: x[0] in ['numpy', 'pandas', 'tensorflow', 'tensorflow-text', 'keras', 'tensorflow-estimator', 'tensorflow-datasets', 'wandb', 'evaluate', 'rouge_score', 'gensim'],\n",
    "    [(i.key, i.version) for i in pkg_resources.working_set]\n",
    ")))"
   ]
  },
  {
   "cell_type": "code",
   "execution_count": 4,
   "id": "09e99c5d",
   "metadata": {
    "execution": {
     "iopub.execute_input": "2023-04-27T14:11:58.304188Z",
     "iopub.status.busy": "2023-04-27T14:11:58.303887Z",
     "iopub.status.idle": "2023-04-27T14:12:11.702687Z",
     "shell.execute_reply": "2023-04-27T14:12:11.701614Z"
    },
    "papermill": {
     "duration": 13.418274,
     "end_time": "2023-04-27T14:12:11.705334",
     "exception": false,
     "start_time": "2023-04-27T14:11:58.287060",
     "status": "completed"
    },
    "tags": []
   },
   "outputs": [],
   "source": [
    "# Imports\n",
    "import numpy as np\n",
    "import matplotlib.pyplot as plt\n",
    "import seaborn as sns\n",
    "import pandas as pd\n",
    "from collections import defaultdict\n",
    "import string\n",
    "import tensorflow as tf\n",
    "import re\n",
    "import os\n",
    "import time\n",
    "from tensorflow import keras\n",
    "from tensorflow.keras.layers import Dense, Input\n",
    "from tensorflow.keras.optimizers import Adam\n",
    "from tensorflow.keras.models import Model\n",
    "from tensorflow.keras.callbacks import ModelCheckpoint\n",
    "from sklearn.preprocessing import OneHotEncoder\n",
    "from sklearn.model_selection import train_test_split\n",
    "import operator as op\n",
    "import wandb\n",
    "from wandb.keras import WandbCallback\n",
    "from pprint import pprint\n",
    "import evaluate\n",
    "import gensim\n",
    "import gensim.downloader\n",
    "from tqdm import tqdm"
   ]
  },
  {
   "cell_type": "markdown",
   "id": "980ed9a3",
   "metadata": {
    "papermill": {
     "duration": 0.013262,
     "end_time": "2023-04-27T14:12:11.732574",
     "exception": false,
     "start_time": "2023-04-27T14:12:11.719312",
     "status": "completed"
    },
    "tags": []
   },
   "source": [
    "## Configuration and Wandb"
   ]
  },
  {
   "cell_type": "code",
   "execution_count": 5,
   "id": "64f8a27c",
   "metadata": {
    "execution": {
     "iopub.execute_input": "2023-04-27T14:12:11.761696Z",
     "iopub.status.busy": "2023-04-27T14:12:11.760387Z",
     "iopub.status.idle": "2023-04-27T14:12:11.766061Z",
     "shell.execute_reply": "2023-04-27T14:12:11.765120Z"
    },
    "papermill": {
     "duration": 0.022217,
     "end_time": "2023-04-27T14:12:11.768102",
     "exception": false,
     "start_time": "2023-04-27T14:12:11.745885",
     "status": "completed"
    },
    "tags": []
   },
   "outputs": [],
   "source": [
    "# Setup seeds\n",
    "os.environ['TF_CUDNN_DETERMINISTIC'] = '1' \n",
    "np.random.seed(42)\n",
    "tf.random.set_seed(42)"
   ]
  },
  {
   "cell_type": "code",
   "execution_count": 6,
   "id": "d954c431",
   "metadata": {
    "execution": {
     "iopub.execute_input": "2023-04-27T14:12:11.796475Z",
     "iopub.status.busy": "2023-04-27T14:12:11.795689Z",
     "iopub.status.idle": "2023-04-27T14:12:11.804553Z",
     "shell.execute_reply": "2023-04-27T14:12:11.802938Z"
    },
    "papermill": {
     "duration": 0.025212,
     "end_time": "2023-04-27T14:12:11.806639",
     "exception": false,
     "start_time": "2023-04-27T14:12:11.781427",
     "status": "completed"
    },
    "tags": []
   },
   "outputs": [
    {
     "name": "stdout",
     "output_type": "stream",
     "text": [
      "Config:\n",
      "{'batch_size': 256,\n",
      " 'd_model': 128,\n",
      " 'dataset_name': 'inshorts_10-70_3-16_v0.05_t0.05',\n",
      " 'dff': 512,\n",
      " 'dropout_rate': 0.1,\n",
      " 'early_stopping_patience': 3,\n",
      " 'embedding_mode': 'normal',\n",
      " 'embeddings_trainable': False,\n",
      " 'host': 'kaggle',\n",
      " 'learning_rate_warmup_steps': 4000,\n",
      " 'max_epochs': 20,\n",
      " 'max_input_length': 70,\n",
      " 'max_target_length': 16,\n",
      " 'num_heads': 8,\n",
      " 'num_layers': 3,\n",
      " 'test_split': 0.05,\n",
      " 'val_split': 0.05,\n",
      " 'wandb_group': '-',\n",
      " 'wandb_project': 'stranasum-dev'}\n"
     ]
    }
   ],
   "source": [
    "CONFIG = dict(\n",
    "    # Meta\n",
    "    wandb_project = 'stranasum-dev',\n",
    "    wandb_group = '-',\n",
    "    host = 'kaggle',\n",
    "    \n",
    "    # Data\n",
    "    dataset_name = \"inshorts_10-70_3-16_v0.05_t0.05\",\n",
    "    val_split = 0.05,\n",
    "    test_split = 0.05,\n",
    "    \n",
    "    # Sequences\n",
    "    # - define lengths according to data\n",
    "    max_input_length = 70, # Encoder sequence length, max article len, max token count in Encoder.\n",
    "    max_target_length = 16, # Decoder sequence length, max summary len, max token count in Decoder.\n",
    "    \n",
    "    # Embeddings\n",
    "    embedding_mode = 'normal', # normal, glove840b300d\n",
    "    embeddings_trainable = False, # only for pretrained embeddings\n",
    "\n",
    "    # Transformer hyperparameters\n",
    "    num_layers = 3, # 4\n",
    "    d_model = 128, # 128 -> embedding length ~ dimensions\n",
    "    dff = 512, # 512\n",
    "    num_heads = 8, # 8\n",
    "    dropout_rate = 0.1, # 0.1\n",
    "\n",
    "    # Training\n",
    "    early_stopping_patience = 3, # patience - num of non-improving consecutive epochs\n",
    "    max_epochs = 20, # 15\n",
    "    batch_size = 256, # 256\n",
    "    learning_rate_warmup_steps = 4000 # 4000\n",
    ")\n",
    "\n",
    "print(\"Config:\")\n",
    "pprint(CONFIG)"
   ]
  },
  {
   "cell_type": "code",
   "execution_count": 7,
   "id": "389f367f",
   "metadata": {
    "execution": {
     "iopub.execute_input": "2023-04-27T14:12:11.835397Z",
     "iopub.status.busy": "2023-04-27T14:12:11.834414Z",
     "iopub.status.idle": "2023-04-27T14:12:14.190614Z",
     "shell.execute_reply": "2023-04-27T14:12:14.189579Z"
    },
    "papermill": {
     "duration": 2.372714,
     "end_time": "2023-04-27T14:12:14.192860",
     "exception": false,
     "start_time": "2023-04-27T14:12:11.820146",
     "status": "completed"
    },
    "tags": []
   },
   "outputs": [
    {
     "name": "stderr",
     "output_type": "stream",
     "text": [
      "\u001b[34m\u001b[1mwandb\u001b[0m: W&B API key is configured. Use \u001b[1m`wandb login --relogin`\u001b[0m to force relogin\n",
      "\u001b[34m\u001b[1mwandb\u001b[0m: \u001b[33mWARNING\u001b[0m If you're specifying your api key in code, ensure this code is not shared publicly.\n",
      "\u001b[34m\u001b[1mwandb\u001b[0m: \u001b[33mWARNING\u001b[0m Consider setting the WANDB_API_KEY environment variable, or running `wandb login` from the command line.\n",
      "\u001b[34m\u001b[1mwandb\u001b[0m: Appending key for api.wandb.ai to your netrc file: /root/.netrc\n"
     ]
    },
    {
     "data": {
      "text/plain": [
       "True"
      ]
     },
     "execution_count": 7,
     "metadata": {},
     "output_type": "execute_result"
    }
   ],
   "source": [
    "from kaggle_secrets import UserSecretsClient\n",
    "user_secrets = UserSecretsClient()\n",
    "wandb.login(key=user_secrets.get_secret(\"wandb\"))"
   ]
  },
  {
   "cell_type": "markdown",
   "id": "e7995902",
   "metadata": {
    "papermill": {
     "duration": 0.013509,
     "end_time": "2023-04-27T14:12:14.220365",
     "exception": false,
     "start_time": "2023-04-27T14:12:14.206856",
     "status": "completed"
    },
    "tags": []
   },
   "source": [
    "## Data loading"
   ]
  },
  {
   "cell_type": "markdown",
   "id": "8a581c6b",
   "metadata": {
    "papermill": {
     "duration": 0.013519,
     "end_time": "2023-04-27T14:12:14.247543",
     "exception": false,
     "start_time": "2023-04-27T14:12:14.234024",
     "status": "completed"
    },
    "tags": []
   },
   "source": [
    "- load data from preprocessing"
   ]
  },
  {
   "cell_type": "code",
   "execution_count": 8,
   "id": "e0817735",
   "metadata": {
    "execution": {
     "iopub.execute_input": "2023-04-27T14:12:14.277035Z",
     "iopub.status.busy": "2023-04-27T14:12:14.276066Z",
     "iopub.status.idle": "2023-04-27T14:12:16.227842Z",
     "shell.execute_reply": "2023-04-27T14:12:16.226589Z"
    },
    "papermill": {
     "duration": 1.969459,
     "end_time": "2023-04-27T14:12:16.230770",
     "exception": false,
     "start_time": "2023-04-27T14:12:14.261311",
     "status": "completed"
    },
    "tags": []
   },
   "outputs": [
    {
     "name": "stdout",
     "output_type": "stream",
     "text": [
      "glove840b300dtxt  nlpword2vecembeddingspretrained  pmxy-stranasum-preprocessing\r\n",
      "__notebook__.ipynb\r\n",
      "__output__.json\r\n",
      "__results__.html\r\n",
      "__results___files\r\n",
      "custom.css\r\n",
      "inshorts_10-70_3-16_v0.05_t0.05_test.csv\r\n",
      "inshorts_10-70_3-16_v0.05_t0.05_train.csv\r\n",
      "inshorts_10-70_3-16_v0.05_t0.05_val.csv\r\n",
      "inshorts_10-70_3-16_v0.1_t0.1_test.csv\r\n",
      "inshorts_10-70_3-16_v0.1_t0.1_train.csv\r\n",
      "inshorts_10-70_3-16_v0.1_t0.1_val.csv\r\n",
      "xsum_10-150_3-40_v0.05_t0.05_test.csv\r\n",
      "xsum_10-150_3-40_v0.05_t0.05_train.csv\r\n",
      "xsum_10-150_3-40_v0.05_t0.05_val.csv\r\n",
      "xsum_10-150_3-40_v0.1_t0.1_test.csv\r\n",
      "xsum_10-150_3-40_v0.1_t0.1_train.csv\r\n",
      "xsum_10-150_3-40_v0.1_t0.1_val.csv\r\n",
      "xsum_10-300_3-40_v0.05_t0.05_test.csv\r\n",
      "xsum_10-300_3-40_v0.05_t0.05_train.csv\r\n",
      "xsum_10-300_3-40_v0.05_t0.05_val.csv\r\n",
      "xsum_10-300_3-40_v0.1_t0.1_test.csv\r\n",
      "xsum_10-300_3-40_v0.1_t0.1_train.csv\r\n",
      "xsum_10-300_3-40_v0.1_t0.1_val.csv\r\n"
     ]
    }
   ],
   "source": [
    "# show available data\n",
    "!ls ../input\n",
    "!ls ../input/pmxy-stranasum-preprocessing"
   ]
  },
  {
   "cell_type": "code",
   "execution_count": 9,
   "id": "01e3fa40",
   "metadata": {
    "execution": {
     "iopub.execute_input": "2023-04-27T14:12:16.262323Z",
     "iopub.status.busy": "2023-04-27T14:12:16.261290Z",
     "iopub.status.idle": "2023-04-27T14:12:17.121265Z",
     "shell.execute_reply": "2023-04-27T14:12:17.119768Z"
    },
    "papermill": {
     "duration": 0.878747,
     "end_time": "2023-04-27T14:12:17.124239",
     "exception": false,
     "start_time": "2023-04-27T14:12:16.245492",
     "status": "completed"
    },
    "tags": []
   },
   "outputs": [
    {
     "name": "stdout",
     "output_type": "stream",
     "text": [
      "Train: (49593, 5)\n",
      "Val: (2748, 5)\n",
      "Test: (2755, 5)\n"
     ]
    }
   ],
   "source": [
    "dataset_dir = \"../input/pmxy-stranasum-preprocessing\"\n",
    "df_train = pd.read_csv(f\"{dataset_dir}/{CONFIG['dataset_name']}_train.csv\")\n",
    "df_val = pd.read_csv(f\"{dataset_dir}/{CONFIG['dataset_name']}_val.csv\")\n",
    "df_test = pd.read_csv(f\"{dataset_dir}/{CONFIG['dataset_name']}_test.csv\")\n",
    "\n",
    "print(\"Train:\", df_train.shape)\n",
    "print(\"Val:\", df_val.shape)\n",
    "print(\"Test:\", df_test.shape)"
   ]
  },
  {
   "cell_type": "markdown",
   "id": "d33887d3",
   "metadata": {
    "papermill": {
     "duration": 0.036961,
     "end_time": "2023-04-27T14:12:17.181403",
     "exception": false,
     "start_time": "2023-04-27T14:12:17.144442",
     "status": "completed"
    },
    "tags": []
   },
   "source": [
    "# Tokenization"
   ]
  },
  {
   "cell_type": "code",
   "execution_count": 10,
   "id": "8f302d94",
   "metadata": {
    "execution": {
     "iopub.execute_input": "2023-04-27T14:12:17.228634Z",
     "iopub.status.busy": "2023-04-27T14:12:17.228251Z",
     "iopub.status.idle": "2023-04-27T14:12:27.209651Z",
     "shell.execute_reply": "2023-04-27T14:12:27.208583Z"
    },
    "papermill": {
     "duration": 10.000289,
     "end_time": "2023-04-27T14:12:27.212167",
     "exception": false,
     "start_time": "2023-04-27T14:12:17.211878",
     "status": "completed"
    },
    "tags": []
   },
   "outputs": [
    {
     "name": "stdout",
     "output_type": "stream",
     "text": [
      "Tokenizer maxlen=70, top vocabulary: ['', '[UNK]', 'the', 'to', 'in', 'of', 'a', 'and', '<sos>', '<eos>']\n",
      "Tokenizer maxlen=16, top vocabulary: ['', '[UNK]', '<sos>', '<eos>', 'to', 'in', 's', 'for', 'of', 'on']\n"
     ]
    }
   ],
   "source": [
    "# Custom tokenizer\n",
    "class Tokenizer(tf.Module):\n",
    "    \n",
    "    def __init__(self, vectorization_dataset: tf.data.Dataset, max_length: int):\n",
    "        super().__init__(name=\"Tokenizer\")\n",
    "        \n",
    "        self.max_length = max_length\n",
    "        \n",
    "        # Create and fit vectorizer from dataset\n",
    "        self.vectorizer = tf.keras.layers.TextVectorization(\n",
    "            output_mode='int',\n",
    "            output_sequence_length=self.max_length,\n",
    "            standardize=None\n",
    "        )\n",
    "        self.vectorizer.adapt(vectorization_dataset.batch(1024))\n",
    "        \n",
    "        # conversions\n",
    "        self.word_to_id = tf.keras.layers.StringLookup(\n",
    "            vocabulary=self.vectorizer.get_vocabulary(),\n",
    "            mask_token='', oov_token='[UNK]'\n",
    "        )\n",
    "        self.id_to_word = tf.keras.layers.StringLookup(\n",
    "            vocabulary=self.vectorizer.get_vocabulary(),\n",
    "            mask_token='', oov_token='[UNK]',\n",
    "            invert=True\n",
    "        )\n",
    "        \n",
    "        # attributes\n",
    "        self.vocab_size = self.vectorizer.vocabulary_size()\n",
    "        self.start_token = self.word_to_id('<sos>')\n",
    "        self.end_token = self.word_to_id('<eos>')\n",
    "        \n",
    "        print(f\"Tokenizer maxlen={self.max_length}, top vocabulary: {self.vectorizer.get_vocabulary()[:10]}\")\n",
    "        \n",
    "        \n",
    "    # to convert text to tokens, call vectorizer directly !\n",
    "        \n",
    "    # convert tokens back to text\n",
    "    @tf.function\n",
    "    def tokens_to_text(self, tokens):\n",
    "        words = self.id_to_word(tokens)\n",
    "        result = tf.strings.reduce_join(words, axis=-1, separator=' ')\n",
    "        result = tf.strings.regex_replace(result, '^ *<sos> *', '')\n",
    "        result = tf.strings.regex_replace(result, ' *<eos> *$', '')\n",
    "        result = tf.strings.regex_replace(result, '<dot>', '.')\n",
    "        return result\n",
    "\n",
    "# Setup tokenizers\n",
    "\n",
    "input_tokenizer = Tokenizer(\n",
    "    tf.data.Dataset.from_tensor_slices(df_train['article']),\n",
    "    CONFIG['max_input_length']\n",
    ")\n",
    "\n",
    "target_tokenizer = Tokenizer(\n",
    "    tf.data.Dataset.from_tensor_slices(df_train['summary']),\n",
    "    CONFIG['max_target_length']\n",
    ")"
   ]
  },
  {
   "cell_type": "code",
   "execution_count": 11,
   "id": "22b120f2",
   "metadata": {
    "execution": {
     "iopub.execute_input": "2023-04-27T14:12:27.242370Z",
     "iopub.status.busy": "2023-04-27T14:12:27.242049Z",
     "iopub.status.idle": "2023-04-27T14:12:27.317853Z",
     "shell.execute_reply": "2023-04-27T14:12:27.316831Z"
    },
    "papermill": {
     "duration": 0.093916,
     "end_time": "2023-04-27T14:12:27.320404",
     "exception": false,
     "start_time": "2023-04-27T14:12:27.226488",
     "status": "completed"
    },
    "tags": []
   },
   "outputs": [
    {
     "data": {
      "text/plain": [
       "<tf.Tensor: shape=(1, 70), dtype=int64, numpy=\n",
       "array([[    8,     2,  1756, 10598,     2,   398,     9,     0,     0,\n",
       "            0,     0,     0,     0,     0,     0,     0,     0,     0,\n",
       "            0,     0,     0,     0,     0,     0,     0,     0,     0,\n",
       "            0,     0,     0,     0,     0,     0,     0,     0,     0,\n",
       "            0,     0,     0,     0,     0,     0,     0,     0,     0,\n",
       "            0,     0,     0,     0,     0,     0,     0,     0,     0,\n",
       "            0,     0,     0,     0,     0,     0,     0,     0,     0,\n",
       "            0,     0,     0,     0,     0,     0,     0]])>"
      ]
     },
     "execution_count": 11,
     "metadata": {},
     "output_type": "execute_result"
    }
   ],
   "source": [
    "# try out \n",
    "sample_tokens = input_tokenizer.vectorizer(tf.constant(['<sos> the dog ate the food <eos>']))\n",
    "sample_tokens"
   ]
  },
  {
   "cell_type": "code",
   "execution_count": 12,
   "id": "9674eced",
   "metadata": {
    "execution": {
     "iopub.execute_input": "2023-04-27T14:12:27.351032Z",
     "iopub.status.busy": "2023-04-27T14:12:27.350646Z",
     "iopub.status.idle": "2023-04-27T14:12:27.570772Z",
     "shell.execute_reply": "2023-04-27T14:12:27.569579Z"
    },
    "papermill": {
     "duration": 0.238135,
     "end_time": "2023-04-27T14:12:27.573401",
     "exception": false,
     "start_time": "2023-04-27T14:12:27.335266",
     "status": "completed"
    },
    "tags": []
   },
   "outputs": [
    {
     "data": {
      "text/plain": [
       "array(['the dog ate the food'], dtype='<U20')"
      ]
     },
     "execution_count": 12,
     "metadata": {},
     "output_type": "execute_result"
    }
   ],
   "source": [
    "input_tokenizer.tokens_to_text(sample_tokens).numpy().astype('str') # binary string tensor into decoded string array"
   ]
  },
  {
   "cell_type": "code",
   "execution_count": 13,
   "id": "320d8d9c",
   "metadata": {
    "execution": {
     "iopub.execute_input": "2023-04-27T14:12:27.604423Z",
     "iopub.status.busy": "2023-04-27T14:12:27.604116Z",
     "iopub.status.idle": "2023-04-27T14:12:27.643569Z",
     "shell.execute_reply": "2023-04-27T14:12:27.642570Z"
    },
    "papermill": {
     "duration": 0.057159,
     "end_time": "2023-04-27T14:12:27.645746",
     "exception": false,
     "start_time": "2023-04-27T14:12:27.588587",
     "status": "completed"
    },
    "tags": []
   },
   "outputs": [
    {
     "data": {
      "text/plain": [
       "<tf.Tensor: shape=(16,), dtype=int64, numpy=\n",
       "array([   2,   11,   35,   37, 2727,    3,    0,    0,    0,    0,    0,\n",
       "          0,    0,    0,    0,    0])>"
      ]
     },
     "execution_count": 13,
     "metadata": {},
     "output_type": "execute_result"
    }
   ],
   "source": [
    "target_tokenizer.vectorizer(tf.constant('<sos> a man was murdered <eos>'))"
   ]
  },
  {
   "cell_type": "code",
   "execution_count": 14,
   "id": "ac147526",
   "metadata": {
    "execution": {
     "iopub.execute_input": "2023-04-27T14:12:27.678145Z",
     "iopub.status.busy": "2023-04-27T14:12:27.677843Z",
     "iopub.status.idle": "2023-04-27T14:12:27.684229Z",
     "shell.execute_reply": "2023-04-27T14:12:27.682449Z"
    },
    "papermill": {
     "duration": 0.024433,
     "end_time": "2023-04-27T14:12:27.686453",
     "exception": false,
     "start_time": "2023-04-27T14:12:27.662020",
     "status": "completed"
    },
    "tags": []
   },
   "outputs": [],
   "source": [
    "def convert_to_tokenized_sequences(input_texts: np.array, target_texts: np.array):\n",
    "    \n",
    "    # convert numpy text arrays into vectors\n",
    "    inputs = input_tokenizer.vectorizer(input_texts)\n",
    "    targets = target_tokenizer.vectorizer(target_texts)\n",
    "    \n",
    "    # drop EOS token\n",
    "    targets_inputs = targets[:,:-1]\n",
    "    \n",
    "    # drop SOS token, shifting sequence 1 step behind providing next word labels for each step\n",
    "    targets_labels = targets[:,1:]\n",
    "    \n",
    "    return (inputs, targets_inputs), targets_labels"
   ]
  },
  {
   "cell_type": "code",
   "execution_count": 15,
   "id": "37fddbce",
   "metadata": {
    "execution": {
     "iopub.execute_input": "2023-04-27T14:12:27.717223Z",
     "iopub.status.busy": "2023-04-27T14:12:27.716937Z",
     "iopub.status.idle": "2023-04-27T14:12:28.646222Z",
     "shell.execute_reply": "2023-04-27T14:12:28.645063Z"
    },
    "papermill": {
     "duration": 0.947155,
     "end_time": "2023-04-27T14:12:28.648504",
     "exception": false,
     "start_time": "2023-04-27T14:12:27.701349",
     "status": "completed"
    },
    "tags": []
   },
   "outputs": [
    {
     "name": "stdout",
     "output_type": "stream",
     "text": [
      "Sample single batch from dataset:\n",
      "(256, 70)\n",
      "(256, 15)\n",
      "(256, 15)\n",
      "tf.Tensor(\n",
      "[   2   57 2767 2718    8   21 2305    5 2535  911   25   86    3    0\n",
      "    0], shape=(15,), dtype=int64)\n",
      "tf.Tensor(\n",
      "[  57 2767 2718    8   21 2305    5 2535  911   25   86    3    0    0\n",
      "    0], shape=(15,), dtype=int64)\n"
     ]
    }
   ],
   "source": [
    "# Apply tokenization and create batched tf datasets ...\n",
    "\n",
    "# convert to sequences and then into a tensorflow dataset\n",
    "# shuffle - shuffle with buffer size = size of data for full uniform shuffle\n",
    "\n",
    "dataset_train = tf.data.Dataset.from_tensor_slices(\n",
    "    convert_to_tokenized_sequences(df_train['article'], df_train['summary'])\n",
    ").shuffle(df_train.shape[0]).batch(CONFIG['batch_size'])\n",
    "\n",
    "dataset_val = tf.data.Dataset.from_tensor_slices(\n",
    "    convert_to_tokenized_sequences(df_val['article'], df_val['summary'])\n",
    ").shuffle(df_val.shape[0]).batch(CONFIG['batch_size'])\n",
    "\n",
    "# take 1 sample batch for further inspection (later)\n",
    "for (sample_input, sample_target), sample_target_labels in dataset_train.take(1):\n",
    "    break\n",
    "    \n",
    "print('Sample single batch from dataset:')\n",
    "\n",
    "print(sample_input.shape)\n",
    "print(sample_target.shape)\n",
    "print(sample_target_labels.shape)\n",
    "\n",
    "print(sample_target[0])\n",
    "print(sample_target_labels[0])"
   ]
  },
  {
   "cell_type": "code",
   "execution_count": 16,
   "id": "4d07edf8",
   "metadata": {
    "execution": {
     "iopub.execute_input": "2023-04-27T14:12:28.680245Z",
     "iopub.status.busy": "2023-04-27T14:12:28.679921Z",
     "iopub.status.idle": "2023-04-27T14:12:28.708805Z",
     "shell.execute_reply": "2023-04-27T14:12:28.707791Z"
    },
    "papermill": {
     "duration": 0.047161,
     "end_time": "2023-04-27T14:12:28.711160",
     "exception": false,
     "start_time": "2023-04-27T14:12:28.663999",
     "status": "completed"
    },
    "tags": []
   },
   "outputs": [
    {
     "name": "stdout",
     "output_type": "stream",
     "text": [
      "tf.Tensor(\n",
      "[8 9 1 1 1 1 0 0 0 0 0 0 0 0 0 0 0 0 0 0 0 0 0 0 0 0 0 0 0 0 0 0 0 0 0 0 0\n",
      " 0 0 0 0 0 0 0 0 0 0 0 0 0 0 0 0 0 0 0 0 0 0 0 0 0 0 0 0 0 0 0 0 0], shape=(70,), dtype=int64)\n",
      "tf.Tensor([2 3 1 1 1 1 0 0 0 0 0 0 0 0 0 0], shape=(16,), dtype=int64)\n"
     ]
    }
   ],
   "source": [
    "# try to get special token numbers so we can see them in prints\n",
    "print(input_tokenizer.vectorizer(tf.constant('<sos> <eos> <unk> [UNK] <dot> <pad>')))\n",
    "print(target_tokenizer.vectorizer(tf.constant('<sos> <eos> <unk> [UNK] <dot> <pad>')))"
   ]
  },
  {
   "cell_type": "markdown",
   "id": "1fd32ab1",
   "metadata": {
    "papermill": {
     "duration": 0.014551,
     "end_time": "2023-04-27T14:12:28.740302",
     "exception": false,
     "start_time": "2023-04-27T14:12:28.725751",
     "status": "completed"
    },
    "tags": []
   },
   "source": [
    "## Pretrained embeddings"
   ]
  },
  {
   "cell_type": "code",
   "execution_count": 17,
   "id": "0c0b4b9d",
   "metadata": {
    "execution": {
     "iopub.execute_input": "2023-04-27T14:12:28.771272Z",
     "iopub.status.busy": "2023-04-27T14:12:28.770270Z",
     "iopub.status.idle": "2023-04-27T14:12:28.775305Z",
     "shell.execute_reply": "2023-04-27T14:12:28.774251Z"
    },
    "papermill": {
     "duration": 0.022838,
     "end_time": "2023-04-27T14:12:28.777725",
     "exception": false,
     "start_time": "2023-04-27T14:12:28.754887",
     "status": "completed"
    },
    "tags": []
   },
   "outputs": [],
   "source": [
    "# (Legacy)\n",
    "# glove_vectors = gensim.downloader.load('glove-twitter-25')\n",
    "# glove_vectors.most_similar('queen')\n",
    "# glove_vectors.vectors.shape"
   ]
  },
  {
   "cell_type": "code",
   "execution_count": 18,
   "id": "90e8807e",
   "metadata": {
    "execution": {
     "iopub.execute_input": "2023-04-27T14:12:28.808044Z",
     "iopub.status.busy": "2023-04-27T14:12:28.807740Z",
     "iopub.status.idle": "2023-04-27T14:12:28.814645Z",
     "shell.execute_reply": "2023-04-27T14:12:28.813557Z"
    },
    "papermill": {
     "duration": 0.02459,
     "end_time": "2023-04-27T14:12:28.816860",
     "exception": false,
     "start_time": "2023-04-27T14:12:28.792270",
     "status": "completed"
    },
    "tags": []
   },
   "outputs": [],
   "source": [
    "def create_emb_matrix(tokenizer, embedding_vectors):\n",
    "    hits = 0\n",
    "    misses = 0\n",
    "    embedding_dim = 300\n",
    "\n",
    "    tokenizer_vocabulary = tokenizer.vectorizer.get_vocabulary()\n",
    "    embedding_matrix = np.zeros((tokenizer.vocab_size, embedding_dim))\n",
    "\n",
    "    for i in tqdm(range(tokenizer.vocab_size)):\n",
    "        embedding_val = embedding_vectors.get(tokenizer_vocabulary[i])\n",
    "\n",
    "        if embedding_val is not None:\n",
    "            embedding_matrix[i] = embedding_val\n",
    "            hits += 1\n",
    "        else:\n",
    "            misses += 1\n",
    "\n",
    "    print(\"Converted %d words (%d misses)\" % (hits, misses))\n",
    "\n",
    "    return embedding_matrix"
   ]
  },
  {
   "cell_type": "code",
   "execution_count": 19,
   "id": "66abb045",
   "metadata": {
    "execution": {
     "iopub.execute_input": "2023-04-27T14:12:28.847410Z",
     "iopub.status.busy": "2023-04-27T14:12:28.847107Z",
     "iopub.status.idle": "2023-04-27T14:12:28.853469Z",
     "shell.execute_reply": "2023-04-27T14:12:28.852413Z"
    },
    "papermill": {
     "duration": 0.02431,
     "end_time": "2023-04-27T14:12:28.855627",
     "exception": false,
     "start_time": "2023-04-27T14:12:28.831317",
     "status": "completed"
    },
    "tags": []
   },
   "outputs": [],
   "source": [
    "input_emb_matrix = None\n",
    "target_emb_matrix = None\n",
    "\n",
    "if CONFIG['embedding_mode'] == 'glove840b300d':\n",
    "    print(\"Setting up glove 840b 300d embeddings...\")\n",
    "    \n",
    "    embedding_vectors = {}\n",
    "    \n",
    "    # load glove\n",
    "    f = open('../input/glove840b300dtxt/glove.840B.300d.txt')\n",
    "    for line in tqdm(f):\n",
    "        value = line.split(' ')\n",
    "        word = value[0]\n",
    "        coef = np.array(value[1:],dtype = 'float32')\n",
    "        embedding_vectors[word] = coef\n",
    "        \n",
    "    # create matrices for tokenizers\n",
    "    input_emb_matrix = create_emb_matrix(input_tokenizer, embedding_vectors)\n",
    "    target_emb_matrix = create_emb_matrix(target_tokenizer, embedding_vectors)"
   ]
  },
  {
   "cell_type": "markdown",
   "id": "0cb901a3",
   "metadata": {
    "papermill": {
     "duration": 0.014333,
     "end_time": "2023-04-27T14:12:28.884210",
     "exception": false,
     "start_time": "2023-04-27T14:12:28.869877",
     "status": "completed"
    },
    "tags": []
   },
   "source": [
    "## Transformer model implementation"
   ]
  },
  {
   "cell_type": "code",
   "execution_count": 20,
   "id": "98b81f78",
   "metadata": {
    "execution": {
     "iopub.execute_input": "2023-04-27T14:12:28.915146Z",
     "iopub.status.busy": "2023-04-27T14:12:28.914841Z",
     "iopub.status.idle": "2023-04-27T14:12:29.706969Z",
     "shell.execute_reply": "2023-04-27T14:12:29.706066Z"
    },
    "papermill": {
     "duration": 0.813537,
     "end_time": "2023-04-27T14:12:29.712355",
     "exception": false,
     "start_time": "2023-04-27T14:12:28.898818",
     "status": "completed"
    },
    "tags": []
   },
   "outputs": [
    {
     "name": "stdout",
     "output_type": "stream",
     "text": [
      "Positional encoding shape (2048, 512)\n"
     ]
    },
    {
     "data": {
      "image/png": "[encoded data removed]",
      "text/plain": [
       "<Figure size 640x480 with 2 Axes>"
      ]
     },
     "metadata": {},
     "output_type": "display_data"
    }
   ],
   "source": [
    "def positional_encoding(length, depth):\n",
    "    depth = depth/2\n",
    "\n",
    "    positions = np.arange(length)[:, np.newaxis]     # (seq, 1)\n",
    "    depths = np.arange(depth)[np.newaxis, :]/depth   # (1, depth)\n",
    "\n",
    "    angle_rates = 1 / (10000**depths)         # (1, depth)\n",
    "    angle_rads = positions * angle_rates      # (pos, depth)\n",
    "\n",
    "    pos_encoding = np.concatenate(\n",
    "      [np.sin(angle_rads), np.cos(angle_rads)],\n",
    "      axis=-1) \n",
    "\n",
    "    return tf.cast(pos_encoding, dtype=tf.float32)\n",
    "\n",
    "# We try out the encoding func\n",
    "pos_encoding = positional_encoding(length=2048, depth=512)\n",
    "print('Positional encoding shape', pos_encoding.shape) # Check the shape.\n",
    "\n",
    "# Plot the dimensions.\n",
    "plt.pcolormesh(pos_encoding.numpy().T, cmap='RdBu')\n",
    "plt.ylabel('Depth')\n",
    "plt.xlabel('Position')\n",
    "plt.colorbar()\n",
    "plt.show()"
   ]
  },
  {
   "cell_type": "code",
   "execution_count": 21,
   "id": "a12b34b7",
   "metadata": {
    "execution": {
     "iopub.execute_input": "2023-04-27T14:12:29.750295Z",
     "iopub.status.busy": "2023-04-27T14:12:29.749936Z",
     "iopub.status.idle": "2023-04-27T14:12:29.759700Z",
     "shell.execute_reply": "2023-04-27T14:12:29.758710Z"
    },
    "papermill": {
     "duration": 0.031605,
     "end_time": "2023-04-27T14:12:29.761859",
     "exception": false,
     "start_time": "2023-04-27T14:12:29.730254",
     "status": "completed"
    },
    "tags": []
   },
   "outputs": [],
   "source": [
    "class TransformerEmbedding(tf.keras.layers.Layer):\n",
    "    def __init__(self, vocab_size, d_model, emb_matrix):\n",
    "        super().__init__()\n",
    "        self.d_model = d_model\n",
    "        \n",
    "        if emb_matrix == None:\n",
    "            self.embedding = tf.keras.layers.Embedding(vocab_size, d_model, mask_zero=True)\n",
    "        else:\n",
    "            self.embedding = tf.keras.layers.Embedding(\n",
    "            vocab_size,\n",
    "            d_model,\n",
    "            weights=[emb_matrix],\n",
    "            trainable=CONFIG['embeddings_trainable'],\n",
    "            mask_zero=True\n",
    "        )\n",
    "        \n",
    "        self.pos_encoding = positional_encoding(length=2048, depth=d_model)\n",
    "\n",
    "    def compute_mask(self, *args, **kwargs):\n",
    "        return self.embedding.compute_mask(*args, **kwargs)\n",
    "\n",
    "    def call(self, x):\n",
    "        length = tf.shape(x)[1]\n",
    "        x = self.embedding(x)\n",
    "        \n",
    "        # This factor sets the relative scale of the embedding and positonal_encoding.\n",
    "        x *= tf.math.sqrt(tf.cast(self.d_model, tf.float32))\n",
    "        x = x + self.pos_encoding[tf.newaxis, :length, :]\n",
    "        return x \n",
    "\n",
    "# Try\n",
    "# sample_emb_input = TransformerEmbedding(vocab_size=input_tokenizer.vocab_size, d_model=512)(sample_input)\n",
    "# sample_emb_target = TransformerEmbedding(vocab_size=target_tokenizer.vocab_size, d_model=512)(sample_target)\n",
    "\n",
    "# sample_emb_target._keras_mask"
   ]
  },
  {
   "cell_type": "code",
   "execution_count": 22,
   "id": "38478c63",
   "metadata": {
    "execution": {
     "iopub.execute_input": "2023-04-27T14:12:29.798699Z",
     "iopub.status.busy": "2023-04-27T14:12:29.798379Z",
     "iopub.status.idle": "2023-04-27T14:12:29.804105Z",
     "shell.execute_reply": "2023-04-27T14:12:29.802997Z"
    },
    "papermill": {
     "duration": 0.027017,
     "end_time": "2023-04-27T14:12:29.806590",
     "exception": false,
     "start_time": "2023-04-27T14:12:29.779573",
     "status": "completed"
    },
    "tags": []
   },
   "outputs": [],
   "source": [
    "# base attention for further subclassing\n",
    "class BaseAttention(tf.keras.layers.Layer):\n",
    "    def __init__(self, **kwargs):\n",
    "        super().__init__()\n",
    "        self.mha = tf.keras.layers.MultiHeadAttention(**kwargs)\n",
    "        self.layernorm = tf.keras.layers.LayerNormalization()\n",
    "        self.add = tf.keras.layers.Add()"
   ]
  },
  {
   "cell_type": "code",
   "execution_count": 23,
   "id": "ac179374",
   "metadata": {
    "execution": {
     "iopub.execute_input": "2023-04-27T14:12:29.843023Z",
     "iopub.status.busy": "2023-04-27T14:12:29.842745Z",
     "iopub.status.idle": "2023-04-27T14:12:29.849136Z",
     "shell.execute_reply": "2023-04-27T14:12:29.847504Z"
    },
    "papermill": {
     "duration": 0.027507,
     "end_time": "2023-04-27T14:12:29.851481",
     "exception": false,
     "start_time": "2023-04-27T14:12:29.823974",
     "status": "completed"
    },
    "tags": []
   },
   "outputs": [],
   "source": [
    "class CrossAttention(BaseAttention):\n",
    "    \n",
    "    # x = target sequence, context = context sequence\n",
    "    def call(self, x, context):\n",
    "        attn_output, attn_scores = self.mha(\n",
    "            query=x,\n",
    "            key=context,\n",
    "            value=context,\n",
    "            return_attention_scores=True)\n",
    "\n",
    "        # Cache the attention scores for plotting later.\n",
    "        self.last_attn_scores = attn_scores\n",
    "\n",
    "        x = self.add([x, attn_output])\n",
    "        x = self.layernorm(x)\n",
    "\n",
    "        return x\n",
    "\n",
    "# Try on sample\n",
    "# sample_ca = CrossAttention(num_heads=2, key_dim=512)\n",
    "# print(sample_emb_input.shape)\n",
    "# print(sample_emb_target.shape)\n",
    "# print(sample_ca(sample_emb_input, sample_emb_target).shape)"
   ]
  },
  {
   "cell_type": "code",
   "execution_count": 24,
   "id": "b226901c",
   "metadata": {
    "execution": {
     "iopub.execute_input": "2023-04-27T14:12:29.887853Z",
     "iopub.status.busy": "2023-04-27T14:12:29.887557Z",
     "iopub.status.idle": "2023-04-27T14:12:29.893038Z",
     "shell.execute_reply": "2023-04-27T14:12:29.891984Z"
    },
    "papermill": {
     "duration": 0.026372,
     "end_time": "2023-04-27T14:12:29.895237",
     "exception": false,
     "start_time": "2023-04-27T14:12:29.868865",
     "status": "completed"
    },
    "tags": []
   },
   "outputs": [],
   "source": [
    "class GlobalSelfAttention(BaseAttention):\n",
    "    def call(self, x):\n",
    "        attn_output = self.mha(\n",
    "            query=x,\n",
    "            value=x,\n",
    "            key=x)\n",
    "        x = self.add([x, attn_output])\n",
    "        x = self.layernorm(x)\n",
    "        return x\n",
    "\n",
    "# Try\n",
    "# sample_gsa = GlobalSelfAttention(num_heads=2, key_dim=512)\n",
    "# print(sample_emb_input.shape)\n",
    "# print(sample_gsa(sample_emb_input).shape)"
   ]
  },
  {
   "cell_type": "code",
   "execution_count": 25,
   "id": "332d13fb",
   "metadata": {
    "execution": {
     "iopub.execute_input": "2023-04-27T14:12:29.931519Z",
     "iopub.status.busy": "2023-04-27T14:12:29.931191Z",
     "iopub.status.idle": "2023-04-27T14:12:29.936917Z",
     "shell.execute_reply": "2023-04-27T14:12:29.935814Z"
    },
    "papermill": {
     "duration": 0.02689,
     "end_time": "2023-04-27T14:12:29.939450",
     "exception": false,
     "start_time": "2023-04-27T14:12:29.912560",
     "status": "completed"
    },
    "tags": []
   },
   "outputs": [],
   "source": [
    "class CausalSelfAttention(BaseAttention):\n",
    "    def call(self, x):\n",
    "        attn_output = self.mha(\n",
    "            query=x,\n",
    "            value=x,\n",
    "            key=x,\n",
    "            use_causal_mask = True)\n",
    "        x = self.add([x, attn_output])\n",
    "        x = self.layernorm(x)\n",
    "        return x\n",
    "    \n",
    "# sample_csa = CausalSelfAttention(num_heads=2, key_dim=512)\n",
    "# print(sample_emb_target.shape)\n",
    "# print(sample_csa(sample_emb_target).shape)"
   ]
  },
  {
   "cell_type": "code",
   "execution_count": 26,
   "id": "e90a2035",
   "metadata": {
    "execution": {
     "iopub.execute_input": "2023-04-27T14:12:29.977215Z",
     "iopub.status.busy": "2023-04-27T14:12:29.976917Z",
     "iopub.status.idle": "2023-04-27T14:12:29.982111Z",
     "shell.execute_reply": "2023-04-27T14:12:29.981200Z"
    },
    "papermill": {
     "duration": 0.02605,
     "end_time": "2023-04-27T14:12:29.984228",
     "exception": false,
     "start_time": "2023-04-27T14:12:29.958178",
     "status": "completed"
    },
    "tags": []
   },
   "outputs": [],
   "source": [
    "# test latter elements do not depend on earlier elements, making no difference\n",
    "# if we remove the earlier elements before or after applying csa layer\n",
    "# out1 = sample_csa(embed_target(sample_target[:, :3])) \n",
    "# out2 = sample_csa(embed_target(sample_target))[:, :3]\n",
    "# tf.reduce_max(abs(out1 - out2)).numpy()"
   ]
  },
  {
   "cell_type": "code",
   "execution_count": 27,
   "id": "53ad9998",
   "metadata": {
    "execution": {
     "iopub.execute_input": "2023-04-27T14:12:30.053192Z",
     "iopub.status.busy": "2023-04-27T14:12:30.051882Z",
     "iopub.status.idle": "2023-04-27T14:12:30.063397Z",
     "shell.execute_reply": "2023-04-27T14:12:30.062463Z"
    },
    "papermill": {
     "duration": 0.051484,
     "end_time": "2023-04-27T14:12:30.067738",
     "exception": false,
     "start_time": "2023-04-27T14:12:30.016254",
     "status": "completed"
    },
    "tags": []
   },
   "outputs": [],
   "source": [
    "class FeedForward(tf.keras.layers.Layer):\n",
    "    def __init__(self, d_model, dff, dropout_rate=0.1):\n",
    "        super().__init__()\n",
    "        self.seq = tf.keras.Sequential([\n",
    "          tf.keras.layers.Dense(dff, activation='relu'),\n",
    "          tf.keras.layers.Dense(d_model),\n",
    "          tf.keras.layers.Dropout(dropout_rate)\n",
    "        ])\n",
    "        self.add = tf.keras.layers.Add()\n",
    "        self.layer_norm = tf.keras.layers.LayerNormalization()\n",
    "\n",
    "    def call(self, x):\n",
    "        x = self.add([x, self.seq(x)])\n",
    "        x = self.layer_norm(x) \n",
    "        return x\n",
    "\n",
    "# Try\n",
    "# sample_ffn = FeedForward(512, 2048)\n",
    "# print(sample_emb_target.shape)\n",
    "# print(sample_ffn(sample_emb_target).shape)"
   ]
  },
  {
   "cell_type": "code",
   "execution_count": 28,
   "id": "26f7dbe7",
   "metadata": {
    "execution": {
     "iopub.execute_input": "2023-04-27T14:12:30.138512Z",
     "iopub.status.busy": "2023-04-27T14:12:30.137948Z",
     "iopub.status.idle": "2023-04-27T14:12:30.146599Z",
     "shell.execute_reply": "2023-04-27T14:12:30.145659Z"
    },
    "papermill": {
     "duration": 0.041745,
     "end_time": "2023-04-27T14:12:30.151424",
     "exception": false,
     "start_time": "2023-04-27T14:12:30.109679",
     "status": "completed"
    },
    "tags": []
   },
   "outputs": [],
   "source": [
    "class EncoderLayer(tf.keras.layers.Layer):\n",
    "    def __init__(self,*, d_model, num_heads, dff, dropout_rate=0.1):\n",
    "        super().__init__()\n",
    "\n",
    "        self.self_attention = GlobalSelfAttention(\n",
    "            num_heads=num_heads,\n",
    "            key_dim=d_model,\n",
    "            dropout=dropout_rate)\n",
    "\n",
    "        self.ffn = FeedForward(d_model, dff)\n",
    "\n",
    "    def call(self, x):\n",
    "        x = self.self_attention(x)\n",
    "        x = self.ffn(x)\n",
    "        return x\n",
    "    \n",
    "# sample_encoder_layer = EncoderLayer(d_model=512, num_heads=8, dff=2048)\n",
    "# print(sample_encoder_layer(sample_emb_input).shape)"
   ]
  },
  {
   "cell_type": "code",
   "execution_count": 29,
   "id": "0f222f48",
   "metadata": {
    "execution": {
     "iopub.execute_input": "2023-04-27T14:12:30.206589Z",
     "iopub.status.busy": "2023-04-27T14:12:30.206156Z",
     "iopub.status.idle": "2023-04-27T14:12:30.219547Z",
     "shell.execute_reply": "2023-04-27T14:12:30.218601Z"
    },
    "papermill": {
     "duration": 0.044229,
     "end_time": "2023-04-27T14:12:30.222258",
     "exception": false,
     "start_time": "2023-04-27T14:12:30.178029",
     "status": "completed"
    },
    "tags": []
   },
   "outputs": [],
   "source": [
    "class Encoder(tf.keras.layers.Layer):\n",
    "    def __init__(self, *, num_layers, d_model, num_heads,\n",
    "                   dff, vocab_size, dropout_rate=0.1):\n",
    "        \n",
    "        super().__init__()\n",
    "\n",
    "        self.d_model = d_model\n",
    "        self.num_layers = num_layers\n",
    "\n",
    "        self.pos_embedding = TransformerEmbedding(\n",
    "            vocab_size=vocab_size, d_model=d_model,\n",
    "            emb_matrix=input_emb_matrix,\n",
    "        )\n",
    "\n",
    "        self.enc_layers = [\n",
    "            EncoderLayer(d_model=d_model,\n",
    "                         num_heads=num_heads,\n",
    "                         dff=dff,\n",
    "                         dropout_rate=dropout_rate)\n",
    "            for _ in range(num_layers)\n",
    "        ]\n",
    "        \n",
    "        self.dropout = tf.keras.layers.Dropout(dropout_rate)\n",
    "\n",
    "    def call(self, x):\n",
    "        # `x` is token-IDs shape: (batch_size, seq_len)\n",
    "        x = self.pos_embedding(x)  # Shape `(batch_size, seq_len, d_model)`.\n",
    "\n",
    "        # Add dropout.\n",
    "        x = self.dropout(x)\n",
    "\n",
    "        for i in range(self.num_layers):\n",
    "            x = self.enc_layers[i](x)\n",
    "\n",
    "        return x  # Shape `(batch_size, seq_len, d_model)`.\n",
    "\n",
    "# Try\n",
    "# sample_encoder = Encoder(num_layers=4,\n",
    "#                          d_model=512,\n",
    "#                          num_heads=8,\n",
    "#                          dff=2048,\n",
    "#                          vocab_size=input_tokenizer.vocab_size)\n",
    "\n",
    "# sample_encoder_output = sample_encoder(sample_input, training=False)\n",
    "\n",
    "# print(sample_input.shape)\n",
    "# print(sample_encoder_output.shape)"
   ]
  },
  {
   "cell_type": "code",
   "execution_count": 30,
   "id": "9bf6b1ca",
   "metadata": {
    "execution": {
     "iopub.execute_input": "2023-04-27T14:12:30.278551Z",
     "iopub.status.busy": "2023-04-27T14:12:30.278006Z",
     "iopub.status.idle": "2023-04-27T14:12:30.296457Z",
     "shell.execute_reply": "2023-04-27T14:12:30.295577Z"
    },
    "papermill": {
     "duration": 0.049863,
     "end_time": "2023-04-27T14:12:30.299250",
     "exception": false,
     "start_time": "2023-04-27T14:12:30.249387",
     "status": "completed"
    },
    "tags": []
   },
   "outputs": [],
   "source": [
    "class DecoderLayer(tf.keras.layers.Layer):\n",
    "    \n",
    "    def __init__(self, *, d_model, num_heads, dff, dropout_rate=0.1):\n",
    "        super(DecoderLayer, self).__init__()\n",
    "\n",
    "        self.causal_self_attention = CausalSelfAttention(\n",
    "            num_heads=num_heads,\n",
    "            key_dim=d_model,\n",
    "            dropout=dropout_rate)\n",
    "\n",
    "        self.cross_attention = CrossAttention(\n",
    "            num_heads=num_heads,\n",
    "            key_dim=d_model,\n",
    "            dropout=dropout_rate)\n",
    "\n",
    "        self.ffn = FeedForward(d_model, dff)\n",
    "\n",
    "    def call(self, x, context):\n",
    "        x = self.causal_self_attention(x=x)\n",
    "        x = self.cross_attention(x=x, context=context)\n",
    "\n",
    "        # Cache the last attention scores for plotting later\n",
    "        self.last_attn_scores = self.cross_attention.last_attn_scores\n",
    "\n",
    "        x = self.ffn(x)  # Shape `(batch_size, seq_len, d_model)`.\n",
    "        return x\n",
    "    \n",
    "# sample_decoder_layer = DecoderLayer(d_model=512, num_heads=8, dff=2048)\n",
    "# sample_decoder_layer_output = sample_decoder_layer(\n",
    "#     x=sample_emb_target, context=sample_emb_input\n",
    "# )\n",
    "\n",
    "# print(sample_emb_input.shape)\n",
    "# print(sample_emb_target.shape)\n",
    "# print(sample_decoder_layer_output.shape)"
   ]
  },
  {
   "cell_type": "code",
   "execution_count": 31,
   "id": "e2fd25fa",
   "metadata": {
    "execution": {
     "iopub.execute_input": "2023-04-27T14:12:30.353957Z",
     "iopub.status.busy": "2023-04-27T14:12:30.353442Z",
     "iopub.status.idle": "2023-04-27T14:12:30.367009Z",
     "shell.execute_reply": "2023-04-27T14:12:30.366075Z"
    },
    "papermill": {
     "duration": 0.044349,
     "end_time": "2023-04-27T14:12:30.369659",
     "exception": false,
     "start_time": "2023-04-27T14:12:30.325310",
     "status": "completed"
    },
    "tags": []
   },
   "outputs": [],
   "source": [
    "class Decoder(tf.keras.layers.Layer):\n",
    "    def __init__(self, *, num_layers, d_model, num_heads, dff, vocab_size,\n",
    "               dropout_rate=0.1):\n",
    "        super(Decoder, self).__init__()\n",
    "\n",
    "        self.d_model = d_model\n",
    "        self.num_layers = num_layers\n",
    "\n",
    "        self.pos_embedding = TransformerEmbedding(vocab_size=vocab_size,\n",
    "                                                 d_model=d_model,\n",
    "                                                 emb_matrix=target_emb_matrix\n",
    "                                                )\n",
    "        self.dropout = tf.keras.layers.Dropout(dropout_rate)\n",
    "        self.dec_layers = [\n",
    "            DecoderLayer(d_model=d_model, num_heads=num_heads,\n",
    "                         dff=dff, dropout_rate=dropout_rate)\n",
    "            for _ in range(num_layers)]\n",
    "\n",
    "        self.last_attn_scores = None\n",
    "\n",
    "    def call(self, x, context):\n",
    "        # `x` is token-IDs shape (batch, target_seq_len)\n",
    "        x = self.pos_embedding(x)  # (batch_size, target_seq_len, d_model)\n",
    "\n",
    "        x = self.dropout(x)\n",
    "\n",
    "        for i in range(self.num_layers):\n",
    "            x  = self.dec_layers[i](x, context)\n",
    "\n",
    "        self.last_attn_scores = self.dec_layers[-1].last_attn_scores\n",
    "\n",
    "        # The shape of x is (batch_size, target_seq_len, d_model).\n",
    "        return x\n",
    "\n",
    "# Try\n",
    "# sample_decoder = Decoder(num_layers=4,\n",
    "#                          d_model=512,\n",
    "#                          num_heads=8,\n",
    "#                          dff=2048,\n",
    "#                          vocab_size=target_tokenizer.vocab_size)\n",
    "\n",
    "# sample_decoder_output = sample_decoder(x=sample_target, context=sample_emb_input)\n",
    "\n",
    "# print(sample_target.shape)\n",
    "# print(sample_emb_input.shape)\n",
    "# print(sample_decoder_output.shape)"
   ]
  },
  {
   "cell_type": "code",
   "execution_count": 32,
   "id": "95dfa864",
   "metadata": {
    "execution": {
     "iopub.execute_input": "2023-04-27T14:12:30.423879Z",
     "iopub.status.busy": "2023-04-27T14:12:30.423392Z",
     "iopub.status.idle": "2023-04-27T14:12:30.428147Z",
     "shell.execute_reply": "2023-04-27T14:12:30.427221Z"
    },
    "papermill": {
     "duration": 0.036345,
     "end_time": "2023-04-27T14:12:30.432571",
     "exception": false,
     "start_time": "2023-04-27T14:12:30.396226",
     "status": "completed"
    },
    "tags": []
   },
   "outputs": [],
   "source": [
    "# sample_decoder.last_attn_scores.shape"
   ]
  },
  {
   "cell_type": "code",
   "execution_count": 33,
   "id": "fe928d3c",
   "metadata": {
    "execution": {
     "iopub.execute_input": "2023-04-27T14:12:30.486322Z",
     "iopub.status.busy": "2023-04-27T14:12:30.485880Z",
     "iopub.status.idle": "2023-04-27T14:12:30.498433Z",
     "shell.execute_reply": "2023-04-27T14:12:30.497578Z"
    },
    "papermill": {
     "duration": 0.042589,
     "end_time": "2023-04-27T14:12:30.501282",
     "exception": false,
     "start_time": "2023-04-27T14:12:30.458693",
     "status": "completed"
    },
    "tags": []
   },
   "outputs": [],
   "source": [
    "class Transformer(tf.keras.Model):\n",
    "    def __init__(self, *, num_layers, d_model, num_heads, dff,\n",
    "               input_vocab_size, target_vocab_size, dropout_rate=0.1):\n",
    "        \n",
    "        super().__init__()\n",
    "        self.encoder = Encoder(num_layers=num_layers, d_model=d_model,\n",
    "                               num_heads=num_heads, dff=dff,\n",
    "                               vocab_size=input_vocab_size,\n",
    "                               dropout_rate=dropout_rate)\n",
    "\n",
    "        self.decoder = Decoder(num_layers=num_layers, d_model=d_model,\n",
    "                               num_heads=num_heads, dff=dff,\n",
    "                               vocab_size=target_vocab_size,\n",
    "                               dropout_rate=dropout_rate)\n",
    "\n",
    "        self.final_layer = tf.keras.layers.Dense(target_vocab_size)\n",
    "\n",
    "    def call(self, inputs):\n",
    "        # To use a Keras model with `.fit` you must pass all your inputs in the\n",
    "        # first argument.\n",
    "        context, x  = inputs\n",
    "\n",
    "        context = self.encoder(context)  # (batch_size, context_len, d_model)\n",
    "\n",
    "        x = self.decoder(x, context)  # (batch_size, target_len, d_model)\n",
    "\n",
    "        # Final linear layer output.\n",
    "        logits = self.final_layer(x)  # (batch_size, target_len, target_vocab_size)\n",
    "\n",
    "        try:\n",
    "            # Drop the keras mask, so it doesn't scale the losses/metrics.\n",
    "            # b/250038731\n",
    "            del logits._keras_mask\n",
    "        except AttributeError:\n",
    "            pass\n",
    "\n",
    "        # Return the final output and the attention weights.\n",
    "        return logits\n"
   ]
  },
  {
   "cell_type": "code",
   "execution_count": 34,
   "id": "09821bba",
   "metadata": {
    "execution": {
     "iopub.execute_input": "2023-04-27T14:12:30.553906Z",
     "iopub.status.busy": "2023-04-27T14:12:30.553418Z",
     "iopub.status.idle": "2023-04-27T14:12:30.715813Z",
     "shell.execute_reply": "2023-04-27T14:12:30.714799Z"
    },
    "papermill": {
     "duration": 0.191821,
     "end_time": "2023-04-27T14:12:30.718648",
     "exception": false,
     "start_time": "2023-04-27T14:12:30.526827",
     "status": "completed"
    },
    "tags": []
   },
   "outputs": [],
   "source": [
    "# Construct transformer\n",
    "transformer = Transformer(\n",
    "    num_layers=CONFIG['num_layers'],\n",
    "    d_model=CONFIG['d_model'],\n",
    "    num_heads=CONFIG['num_heads'],\n",
    "    dff=CONFIG['dff'],\n",
    "    input_vocab_size=input_tokenizer.vocab_size,\n",
    "    target_vocab_size=target_tokenizer.vocab_size,\n",
    "    dropout_rate=CONFIG['dropout_rate']\n",
    ")"
   ]
  },
  {
   "cell_type": "code",
   "execution_count": 35,
   "id": "06717603",
   "metadata": {
    "execution": {
     "iopub.execute_input": "2023-04-27T14:12:30.774500Z",
     "iopub.status.busy": "2023-04-27T14:12:30.773778Z",
     "iopub.status.idle": "2023-04-27T14:12:30.780482Z",
     "shell.execute_reply": "2023-04-27T14:12:30.779606Z"
    },
    "papermill": {
     "duration": 0.040552,
     "end_time": "2023-04-27T14:12:30.786113",
     "exception": false,
     "start_time": "2023-04-27T14:12:30.745561",
     "status": "completed"
    },
    "tags": []
   },
   "outputs": [
    {
     "data": {
      "text/plain": [
       "(91909, 33023)"
      ]
     },
     "execution_count": 35,
     "metadata": {},
     "output_type": "execute_result"
    }
   ],
   "source": [
    "input_tokenizer.vocab_size, target_tokenizer.vocab_size"
   ]
  },
  {
   "cell_type": "code",
   "execution_count": 36,
   "id": "5bfc3cb4",
   "metadata": {
    "execution": {
     "iopub.execute_input": "2023-04-27T14:12:30.842002Z",
     "iopub.status.busy": "2023-04-27T14:12:30.841650Z",
     "iopub.status.idle": "2023-04-27T14:12:34.465070Z",
     "shell.execute_reply": "2023-04-27T14:12:34.463968Z"
    },
    "papermill": {
     "duration": 3.654563,
     "end_time": "2023-04-27T14:12:34.467641",
     "exception": false,
     "start_time": "2023-04-27T14:12:30.813078",
     "status": "completed"
    },
    "tags": []
   },
   "outputs": [
    {
     "name": "stdout",
     "output_type": "stream",
     "text": [
      "(256, 70)\n",
      "(256, 15)\n",
      "(256, 15, 33023)\n"
     ]
    }
   ],
   "source": [
    "# Call transformer on sample input, this will build it and setup inputs\n",
    "\n",
    "sample_transformer_output = transformer((sample_input, sample_target))\n",
    "print(sample_input.shape)\n",
    "print(sample_target.shape)\n",
    "print(sample_transformer_output.shape)"
   ]
  },
  {
   "cell_type": "code",
   "execution_count": 37,
   "id": "a3752d24",
   "metadata": {
    "execution": {
     "iopub.execute_input": "2023-04-27T14:12:34.505193Z",
     "iopub.status.busy": "2023-04-27T14:12:34.504876Z",
     "iopub.status.idle": "2023-04-27T14:12:34.509571Z",
     "shell.execute_reply": "2023-04-27T14:12:34.508426Z"
    },
    "papermill": {
     "duration": 0.026227,
     "end_time": "2023-04-27T14:12:34.512032",
     "exception": false,
     "start_time": "2023-04-27T14:12:34.485805",
     "status": "completed"
    },
    "tags": []
   },
   "outputs": [],
   "source": [
    "# sample_transformer_attn_scores = transformer.decoder.dec_layers[-1].last_attn_scores\n",
    "# print(sample_transformer_attn_scores.shape) "
   ]
  },
  {
   "cell_type": "code",
   "execution_count": 38,
   "id": "6eae079d",
   "metadata": {
    "execution": {
     "iopub.execute_input": "2023-04-27T14:12:34.548378Z",
     "iopub.status.busy": "2023-04-27T14:12:34.548086Z",
     "iopub.status.idle": "2023-04-27T14:12:34.589419Z",
     "shell.execute_reply": "2023-04-27T14:12:34.588099Z"
    },
    "papermill": {
     "duration": 0.062846,
     "end_time": "2023-04-27T14:12:34.592164",
     "exception": false,
     "start_time": "2023-04-27T14:12:34.529318",
     "status": "completed"
    },
    "tags": []
   },
   "outputs": [
    {
     "name": "stdout",
     "output_type": "stream",
     "text": [
      "Model: \"transformer\"\n",
      "_________________________________________________________________\n",
      " Layer (type)                Output Shape              Param #   \n",
      "=================================================================\n",
      " encoder (Encoder)           multiple                  13743488  \n",
      "                                                                 \n",
      " decoder (Decoder)           multiple                  7789312   \n",
      "                                                                 \n",
      " dense_12 (Dense)            multiple                  4259967   \n",
      "                                                                 \n",
      "=================================================================\n",
      "Total params: 25,792,767\n",
      "Trainable params: 25,792,767\n",
      "Non-trainable params: 0\n",
      "_________________________________________________________________\n"
     ]
    }
   ],
   "source": [
    "transformer.summary()"
   ]
  },
  {
   "cell_type": "code",
   "execution_count": 39,
   "id": "dd2c51e3",
   "metadata": {
    "execution": {
     "iopub.execute_input": "2023-04-27T14:12:34.630887Z",
     "iopub.status.busy": "2023-04-27T14:12:34.630053Z",
     "iopub.status.idle": "2023-04-27T14:12:34.892591Z",
     "shell.execute_reply": "2023-04-27T14:12:34.891546Z"
    },
    "papermill": {
     "duration": 0.284055,
     "end_time": "2023-04-27T14:12:34.894703",
     "exception": false,
     "start_time": "2023-04-27T14:12:34.610648",
     "status": "completed"
    },
    "tags": []
   },
   "outputs": [
    {
     "data": {
      "text/plain": [
       "Text(0.5, 0, 'Train Step')"
      ]
     },
     "execution_count": 39,
     "metadata": {},
     "output_type": "execute_result"
    },
    {
     "data": {
      "image/png": "[encoded data removed]",
      "text/plain": [
       "<Figure size 640x480 with 1 Axes>"
      ]
     },
     "metadata": {},
     "output_type": "display_data"
    }
   ],
   "source": [
    "class CustomSchedule(tf.keras.optimizers.schedules.LearningRateSchedule):\n",
    "    def __init__(self, d_model, warmup_steps):\n",
    "        super().__init__()\n",
    "\n",
    "        self.d_model = d_model\n",
    "        self.d_model = tf.cast(self.d_model, tf.float32)\n",
    "\n",
    "        self.warmup_steps = warmup_steps\n",
    "\n",
    "    def __call__(self, step):\n",
    "        step = tf.cast(step, dtype=tf.float32)\n",
    "        arg1 = tf.math.rsqrt(step)\n",
    "        arg2 = step * (self.warmup_steps ** -1.5)\n",
    "\n",
    "        return tf.math.rsqrt(self.d_model) * tf.math.minimum(arg1, arg2)\n",
    "    \n",
    "    def get_config(self):\n",
    "        config = {\n",
    "            'd_model': self.d_model,\n",
    "            'warmup_steps': self.warmup_steps\n",
    "        }\n",
    "        return config\n",
    "#         base_config = super(CustomSchedule, self).get_config()\n",
    "#         return dict(list(base_config.items()) + list(config.items()))\n",
    "\n",
    "learning_rate = CustomSchedule(CONFIG['d_model'], CONFIG['learning_rate_warmup_steps'])\n",
    "\n",
    "optimizer = tf.keras.optimizers.Adam(learning_rate, beta_1=0.9, beta_2=0.98,\n",
    "                                     epsilon=1e-9)\n",
    "\n",
    "\n",
    "plt.plot(learning_rate(tf.range(40000, dtype=tf.float32)))\n",
    "plt.ylabel('Learning Rate')\n",
    "plt.xlabel('Train Step')"
   ]
  },
  {
   "cell_type": "code",
   "execution_count": 40,
   "id": "cbadfd4e",
   "metadata": {
    "execution": {
     "iopub.execute_input": "2023-04-27T14:12:34.934876Z",
     "iopub.status.busy": "2023-04-27T14:12:34.934562Z",
     "iopub.status.idle": "2023-04-27T14:12:34.943177Z",
     "shell.execute_reply": "2023-04-27T14:12:34.942282Z"
    },
    "papermill": {
     "duration": 0.031101,
     "end_time": "2023-04-27T14:12:34.945370",
     "exception": false,
     "start_time": "2023-04-27T14:12:34.914269",
     "status": "completed"
    },
    "tags": []
   },
   "outputs": [],
   "source": [
    "def masked_loss(label, pred):\n",
    "    mask = label != 0\n",
    "    loss_object = tf.keras.losses.SparseCategoricalCrossentropy(\n",
    "        from_logits=True, reduction='none'\n",
    "    )\n",
    "    loss = loss_object(label, pred)\n",
    "\n",
    "    mask = tf.cast(mask, dtype=loss.dtype)\n",
    "    loss *= mask\n",
    "\n",
    "    loss = tf.reduce_sum(loss)/tf.reduce_sum(mask)\n",
    "    \n",
    "    return loss\n",
    "\n",
    "\n",
    "def masked_accuracy(label, pred):\n",
    "    pred = tf.argmax(pred, axis=2)\n",
    "    label = tf.cast(label, pred.dtype)\n",
    "    match = label == pred\n",
    "\n",
    "    mask = label != 0\n",
    "\n",
    "    match = match & mask\n",
    "\n",
    "    match = tf.cast(match, dtype=tf.float32)\n",
    "    mask = tf.cast(mask, dtype=tf.float32)\n",
    "    return tf.reduce_sum(match)/tf.reduce_sum(mask)\n",
    "\n",
    "\n",
    "# masked_loss(tf.constant([0.5], dtype=tf.float32), tf.constant([[0.5, 0.2]], dtype=tf.float32))"
   ]
  },
  {
   "cell_type": "code",
   "execution_count": 41,
   "id": "02908618",
   "metadata": {
    "execution": {
     "iopub.execute_input": "2023-04-27T14:12:34.984455Z",
     "iopub.status.busy": "2023-04-27T14:12:34.984176Z",
     "iopub.status.idle": "2023-04-27T14:12:35.002186Z",
     "shell.execute_reply": "2023-04-27T14:12:35.001228Z"
    },
    "papermill": {
     "duration": 0.040304,
     "end_time": "2023-04-27T14:12:35.004298",
     "exception": false,
     "start_time": "2023-04-27T14:12:34.963994",
     "status": "completed"
    },
    "tags": []
   },
   "outputs": [],
   "source": [
    "transformer.compile(\n",
    "    loss=masked_loss,\n",
    "    optimizer=optimizer,\n",
    "    metrics=[masked_accuracy]\n",
    ")"
   ]
  },
  {
   "cell_type": "markdown",
   "id": "9e3e50c7",
   "metadata": {
    "papermill": {
     "duration": 0.019222,
     "end_time": "2023-04-27T14:12:35.042486",
     "exception": false,
     "start_time": "2023-04-27T14:12:35.023264",
     "status": "completed"
    },
    "tags": []
   },
   "source": [
    "## Training"
   ]
  },
  {
   "cell_type": "code",
   "execution_count": 42,
   "id": "a20fda63",
   "metadata": {
    "execution": {
     "iopub.execute_input": "2023-04-27T14:12:35.082304Z",
     "iopub.status.busy": "2023-04-27T14:12:35.081691Z",
     "iopub.status.idle": "2023-04-27T14:12:36.096196Z",
     "shell.execute_reply": "2023-04-27T14:12:36.094625Z"
    },
    "papermill": {
     "duration": 1.036988,
     "end_time": "2023-04-27T14:12:36.098458",
     "exception": false,
     "start_time": "2023-04-27T14:12:35.061470",
     "status": "completed"
    },
    "tags": []
   },
   "outputs": [
    {
     "name": "stdout",
     "output_type": "stream",
     "text": [
      "Model checkpoint: checkpoints/checkpoint.hdf\n",
      "Cannot load model weights from checkpoint, it may not exist yet.\n"
     ]
    }
   ],
   "source": [
    "# Callbacks \n",
    "!mkdir -p checkpoints\n",
    "\n",
    "modeldir = f\"checkpoints\"\n",
    "checkpoint_filepath = modeldir + '/checkpoint.hdf'\n",
    "print('Model checkpoint:', checkpoint_filepath)\n",
    "\n",
    "early_stopping = tf.keras.callbacks.EarlyStopping(\n",
    "    monitor='val_loss',\n",
    "    mode='min', verbose=1,\n",
    "    patience=CONFIG['early_stopping_patience'],\n",
    "    restore_best_weights=True # restore only best weights relative to val_loss\n",
    ")\n",
    "\n",
    "csv_logger=tf.keras.callbacks.CSVLogger(\n",
    "    modeldir + '/log.csv', separator=\",\", append=True\n",
    ")\n",
    "\n",
    "model_checkpoint_callback = tf.keras.callbacks.ModelCheckpoint(\n",
    "    filepath=checkpoint_filepath,\n",
    "    save_weights_only=True,\n",
    "    monitor='val_loss',\n",
    "    mode='min',\n",
    "    save_best_only=True\n",
    ")\n",
    "\n",
    "try:\n",
    "    model.load_weights(checkpoint_filepath)\n",
    "    print('Loaded model weights checkpoint.')\n",
    "except:\n",
    "    print('Cannot load model weights from checkpoint, it may not exist yet.')"
   ]
  },
  {
   "cell_type": "code",
   "execution_count": 43,
   "id": "8c841e4a",
   "metadata": {
    "execution": {
     "iopub.execute_input": "2023-04-27T14:12:36.138543Z",
     "iopub.status.busy": "2023-04-27T14:12:36.138190Z",
     "iopub.status.idle": "2023-04-27T14:13:07.319341Z",
     "shell.execute_reply": "2023-04-27T14:13:07.317991Z"
    },
    "papermill": {
     "duration": 31.204585,
     "end_time": "2023-04-27T14:13:07.322340",
     "exception": false,
     "start_time": "2023-04-27T14:12:36.117755",
     "status": "completed"
    },
    "tags": []
   },
   "outputs": [
    {
     "name": "stderr",
     "output_type": "stream",
     "text": [
      "\u001b[34m\u001b[1mwandb\u001b[0m: Currently logged in as: \u001b[33mplasmoxy\u001b[0m (\u001b[33mpmxy\u001b[0m). Use \u001b[1m`wandb login --relogin`\u001b[0m to force relogin\n"
     ]
    },
    {
     "data": {
      "text/html": [
       "Tracking run with wandb version 0.15.0"
      ],
      "text/plain": [
       "<IPython.core.display.HTML object>"
      ]
     },
     "metadata": {},
     "output_type": "display_data"
    },
    {
     "data": {
      "text/html": [
       "Run data is saved locally in <code>/kaggle/working/wandb/run-20230427_141236-14if46oj</code>"
      ],
      "text/plain": [
       "<IPython.core.display.HTML object>"
      ]
     },
     "metadata": {},
     "output_type": "display_data"
    },
    {
     "data": {
      "text/html": [
       "Syncing run <strong><a href='https://wandb.ai/pmxy/stranasum-dev/runs/14if46oj' target=\"_blank\">classic-bush-16</a></strong> to <a href='https://wandb.ai/pmxy/stranasum-dev' target=\"_blank\">Weights & Biases</a> (<a href='https://wandb.me/run' target=\"_blank\">docs</a>)<br/>"
      ],
      "text/plain": [
       "<IPython.core.display.HTML object>"
      ]
     },
     "metadata": {},
     "output_type": "display_data"
    },
    {
     "data": {
      "text/html": [
       " View project at <a href='https://wandb.ai/pmxy/stranasum-dev' target=\"_blank\">https://wandb.ai/pmxy/stranasum-dev</a>"
      ],
      "text/plain": [
       "<IPython.core.display.HTML object>"
      ]
     },
     "metadata": {},
     "output_type": "display_data"
    },
    {
     "data": {
      "text/html": [
       " View run at <a href='https://wandb.ai/pmxy/stranasum-dev/runs/14if46oj' target=\"_blank\">https://wandb.ai/pmxy/stranasum-dev/runs/14if46oj</a>"
      ],
      "text/plain": [
       "<IPython.core.display.HTML object>"
      ]
     },
     "metadata": {},
     "output_type": "display_data"
    }
   ],
   "source": [
    "wandb_run = wandb.init(\n",
    "    project=CONFIG['wandb_project'], \n",
    "    config=CONFIG,\n",
    "    group=CONFIG['wandb_group'], \n",
    ")"
   ]
  },
  {
   "cell_type": "code",
   "execution_count": 44,
   "id": "b5b1c0ea",
   "metadata": {
    "execution": {
     "iopub.execute_input": "2023-04-27T14:13:07.386884Z",
     "iopub.status.busy": "2023-04-27T14:13:07.386447Z",
     "iopub.status.idle": "2023-04-27T14:32:05.651895Z",
     "shell.execute_reply": "2023-04-27T14:32:05.645215Z"
    },
    "papermill": {
     "duration": 1138.402144,
     "end_time": "2023-04-27T14:32:05.754356",
     "exception": false,
     "start_time": "2023-04-27T14:13:07.352212",
     "status": "completed"
    },
    "tags": []
   },
   "outputs": [
    {
     "name": "stdout",
     "output_type": "stream",
     "text": [
      "Epoch 1/20\n",
      "194/194 [==============================] - 106s 422ms/step - loss: 10.0902 - masked_accuracy: 0.0852 - val_loss: 9.5641 - val_masked_accuracy: 0.1061\n",
      "Epoch 2/20\n",
      "194/194 [==============================] - 67s 345ms/step - loss: 8.8078 - masked_accuracy: 0.1055 - val_loss: 8.1286 - val_masked_accuracy: 0.1061\n",
      "Epoch 3/20\n",
      "194/194 [==============================] - 65s 332ms/step - loss: 7.7167 - masked_accuracy: 0.1061 - val_loss: 7.5154 - val_masked_accuracy: 0.1099\n",
      "Epoch 4/20\n",
      "194/194 [==============================] - 65s 332ms/step - loss: 7.2146 - masked_accuracy: 0.1342 - val_loss: 7.1131 - val_masked_accuracy: 0.1498\n",
      "Epoch 5/20\n",
      "194/194 [==============================] - 64s 329ms/step - loss: 6.7520 - masked_accuracy: 0.1643 - val_loss: 6.7467 - val_masked_accuracy: 0.1748\n",
      "Epoch 6/20\n",
      "194/194 [==============================] - 64s 330ms/step - loss: 6.2699 - masked_accuracy: 0.1932 - val_loss: 6.3758 - val_masked_accuracy: 0.2002\n",
      "Epoch 7/20\n",
      "194/194 [==============================] - 64s 329ms/step - loss: 5.7853 - masked_accuracy: 0.2242 - val_loss: 6.0483 - val_masked_accuracy: 0.2264\n",
      "Epoch 8/20\n",
      "194/194 [==============================] - 64s 327ms/step - loss: 5.3162 - masked_accuracy: 0.2615 - val_loss: 5.7537 - val_masked_accuracy: 0.2507\n",
      "Epoch 9/20\n",
      "194/194 [==============================] - 64s 327ms/step - loss: 4.8553 - masked_accuracy: 0.3021 - val_loss: 5.4839 - val_masked_accuracy: 0.2776\n",
      "Epoch 10/20\n",
      "194/194 [==============================] - 63s 327ms/step - loss: 4.3941 - masked_accuracy: 0.3460 - val_loss: 5.3076 - val_masked_accuracy: 0.2987\n",
      "Epoch 11/20\n",
      "194/194 [==============================] - 64s 329ms/step - loss: 3.9370 - masked_accuracy: 0.3925 - val_loss: 5.1477 - val_masked_accuracy: 0.3166\n",
      "Epoch 12/20\n",
      "194/194 [==============================] - 63s 327ms/step - loss: 3.4933 - masked_accuracy: 0.4399 - val_loss: 5.0438 - val_masked_accuracy: 0.3332\n",
      "Epoch 13/20\n",
      "194/194 [==============================] - 62s 318ms/step - loss: 3.0678 - masked_accuracy: 0.4873 - val_loss: 5.0987 - val_masked_accuracy: 0.3409\n",
      "Epoch 14/20\n",
      "194/194 [==============================] - 62s 319ms/step - loss: 2.6700 - masked_accuracy: 0.5330 - val_loss: 5.0502 - val_masked_accuracy: 0.3463\n",
      "Epoch 15/20\n",
      "194/194 [==============================] - ETA: 0s - loss: 2.3026 - masked_accuracy: 0.5779Restoring model weights from the end of the best epoch: 12.\n",
      "194/194 [==============================] - 62s 320ms/step - loss: 2.3026 - masked_accuracy: 0.5779 - val_loss: 5.1499 - val_masked_accuracy: 0.3491\n",
      "Epoch 15: early stopping\n",
      "CPU times: user 9min 18s, sys: 18.6 s, total: 9min 37s\n",
      "Wall time: 18min 58s\n"
     ]
    }
   ],
   "source": [
    "%%time\n",
    "\n",
    "# Training\n",
    "    \n",
    "history = transformer.fit(\n",
    "    dataset_train,\n",
    "    epochs=CONFIG['max_epochs'],\n",
    "    validation_data=dataset_val,\n",
    "    callbacks=[\n",
    "        WandbCallback(save_model=False),\n",
    "        early_stopping,\n",
    "        csv_logger,\n",
    "        model_checkpoint_callback\n",
    "    ]\n",
    ")"
   ]
  },
  {
   "cell_type": "code",
   "execution_count": 45,
   "id": "dbda2d0d",
   "metadata": {
    "execution": {
     "iopub.execute_input": "2023-04-27T14:32:06.110095Z",
     "iopub.status.busy": "2023-04-27T14:32:06.109727Z",
     "iopub.status.idle": "2023-04-27T14:32:06.481825Z",
     "shell.execute_reply": "2023-04-27T14:32:06.480472Z"
    },
    "papermill": {
     "duration": 0.555874,
     "end_time": "2023-04-27T14:32:06.485056",
     "exception": false,
     "start_time": "2023-04-27T14:32:05.929182",
     "status": "completed"
    },
    "tags": []
   },
   "outputs": [
    {
     "data": {
      "image/png": "[encoded data removed]",
      "text/plain": [
       "<Figure size 640x480 with 2 Axes>"
      ]
     },
     "metadata": {},
     "output_type": "display_data"
    }
   ],
   "source": [
    "def plot_history(history):\n",
    "    fig, (axl, axa) = plt.subplots(nrows=2, ncols=1)\n",
    "    axl.plot(history.history['loss'], label='loss')\n",
    "    axl.plot(history.history['val_loss'], label='val_loss')\n",
    "    axl.set_ylim([0, 10])\n",
    "    axl.set_xlabel('Epoch')\n",
    "    axl.set_ylabel('Loss')\n",
    "    axl.legend()\n",
    "    axl.grid(True)\n",
    "    \n",
    "    axa.plot(history.history['masked_accuracy'], label='masked_accuracy')\n",
    "    axa.plot(history.history['val_masked_accuracy'], label='val_masked_accuracy')\n",
    "    axa.set_ylim([0, 1])\n",
    "    axa.set_xlabel('Epoch')\n",
    "    axa.set_ylabel('Accuracy')\n",
    "    axa.legend()\n",
    "    axa.grid(True)\n",
    "    \n",
    "    fig.show()\n",
    "    \n",
    "if history != None:\n",
    "    plot_history(history)\n",
    "else:\n",
    "    print(\"No history to display.\")"
   ]
  },
  {
   "cell_type": "markdown",
   "id": "f7e530b2",
   "metadata": {
    "papermill": {
     "duration": 0.187323,
     "end_time": "2023-04-27T14:32:06.858939",
     "exception": false,
     "start_time": "2023-04-27T14:32:06.671616",
     "status": "completed"
    },
    "tags": []
   },
   "source": [
    "## Inference"
   ]
  },
  {
   "cell_type": "code",
   "execution_count": 46,
   "id": "c2509365",
   "metadata": {
    "execution": {
     "iopub.execute_input": "2023-04-27T14:32:07.210252Z",
     "iopub.status.busy": "2023-04-27T14:32:07.209895Z",
     "iopub.status.idle": "2023-04-27T14:32:07.236588Z",
     "shell.execute_reply": "2023-04-27T14:32:07.235174Z"
    },
    "papermill": {
     "duration": 0.207973,
     "end_time": "2023-04-27T14:32:07.240056",
     "exception": false,
     "start_time": "2023-04-27T14:32:07.032083",
     "status": "completed"
    },
    "tags": []
   },
   "outputs": [],
   "source": [
    "# LEGACY - unoptimized inference using python array\n",
    "class SummarizerSingleStep(tf.Module):\n",
    "    def __init__(self, transformer, input_tokenizer, target_tokenizer):\n",
    "        \n",
    "        # todo\n",
    "        self.transformer = transformer\n",
    "        self.input_tokenizer = input_tokenizer\n",
    "        self.target_tokenizer = target_tokenizer\n",
    "\n",
    "    # expect sentence to be prepared with <sos> <eos> and clean\n",
    "    # @tf.function(input_signature=[tf.TensorSpec(dtype=tf.string, shape=[None])])\n",
    "    def __call__(self, sentence: str):\n",
    "\n",
    "        encoder_input = tf.expand_dims(self.input_tokenizer.vectorizer(sentence), 0)\n",
    "\n",
    "        # `tf.TensorArray` is required here (instead of a Python list), so that the\n",
    "        # dynamic-loop can be traced by `tf.function`.\n",
    "        # output_array = tf.TensorArray(dtype=tf.int64, size=0, dynamic_size=True)\n",
    "        # output_array = output_array.write(0, summary_start_token)\n",
    "        \n",
    "        summary_start_token = target_tokenizer.vectorizer('<sos>')[0].numpy()\n",
    "        summary_end_token = target_tokenizer.vectorizer('<eos>')[0].numpy()\n",
    "        \n",
    "        decoder_input = [summary_start_token]\n",
    "        output = tf.expand_dims(decoder_input, 0)\n",
    "\n",
    "        for i in tf.range(self.target_tokenizer.max_length):\n",
    "            \n",
    "            predictions = self.transformer([encoder_input, output], training=False)\n",
    "\n",
    "            # Select the last token from the `seq_len` dimension.\n",
    "            predictions = predictions[:, -1:, :]  # Shape `(batch_size, 1, vocab_size)`.\n",
    "\n",
    "            # TODO: why cast needed here ??\n",
    "            predicted_id = tf.cast(tf.argmax(predictions, axis=-1), dtype=tf.int32)\n",
    "\n",
    "            # Concatenate the `predicted_id` to the output which is given to the\n",
    "            # decoder as its input.\n",
    "            # output_array = output_array.write(i+1, predicted_id[0])\n",
    "            output = tf.concat([output, predicted_id], axis=-1)\n",
    "\n",
    "            if predicted_id == summary_end_token:\n",
    "                break\n",
    "        \n",
    "        \n",
    "        prediction = tf.squeeze(output, axis=0)\n",
    "        tokens = np.expand_dims(prediction.numpy(), 0)\n",
    "        \n",
    "        # print(tokens)\n",
    "        \n",
    "        # text = self.tokenization.summary_tokenizer.sequences_to_texts(tokens)[0]\n",
    "        text = self.target_tokenizer.tokens_to_text(tokens)[0]\n",
    "\n",
    "        # `tf.function` prevents us from using the attention_weights that were\n",
    "        # calculated on the last iteration of the loop.\n",
    "        # So, recalculate them outside the loop.\n",
    "        self.transformer([encoder_input, output[:,:-1]], training=False)\n",
    "        attention_weights = self.transformer.decoder.last_attn_scores\n",
    "\n",
    "        return text, tokens, attention_weights\n",
    "\n",
    "# Optimized inference using tensorflow tensorarray\n",
    "class Summarizer(tf.Module):\n",
    "    def __init__(self, transformer, input_tokenizer, target_tokenizer):\n",
    "        \n",
    "        # todo\n",
    "        self.transformer = transformer\n",
    "        self.input_tokenizer = input_tokenizer\n",
    "        self.target_tokenizer = target_tokenizer\n",
    "        \n",
    "    def to_tf(self, text: str):\n",
    "        return tf.constant([text])\n",
    "    \n",
    "    def from_tf(self, tensor: tf.Tensor):\n",
    "        return bytes.decode(tensor.numpy())\n",
    "\n",
    "    # expect sentence to be prepared with <sos> <eos> and clean\n",
    "    @tf.function(input_signature=[tf.TensorSpec(dtype=tf.string, shape=[None])])\n",
    "    def __call__(self, sentence: tf.Tensor):\n",
    "\n",
    "        encoder_input = self.input_tokenizer.vectorizer(sentence)\n",
    "        \n",
    "        start_token = target_tokenizer.vectorizer(tf.constant('<sos>'))[0][tf.newaxis]\n",
    "        end_token = target_tokenizer.vectorizer(tf.constant('<eos>'))[0][tf.newaxis]\n",
    "        \n",
    "        # `tf.TensorArray` is required here (instead of a Python list), so that the\n",
    "        # dynamic-loop can be traced by `tf.function`.\n",
    "        output_array = tf.TensorArray(dtype=tf.int64, size=0, dynamic_size=True)\n",
    "        output_array = output_array.write(0, start_token)\n",
    "        output = tf.transpose(output_array.stack())\n",
    "\n",
    "        for i in tf.range(self.target_tokenizer.max_length):\n",
    "            \n",
    "            output = tf.transpose(output_array.stack())\n",
    "            \n",
    "            predictions = self.transformer([encoder_input, output], training=False)\n",
    "\n",
    "            # Select the last token from the `seq_len` dimension.\n",
    "            predictions = predictions[:, -1:, :]  # Shape `(batch_size, 1, vocab_size)`.\n",
    "\n",
    "            # argmax\n",
    "            predicted_id = tf.argmax(predictions, axis=-1)\n",
    "\n",
    "            # Concatenate the `predicted_id` to the output which is given to the\n",
    "            # decoder as its input.\n",
    "            # output_array = output_array.write(i+1, predicted_id[0])\n",
    "            output_array = output_array.write(i+1, predicted_id[0])\n",
    "\n",
    "            # stop on end\n",
    "            if predicted_id == end_token:\n",
    "                break\n",
    "        \n",
    "        output = tf.transpose(output_array.stack())\n",
    "        \n",
    "        # print(tokens)\n",
    "        \n",
    "        # text = self.tokenization.summary_tokenizer.sequences_to_texts(tokens)[0]\n",
    "        text = self.target_tokenizer.tokens_to_text(output)[0]\n",
    "\n",
    "        # `tf.function` prevents us from using the attention_weights that were\n",
    "        # calculated on the last iteration of the loop.\n",
    "        # So, recalculate them outside the loop.\n",
    "        self.transformer([encoder_input, output[:,:-1]], training=False)\n",
    "        attention_weights = self.transformer.decoder.last_attn_scores\n",
    "\n",
    "        return text, output, attention_weights\n",
    "\n",
    "\n",
    "summarizer = Summarizer(transformer, input_tokenizer, target_tokenizer)"
   ]
  },
  {
   "cell_type": "code",
   "execution_count": 47,
   "id": "05d31fec",
   "metadata": {
    "execution": {
     "iopub.execute_input": "2023-04-27T14:32:07.600538Z",
     "iopub.status.busy": "2023-04-27T14:32:07.600162Z",
     "iopub.status.idle": "2023-04-27T14:32:07.609357Z",
     "shell.execute_reply": "2023-04-27T14:32:07.608266Z"
    },
    "papermill": {
     "duration": 0.191015,
     "end_time": "2023-04-27T14:32:07.611680",
     "exception": false,
     "start_time": "2023-04-27T14:32:07.420665",
     "status": "completed"
    },
    "tags": []
   },
   "outputs": [
    {
     "name": "stdout",
     "output_type": "stream",
     "text": [
      "CPU times: user 5 µs, sys: 0 ns, total: 5 µs\n",
      "Wall time: 10.3 µs\n"
     ]
    }
   ],
   "source": [
    "%%time\n",
    "# (inference benchmark)\n",
    "\n",
    "# summarizer_single = SummarizerSingleStep(transformer, input_tokenizer, target_tokenizer)\n",
    "# df_train[:5]['article'].apply(lambda text: summarizer_single(text)[0])"
   ]
  },
  {
   "cell_type": "code",
   "execution_count": 48,
   "id": "e70f1485",
   "metadata": {
    "execution": {
     "iopub.execute_input": "2023-04-27T14:32:08.022979Z",
     "iopub.status.busy": "2023-04-27T14:32:08.022604Z",
     "iopub.status.idle": "2023-04-27T14:32:08.030905Z",
     "shell.execute_reply": "2023-04-27T14:32:08.029857Z"
    },
    "papermill": {
     "duration": 0.186809,
     "end_time": "2023-04-27T14:32:08.033211",
     "exception": false,
     "start_time": "2023-04-27T14:32:07.846402",
     "status": "completed"
    },
    "tags": []
   },
   "outputs": [
    {
     "name": "stdout",
     "output_type": "stream",
     "text": [
      "CPU times: user 6 µs, sys: 0 ns, total: 6 µs\n",
      "Wall time: 11 µs\n"
     ]
    }
   ],
   "source": [
    "%%time\n",
    "\n",
    "# df_train[:5]['article'].apply(lambda text: summarizer(summarizer.to_tf(text))[0])"
   ]
  },
  {
   "cell_type": "code",
   "execution_count": 49,
   "id": "f0bc7bfe",
   "metadata": {
    "execution": {
     "iopub.execute_input": "2023-04-27T14:32:08.391593Z",
     "iopub.status.busy": "2023-04-27T14:32:08.391221Z",
     "iopub.status.idle": "2023-04-27T14:32:08.404633Z",
     "shell.execute_reply": "2023-04-27T14:32:08.403554Z"
    },
    "papermill": {
     "duration": 0.200876,
     "end_time": "2023-04-27T14:32:08.408316",
     "exception": false,
     "start_time": "2023-04-27T14:32:08.207440",
     "status": "completed"
    },
    "tags": []
   },
   "outputs": [],
   "source": [
    "def remove_special_tokens(text):\n",
    "        text = text.lower()\n",
    "        text = text.replace(\"<sos>\", \"\").replace(\"<eos>\", \"\")\n",
    "        text = text.replace(\"<unk>\", \"##\")\n",
    "        text = text.replace(\"<dot>\", \". \") # normal syntax with dot at end\n",
    "        text = text.strip()\n",
    "        return text\n",
    "\n",
    "def remove_special_tokens_frame(frame: pd.DataFrame):\n",
    "    frame['article'] = frame['article'].apply(remove_special_tokens)\n",
    "    frame['summary'] = frame['summary'].apply(remove_special_tokens)\n",
    "    frame['predicted'] = frame['predicted'].apply(remove_special_tokens)\n",
    "    return frame\n",
    "    \n",
    "# Run summarization inference on entire frame\n",
    "def summarize_frame(frame):\n",
    "    \n",
    "    frame = frame.copy()\n",
    "    frame['predicted'] = '<NONE>'\n",
    "    \n",
    "    for i in range(0, frame.shape[0]):\n",
    "        if i%25 == 0:\n",
    "            print(f\"Summarising ... {i}/{frame.shape[0]}\")\n",
    "            \n",
    "        article = frame.iloc[i]['article']\n",
    "        summary = frame.iloc[i]['summary']\n",
    "        \n",
    "        summarized_tf, summarized_tokens, attention_weights = summarizer(\n",
    "            tf.constant([article])\n",
    "        )\n",
    "        \n",
    "        summarized_text = summarizer.from_tf(summarized_tf)\n",
    "        \n",
    "        frame.iloc[i, frame.columns.get_loc('predicted')] = summarized_text\n",
    "        \n",
    "    return frame\n",
    "\n",
    "def pretty_summaries(frame):\n",
    "    \n",
    "    for i, row in frame.iterrows():\n",
    "        print(f\"\\n ------------------\")\n",
    "        print(f\"Article  : {remove_special_tokens(row['article'])}\")\n",
    "        print(f\"\\nSummary  : {remove_special_tokens(row['summary'])}\")\n",
    "        print(f\"\\nPredicted: {remove_special_tokens(row['predicted'])}\")\n",
    "        print()\n",
    "        print(f\"------------------\")"
   ]
  },
  {
   "cell_type": "markdown",
   "id": "78b3258a",
   "metadata": {
    "papermill": {
     "duration": 0.174835,
     "end_time": "2023-04-27T14:32:08.762851",
     "exception": false,
     "start_time": "2023-04-27T14:32:08.588016",
     "status": "completed"
    },
    "tags": []
   },
   "source": [
    "## Inference on test and val sets"
   ]
  },
  {
   "cell_type": "code",
   "execution_count": 50,
   "id": "cdf8998a",
   "metadata": {
    "execution": {
     "iopub.execute_input": "2023-04-27T14:32:09.124163Z",
     "iopub.status.busy": "2023-04-27T14:32:09.123091Z",
     "iopub.status.idle": "2023-04-27T14:37:24.122945Z",
     "shell.execute_reply": "2023-04-27T14:37:24.121808Z"
    },
    "papermill": {
     "duration": 315.187452,
     "end_time": "2023-04-27T14:37:24.125177",
     "exception": false,
     "start_time": "2023-04-27T14:32:08.937725",
     "status": "completed"
    },
    "tags": []
   },
   "outputs": [
    {
     "name": "stdout",
     "output_type": "stream",
     "text": [
      "--- Runing inference on test set ---\n",
      "\n",
      "Summarising ... 0/2755\n",
      "Summarising ... 25/2755\n",
      "Summarising ... 50/2755\n",
      "Summarising ... 75/2755\n",
      "Summarising ... 100/2755\n",
      "Summarising ... 125/2755\n",
      "Summarising ... 150/2755\n",
      "Summarising ... 175/2755\n",
      "Summarising ... 200/2755\n",
      "Summarising ... 225/2755\n",
      "Summarising ... 250/2755\n",
      "Summarising ... 275/2755\n",
      "Summarising ... 300/2755\n",
      "Summarising ... 325/2755\n",
      "Summarising ... 350/2755\n",
      "Summarising ... 375/2755\n",
      "Summarising ... 400/2755\n",
      "Summarising ... 425/2755\n",
      "Summarising ... 450/2755\n",
      "Summarising ... 475/2755\n",
      "Summarising ... 500/2755\n",
      "Summarising ... 525/2755\n",
      "Summarising ... 550/2755\n",
      "Summarising ... 575/2755\n",
      "Summarising ... 600/2755\n",
      "Summarising ... 625/2755\n",
      "Summarising ... 650/2755\n",
      "Summarising ... 675/2755\n",
      "Summarising ... 700/2755\n",
      "Summarising ... 725/2755\n",
      "Summarising ... 750/2755\n",
      "Summarising ... 775/2755\n",
      "Summarising ... 800/2755\n",
      "Summarising ... 825/2755\n",
      "Summarising ... 850/2755\n",
      "Summarising ... 875/2755\n",
      "Summarising ... 900/2755\n",
      "Summarising ... 925/2755\n",
      "Summarising ... 950/2755\n",
      "Summarising ... 975/2755\n",
      "Summarising ... 1000/2755\n",
      "Summarising ... 1025/2755\n",
      "Summarising ... 1050/2755\n",
      "Summarising ... 1075/2755\n",
      "Summarising ... 1100/2755\n",
      "Summarising ... 1125/2755\n",
      "Summarising ... 1150/2755\n",
      "Summarising ... 1175/2755\n",
      "Summarising ... 1200/2755\n",
      "Summarising ... 1225/2755\n",
      "Summarising ... 1250/2755\n",
      "Summarising ... 1275/2755\n",
      "Summarising ... 1300/2755\n",
      "Summarising ... 1325/2755\n",
      "Summarising ... 1350/2755\n",
      "Summarising ... 1375/2755\n",
      "Summarising ... 1400/2755\n",
      "Summarising ... 1425/2755\n",
      "Summarising ... 1450/2755\n",
      "Summarising ... 1475/2755\n",
      "Summarising ... 1500/2755\n",
      "Summarising ... 1525/2755\n",
      "Summarising ... 1550/2755\n",
      "Summarising ... 1575/2755\n",
      "Summarising ... 1600/2755\n",
      "Summarising ... 1625/2755\n",
      "Summarising ... 1650/2755\n",
      "Summarising ... 1675/2755\n",
      "Summarising ... 1700/2755\n",
      "Summarising ... 1725/2755\n",
      "Summarising ... 1750/2755\n",
      "Summarising ... 1775/2755\n",
      "Summarising ... 1800/2755\n",
      "Summarising ... 1825/2755\n",
      "Summarising ... 1850/2755\n",
      "Summarising ... 1875/2755\n",
      "Summarising ... 1900/2755\n",
      "Summarising ... 1925/2755\n",
      "Summarising ... 1950/2755\n",
      "Summarising ... 1975/2755\n",
      "Summarising ... 2000/2755\n",
      "Summarising ... 2025/2755\n",
      "Summarising ... 2050/2755\n",
      "Summarising ... 2075/2755\n",
      "Summarising ... 2100/2755\n",
      "Summarising ... 2125/2755\n",
      "Summarising ... 2150/2755\n",
      "Summarising ... 2175/2755\n",
      "Summarising ... 2200/2755\n",
      "Summarising ... 2225/2755\n",
      "Summarising ... 2250/2755\n",
      "Summarising ... 2275/2755\n",
      "Summarising ... 2300/2755\n",
      "Summarising ... 2325/2755\n",
      "Summarising ... 2350/2755\n",
      "Summarising ... 2375/2755\n",
      "Summarising ... 2400/2755\n",
      "Summarising ... 2425/2755\n",
      "Summarising ... 2450/2755\n",
      "Summarising ... 2475/2755\n",
      "Summarising ... 2500/2755\n",
      "Summarising ... 2525/2755\n",
      "Summarising ... 2550/2755\n",
      "Summarising ... 2575/2755\n",
      "Summarising ... 2600/2755\n",
      "Summarising ... 2625/2755\n",
      "Summarising ... 2650/2755\n",
      "Summarising ... 2675/2755\n",
      "Summarising ... 2700/2755\n",
      "Summarising ... 2725/2755\n",
      "Summarising ... 2750/2755\n",
      "CPU times: user 5min 44s, sys: 31.6 s, total: 6min 16s\n",
      "Wall time: 5min 14s\n"
     ]
    },
    {
     "data": {
      "text/html": [
       "<div>\n",
       "<style scoped>\n",
       "    .dataframe tbody tr th:only-of-type {\n",
       "        vertical-align: middle;\n",
       "    }\n",
       "\n",
       "    .dataframe tbody tr th {\n",
       "        vertical-align: top;\n",
       "    }\n",
       "\n",
       "    .dataframe thead th {\n",
       "        text-align: right;\n",
       "    }\n",
       "</style>\n",
       "<table border=\"1\" class=\"dataframe\">\n",
       "  <thead>\n",
       "    <tr style=\"text-align: right;\">\n",
       "      <th></th>\n",
       "      <th>Unnamed: 0</th>\n",
       "      <th>article</th>\n",
       "      <th>summary</th>\n",
       "      <th>article_len_approx</th>\n",
       "      <th>summary_len_approx</th>\n",
       "      <th>predicted</th>\n",
       "    </tr>\n",
       "  </thead>\n",
       "  <tbody>\n",
       "    <tr>\n",
       "      <th>0</th>\n",
       "      <td>22808</td>\n",
       "      <td>italian cardiologist dr valerio sanguigni has ...</td>\n",
       "      <td>doctor claims making ice-cream to enhance spor...</td>\n",
       "      <td>58</td>\n",
       "      <td>9</td>\n",
       "      <td>italian firm creates headphones in sports</td>\n",
       "    </tr>\n",
       "    <tr>\n",
       "      <th>1</th>\n",
       "      <td>3347</td>\n",
       "      <td>virgin group s billionaire founder richard bra...</td>\n",
       "      <td>richard branson launches new space company vir...</td>\n",
       "      <td>61</td>\n",
       "      <td>9</td>\n",
       "      <td>company launches new rocket launch for phone car</td>\n",
       "    </tr>\n",
       "    <tr>\n",
       "      <th>2</th>\n",
       "      <td>4276</td>\n",
       "      <td>wbo oriental champion china s zulpikar maimait...</td>\n",
       "      <td>wbo oriental champion refuses to fight vijende...</td>\n",
       "      <td>62</td>\n",
       "      <td>9</td>\n",
       "      <td>vijender s cube in china s next to fight on sept</td>\n",
       "    </tr>\n",
       "    <tr>\n",
       "      <th>3</th>\n",
       "      <td>49406</td>\n",
       "      <td>according to a report by the harvard kennedy s...</td>\n",
       "      <td>indian nuke assets face insider threats report</td>\n",
       "      <td>60</td>\n",
       "      <td>8</td>\n",
       "      <td>india using nuclear weapons that can t be treated</td>\n",
       "    </tr>\n",
       "    <tr>\n",
       "      <th>4</th>\n",
       "      <td>12359</td>\n",
       "      <td>filmmaker ashutosh gowariker will be deliverin...</td>\n",
       "      <td>ashutosh gowariker to deliver lecture at yashw...</td>\n",
       "      <td>55</td>\n",
       "      <td>10</td>\n",
       "      <td>bhuvneshwar kumar to be held in 2016</td>\n",
       "    </tr>\n",
       "    <tr>\n",
       "      <th>...</th>\n",
       "      <td>...</td>\n",
       "      <td>...</td>\n",
       "      <td>...</td>\n",
       "      <td>...</td>\n",
       "      <td>...</td>\n",
       "      <td>...</td>\n",
       "    </tr>\n",
       "    <tr>\n",
       "      <th>2750</th>\n",
       "      <td>32938</td>\n",
       "      <td>hurriyat leader syed ali geelani was detained ...</td>\n",
       "      <td>hurriyat leader geelani detained in srinagar</td>\n",
       "      <td>58</td>\n",
       "      <td>7</td>\n",
       "      <td>kashmiri leader detained for death</td>\n",
       "    </tr>\n",
       "    <tr>\n",
       "      <th>2751</th>\n",
       "      <td>31905</td>\n",
       "      <td>railway minister suresh prabhu on saturday sai...</td>\n",
       "      <td>railways to raise $5 billion to finance projects</td>\n",
       "      <td>61</td>\n",
       "      <td>9</td>\n",
       "      <td>railway ministry has been covered to fund for ...</td>\n",
       "    </tr>\n",
       "    <tr>\n",
       "      <th>2752</th>\n",
       "      <td>32134</td>\n",
       "      <td>actor sushant singh rajput is set to star in a...</td>\n",
       "      <td>sushant to star in space film chanda mama door ke</td>\n",
       "      <td>61</td>\n",
       "      <td>11</td>\n",
       "      <td>sushant to star in space propulsion system</td>\n",
       "    </tr>\n",
       "    <tr>\n",
       "      <th>2753</th>\n",
       "      <td>18835</td>\n",
       "      <td>cricketer yuvraj singh who visited the parliam...</td>\n",
       "      <td>yuvraj misspells pm modi s name in wedding inv...</td>\n",
       "      <td>62</td>\n",
       "      <td>10</td>\n",
       "      <td>yuvraj singh visits pm modi s wedding card for...</td>\n",
       "    </tr>\n",
       "    <tr>\n",
       "      <th>2754</th>\n",
       "      <td>54336</td>\n",
       "      <td>the uttar pradesh government on wednesday decl...</td>\n",
       "      <td>airlift declared tax free in uttar pradesh</td>\n",
       "      <td>58</td>\n",
       "      <td>8</td>\n",
       "      <td>up govt declares akshay kumar s appointment</td>\n",
       "    </tr>\n",
       "  </tbody>\n",
       "</table>\n",
       "<p>2755 rows × 6 columns</p>\n",
       "</div>"
      ],
      "text/plain": [
       "      Unnamed: 0                                            article  \\\n",
       "0          22808  italian cardiologist dr valerio sanguigni has ...   \n",
       "1           3347  virgin group s billionaire founder richard bra...   \n",
       "2           4276  wbo oriental champion china s zulpikar maimait...   \n",
       "3          49406  according to a report by the harvard kennedy s...   \n",
       "4          12359  filmmaker ashutosh gowariker will be deliverin...   \n",
       "...          ...                                                ...   \n",
       "2750       32938  hurriyat leader syed ali geelani was detained ...   \n",
       "2751       31905  railway minister suresh prabhu on saturday sai...   \n",
       "2752       32134  actor sushant singh rajput is set to star in a...   \n",
       "2753       18835  cricketer yuvraj singh who visited the parliam...   \n",
       "2754       54336  the uttar pradesh government on wednesday decl...   \n",
       "\n",
       "                                                summary  article_len_approx  \\\n",
       "0     doctor claims making ice-cream to enhance spor...                  58   \n",
       "1     richard branson launches new space company vir...                  61   \n",
       "2     wbo oriental champion refuses to fight vijende...                  62   \n",
       "3        indian nuke assets face insider threats report                  60   \n",
       "4     ashutosh gowariker to deliver lecture at yashw...                  55   \n",
       "...                                                 ...                 ...   \n",
       "2750       hurriyat leader geelani detained in srinagar                  58   \n",
       "2751   railways to raise $5 billion to finance projects                  61   \n",
       "2752  sushant to star in space film chanda mama door ke                  61   \n",
       "2753  yuvraj misspells pm modi s name in wedding inv...                  62   \n",
       "2754         airlift declared tax free in uttar pradesh                  58   \n",
       "\n",
       "      summary_len_approx                                          predicted  \n",
       "0                      9          italian firm creates headphones in sports  \n",
       "1                      9   company launches new rocket launch for phone car  \n",
       "2                      9   vijender s cube in china s next to fight on sept  \n",
       "3                      8  india using nuclear weapons that can t be treated  \n",
       "4                     10               bhuvneshwar kumar to be held in 2016  \n",
       "...                  ...                                                ...  \n",
       "2750                   7                 kashmiri leader detained for death  \n",
       "2751                   9  railway ministry has been covered to fund for ...  \n",
       "2752                  11         sushant to star in space propulsion system  \n",
       "2753                  10  yuvraj singh visits pm modi s wedding card for...  \n",
       "2754                   8        up govt declares akshay kumar s appointment  \n",
       "\n",
       "[2755 rows x 6 columns]"
      ]
     },
     "execution_count": 50,
     "metadata": {},
     "output_type": "execute_result"
    }
   ],
   "source": [
    "%%time\n",
    "\n",
    "# Predict on test set and save\n",
    "print('--- Runing inference on test set ---\\n')\n",
    "test_pred = remove_special_tokens_frame(summarize_frame(df_test))\n",
    "test_pred"
   ]
  },
  {
   "cell_type": "code",
   "execution_count": 51,
   "id": "feac7827",
   "metadata": {
    "execution": {
     "iopub.execute_input": "2023-04-27T14:37:24.486898Z",
     "iopub.status.busy": "2023-04-27T14:37:24.486185Z",
     "iopub.status.idle": "2023-04-27T14:37:24.526141Z",
     "shell.execute_reply": "2023-04-27T14:37:24.524828Z"
    },
    "papermill": {
     "duration": 0.225078,
     "end_time": "2023-04-27T14:37:24.529434",
     "exception": false,
     "start_time": "2023-04-27T14:37:24.304356",
     "status": "completed"
    },
    "tags": []
   },
   "outputs": [
    {
     "name": "stdout",
     "output_type": "stream",
     "text": [
      "Saved test set evaluation data.\n"
     ]
    }
   ],
   "source": [
    "test_pred.to_csv('testset_evaluation_data.csv')\n",
    "print('Saved test set evaluation data.')"
   ]
  },
  {
   "cell_type": "code",
   "execution_count": 52,
   "id": "78e250bf",
   "metadata": {
    "execution": {
     "iopub.execute_input": "2023-04-27T14:37:24.939818Z",
     "iopub.status.busy": "2023-04-27T14:37:24.937869Z",
     "iopub.status.idle": "2023-04-27T14:42:38.120650Z",
     "shell.execute_reply": "2023-04-27T14:42:38.119597Z"
    },
    "papermill": {
     "duration": 313.602875,
     "end_time": "2023-04-27T14:42:38.360410",
     "exception": false,
     "start_time": "2023-04-27T14:37:24.757535",
     "status": "completed"
    },
    "tags": []
   },
   "outputs": [
    {
     "name": "stdout",
     "output_type": "stream",
     "text": [
      "--- Runing inference on validation set ---\n",
      "\n",
      "Summarising ... 0/2748\n",
      "Summarising ... 25/2748\n",
      "Summarising ... 50/2748\n",
      "Summarising ... 75/2748\n",
      "Summarising ... 100/2748\n",
      "Summarising ... 125/2748\n",
      "Summarising ... 150/2748\n",
      "Summarising ... 175/2748\n",
      "Summarising ... 200/2748\n",
      "Summarising ... 225/2748\n",
      "Summarising ... 250/2748\n",
      "Summarising ... 275/2748\n",
      "Summarising ... 300/2748\n",
      "Summarising ... 325/2748\n",
      "Summarising ... 350/2748\n",
      "Summarising ... 375/2748\n",
      "Summarising ... 400/2748\n",
      "Summarising ... 425/2748\n",
      "Summarising ... 450/2748\n",
      "Summarising ... 475/2748\n",
      "Summarising ... 500/2748\n",
      "Summarising ... 525/2748\n",
      "Summarising ... 550/2748\n",
      "Summarising ... 575/2748\n",
      "Summarising ... 600/2748\n",
      "Summarising ... 625/2748\n",
      "Summarising ... 650/2748\n",
      "Summarising ... 675/2748\n",
      "Summarising ... 700/2748\n",
      "Summarising ... 725/2748\n",
      "Summarising ... 750/2748\n",
      "Summarising ... 775/2748\n",
      "Summarising ... 800/2748\n",
      "Summarising ... 825/2748\n",
      "Summarising ... 850/2748\n",
      "Summarising ... 875/2748\n",
      "Summarising ... 900/2748\n",
      "Summarising ... 925/2748\n",
      "Summarising ... 950/2748\n",
      "Summarising ... 975/2748\n",
      "Summarising ... 1000/2748\n",
      "Summarising ... 1025/2748\n",
      "Summarising ... 1050/2748\n",
      "Summarising ... 1075/2748\n",
      "Summarising ... 1100/2748\n",
      "Summarising ... 1125/2748\n",
      "Summarising ... 1150/2748\n",
      "Summarising ... 1175/2748\n",
      "Summarising ... 1200/2748\n",
      "Summarising ... 1225/2748\n",
      "Summarising ... 1250/2748\n",
      "Summarising ... 1275/2748\n",
      "Summarising ... 1300/2748\n",
      "Summarising ... 1325/2748\n",
      "Summarising ... 1350/2748\n",
      "Summarising ... 1375/2748\n",
      "Summarising ... 1400/2748\n",
      "Summarising ... 1425/2748\n",
      "Summarising ... 1450/2748\n",
      "Summarising ... 1475/2748\n",
      "Summarising ... 1500/2748\n",
      "Summarising ... 1525/2748\n",
      "Summarising ... 1550/2748\n",
      "Summarising ... 1575/2748\n",
      "Summarising ... 1600/2748\n",
      "Summarising ... 1625/2748\n",
      "Summarising ... 1650/2748\n",
      "Summarising ... 1675/2748\n",
      "Summarising ... 1700/2748\n",
      "Summarising ... 1725/2748\n",
      "Summarising ... 1750/2748\n",
      "Summarising ... 1775/2748\n",
      "Summarising ... 1800/2748\n",
      "Summarising ... 1825/2748\n",
      "Summarising ... 1850/2748\n",
      "Summarising ... 1875/2748\n",
      "Summarising ... 1900/2748\n",
      "Summarising ... 1925/2748\n",
      "Summarising ... 1950/2748\n",
      "Summarising ... 1975/2748\n",
      "Summarising ... 2000/2748\n",
      "Summarising ... 2025/2748\n",
      "Summarising ... 2050/2748\n",
      "Summarising ... 2075/2748\n",
      "Summarising ... 2100/2748\n",
      "Summarising ... 2125/2748\n",
      "Summarising ... 2150/2748\n",
      "Summarising ... 2175/2748\n",
      "Summarising ... 2200/2748\n",
      "Summarising ... 2225/2748\n",
      "Summarising ... 2250/2748\n",
      "Summarising ... 2275/2748\n",
      "Summarising ... 2300/2748\n",
      "Summarising ... 2325/2748\n",
      "Summarising ... 2350/2748\n",
      "Summarising ... 2375/2748\n",
      "Summarising ... 2400/2748\n",
      "Summarising ... 2425/2748\n",
      "Summarising ... 2450/2748\n",
      "Summarising ... 2475/2748\n",
      "Summarising ... 2500/2748\n",
      "Summarising ... 2525/2748\n",
      "Summarising ... 2550/2748\n",
      "Summarising ... 2575/2748\n",
      "Summarising ... 2600/2748\n",
      "Summarising ... 2625/2748\n",
      "Summarising ... 2650/2748\n",
      "Summarising ... 2675/2748\n",
      "Summarising ... 2700/2748\n",
      "Summarising ... 2725/2748\n",
      "CPU times: user 5min 43s, sys: 32.3 s, total: 6min 16s\n",
      "Wall time: 5min 13s\n"
     ]
    },
    {
     "data": {
      "text/html": [
       "<div>\n",
       "<style scoped>\n",
       "    .dataframe tbody tr th:only-of-type {\n",
       "        vertical-align: middle;\n",
       "    }\n",
       "\n",
       "    .dataframe tbody tr th {\n",
       "        vertical-align: top;\n",
       "    }\n",
       "\n",
       "    .dataframe thead th {\n",
       "        text-align: right;\n",
       "    }\n",
       "</style>\n",
       "<table border=\"1\" class=\"dataframe\">\n",
       "  <thead>\n",
       "    <tr style=\"text-align: right;\">\n",
       "      <th></th>\n",
       "      <th>Unnamed: 0</th>\n",
       "      <th>article</th>\n",
       "      <th>summary</th>\n",
       "      <th>article_len_approx</th>\n",
       "      <th>summary_len_approx</th>\n",
       "      <th>predicted</th>\n",
       "    </tr>\n",
       "  </thead>\n",
       "  <tbody>\n",
       "    <tr>\n",
       "      <th>0</th>\n",
       "      <td>45221</td>\n",
       "      <td>future investments in india and the country s ...</td>\n",
       "      <td>environment cess on diesel cars not good siam</td>\n",
       "      <td>62</td>\n",
       "      <td>9</td>\n",
       "      <td>india to be linked to 40% if they can be aucti...</td>\n",
       "    </tr>\n",
       "    <tr>\n",
       "      <th>1</th>\n",
       "      <td>24321</td>\n",
       "      <td>us presidential nominee donald trump gained on...</td>\n",
       "      <td>trump cuts hillary s lead in opinion polls</td>\n",
       "      <td>61</td>\n",
       "      <td>9</td>\n",
       "      <td>trump gains clinton for up polls reports</td>\n",
       "    </tr>\n",
       "    <tr>\n",
       "      <th>2</th>\n",
       "      <td>44016</td>\n",
       "      <td>an equalisation levy of 6% on cross border dig...</td>\n",
       "      <td>6% equalisation levy to take effect from june 1</td>\n",
       "      <td>59</td>\n",
       "      <td>10</td>\n",
       "      <td>on sale of india to be launched for online</td>\n",
       "    </tr>\n",
       "    <tr>\n",
       "      <th>3</th>\n",
       "      <td>54158</td>\n",
       "      <td>the government on friday raised ₹637 crore thr...</td>\n",
       "      <td>govt raises ₹637 cr via sale of 10% stake in eil</td>\n",
       "      <td>62</td>\n",
       "      <td>12</td>\n",
       "      <td>gold raises ₹5 crore to buy stake in india in ...</td>\n",
       "    </tr>\n",
       "    <tr>\n",
       "      <th>4</th>\n",
       "      <td>26296</td>\n",
       "      <td>thousands of kilometres of the new zealand coa...</td>\n",
       "      <td>giant jellyfish cover new zealand coastline</td>\n",
       "      <td>58</td>\n",
       "      <td>7</td>\n",
       "      <td>new zealand has world’s largest hypersonic isl...</td>\n",
       "    </tr>\n",
       "    <tr>\n",
       "      <th>...</th>\n",
       "      <td>...</td>\n",
       "      <td>...</td>\n",
       "      <td>...</td>\n",
       "      <td>...</td>\n",
       "      <td>...</td>\n",
       "      <td>...</td>\n",
       "    </tr>\n",
       "    <tr>\n",
       "      <th>2743</th>\n",
       "      <td>25100</td>\n",
       "      <td>google s ai platform deepmind has become capab...</td>\n",
       "      <td>google s deepmind ai can now learn without hum...</td>\n",
       "      <td>60</td>\n",
       "      <td>11</td>\n",
       "      <td>google unveils its ai that can t be made</td>\n",
       "    </tr>\n",
       "    <tr>\n",
       "      <th>2744</th>\n",
       "      <td>36209</td>\n",
       "      <td>the second test between india and west indies ...</td>\n",
       "      <td>chase s 137 helps wi draw 2nd test with india</td>\n",
       "      <td>62</td>\n",
       "      <td>11</td>\n",
       "      <td>india s 2nd test ton ends on day 3 vs bangladesh</td>\n",
       "    </tr>\n",
       "    <tr>\n",
       "      <th>2745</th>\n",
       "      <td>42124</td>\n",
       "      <td>music publisher kobalt has launched a new app ...</td>\n",
       "      <td>app shows singers money they make in real time</td>\n",
       "      <td>64</td>\n",
       "      <td>10</td>\n",
       "      <td>new app launches app for calling me shared today</td>\n",
       "    </tr>\n",
       "    <tr>\n",
       "      <th>2746</th>\n",
       "      <td>27608</td>\n",
       "      <td>japanese scientists have developed a fire alar...</td>\n",
       "      <td>japan developed a wasabi fire alarm for the deaf</td>\n",
       "      <td>55</td>\n",
       "      <td>10</td>\n",
       "      <td>japanese scientists develop fire that let us p...</td>\n",
       "    </tr>\n",
       "    <tr>\n",
       "      <th>2747</th>\n",
       "      <td>52543</td>\n",
       "      <td>congress leader randeep surjewala today referr...</td>\n",
       "      <td>congress leader addresses afzal guru as ji</td>\n",
       "      <td>61</td>\n",
       "      <td>8</td>\n",
       "      <td>congress leader slams vhp remark on jnu row</td>\n",
       "    </tr>\n",
       "  </tbody>\n",
       "</table>\n",
       "<p>2748 rows × 6 columns</p>\n",
       "</div>"
      ],
      "text/plain": [
       "      Unnamed: 0                                            article  \\\n",
       "0          45221  future investments in india and the country s ...   \n",
       "1          24321  us presidential nominee donald trump gained on...   \n",
       "2          44016  an equalisation levy of 6% on cross border dig...   \n",
       "3          54158  the government on friday raised ₹637 crore thr...   \n",
       "4          26296  thousands of kilometres of the new zealand coa...   \n",
       "...          ...                                                ...   \n",
       "2743       25100  google s ai platform deepmind has become capab...   \n",
       "2744       36209  the second test between india and west indies ...   \n",
       "2745       42124  music publisher kobalt has launched a new app ...   \n",
       "2746       27608  japanese scientists have developed a fire alar...   \n",
       "2747       52543  congress leader randeep surjewala today referr...   \n",
       "\n",
       "                                                summary  article_len_approx  \\\n",
       "0         environment cess on diesel cars not good siam                  62   \n",
       "1            trump cuts hillary s lead in opinion polls                  61   \n",
       "2       6% equalisation levy to take effect from june 1                  59   \n",
       "3      govt raises ₹637 cr via sale of 10% stake in eil                  62   \n",
       "4           giant jellyfish cover new zealand coastline                  58   \n",
       "...                                                 ...                 ...   \n",
       "2743  google s deepmind ai can now learn without hum...                  60   \n",
       "2744      chase s 137 helps wi draw 2nd test with india                  62   \n",
       "2745     app shows singers money they make in real time                  64   \n",
       "2746   japan developed a wasabi fire alarm for the deaf                  55   \n",
       "2747         congress leader addresses afzal guru as ji                  61   \n",
       "\n",
       "      summary_len_approx                                          predicted  \n",
       "0                      9  india to be linked to 40% if they can be aucti...  \n",
       "1                      9           trump gains clinton for up polls reports  \n",
       "2                     10         on sale of india to be launched for online  \n",
       "3                     12  gold raises ₹5 crore to buy stake in india in ...  \n",
       "4                      7  new zealand has world’s largest hypersonic isl...  \n",
       "...                  ...                                                ...  \n",
       "2743                  11           google unveils its ai that can t be made  \n",
       "2744                  11   india s 2nd test ton ends on day 3 vs bangladesh  \n",
       "2745                  10   new app launches app for calling me shared today  \n",
       "2746                  10  japanese scientists develop fire that let us p...  \n",
       "2747                   8        congress leader slams vhp remark on jnu row  \n",
       "\n",
       "[2748 rows x 6 columns]"
      ]
     },
     "execution_count": 52,
     "metadata": {},
     "output_type": "execute_result"
    }
   ],
   "source": [
    "%%time\n",
    "\n",
    "# Predict on test set and save\n",
    "print('--- Runing inference on validation set ---\\n')\n",
    "val_pred = remove_special_tokens_frame(summarize_frame(df_val))\n",
    "val_pred"
   ]
  },
  {
   "cell_type": "code",
   "execution_count": 53,
   "id": "8a985c32",
   "metadata": {
    "execution": {
     "iopub.execute_input": "2023-04-27T14:42:38.742301Z",
     "iopub.status.busy": "2023-04-27T14:42:38.741417Z",
     "iopub.status.idle": "2023-04-27T14:42:38.779353Z",
     "shell.execute_reply": "2023-04-27T14:42:38.778088Z"
    },
    "papermill": {
     "duration": 0.23224,
     "end_time": "2023-04-27T14:42:38.782779",
     "exception": false,
     "start_time": "2023-04-27T14:42:38.550539",
     "status": "completed"
    },
    "tags": []
   },
   "outputs": [
    {
     "name": "stdout",
     "output_type": "stream",
     "text": [
      "Saved validation set evaluation data.\n"
     ]
    }
   ],
   "source": [
    "val_pred.to_csv('validationset_evaluation_data.csv')\n",
    "print('Saved validation set evaluation data.')"
   ]
  },
  {
   "cell_type": "code",
   "execution_count": 54,
   "id": "a19b8ab4",
   "metadata": {
    "execution": {
     "iopub.execute_input": "2023-04-27T14:42:39.162504Z",
     "iopub.status.busy": "2023-04-27T14:42:39.162140Z",
     "iopub.status.idle": "2023-04-27T14:42:39.187511Z",
     "shell.execute_reply": "2023-04-27T14:42:39.186279Z"
    },
    "papermill": {
     "duration": 0.221286,
     "end_time": "2023-04-27T14:42:39.191781",
     "exception": false,
     "start_time": "2023-04-27T14:42:38.970495",
     "status": "completed"
    },
    "tags": []
   },
   "outputs": [
    {
     "name": "stdout",
     "output_type": "stream",
     "text": [
      "--- Example 10 test set summaries ---\n",
      "\n",
      "\n",
      " ------------------\n",
      "Article  : italian cardiologist dr valerio sanguigni has claimed to have created an ice-cream that will improve performance in sports his patented ice-creams have been created by mixing natural ingredients rich in anti-oxidants with frozen gelato sanguigni has also tested the ice-creams on his students which reportedly showed an improvement in their performance while exercising and in vascular function\n",
      "\n",
      "Summary  : doctor claims making ice-cream to enhance sports performance\n",
      "\n",
      "Predicted: italian firm creates headphones in sports\n",
      "\n",
      "------------------\n",
      "\n",
      " ------------------\n",
      "Article  : virgin group s billionaire founder richard branson has launched virgin orbit a new company to launch small satellites into space using its launcherone orbital launch vehicle the launcherone is a boeing 747-400 airliner designed to hold a rocket under its wing it fires the rocket into space to deliver satellites for other companies working in the space and internet fields\n",
      "\n",
      "Summary  : richard branson launches new space company virgin orbit\n",
      "\n",
      "Predicted: company launches new rocket launch for phone car\n",
      "\n",
      "------------------\n",
      "\n",
      " ------------------\n",
      "Article  : wbo oriental champion china s zulpikar maimaitiali who was set to fight asia pacific title holder vijender singh has backed out from the bout as the talks between the boxers promoters did not materialise reportedly vijender who has an 8-0 record in pro-boxing so far will still fight on the scheduled date april 1 in mumbai but against a different opponent\n",
      "\n",
      "Summary  : wbo oriental champion refuses to fight vijender singh\n",
      "\n",
      "Predicted: vijender s cube in china s next to fight on sept\n",
      "\n",
      "------------------\n",
      "\n",
      " ------------------\n",
      "Article  : according to a report by the harvard kennedy school indian nuclear facilities face various insider threats though less severe compared to pakistan or russia india faces significant insider corruption and its nuclear security measures may be weaker than those of pakistan said the report the report also cited the infiltration by attackers into the pathankot airbase on january 2\n",
      "\n",
      "Summary  : indian nuke assets face insider threats report\n",
      "\n",
      "Predicted: india using nuclear weapons that can t be treated\n",
      "\n",
      "------------------\n",
      "\n",
      " ------------------\n",
      "Article  : filmmaker ashutosh gowariker will be delivering a lecture in the upcoming seventh edition of yashwant international film festival in mumbai which will be held from january 20-26 the festival has been organised by yashwantrao chavan pratishthan ycp in collaboration with pune film foundation gowariker will deliver the smita patil memorial lecture on january 22\n",
      "\n",
      "Summary  : ashutosh gowariker to deliver lecture at yashwant film fest\n",
      "\n",
      "Predicted: bhuvneshwar kumar to be held in 2016\n",
      "\n",
      "------------------\n",
      "\n",
      " ------------------\n",
      "Article  : actress shama sikander has clarified that she never watched pornographic films to research for her character in the short film sexaholic i was misquoted i had asked for both written and visual content that i can refer to and get a better understanding of the character i was to play but there was nothing pornographic involved said shama\n",
      "\n",
      "Summary  : never saw porn to research for character in sexaholic shama\n",
      "\n",
      "Predicted: artist denies sex for munna michael jackson\n",
      "\n",
      "------------------\n",
      "\n",
      " ------------------\n",
      "Article  : with both retail and wholesale inflation easing the rbi may cut policy rates by another 25 basis points this fiscal india ratings and research said but there are few pressure points that need attention like rising trend in prices of cereal and transport and communication services it added notably rbi recently cut repo rate by 25 basis points to 6.25%\n",
      "\n",
      "Summary  : easing inflation offers scope for another rate cut\n",
      "\n",
      "Predicted: rajan may cut rbi deal by 1% jaitley\n",
      "\n",
      "------------------\n",
      "\n",
      " ------------------\n",
      "Article  : indians fielders dropped australian captain steve smith three times on day 2 of the pune test while matt renshaw was also given a respite the australian skipper was first dropped by murali vijay at leg slip while he was batting on 23 followed by two unsuccessful catch attempts by substitute abhinav mukund renshaw s drop also cost the team four runs\n",
      "\n",
      "Summary  : after batting collapse indians drop 4 catches in the field\n",
      "\n",
      "Predicted: indians lose steve smith s day after losing test\n",
      "\n",
      "------------------\n",
      "\n",
      " ------------------\n",
      "Article  : up police on saturday recovered 605 softshell turtles after a raid in the mainpuri district divisional forest officer manish singh said an fir has been lodged against the seven accused who managed to escape while the turtles have been handed over to the forest department on february 3 a truck transporting over 3 000 turtles from mainpuri was seized in jharkhand\n",
      "\n",
      "Summary  : up police rescue over 600 softshell turtles\n",
      "\n",
      "Predicted: police arrests 35 kg gold seized in chhattisgarh\n",
      "\n",
      "------------------\n",
      "\n",
      " ------------------\n",
      "Article  : the decision of the obama administration to sell eight nuclear-capable f-16 fighter jets to pakistan worth nearly $700 million should not be a concern for india said pentagon press secretary peter cook today regional security was taken into account before the sale he added india earlier summoned us ambassador richard verma to convey “displeasure and disappointment” over the deal\n",
      "\n",
      "Summary  : pak f-16 sale should not concern india pentagon\n",
      "\n",
      "Predicted: obama must sell pakistan to india on trump\n",
      "\n",
      "------------------\n"
     ]
    }
   ],
   "source": [
    "print('--- Example 10 test set summaries ---\\n')\n",
    "pretty_summaries(test_pred[:10])"
   ]
  },
  {
   "cell_type": "code",
   "execution_count": 55,
   "id": "12c1cab5",
   "metadata": {
    "execution": {
     "iopub.execute_input": "2023-04-27T14:42:39.589615Z",
     "iopub.status.busy": "2023-04-27T14:42:39.588677Z",
     "iopub.status.idle": "2023-04-27T14:42:39.620426Z",
     "shell.execute_reply": "2023-04-27T14:42:39.617280Z"
    },
    "papermill": {
     "duration": 0.237563,
     "end_time": "2023-04-27T14:42:39.623478",
     "exception": false,
     "start_time": "2023-04-27T14:42:39.385915",
     "status": "completed"
    },
    "tags": []
   },
   "outputs": [
    {
     "name": "stdout",
     "output_type": "stream",
     "text": [
      "--- Example 10 validation set summaries ---\n",
      "\n",
      "\n",
      " ------------------\n",
      "Article  : future investments in india and the country s image as an investment destination will be adversely affected if the proposed 30% environment cess on diesel cars and suvs is implemented society of indian automobile manufacturers siam said this comes after the supreme court asked delhi police to pay a 30% environment cess on vehicles value as a pre-condition for their registration\n",
      "\n",
      "Summary  : environment cess on diesel cars not good siam\n",
      "\n",
      "Predicted: india to be linked to 40% if they can be auctioned\n",
      "\n",
      "------------------\n",
      "\n",
      " ------------------\n",
      "Article  : us presidential nominee donald trump gained on his rival hillary clinton among us voters cutting her lead nearly by half according to reuters/ipsos poll clinton now leads trump by 44% to 40% whereas earlier she was leading by 44% to 37% this comes after trump claimed the election system was rigged and called on voters to get out and vote\n",
      "\n",
      "Summary  : trump cuts hillary s lead in opinion polls\n",
      "\n",
      "Predicted: trump gains clinton for up polls reports\n",
      "\n",
      "------------------\n",
      "\n",
      " ------------------\n",
      "Article  : an equalisation levy of 6% on cross border digital transactions for services like online advertising will come into effect from june 1 the income tax department has notified also referred to as ‘google tax’ the levy announced in the budget is reportedly aimed at taxing tech firms like google facebook and twitter which earn primarily from online advertising\n",
      "\n",
      "Summary  : 6% equalisation levy to take effect from june 1\n",
      "\n",
      "Predicted: on sale of india to be launched for online\n",
      "\n",
      "------------------\n",
      "\n",
      " ------------------\n",
      "Article  : the government on friday raised ₹637 crore through a 10% stake sale in engineering and construction consultancy company engineers india limited eil with the offer for sale getting subscribed 2.54 times the stake sale is a part of the government’s push to meet its 2015-16 disinvestment target of ₹69 500 crore of which it has raised ₹12 700 crore so far\n",
      "\n",
      "Summary  : govt raises ₹637 cr via sale of 10% stake in eil\n",
      "\n",
      "Predicted: gold raises ₹5 crore to buy stake in india in startups\n",
      "\n",
      "------------------\n",
      "\n",
      " ------------------\n",
      "Article  : thousands of kilometres of the new zealand coastline have been covered by giant jellyfish including lion’s mane the largest jellyfish in the world experts have linked warmer sea temperatures providing fertile breeding grounds and a lack of predators due to excessive fishing to the occurrence booming jellyfish populations are being reported worldwide including in britain and japan\n",
      "\n",
      "Summary  : giant jellyfish cover new zealand coastline\n",
      "\n",
      "Predicted: new zealand has world’s largest hypersonic islands\n",
      "\n",
      "------------------\n",
      "\n",
      " ------------------\n",
      "Article  : union hrd minister prakash javadekar on sunday inaugurated iit dharwad karnataka which had started functioning from august 1 with 120 students from a temporary structure “i assure that the iit in dharwad will become a model for other iits in the country javadekar said the institute spread across 470 acres will be mentored by iit-bombay for the next three years\n",
      "\n",
      "Summary  : hrd minister javadekar inaugurates iit-dharwad\n",
      "\n",
      "Predicted: irctc inaugurates bengaluru students\n",
      "\n",
      "------------------\n",
      "\n",
      " ------------------\n",
      "Article  : a job fair for the transgender community was organised at a hotel in egmore chennai on tuesday held under the supervision of the chennai police the fair aimed to provide good employment opportunities for the people of the third gender police made a database of all those who attended the fair so that they can be contacted for jobs later\n",
      "\n",
      "Summary  : chennai holds job fair for transgender\n",
      "\n",
      "Predicted: job at chennai teacher held for a month\n",
      "\n",
      "------------------\n",
      "\n",
      " ------------------\n",
      "Article  : a us-led air strike has killed islamic state leader abu wahib and three other militants in the anbar province of iraq pentagon spokesperson peter cook said on monday wahib was is chief military official in anbar and a former member of al-qaeda in iraq cook said his death would impede is abilities to conduct operations in the province cook added\n",
      "\n",
      "Summary  : is leader killed in strike in iraq pentagon\n",
      "\n",
      "Predicted: isis killed 3 killed in isis iraqi forces\n",
      "\n",
      "------------------\n",
      "\n",
      " ------------------\n",
      "Article  : the handling of a sexual harassment case against indian hotels branded as taj hotels ceo rakesh sarna may have been among the factors that led to cyrus mistry s removal as tata sons chairman a report said further no reasons have been given till now and just vague statements about culture and trust deficit have been made sources said\n",
      "\n",
      "Summary  : sexual harassment case on taj ceo in mistry ouster reasons\n",
      "\n",
      "Predicted: sex abuse of mistry s board firm revealed\n",
      "\n",
      "------------------\n",
      "\n",
      " ------------------\n",
      "Article  : attacking pakistan on the issue of pakistan occupied kashmir defence minister manohar parrikar on saturday asserted that pakistan was the only country to bomb its own citizens while pakistan pushes 10 jihadis into india a bomb blast kills 70-80 people somewhere in pakistan he added notably a suicide attack earlier this week in pakistan s quetta killed at least 70 people\n",
      "\n",
      "Summary  : pak only country to bomb its citizens parrikar\n",
      "\n",
      "Predicted: pak has only indian defence minister on pak border\n",
      "\n",
      "------------------\n"
     ]
    }
   ],
   "source": [
    "print('--- Example 10 validation set summaries ---\\n')\n",
    "pretty_summaries(val_pred[:10])"
   ]
  },
  {
   "cell_type": "markdown",
   "id": "fd81e82b",
   "metadata": {
    "papermill": {
     "duration": 0.189719,
     "end_time": "2023-04-27T14:42:40.008851",
     "exception": false,
     "start_time": "2023-04-27T14:42:39.819132",
     "status": "completed"
    },
    "tags": []
   },
   "source": [
    "Custom example:"
   ]
  },
  {
   "cell_type": "code",
   "execution_count": 56,
   "id": "3302bac1",
   "metadata": {
    "execution": {
     "iopub.execute_input": "2023-04-27T14:42:40.463139Z",
     "iopub.status.busy": "2023-04-27T14:42:40.462682Z",
     "iopub.status.idle": "2023-04-27T14:42:40.591014Z",
     "shell.execute_reply": "2023-04-27T14:42:40.589459Z"
    },
    "papermill": {
     "duration": 0.385246,
     "end_time": "2023-04-27T14:42:40.594630",
     "exception": false,
     "start_time": "2023-04-27T14:42:40.209384",
     "status": "completed"
    },
    "tags": []
   },
   "outputs": [
    {
     "name": "stdout",
     "output_type": "stream",
     "text": [
      "us man killed 30 injured in car accident\n"
     ]
    }
   ],
   "source": [
    "print(summarizer.from_tf(summarizer(tf.constant([\n",
    "    '<sos> an 18 year old man joe mama has been killed in a tragic car accident in washington us the police have reported that a car has crashed with a lorry this evening on new york street the injured man has died on site <eos>'\n",
    "]))[0]))"
   ]
  },
  {
   "cell_type": "code",
   "execution_count": 57,
   "id": "995e4a4c",
   "metadata": {
    "execution": {
     "iopub.execute_input": "2023-04-27T14:42:40.990699Z",
     "iopub.status.busy": "2023-04-27T14:42:40.990281Z",
     "iopub.status.idle": "2023-04-27T14:42:41.153264Z",
     "shell.execute_reply": "2023-04-27T14:42:41.151998Z"
    },
    "papermill": {
     "duration": 0.36687,
     "end_time": "2023-04-27T14:42:41.156549",
     "exception": false,
     "start_time": "2023-04-27T14:42:40.789679",
     "status": "completed"
    },
    "tags": []
   },
   "outputs": [
    {
     "name": "stdout",
     "output_type": "stream",
     "text": [
      "us prez to be part of china for china s china\n"
     ]
    }
   ],
   "source": [
    "print(summarizer.from_tf(summarizer(tf.constant([\n",
    "    '<sos> the us president joe biden has annouced that he will be coming to china in april to consult the chinese president xi jingping about the current nuclear threats <eos>'\n",
    "]))[0]))"
   ]
  },
  {
   "cell_type": "markdown",
   "id": "8c31cca2",
   "metadata": {
    "papermill": {
     "duration": 0.18784,
     "end_time": "2023-04-27T14:42:41.534213",
     "exception": false,
     "start_time": "2023-04-27T14:42:41.346373",
     "status": "completed"
    },
    "tags": []
   },
   "source": [
    "## Evaluation"
   ]
  },
  {
   "cell_type": "code",
   "execution_count": 58,
   "id": "623b0b82",
   "metadata": {
    "execution": {
     "iopub.execute_input": "2023-04-27T14:42:41.914330Z",
     "iopub.status.busy": "2023-04-27T14:42:41.913396Z",
     "iopub.status.idle": "2023-04-27T14:42:43.818409Z",
     "shell.execute_reply": "2023-04-27T14:42:43.817141Z"
    },
    "papermill": {
     "duration": 2.099708,
     "end_time": "2023-04-27T14:42:43.822454",
     "exception": false,
     "start_time": "2023-04-27T14:42:41.722746",
     "status": "completed"
    },
    "tags": []
   },
   "outputs": [
    {
     "data": {
      "application/vnd.jupyter.widget-view+json": {
       "model_id": "6166b08472c0499e9375c4d175da1a1f",
       "version_major": 2,
       "version_minor": 0
      },
      "text/plain": [
       "Downloading builder script:   0%|          | 0.00/5.94k [00:00<?, ?B/s]"
      ]
     },
     "metadata": {},
     "output_type": "display_data"
    },
    {
     "data": {
      "application/vnd.jupyter.widget-view+json": {
       "model_id": "7059dd47dc5e455d96cccfc5afada3ab",
       "version_major": 2,
       "version_minor": 0
      },
      "text/plain": [
       "Downloading extra modules:   0%|          | 0.00/1.55k [00:00<?, ?B/s]"
      ]
     },
     "metadata": {},
     "output_type": "display_data"
    },
    {
     "data": {
      "application/vnd.jupyter.widget-view+json": {
       "model_id": "63f16023772345e18d7175fd54c571dc",
       "version_major": 2,
       "version_minor": 0
      },
      "text/plain": [
       "Downloading extra modules:   0%|          | 0.00/3.34k [00:00<?, ?B/s]"
      ]
     },
     "metadata": {},
     "output_type": "display_data"
    }
   ],
   "source": [
    "\n",
    "# note, will fail on empty seq\n",
    "bleu = evaluate.load('bleu')\n",
    "bleu_test = bleu.compute(references=test_pred['summary'], predictions=test_pred['predicted'])\n",
    "bleu_val = bleu.compute(references=val_pred['summary'], predictions=val_pred['predicted'])"
   ]
  },
  {
   "cell_type": "code",
   "execution_count": 59,
   "id": "552ba812",
   "metadata": {
    "execution": {
     "iopub.execute_input": "2023-04-27T14:42:44.206695Z",
     "iopub.status.busy": "2023-04-27T14:42:44.206316Z",
     "iopub.status.idle": "2023-04-27T14:42:48.107764Z",
     "shell.execute_reply": "2023-04-27T14:42:48.106509Z"
    },
    "papermill": {
     "duration": 4.096449,
     "end_time": "2023-04-27T14:42:48.111304",
     "exception": false,
     "start_time": "2023-04-27T14:42:44.014855",
     "status": "completed"
    },
    "tags": []
   },
   "outputs": [
    {
     "data": {
      "application/vnd.jupyter.widget-view+json": {
       "model_id": "effaebe5531442508c6caf3527904428",
       "version_major": 2,
       "version_minor": 0
      },
      "text/plain": [
       "Downloading builder script:   0%|          | 0.00/6.27k [00:00<?, ?B/s]"
      ]
     },
     "metadata": {},
     "output_type": "display_data"
    }
   ],
   "source": [
    "rouge = evaluate.load('rouge')\n",
    "rouge_test = rouge.compute(references=test_pred['summary'], predictions=test_pred['predicted'])\n",
    "rouge_val = rouge.compute(references=val_pred['summary'], predictions=val_pred['predicted'])"
   ]
  },
  {
   "cell_type": "code",
   "execution_count": 60,
   "id": "a2c27dcf",
   "metadata": {
    "execution": {
     "iopub.execute_input": "2023-04-27T14:42:48.545398Z",
     "iopub.status.busy": "2023-04-27T14:42:48.545021Z",
     "iopub.status.idle": "2023-04-27T14:42:48.574406Z",
     "shell.execute_reply": "2023-04-27T14:42:48.570407Z"
    },
    "papermill": {
     "duration": 0.27314,
     "end_time": "2023-04-27T14:42:48.577070",
     "exception": false,
     "start_time": "2023-04-27T14:42:48.303930",
     "status": "completed"
    },
    "tags": []
   },
   "outputs": [
    {
     "name": "stdout",
     "output_type": "stream",
     "text": [
      "Evaluation metrics: \n",
      "{'loss_best': 2.302554130554199,\n",
      " 'masked_accuracy_best': 0.577930212020874,\n",
      " 'test_bleu': 0.05966976872463604,\n",
      " 'test_rouge1': 0.2938235309776529,\n",
      " 'test_rouge2': 0.09667184267875309,\n",
      " 'test_rougeL': 0.27050917934364827,\n",
      " 'test_rougeLsum': 0.27069638734947843,\n",
      " 'val_bleu': 0.05544722534775331,\n",
      " 'val_loss_best': 5.043781280517578,\n",
      " 'val_masked_accuracy_best': 0.34912997484207153,\n",
      " 'val_rouge1': 0.2905970108758169,\n",
      " 'val_rouge2': 0.0943009788457908,\n",
      " 'val_rougeL': 0.2694030739887243,\n",
      " 'val_rougeLsum': 0.26950649642397617}\n"
     ]
    }
   ],
   "source": [
    "# Evaluate metrics after inference and save to unified frame, save to \n",
    "\n",
    "ev_metrics = {\n",
    "    'loss_best': min(history.history['loss']),\n",
    "    'masked_accuracy_best': max(history.history['masked_accuracy']),\n",
    "    'val_loss_best': min(history.history['val_loss']),\n",
    "    'val_masked_accuracy_best': max(history.history['val_masked_accuracy']),\n",
    "    \n",
    "    'test_rouge1': rouge_test['rouge1'],\n",
    "    'test_rouge2': rouge_test['rouge2'],\n",
    "    'test_rougeL': rouge_test['rougeL'],\n",
    "    'test_rougeLsum': rouge_test['rougeLsum'],\n",
    "    'test_bleu': bleu_test['bleu'],\n",
    "    \n",
    "    'val_rouge1': rouge_val['rouge1'],\n",
    "    'val_rouge2': rouge_val['rouge2'],\n",
    "    'val_rougeL': rouge_val['rougeL'],\n",
    "    'val_rougeLsum': rouge_val['rougeLsum'],\n",
    "    'val_bleu': bleu_val['bleu'],\n",
    "}\n",
    "\n",
    "pd.DataFrame(ev_metrics, index=[0]).to_csv('evaluation_metrics.csv')\n",
    "\n",
    "print(\"Evaluation metrics: \");\n",
    "pprint(ev_metrics)"
   ]
  },
  {
   "cell_type": "code",
   "execution_count": 61,
   "id": "31ca414b",
   "metadata": {
    "execution": {
     "iopub.execute_input": "2023-04-27T14:42:48.966857Z",
     "iopub.status.busy": "2023-04-27T14:42:48.966469Z",
     "iopub.status.idle": "2023-04-27T14:42:53.569931Z",
     "shell.execute_reply": "2023-04-27T14:42:53.568891Z"
    },
    "papermill": {
     "duration": 4.797092,
     "end_time": "2023-04-27T14:42:53.572761",
     "exception": false,
     "start_time": "2023-04-27T14:42:48.775669",
     "status": "completed"
    },
    "tags": []
   },
   "outputs": [
    {
     "data": {
      "text/html": [
       "Waiting for W&B process to finish... <strong style=\"color:green\">(success).</strong>"
      ],
      "text/plain": [
       "<IPython.core.display.HTML object>"
      ]
     },
     "metadata": {},
     "output_type": "display_data"
    },
    {
     "data": {
      "application/vnd.jupyter.widget-view+json": {
       "model_id": "5943c20673314290b91b1736c8b615b2",
       "version_major": 2,
       "version_minor": 0
      },
      "text/plain": [
       "VBox(children=(Label(value='0.001 MB of 0.001 MB uploaded (0.000 MB deduped)\\r'), FloatProgress(value=1.0, max…"
      ]
     },
     "metadata": {},
     "output_type": "display_data"
    },
    {
     "data": {
      "text/html": [
       "<style>\n",
       "    table.wandb td:nth-child(1) { padding: 0 10px; text-align: left ; width: auto;} td:nth-child(2) {text-align: left ; width: 100%}\n",
       "    .wandb-row { display: flex; flex-direction: row; flex-wrap: wrap; justify-content: flex-start; width: 100% }\n",
       "    .wandb-col { display: flex; flex-direction: column; flex-basis: 100%; flex: 1; padding: 10px; }\n",
       "    </style>\n",
       "<div class=\"wandb-row\"><div class=\"wandb-col\"><h3>Run history:</h3><br/><table class=\"wandb\"><tr><td>epoch</td><td>▁▁▂▃▃▃▄▅▅▅▆▇▇▇█</td></tr><tr><td>loss</td><td>█▇▆▅▅▅▄▄▃▃▂▂▂▁▁</td></tr><tr><td>masked_accuracy</td><td>▁▁▁▂▂▃▃▄▄▅▅▆▇▇█</td></tr><tr><td>val_loss</td><td>█▆▅▄▄▃▃▂▂▁▁▁▁▁▁</td></tr><tr><td>val_masked_accuracy</td><td>▁▁▁▂▃▄▄▅▆▇▇████</td></tr></table><br/></div><div class=\"wandb-col\"><h3>Run summary:</h3><br/><table class=\"wandb\"><tr><td>best_epoch</td><td>11</td></tr><tr><td>best_val_loss</td><td>5.04378</td></tr><tr><td>epoch</td><td>14</td></tr><tr><td>loss</td><td>2.30255</td></tr><tr><td>loss_best</td><td>2.30255</td></tr><tr><td>masked_accuracy</td><td>0.57793</td></tr><tr><td>masked_accuracy_best</td><td>0.57793</td></tr><tr><td>test_bleu</td><td>0.05967</td></tr><tr><td>test_rouge1</td><td>0.29382</td></tr><tr><td>test_rouge2</td><td>0.09667</td></tr><tr><td>test_rougeL</td><td>0.27051</td></tr><tr><td>test_rougeLsum</td><td>0.2707</td></tr><tr><td>val_bleu</td><td>0.05545</td></tr><tr><td>val_loss</td><td>5.14988</td></tr><tr><td>val_loss_best</td><td>5.04378</td></tr><tr><td>val_masked_accuracy</td><td>0.34913</td></tr><tr><td>val_masked_accuracy_best</td><td>0.34913</td></tr><tr><td>val_rouge1</td><td>0.2906</td></tr><tr><td>val_rouge2</td><td>0.0943</td></tr><tr><td>val_rougeL</td><td>0.2694</td></tr><tr><td>val_rougeLsum</td><td>0.26951</td></tr></table><br/></div></div>"
      ],
      "text/plain": [
       "<IPython.core.display.HTML object>"
      ]
     },
     "metadata": {},
     "output_type": "display_data"
    },
    {
     "data": {
      "text/html": [
       " View run <strong style=\"color:#cdcd00\">classic-bush-16</strong> at: <a href='https://wandb.ai/pmxy/stranasum-dev/runs/14if46oj' target=\"_blank\">https://wandb.ai/pmxy/stranasum-dev/runs/14if46oj</a><br/>Synced 6 W&B file(s), 1 media file(s), 0 artifact file(s) and 0 other file(s)"
      ],
      "text/plain": [
       "<IPython.core.display.HTML object>"
      ]
     },
     "metadata": {},
     "output_type": "display_data"
    },
    {
     "data": {
      "text/html": [
       "Find logs at: <code>./wandb/run-20230427_141236-14if46oj/logs</code>"
      ],
      "text/plain": [
       "<IPython.core.display.HTML object>"
      ]
     },
     "metadata": {},
     "output_type": "display_data"
    }
   ],
   "source": [
    "# save to wandb metric summary\n",
    "for metric in ev_metrics:\n",
    "    wandb_run.summary[metric] = ev_metrics[metric]\n",
    "\n",
    "\n",
    "# finish wandb run\n",
    "wandb_run.finish()"
   ]
  },
  {
   "cell_type": "code",
   "execution_count": null,
   "id": "2ce4987e",
   "metadata": {
    "papermill": {
     "duration": 0.21394,
     "end_time": "2023-04-27T14:42:53.976019",
     "exception": false,
     "start_time": "2023-04-27T14:42:53.762079",
     "status": "completed"
    },
    "tags": []
   },
   "outputs": [],
   "source": []
  }
 ],
 "metadata": {
  "kernelspec": {
   "display_name": "Python 3",
   "language": "python",
   "name": "python3"
  },
  "language_info": {
   "codemirror_mode": {
    "name": "ipython",
    "version": 3
   },
   "file_extension": ".py",
   "mimetype": "text/x-python",
   "name": "python",
   "nbconvert_exporter": "python",
   "pygments_lexer": "ipython3",
   "version": "3.7.12"
  },
  "papermill": {
   "default_parameters": {},
   "duration": 1892.828338,
   "end_time": "2023-04-27T14:42:57.163031",
   "environment_variables": {},
   "exception": null,
   "input_path": "__notebook__.ipynb",
   "output_path": "__notebook__.ipynb",
   "parameters": {},
   "start_time": "2023-04-27T14:11:24.334693",
   "version": "2.4.0"
  },
  "widgets": {
   "application/vnd.jupyter.widget-state+json": {
    "state": {
     "00c9e198e89b4366a3e2ec6d42b5946d": {
      "model_module": "@jupyter-widgets/controls",
      "model_module_version": "1.5.0",
      "model_name": "LabelModel",
      "state": {
       "_dom_classes": [],
       "_model_module": "@jupyter-widgets/controls",
       "_model_module_version": "1.5.0",
       "_model_name": "LabelModel",
       "_view_count": null,
       "_view_module": "@jupyter-widgets/controls",
       "_view_module_version": "1.5.0",
       "_view_name": "LabelView",
       "description": "",
       "description_tooltip": null,
       "layout": "IPY_MODEL_a780c9cb1d7e4518864a01c8402d9dfa",
       "placeholder": "​",
       "style": "IPY_MODEL_29e5ac1f3f824af3926b2c4ec8f7b490",
       "value": ""
      }
     },
     "03179027718f44da954576da220ad1b1": {
      "model_module": "@jupyter-widgets/controls",
      "model_module_version": "1.5.0",
      "model_name": "DescriptionStyleModel",
      "state": {
       "_model_module": "@jupyter-widgets/controls",
       "_model_module_version": "1.5.0",
       "_model_name": "DescriptionStyleModel",
       "_view_count": null,
       "_view_module": "@jupyter-widgets/base",
       "_view_module_version": "1.2.0",
       "_view_name": "StyleView",
       "description_width": ""
      }
     },
     "09d7f710f19b4a00be72dc05cbda29ce": {
      "model_module": "@jupyter-widgets/controls",
      "model_module_version": "1.5.0",
      "model_name": "FloatProgressModel",
      "state": {
       "_dom_classes": [],
       "_model_module": "@jupyter-widgets/controls",
       "_model_module_version": "1.5.0",
       "_model_name": "FloatProgressModel",
       "_view_count": null,
       "_view_module": "@jupyter-widgets/controls",
       "_view_module_version": "1.5.0",
       "_view_name": "ProgressView",
       "bar_style": "success",
       "description": "",
       "description_tooltip": null,
       "layout": "IPY_MODEL_79705921b5d241578a92441936a56e5b",
       "max": 3344.0,
       "min": 0.0,
       "orientation": "horizontal",
       "style": "IPY_MODEL_ff0a6de34dd1464387a00f53ad4bc267",
       "value": 3344.0
      }
     },
     "165f81aa878c49539f29cb6354bf096d": {
      "model_module": "@jupyter-widgets/base",
      "model_module_version": "1.2.0",
      "model_name": "LayoutModel",
      "state": {
       "_model_module": "@jupyter-widgets/base",
       "_model_module_version": "1.2.0",
       "_model_name": "LayoutModel",
       "_view_count": null,
       "_view_module": "@jupyter-widgets/base",
       "_view_module_version": "1.2.0",
       "_view_name": "LayoutView",
       "align_content": null,
       "align_items": null,
       "align_self": null,
       "border": null,
       "bottom": null,
       "display": null,
       "flex": null,
       "flex_flow": null,
       "grid_area": null,
       "grid_auto_columns": null,
       "grid_auto_flow": null,
       "grid_auto_rows": null,
       "grid_column": null,
       "grid_gap": null,
       "grid_row": null,
       "grid_template_areas": null,
       "grid_template_columns": null,
       "grid_template_rows": null,
       "height": null,
       "justify_content": null,
       "justify_items": null,
       "left": null,
       "margin": null,
       "max_height": null,
       "max_width": null,
       "min_height": null,
       "min_width": null,
       "object_fit": null,
       "object_position": null,
       "order": null,
       "overflow": null,
       "overflow_x": null,
       "overflow_y": null,
       "padding": null,
       "right": null,
       "top": null,
       "visibility": null,
       "width": null
      }
     },
     "1868d47a2aff4f8caa0a422851b4f108": {
      "model_module": "@jupyter-widgets/base",
      "model_module_version": "1.2.0",
      "model_name": "LayoutModel",
      "state": {
       "_model_module": "@jupyter-widgets/base",
       "_model_module_version": "1.2.0",
       "_model_name": "LayoutModel",
       "_view_count": null,
       "_view_module": "@jupyter-widgets/base",
       "_view_module_version": "1.2.0",
       "_view_name": "LayoutView",
       "align_content": null,
       "align_items": null,
       "align_self": null,
       "border": null,
       "bottom": null,
       "display": null,
       "flex": null,
       "flex_flow": null,
       "grid_area": null,
       "grid_auto_columns": null,
       "grid_auto_flow": null,
       "grid_auto_rows": null,
       "grid_column": null,
       "grid_gap": null,
       "grid_row": null,
       "grid_template_areas": null,
       "grid_template_columns": null,
       "grid_template_rows": null,
       "height": null,
       "justify_content": null,
       "justify_items": null,
       "left": null,
       "margin": null,
       "max_height": null,
       "max_width": null,
       "min_height": null,
       "min_width": null,
       "object_fit": null,
       "object_position": null,
       "order": null,
       "overflow": null,
       "overflow_x": null,
       "overflow_y": null,
       "padding": null,
       "right": null,
       "top": null,
       "visibility": null,
       "width": null
      }
     },
     "1b81227f7ebe4205a4c91eec88657bde": {
      "model_module": "@jupyter-widgets/controls",
      "model_module_version": "1.5.0",
      "model_name": "FloatProgressModel",
      "state": {
       "_dom_classes": [],
       "_model_module": "@jupyter-widgets/controls",
       "_model_module_version": "1.5.0",
       "_model_name": "FloatProgressModel",
       "_view_count": null,
       "_view_module": "@jupyter-widgets/controls",
       "_view_module_version": "1.5.0",
       "_view_name": "ProgressView",
       "bar_style": "success",
       "description": "",
       "description_tooltip": null,
       "layout": "IPY_MODEL_dff1ca3eaa9445bf956f0d2ea01ad98c",
       "max": 5937.0,
       "min": 0.0,
       "orientation": "horizontal",
       "style": "IPY_MODEL_a0cdc2b0e42f4a429c59888520414cc1",
       "value": 5937.0
      }
     },
     "2166abcd278d4559b31fbfcdf59e0feb": {
      "model_module": "@jupyter-widgets/base",
      "model_module_version": "1.2.0",
      "model_name": "LayoutModel",
      "state": {
       "_model_module": "@jupyter-widgets/base",
       "_model_module_version": "1.2.0",
       "_model_name": "LayoutModel",
       "_view_count": null,
       "_view_module": "@jupyter-widgets/base",
       "_view_module_version": "1.2.0",
       "_view_name": "LayoutView",
       "align_content": null,
       "align_items": null,
       "align_self": null,
       "border": null,
       "bottom": null,
       "display": null,
       "flex": null,
       "flex_flow": null,
       "grid_area": null,
       "grid_auto_columns": null,
       "grid_auto_flow": null,
       "grid_auto_rows": null,
       "grid_column": null,
       "grid_gap": null,
       "grid_row": null,
       "grid_template_areas": null,
       "grid_template_columns": null,
       "grid_template_rows": null,
       "height": null,
       "justify_content": null,
       "justify_items": null,
       "left": null,
       "margin": null,
       "max_height": null,
       "max_width": null,
       "min_height": null,
       "min_width": null,
       "object_fit": null,
       "object_position": null,
       "order": null,
       "overflow": null,
       "overflow_x": null,
       "overflow_y": null,
       "padding": null,
       "right": null,
       "top": null,
       "visibility": null,
       "width": null
      }
     },
     "28984eb67ac547bdbedd0eeb3c6a294c": {
      "model_module": "@jupyter-widgets/controls",
      "model_module_version": "1.5.0",
      "model_name": "HTMLModel",
      "state": {
       "_dom_classes": [],
       "_model_module": "@jupyter-widgets/controls",
       "_model_module_version": "1.5.0",
       "_model_name": "HTMLModel",
       "_view_count": null,
       "_view_module": "@jupyter-widgets/controls",
       "_view_module_version": "1.5.0",
       "_view_name": "HTMLView",
       "description": "",
       "description_tooltip": null,
       "layout": "IPY_MODEL_fedc8368441a4dc69dcd5578b8630d18",
       "placeholder": "​",
       "style": "IPY_MODEL_9c96eb4f2af64170a37f4da147ea9163",
       "value": "Downloading builder script: 100%"
      }
     },
     "29e5ac1f3f824af3926b2c4ec8f7b490": {
      "model_module": "@jupyter-widgets/controls",
      "model_module_version": "1.5.0",
      "model_name": "DescriptionStyleModel",
      "state": {
       "_model_module": "@jupyter-widgets/controls",
       "_model_module_version": "1.5.0",
       "_model_name": "DescriptionStyleModel",
       "_view_count": null,
       "_view_module": "@jupyter-widgets/base",
       "_view_module_version": "1.2.0",
       "_view_name": "StyleView",
       "description_width": ""
      }
     },
     "2a8e43a5fb454041957b53b8d23c69bb": {
      "model_module": "@jupyter-widgets/controls",
      "model_module_version": "1.5.0",
      "model_name": "DescriptionStyleModel",
      "state": {
       "_model_module": "@jupyter-widgets/controls",
       "_model_module_version": "1.5.0",
       "_model_name": "DescriptionStyleModel",
       "_view_count": null,
       "_view_module": "@jupyter-widgets/base",
       "_view_module_version": "1.2.0",
       "_view_name": "StyleView",
       "description_width": ""
      }
     },
     "3b5aafb6f5dd4ccca52ff740ca11b771": {
      "model_module": "@jupyter-widgets/controls",
      "model_module_version": "1.5.0",
      "model_name": "HTMLModel",
      "state": {
       "_dom_classes": [],
       "_model_module": "@jupyter-widgets/controls",
       "_model_module_version": "1.5.0",
       "_model_name": "HTMLModel",
       "_view_count": null,
       "_view_module": "@jupyter-widgets/controls",
       "_view_module_version": "1.5.0",
       "_view_name": "HTMLView",
       "description": "",
       "description_tooltip": null,
       "layout": "IPY_MODEL_4822da99483649b28e0f2224a2550a8c",
       "placeholder": "​",
       "style": "IPY_MODEL_a15c1ee9d7a94da080631762f1bee0fa",
       "value": " 4.07k/? [00:00&lt;00:00, 226kB/s]"
      }
     },
     "4682ec5acda24bbfb3552c1a5f2c8abb": {
      "model_module": "@jupyter-widgets/base",
      "model_module_version": "1.2.0",
      "model_name": "LayoutModel",
      "state": {
       "_model_module": "@jupyter-widgets/base",
       "_model_module_version": "1.2.0",
       "_model_name": "LayoutModel",
       "_view_count": null,
       "_view_module": "@jupyter-widgets/base",
       "_view_module_version": "1.2.0",
       "_view_name": "LayoutView",
       "align_content": null,
       "align_items": null,
       "align_self": null,
       "border": null,
       "bottom": null,
       "display": null,
       "flex": null,
       "flex_flow": null,
       "grid_area": null,
       "grid_auto_columns": null,
       "grid_auto_flow": null,
       "grid_auto_rows": null,
       "grid_column": null,
       "grid_gap": null,
       "grid_row": null,
       "grid_template_areas": null,
       "grid_template_columns": null,
       "grid_template_rows": null,
       "height": null,
       "justify_content": null,
       "justify_items": null,
       "left": null,
       "margin": null,
       "max_height": null,
       "max_width": null,
       "min_height": null,
       "min_width": null,
       "object_fit": null,
       "object_position": null,
       "order": null,
       "overflow": null,
       "overflow_x": null,
       "overflow_y": null,
       "padding": null,
       "right": null,
       "top": null,
       "visibility": null,
       "width": null
      }
     },
     "4822da99483649b28e0f2224a2550a8c": {
      "model_module": "@jupyter-widgets/base",
      "model_module_version": "1.2.0",
      "model_name": "LayoutModel",
      "state": {
       "_model_module": "@jupyter-widgets/base",
       "_model_module_version": "1.2.0",
       "_model_name": "LayoutModel",
       "_view_count": null,
       "_view_module": "@jupyter-widgets/base",
       "_view_module_version": "1.2.0",
       "_view_name": "LayoutView",
       "align_content": null,
       "align_items": null,
       "align_self": null,
       "border": null,
       "bottom": null,
       "display": null,
       "flex": null,
       "flex_flow": null,
       "grid_area": null,
       "grid_auto_columns": null,
       "grid_auto_flow": null,
       "grid_auto_rows": null,
       "grid_column": null,
       "grid_gap": null,
       "grid_row": null,
       "grid_template_areas": null,
       "grid_template_columns": null,
       "grid_template_rows": null,
       "height": null,
       "justify_content": null,
       "justify_items": null,
       "left": null,
       "margin": null,
       "max_height": null,
       "max_width": null,
       "min_height": null,
       "min_width": null,
       "object_fit": null,
       "object_position": null,
       "order": null,
       "overflow": null,
       "overflow_x": null,
       "overflow_y": null,
       "padding": null,
       "right": null,
       "top": null,
       "visibility": null,
       "width": null
      }
     },
     "4d8aa51e52f04f0f9847575fe22f3d42": {
      "model_module": "@jupyter-widgets/controls",
      "model_module_version": "1.5.0",
      "model_name": "VBoxModel",
      "state": {
       "_dom_classes": [],
       "_model_module": "@jupyter-widgets/controls",
       "_model_module_version": "1.5.0",
       "_model_name": "VBoxModel",
       "_view_count": null,
       "_view_module": "@jupyter-widgets/controls",
       "_view_module_version": "1.5.0",
       "_view_name": "VBoxView",
       "box_style": "",
       "children": [
        "IPY_MODEL_00c9e198e89b4366a3e2ec6d42b5946d",
        "IPY_MODEL_a7701c00916c443b91597107d4959df4"
       ],
       "layout": "IPY_MODEL_b17a965521b44a9fae1347b53931bc76"
      }
     },
     "51d1dfeac431423395bd25b758b311b0": {
      "model_module": "@jupyter-widgets/base",
      "model_module_version": "1.2.0",
      "model_name": "LayoutModel",
      "state": {
       "_model_module": "@jupyter-widgets/base",
       "_model_module_version": "1.2.0",
       "_model_name": "LayoutModel",
       "_view_count": null,
       "_view_module": "@jupyter-widgets/base",
       "_view_module_version": "1.2.0",
       "_view_name": "LayoutView",
       "align_content": null,
       "align_items": null,
       "align_self": null,
       "border": null,
       "bottom": null,
       "display": null,
       "flex": null,
       "flex_flow": null,
       "grid_area": null,
       "grid_auto_columns": null,
       "grid_auto_flow": null,
       "grid_auto_rows": null,
       "grid_column": null,
       "grid_gap": null,
       "grid_row": null,
       "grid_template_areas": null,
       "grid_template_columns": null,
       "grid_template_rows": null,
       "height": null,
       "justify_content": null,
       "justify_items": null,
       "left": null,
       "margin": null,
       "max_height": null,
       "max_width": null,
       "min_height": null,
       "min_width": null,
       "object_fit": null,
       "object_position": null,
       "order": null,
       "overflow": null,
       "overflow_x": null,
       "overflow_y": null,
       "padding": null,
       "right": null,
       "top": null,
       "visibility": null,
       "width": null
      }
     },
     "5943c20673314290b91b1736c8b615b2": {
      "model_module": "@jupyter-widgets/controls",
      "model_module_version": "1.5.0",
      "model_name": "VBoxModel",
      "state": {
       "_dom_classes": [],
       "_model_module": "@jupyter-widgets/controls",
       "_model_module_version": "1.5.0",
       "_model_name": "VBoxModel",
       "_view_count": null,
       "_view_module": "@jupyter-widgets/controls",
       "_view_module_version": "1.5.0",
       "_view_name": "VBoxView",
       "box_style": "",
       "children": [
        "IPY_MODEL_ed9415c85ca949259d104450ed4b63ba",
        "IPY_MODEL_7a18f5bccf5549ea9a4eb7d17e0fbe59"
       ],
       "layout": "IPY_MODEL_4682ec5acda24bbfb3552c1a5f2c8abb"
      }
     },
     "60921e0eb21a44fea9ee8e6c6b9e87f4": {
      "model_module": "@jupyter-widgets/controls",
      "model_module_version": "1.5.0",
      "model_name": "HTMLModel",
      "state": {
       "_dom_classes": [],
       "_model_module": "@jupyter-widgets/controls",
       "_model_module_version": "1.5.0",
       "_model_name": "HTMLModel",
       "_view_count": null,
       "_view_module": "@jupyter-widgets/controls",
       "_view_module_version": "1.5.0",
       "_view_name": "HTMLView",
       "description": "",
       "description_tooltip": null,
       "layout": "IPY_MODEL_96b253e229f242b189e222d79d1d4a86",
       "placeholder": "​",
       "style": "IPY_MODEL_d96869b815744ccf8db85291bff2506e",
       "value": "Downloading extra modules: "
      }
     },
     "6166b08472c0499e9375c4d175da1a1f": {
      "model_module": "@jupyter-widgets/controls",
      "model_module_version": "1.5.0",
      "model_name": "HBoxModel",
      "state": {
       "_dom_classes": [],
       "_model_module": "@jupyter-widgets/controls",
       "_model_module_version": "1.5.0",
       "_model_name": "HBoxModel",
       "_view_count": null,
       "_view_module": "@jupyter-widgets/controls",
       "_view_module_version": "1.5.0",
       "_view_name": "HBoxView",
       "box_style": "",
       "children": [
        "IPY_MODEL_28984eb67ac547bdbedd0eeb3c6a294c",
        "IPY_MODEL_1b81227f7ebe4205a4c91eec88657bde",
        "IPY_MODEL_cfec3e1a6e2144caae4970ab793289f3"
       ],
       "layout": "IPY_MODEL_cb6f53f959aa473b845b403e2dd71547"
      }
     },
     "63f16023772345e18d7175fd54c571dc": {
      "model_module": "@jupyter-widgets/controls",
      "model_module_version": "1.5.0",
      "model_name": "HBoxModel",
      "state": {
       "_dom_classes": [],
       "_model_module": "@jupyter-widgets/controls",
       "_model_module_version": "1.5.0",
       "_model_name": "HBoxModel",
       "_view_count": null,
       "_view_module": "@jupyter-widgets/controls",
       "_view_module_version": "1.5.0",
       "_view_name": "HBoxView",
       "box_style": "",
       "children": [
        "IPY_MODEL_f6e1e404413e49a8b89f0564ed1d6b2a",
        "IPY_MODEL_09d7f710f19b4a00be72dc05cbda29ce",
        "IPY_MODEL_caf16aede3f140f78f42e1e53a37977d"
       ],
       "layout": "IPY_MODEL_1868d47a2aff4f8caa0a422851b4f108"
      }
     },
     "67ea6f8c90f44918b97862690295fb01": {
      "model_module": "@jupyter-widgets/controls",
      "model_module_version": "1.5.0",
      "model_name": "HTMLModel",
      "state": {
       "_dom_classes": [],
       "_model_module": "@jupyter-widgets/controls",
       "_model_module_version": "1.5.0",
       "_model_name": "HTMLModel",
       "_view_count": null,
       "_view_module": "@jupyter-widgets/controls",
       "_view_module_version": "1.5.0",
       "_view_name": "HTMLView",
       "description": "",
       "description_tooltip": null,
       "layout": "IPY_MODEL_2166abcd278d4559b31fbfcdf59e0feb",
       "placeholder": "​",
       "style": "IPY_MODEL_03179027718f44da954576da220ad1b1",
       "value": "Downloading builder script: 100%"
      }
     },
     "6c8ca03d037745a392b74dee69cb0a75": {
      "model_module": "@jupyter-widgets/controls",
      "model_module_version": "1.5.0",
      "model_name": "FloatProgressModel",
      "state": {
       "_dom_classes": [],
       "_model_module": "@jupyter-widgets/controls",
       "_model_module_version": "1.5.0",
       "_model_name": "FloatProgressModel",
       "_view_count": null,
       "_view_module": "@jupyter-widgets/controls",
       "_view_module_version": "1.5.0",
       "_view_name": "ProgressView",
       "bar_style": "success",
       "description": "",
       "description_tooltip": null,
       "layout": "IPY_MODEL_bea7c44b9aa54c0d86599e60c3ca346f",
       "max": 1554.0,
       "min": 0.0,
       "orientation": "horizontal",
       "style": "IPY_MODEL_d99f7454c9a04e888159ee7f335f27b2",
       "value": 1554.0
      }
     },
     "7059dd47dc5e455d96cccfc5afada3ab": {
      "model_module": "@jupyter-widgets/controls",
      "model_module_version": "1.5.0",
      "model_name": "HBoxModel",
      "state": {
       "_dom_classes": [],
       "_model_module": "@jupyter-widgets/controls",
       "_model_module_version": "1.5.0",
       "_model_name": "HBoxModel",
       "_view_count": null,
       "_view_module": "@jupyter-widgets/controls",
       "_view_module_version": "1.5.0",
       "_view_name": "HBoxView",
       "box_style": "",
       "children": [
        "IPY_MODEL_60921e0eb21a44fea9ee8e6c6b9e87f4",
        "IPY_MODEL_6c8ca03d037745a392b74dee69cb0a75",
        "IPY_MODEL_3b5aafb6f5dd4ccca52ff740ca11b771"
       ],
       "layout": "IPY_MODEL_d18ce9467dc34545a01be4d475383150"
      }
     },
     "79705921b5d241578a92441936a56e5b": {
      "model_module": "@jupyter-widgets/base",
      "model_module_version": "1.2.0",
      "model_name": "LayoutModel",
      "state": {
       "_model_module": "@jupyter-widgets/base",
       "_model_module_version": "1.2.0",
       "_model_name": "LayoutModel",
       "_view_count": null,
       "_view_module": "@jupyter-widgets/base",
       "_view_module_version": "1.2.0",
       "_view_name": "LayoutView",
       "align_content": null,
       "align_items": null,
       "align_self": null,
       "border": null,
       "bottom": null,
       "display": null,
       "flex": null,
       "flex_flow": null,
       "grid_area": null,
       "grid_auto_columns": null,
       "grid_auto_flow": null,
       "grid_auto_rows": null,
       "grid_column": null,
       "grid_gap": null,
       "grid_row": null,
       "grid_template_areas": null,
       "grid_template_columns": null,
       "grid_template_rows": null,
       "height": null,
       "justify_content": null,
       "justify_items": null,
       "left": null,
       "margin": null,
       "max_height": null,
       "max_width": null,
       "min_height": null,
       "min_width": null,
       "object_fit": null,
       "object_position": null,
       "order": null,
       "overflow": null,
       "overflow_x": null,
       "overflow_y": null,
       "padding": null,
       "right": null,
       "top": null,
       "visibility": null,
       "width": null
      }
     },
     "7a18f5bccf5549ea9a4eb7d17e0fbe59": {
      "model_module": "@jupyter-widgets/controls",
      "model_module_version": "1.5.0",
      "model_name": "FloatProgressModel",
      "state": {
       "_dom_classes": [],
       "_model_module": "@jupyter-widgets/controls",
       "_model_module_version": "1.5.0",
       "_model_name": "FloatProgressModel",
       "_view_count": null,
       "_view_module": "@jupyter-widgets/controls",
       "_view_module_version": "1.5.0",
       "_view_name": "ProgressView",
       "bar_style": "",
       "description": "",
       "description_tooltip": null,
       "layout": "IPY_MODEL_51d1dfeac431423395bd25b758b311b0",
       "max": 1.0,
       "min": 0.0,
       "orientation": "horizontal",
       "style": "IPY_MODEL_9f9e0ad6791a4170bc28ebf8eaa0703b",
       "value": 0.023487108866957387
      }
     },
     "7b29e07bdfb64e7f8b376fc163d9561d": {
      "model_module": "@jupyter-widgets/controls",
      "model_module_version": "1.5.0",
      "model_name": "DescriptionStyleModel",
      "state": {
       "_model_module": "@jupyter-widgets/controls",
       "_model_module_version": "1.5.0",
       "_model_name": "DescriptionStyleModel",
       "_view_count": null,
       "_view_module": "@jupyter-widgets/base",
       "_view_module_version": "1.2.0",
       "_view_name": "StyleView",
       "description_width": ""
      }
     },
     "8c08095508114bee909ff6ad8bbcdb2d": {
      "model_module": "@jupyter-widgets/controls",
      "model_module_version": "1.5.0",
      "model_name": "HTMLModel",
      "state": {
       "_dom_classes": [],
       "_model_module": "@jupyter-widgets/controls",
       "_model_module_version": "1.5.0",
       "_model_name": "HTMLModel",
       "_view_count": null,
       "_view_module": "@jupyter-widgets/controls",
       "_view_module_version": "1.5.0",
       "_view_name": "HTMLView",
       "description": "",
       "description_tooltip": null,
       "layout": "IPY_MODEL_9397411537df4b1db9b9c99e7c4519ae",
       "placeholder": "​",
       "style": "IPY_MODEL_2a8e43a5fb454041957b53b8d23c69bb",
       "value": " 6.27k/6.27k [00:00&lt;00:00, 319kB/s]"
      }
     },
     "9397411537df4b1db9b9c99e7c4519ae": {
      "model_module": "@jupyter-widgets/base",
      "model_module_version": "1.2.0",
      "model_name": "LayoutModel",
      "state": {
       "_model_module": "@jupyter-widgets/base",
       "_model_module_version": "1.2.0",
       "_model_name": "LayoutModel",
       "_view_count": null,
       "_view_module": "@jupyter-widgets/base",
       "_view_module_version": "1.2.0",
       "_view_name": "LayoutView",
       "align_content": null,
       "align_items": null,
       "align_self": null,
       "border": null,
       "bottom": null,
       "display": null,
       "flex": null,
       "flex_flow": null,
       "grid_area": null,
       "grid_auto_columns": null,
       "grid_auto_flow": null,
       "grid_auto_rows": null,
       "grid_column": null,
       "grid_gap": null,
       "grid_row": null,
       "grid_template_areas": null,
       "grid_template_columns": null,
       "grid_template_rows": null,
       "height": null,
       "justify_content": null,
       "justify_items": null,
       "left": null,
       "margin": null,
       "max_height": null,
       "max_width": null,
       "min_height": null,
       "min_width": null,
       "object_fit": null,
       "object_position": null,
       "order": null,
       "overflow": null,
       "overflow_x": null,
       "overflow_y": null,
       "padding": null,
       "right": null,
       "top": null,
       "visibility": null,
       "width": null
      }
     },
     "95c350889c794473b878c9e238cd6bce": {
      "model_module": "@jupyter-widgets/controls",
      "model_module_version": "1.5.0",
      "model_name": "DescriptionStyleModel",
      "state": {
       "_model_module": "@jupyter-widgets/controls",
       "_model_module_version": "1.5.0",
       "_model_name": "DescriptionStyleModel",
       "_view_count": null,
       "_view_module": "@jupyter-widgets/base",
       "_view_module_version": "1.2.0",
       "_view_name": "StyleView",
       "description_width": ""
      }
     },
     "96b253e229f242b189e222d79d1d4a86": {
      "model_module": "@jupyter-widgets/base",
      "model_module_version": "1.2.0",
      "model_name": "LayoutModel",
      "state": {
       "_model_module": "@jupyter-widgets/base",
       "_model_module_version": "1.2.0",
       "_model_name": "LayoutModel",
       "_view_count": null,
       "_view_module": "@jupyter-widgets/base",
       "_view_module_version": "1.2.0",
       "_view_name": "LayoutView",
       "align_content": null,
       "align_items": null,
       "align_self": null,
       "border": null,
       "bottom": null,
       "display": null,
       "flex": null,
       "flex_flow": null,
       "grid_area": null,
       "grid_auto_columns": null,
       "grid_auto_flow": null,
       "grid_auto_rows": null,
       "grid_column": null,
       "grid_gap": null,
       "grid_row": null,
       "grid_template_areas": null,
       "grid_template_columns": null,
       "grid_template_rows": null,
       "height": null,
       "justify_content": null,
       "justify_items": null,
       "left": null,
       "margin": null,
       "max_height": null,
       "max_width": null,
       "min_height": null,
       "min_width": null,
       "object_fit": null,
       "object_position": null,
       "order": null,
       "overflow": null,
       "overflow_x": null,
       "overflow_y": null,
       "padding": null,
       "right": null,
       "top": null,
       "visibility": null,
       "width": null
      }
     },
     "9c96eb4f2af64170a37f4da147ea9163": {
      "model_module": "@jupyter-widgets/controls",
      "model_module_version": "1.5.0",
      "model_name": "DescriptionStyleModel",
      "state": {
       "_model_module": "@jupyter-widgets/controls",
       "_model_module_version": "1.5.0",
       "_model_name": "DescriptionStyleModel",
       "_view_count": null,
       "_view_module": "@jupyter-widgets/base",
       "_view_module_version": "1.2.0",
       "_view_name": "StyleView",
       "description_width": ""
      }
     },
     "9f9e0ad6791a4170bc28ebf8eaa0703b": {
      "model_module": "@jupyter-widgets/controls",
      "model_module_version": "1.5.0",
      "model_name": "ProgressStyleModel",
      "state": {
       "_model_module": "@jupyter-widgets/controls",
       "_model_module_version": "1.5.0",
       "_model_name": "ProgressStyleModel",
       "_view_count": null,
       "_view_module": "@jupyter-widgets/base",
       "_view_module_version": "1.2.0",
       "_view_name": "StyleView",
       "bar_color": null,
       "description_width": ""
      }
     },
     "a0cdc2b0e42f4a429c59888520414cc1": {
      "model_module": "@jupyter-widgets/controls",
      "model_module_version": "1.5.0",
      "model_name": "ProgressStyleModel",
      "state": {
       "_model_module": "@jupyter-widgets/controls",
       "_model_module_version": "1.5.0",
       "_model_name": "ProgressStyleModel",
       "_view_count": null,
       "_view_module": "@jupyter-widgets/base",
       "_view_module_version": "1.2.0",
       "_view_name": "StyleView",
       "bar_color": null,
       "description_width": ""
      }
     },
     "a15c1ee9d7a94da080631762f1bee0fa": {
      "model_module": "@jupyter-widgets/controls",
      "model_module_version": "1.5.0",
      "model_name": "DescriptionStyleModel",
      "state": {
       "_model_module": "@jupyter-widgets/controls",
       "_model_module_version": "1.5.0",
       "_model_name": "DescriptionStyleModel",
       "_view_count": null,
       "_view_module": "@jupyter-widgets/base",
       "_view_module_version": "1.2.0",
       "_view_name": "StyleView",
       "description_width": ""
      }
     },
     "a2aa3b563a52448fb98d93f95d00e3c3": {
      "model_module": "@jupyter-widgets/base",
      "model_module_version": "1.2.0",
      "model_name": "LayoutModel",
      "state": {
       "_model_module": "@jupyter-widgets/base",
       "_model_module_version": "1.2.0",
       "_model_name": "LayoutModel",
       "_view_count": null,
       "_view_module": "@jupyter-widgets/base",
       "_view_module_version": "1.2.0",
       "_view_name": "LayoutView",
       "align_content": null,
       "align_items": null,
       "align_self": null,
       "border": null,
       "bottom": null,
       "display": null,
       "flex": null,
       "flex_flow": null,
       "grid_area": null,
       "grid_auto_columns": null,
       "grid_auto_flow": null,
       "grid_auto_rows": null,
       "grid_column": null,
       "grid_gap": null,
       "grid_row": null,
       "grid_template_areas": null,
       "grid_template_columns": null,
       "grid_template_rows": null,
       "height": null,
       "justify_content": null,
       "justify_items": null,
       "left": null,
       "margin": null,
       "max_height": null,
       "max_width": null,
       "min_height": null,
       "min_width": null,
       "object_fit": null,
       "object_position": null,
       "order": null,
       "overflow": null,
       "overflow_x": null,
       "overflow_y": null,
       "padding": null,
       "right": null,
       "top": null,
       "visibility": null,
       "width": null
      }
     },
     "a3d99b70abf741f89c148ad42f7eeb0b": {
      "model_module": "@jupyter-widgets/controls",
      "model_module_version": "1.5.0",
      "model_name": "DescriptionStyleModel",
      "state": {
       "_model_module": "@jupyter-widgets/controls",
       "_model_module_version": "1.5.0",
       "_model_name": "DescriptionStyleModel",
       "_view_count": null,
       "_view_module": "@jupyter-widgets/base",
       "_view_module_version": "1.2.0",
       "_view_name": "StyleView",
       "description_width": ""
      }
     },
     "a7701c00916c443b91597107d4959df4": {
      "model_module": "@jupyter-widgets/controls",
      "model_module_version": "1.5.0",
      "model_name": "FloatProgressModel",
      "state": {
       "_dom_classes": [],
       "_model_module": "@jupyter-widgets/controls",
       "_model_module_version": "1.5.0",
       "_model_name": "FloatProgressModel",
       "_view_count": null,
       "_view_module": "@jupyter-widgets/controls",
       "_view_module_version": "1.5.0",
       "_view_name": "ProgressView",
       "bar_style": "",
       "description": "",
       "description_tooltip": null,
       "layout": "IPY_MODEL_a2aa3b563a52448fb98d93f95d00e3c3",
       "max": 1.0,
       "min": 0.0,
       "orientation": "horizontal",
       "style": "IPY_MODEL_ca1c4ec337154ba6b6a609afc228cc06",
       "value": 0.0
      }
     },
     "a780c9cb1d7e4518864a01c8402d9dfa": {
      "model_module": "@jupyter-widgets/base",
      "model_module_version": "1.2.0",
      "model_name": "LayoutModel",
      "state": {
       "_model_module": "@jupyter-widgets/base",
       "_model_module_version": "1.2.0",
       "_model_name": "LayoutModel",
       "_view_count": null,
       "_view_module": "@jupyter-widgets/base",
       "_view_module_version": "1.2.0",
       "_view_name": "LayoutView",
       "align_content": null,
       "align_items": null,
       "align_self": null,
       "border": null,
       "bottom": null,
       "display": null,
       "flex": null,
       "flex_flow": null,
       "grid_area": null,
       "grid_auto_columns": null,
       "grid_auto_flow": null,
       "grid_auto_rows": null,
       "grid_column": null,
       "grid_gap": null,
       "grid_row": null,
       "grid_template_areas": null,
       "grid_template_columns": null,
       "grid_template_rows": null,
       "height": null,
       "justify_content": null,
       "justify_items": null,
       "left": null,
       "margin": null,
       "max_height": null,
       "max_width": null,
       "min_height": null,
       "min_width": null,
       "object_fit": null,
       "object_position": null,
       "order": null,
       "overflow": null,
       "overflow_x": null,
       "overflow_y": null,
       "padding": null,
       "right": null,
       "top": null,
       "visibility": null,
       "width": null
      }
     },
     "b17a965521b44a9fae1347b53931bc76": {
      "model_module": "@jupyter-widgets/base",
      "model_module_version": "1.2.0",
      "model_name": "LayoutModel",
      "state": {
       "_model_module": "@jupyter-widgets/base",
       "_model_module_version": "1.2.0",
       "_model_name": "LayoutModel",
       "_view_count": null,
       "_view_module": "@jupyter-widgets/base",
       "_view_module_version": "1.2.0",
       "_view_name": "LayoutView",
       "align_content": null,
       "align_items": null,
       "align_self": null,
       "border": null,
       "bottom": null,
       "display": null,
       "flex": null,
       "flex_flow": null,
       "grid_area": null,
       "grid_auto_columns": null,
       "grid_auto_flow": null,
       "grid_auto_rows": null,
       "grid_column": null,
       "grid_gap": null,
       "grid_row": null,
       "grid_template_areas": null,
       "grid_template_columns": null,
       "grid_template_rows": null,
       "height": null,
       "justify_content": null,
       "justify_items": null,
       "left": null,
       "margin": null,
       "max_height": null,
       "max_width": null,
       "min_height": null,
       "min_width": null,
       "object_fit": null,
       "object_position": null,
       "order": null,
       "overflow": null,
       "overflow_x": null,
       "overflow_y": null,
       "padding": null,
       "right": null,
       "top": null,
       "visibility": null,
       "width": null
      }
     },
     "bb08cb8360d74701bcb6d24eb22b0c11": {
      "model_module": "@jupyter-widgets/controls",
      "model_module_version": "1.5.0",
      "model_name": "ProgressStyleModel",
      "state": {
       "_model_module": "@jupyter-widgets/controls",
       "_model_module_version": "1.5.0",
       "_model_name": "ProgressStyleModel",
       "_view_count": null,
       "_view_module": "@jupyter-widgets/base",
       "_view_module_version": "1.2.0",
       "_view_name": "StyleView",
       "bar_color": null,
       "description_width": ""
      }
     },
     "bdea9f8deda64da8b65f9288d0056cf5": {
      "model_module": "@jupyter-widgets/controls",
      "model_module_version": "1.5.0",
      "model_name": "DescriptionStyleModel",
      "state": {
       "_model_module": "@jupyter-widgets/controls",
       "_model_module_version": "1.5.0",
       "_model_name": "DescriptionStyleModel",
       "_view_count": null,
       "_view_module": "@jupyter-widgets/base",
       "_view_module_version": "1.2.0",
       "_view_name": "StyleView",
       "description_width": ""
      }
     },
     "bea7c44b9aa54c0d86599e60c3ca346f": {
      "model_module": "@jupyter-widgets/base",
      "model_module_version": "1.2.0",
      "model_name": "LayoutModel",
      "state": {
       "_model_module": "@jupyter-widgets/base",
       "_model_module_version": "1.2.0",
       "_model_name": "LayoutModel",
       "_view_count": null,
       "_view_module": "@jupyter-widgets/base",
       "_view_module_version": "1.2.0",
       "_view_name": "LayoutView",
       "align_content": null,
       "align_items": null,
       "align_self": null,
       "border": null,
       "bottom": null,
       "display": null,
       "flex": null,
       "flex_flow": null,
       "grid_area": null,
       "grid_auto_columns": null,
       "grid_auto_flow": null,
       "grid_auto_rows": null,
       "grid_column": null,
       "grid_gap": null,
       "grid_row": null,
       "grid_template_areas": null,
       "grid_template_columns": null,
       "grid_template_rows": null,
       "height": null,
       "justify_content": null,
       "justify_items": null,
       "left": null,
       "margin": null,
       "max_height": null,
       "max_width": null,
       "min_height": null,
       "min_width": null,
       "object_fit": null,
       "object_position": null,
       "order": null,
       "overflow": null,
       "overflow_x": null,
       "overflow_y": null,
       "padding": null,
       "right": null,
       "top": null,
       "visibility": null,
       "width": null
      }
     },
     "bfc0d3bf1c6a4636892ed9c12aa11bd7": {
      "model_module": "@jupyter-widgets/controls",
      "model_module_version": "1.5.0",
      "model_name": "FloatProgressModel",
      "state": {
       "_dom_classes": [],
       "_model_module": "@jupyter-widgets/controls",
       "_model_module_version": "1.5.0",
       "_model_name": "FloatProgressModel",
       "_view_count": null,
       "_view_module": "@jupyter-widgets/controls",
       "_view_module_version": "1.5.0",
       "_view_name": "ProgressView",
       "bar_style": "success",
       "description": "",
       "description_tooltip": null,
       "layout": "IPY_MODEL_c286942efd694f8d925bf8201cdc5df5",
       "max": 6270.0,
       "min": 0.0,
       "orientation": "horizontal",
       "style": "IPY_MODEL_bb08cb8360d74701bcb6d24eb22b0c11",
       "value": 6270.0
      }
     },
     "c286942efd694f8d925bf8201cdc5df5": {
      "model_module": "@jupyter-widgets/base",
      "model_module_version": "1.2.0",
      "model_name": "LayoutModel",
      "state": {
       "_model_module": "@jupyter-widgets/base",
       "_model_module_version": "1.2.0",
       "_model_name": "LayoutModel",
       "_view_count": null,
       "_view_module": "@jupyter-widgets/base",
       "_view_module_version": "1.2.0",
       "_view_name": "LayoutView",
       "align_content": null,
       "align_items": null,
       "align_self": null,
       "border": null,
       "bottom": null,
       "display": null,
       "flex": null,
       "flex_flow": null,
       "grid_area": null,
       "grid_auto_columns": null,
       "grid_auto_flow": null,
       "grid_auto_rows": null,
       "grid_column": null,
       "grid_gap": null,
       "grid_row": null,
       "grid_template_areas": null,
       "grid_template_columns": null,
       "grid_template_rows": null,
       "height": null,
       "justify_content": null,
       "justify_items": null,
       "left": null,
       "margin": null,
       "max_height": null,
       "max_width": null,
       "min_height": null,
       "min_width": null,
       "object_fit": null,
       "object_position": null,
       "order": null,
       "overflow": null,
       "overflow_x": null,
       "overflow_y": null,
       "padding": null,
       "right": null,
       "top": null,
       "visibility": null,
       "width": null
      }
     },
     "c2d6e2dfc89d42de982453ce189a1945": {
      "model_module": "@jupyter-widgets/base",
      "model_module_version": "1.2.0",
      "model_name": "LayoutModel",
      "state": {
       "_model_module": "@jupyter-widgets/base",
       "_model_module_version": "1.2.0",
       "_model_name": "LayoutModel",
       "_view_count": null,
       "_view_module": "@jupyter-widgets/base",
       "_view_module_version": "1.2.0",
       "_view_name": "LayoutView",
       "align_content": null,
       "align_items": null,
       "align_self": null,
       "border": null,
       "bottom": null,
       "display": null,
       "flex": null,
       "flex_flow": null,
       "grid_area": null,
       "grid_auto_columns": null,
       "grid_auto_flow": null,
       "grid_auto_rows": null,
       "grid_column": null,
       "grid_gap": null,
       "grid_row": null,
       "grid_template_areas": null,
       "grid_template_columns": null,
       "grid_template_rows": null,
       "height": null,
       "justify_content": null,
       "justify_items": null,
       "left": null,
       "margin": null,
       "max_height": null,
       "max_width": null,
       "min_height": null,
       "min_width": null,
       "object_fit": null,
       "object_position": null,
       "order": null,
       "overflow": null,
       "overflow_x": null,
       "overflow_y": null,
       "padding": null,
       "right": null,
       "top": null,
       "visibility": null,
       "width": null
      }
     },
     "ca1c4ec337154ba6b6a609afc228cc06": {
      "model_module": "@jupyter-widgets/controls",
      "model_module_version": "1.5.0",
      "model_name": "ProgressStyleModel",
      "state": {
       "_model_module": "@jupyter-widgets/controls",
       "_model_module_version": "1.5.0",
       "_model_name": "ProgressStyleModel",
       "_view_count": null,
       "_view_module": "@jupyter-widgets/base",
       "_view_module_version": "1.2.0",
       "_view_name": "StyleView",
       "bar_color": null,
       "description_width": ""
      }
     },
     "caf16aede3f140f78f42e1e53a37977d": {
      "model_module": "@jupyter-widgets/controls",
      "model_module_version": "1.5.0",
      "model_name": "HTMLModel",
      "state": {
       "_dom_classes": [],
       "_model_module": "@jupyter-widgets/controls",
       "_model_module_version": "1.5.0",
       "_model_name": "HTMLModel",
       "_view_count": null,
       "_view_module": "@jupyter-widgets/controls",
       "_view_module_version": "1.5.0",
       "_view_name": "HTMLView",
       "description": "",
       "description_tooltip": null,
       "layout": "IPY_MODEL_ddd19f92f3ae4122b0177c6ed33c36a5",
       "placeholder": "​",
       "style": "IPY_MODEL_95c350889c794473b878c9e238cd6bce",
       "value": " 3.34k/3.34k [00:00&lt;00:00, 137kB/s]"
      }
     },
     "cb6f53f959aa473b845b403e2dd71547": {
      "model_module": "@jupyter-widgets/base",
      "model_module_version": "1.2.0",
      "model_name": "LayoutModel",
      "state": {
       "_model_module": "@jupyter-widgets/base",
       "_model_module_version": "1.2.0",
       "_model_name": "LayoutModel",
       "_view_count": null,
       "_view_module": "@jupyter-widgets/base",
       "_view_module_version": "1.2.0",
       "_view_name": "LayoutView",
       "align_content": null,
       "align_items": null,
       "align_self": null,
       "border": null,
       "bottom": null,
       "display": null,
       "flex": null,
       "flex_flow": null,
       "grid_area": null,
       "grid_auto_columns": null,
       "grid_auto_flow": null,
       "grid_auto_rows": null,
       "grid_column": null,
       "grid_gap": null,
       "grid_row": null,
       "grid_template_areas": null,
       "grid_template_columns": null,
       "grid_template_rows": null,
       "height": null,
       "justify_content": null,
       "justify_items": null,
       "left": null,
       "margin": null,
       "max_height": null,
       "max_width": null,
       "min_height": null,
       "min_width": null,
       "object_fit": null,
       "object_position": null,
       "order": null,
       "overflow": null,
       "overflow_x": null,
       "overflow_y": null,
       "padding": null,
       "right": null,
       "top": null,
       "visibility": null,
       "width": null
      }
     },
     "cfec3e1a6e2144caae4970ab793289f3": {
      "model_module": "@jupyter-widgets/controls",
      "model_module_version": "1.5.0",
      "model_name": "HTMLModel",
      "state": {
       "_dom_classes": [],
       "_model_module": "@jupyter-widgets/controls",
       "_model_module_version": "1.5.0",
       "_model_name": "HTMLModel",
       "_view_count": null,
       "_view_module": "@jupyter-widgets/controls",
       "_view_module_version": "1.5.0",
       "_view_name": "HTMLView",
       "description": "",
       "description_tooltip": null,
       "layout": "IPY_MODEL_c2d6e2dfc89d42de982453ce189a1945",
       "placeholder": "​",
       "style": "IPY_MODEL_7b29e07bdfb64e7f8b376fc163d9561d",
       "value": " 5.94k/5.94k [00:00&lt;00:00, 328kB/s]"
      }
     },
     "d18ce9467dc34545a01be4d475383150": {
      "model_module": "@jupyter-widgets/base",
      "model_module_version": "1.2.0",
      "model_name": "LayoutModel",
      "state": {
       "_model_module": "@jupyter-widgets/base",
       "_model_module_version": "1.2.0",
       "_model_name": "LayoutModel",
       "_view_count": null,
       "_view_module": "@jupyter-widgets/base",
       "_view_module_version": "1.2.0",
       "_view_name": "LayoutView",
       "align_content": null,
       "align_items": null,
       "align_self": null,
       "border": null,
       "bottom": null,
       "display": null,
       "flex": null,
       "flex_flow": null,
       "grid_area": null,
       "grid_auto_columns": null,
       "grid_auto_flow": null,
       "grid_auto_rows": null,
       "grid_column": null,
       "grid_gap": null,
       "grid_row": null,
       "grid_template_areas": null,
       "grid_template_columns": null,
       "grid_template_rows": null,
       "height": null,
       "justify_content": null,
       "justify_items": null,
       "left": null,
       "margin": null,
       "max_height": null,
       "max_width": null,
       "min_height": null,
       "min_width": null,
       "object_fit": null,
       "object_position": null,
       "order": null,
       "overflow": null,
       "overflow_x": null,
       "overflow_y": null,
       "padding": null,
       "right": null,
       "top": null,
       "visibility": null,
       "width": null
      }
     },
     "d6e7e56c59fb4fa586c2a59f26b4deda": {
      "model_module": "@jupyter-widgets/base",
      "model_module_version": "1.2.0",
      "model_name": "LayoutModel",
      "state": {
       "_model_module": "@jupyter-widgets/base",
       "_model_module_version": "1.2.0",
       "_model_name": "LayoutModel",
       "_view_count": null,
       "_view_module": "@jupyter-widgets/base",
       "_view_module_version": "1.2.0",
       "_view_name": "LayoutView",
       "align_content": null,
       "align_items": null,
       "align_self": null,
       "border": null,
       "bottom": null,
       "display": null,
       "flex": null,
       "flex_flow": null,
       "grid_area": null,
       "grid_auto_columns": null,
       "grid_auto_flow": null,
       "grid_auto_rows": null,
       "grid_column": null,
       "grid_gap": null,
       "grid_row": null,
       "grid_template_areas": null,
       "grid_template_columns": null,
       "grid_template_rows": null,
       "height": null,
       "justify_content": null,
       "justify_items": null,
       "left": null,
       "margin": null,
       "max_height": null,
       "max_width": null,
       "min_height": null,
       "min_width": null,
       "object_fit": null,
       "object_position": null,
       "order": null,
       "overflow": null,
       "overflow_x": null,
       "overflow_y": null,
       "padding": null,
       "right": null,
       "top": null,
       "visibility": null,
       "width": null
      }
     },
     "d96869b815744ccf8db85291bff2506e": {
      "model_module": "@jupyter-widgets/controls",
      "model_module_version": "1.5.0",
      "model_name": "DescriptionStyleModel",
      "state": {
       "_model_module": "@jupyter-widgets/controls",
       "_model_module_version": "1.5.0",
       "_model_name": "DescriptionStyleModel",
       "_view_count": null,
       "_view_module": "@jupyter-widgets/base",
       "_view_module_version": "1.2.0",
       "_view_name": "StyleView",
       "description_width": ""
      }
     },
     "d99f7454c9a04e888159ee7f335f27b2": {
      "model_module": "@jupyter-widgets/controls",
      "model_module_version": "1.5.0",
      "model_name": "ProgressStyleModel",
      "state": {
       "_model_module": "@jupyter-widgets/controls",
       "_model_module_version": "1.5.0",
       "_model_name": "ProgressStyleModel",
       "_view_count": null,
       "_view_module": "@jupyter-widgets/base",
       "_view_module_version": "1.2.0",
       "_view_name": "StyleView",
       "bar_color": null,
       "description_width": ""
      }
     },
     "ddd19f92f3ae4122b0177c6ed33c36a5": {
      "model_module": "@jupyter-widgets/base",
      "model_module_version": "1.2.0",
      "model_name": "LayoutModel",
      "state": {
       "_model_module": "@jupyter-widgets/base",
       "_model_module_version": "1.2.0",
       "_model_name": "LayoutModel",
       "_view_count": null,
       "_view_module": "@jupyter-widgets/base",
       "_view_module_version": "1.2.0",
       "_view_name": "LayoutView",
       "align_content": null,
       "align_items": null,
       "align_self": null,
       "border": null,
       "bottom": null,
       "display": null,
       "flex": null,
       "flex_flow": null,
       "grid_area": null,
       "grid_auto_columns": null,
       "grid_auto_flow": null,
       "grid_auto_rows": null,
       "grid_column": null,
       "grid_gap": null,
       "grid_row": null,
       "grid_template_areas": null,
       "grid_template_columns": null,
       "grid_template_rows": null,
       "height": null,
       "justify_content": null,
       "justify_items": null,
       "left": null,
       "margin": null,
       "max_height": null,
       "max_width": null,
       "min_height": null,
       "min_width": null,
       "object_fit": null,
       "object_position": null,
       "order": null,
       "overflow": null,
       "overflow_x": null,
       "overflow_y": null,
       "padding": null,
       "right": null,
       "top": null,
       "visibility": null,
       "width": null
      }
     },
     "de70cd041d35468c967128adb0a3efd5": {
      "model_module": "@jupyter-widgets/base",
      "model_module_version": "1.2.0",
      "model_name": "LayoutModel",
      "state": {
       "_model_module": "@jupyter-widgets/base",
       "_model_module_version": "1.2.0",
       "_model_name": "LayoutModel",
       "_view_count": null,
       "_view_module": "@jupyter-widgets/base",
       "_view_module_version": "1.2.0",
       "_view_name": "LayoutView",
       "align_content": null,
       "align_items": null,
       "align_self": null,
       "border": null,
       "bottom": null,
       "display": null,
       "flex": null,
       "flex_flow": null,
       "grid_area": null,
       "grid_auto_columns": null,
       "grid_auto_flow": null,
       "grid_auto_rows": null,
       "grid_column": null,
       "grid_gap": null,
       "grid_row": null,
       "grid_template_areas": null,
       "grid_template_columns": null,
       "grid_template_rows": null,
       "height": null,
       "justify_content": null,
       "justify_items": null,
       "left": null,
       "margin": null,
       "max_height": null,
       "max_width": null,
       "min_height": null,
       "min_width": null,
       "object_fit": null,
       "object_position": null,
       "order": null,
       "overflow": null,
       "overflow_x": null,
       "overflow_y": null,
       "padding": null,
       "right": null,
       "top": null,
       "visibility": null,
       "width": null
      }
     },
     "dff1ca3eaa9445bf956f0d2ea01ad98c": {
      "model_module": "@jupyter-widgets/base",
      "model_module_version": "1.2.0",
      "model_name": "LayoutModel",
      "state": {
       "_model_module": "@jupyter-widgets/base",
       "_model_module_version": "1.2.0",
       "_model_name": "LayoutModel",
       "_view_count": null,
       "_view_module": "@jupyter-widgets/base",
       "_view_module_version": "1.2.0",
       "_view_name": "LayoutView",
       "align_content": null,
       "align_items": null,
       "align_self": null,
       "border": null,
       "bottom": null,
       "display": null,
       "flex": null,
       "flex_flow": null,
       "grid_area": null,
       "grid_auto_columns": null,
       "grid_auto_flow": null,
       "grid_auto_rows": null,
       "grid_column": null,
       "grid_gap": null,
       "grid_row": null,
       "grid_template_areas": null,
       "grid_template_columns": null,
       "grid_template_rows": null,
       "height": null,
       "justify_content": null,
       "justify_items": null,
       "left": null,
       "margin": null,
       "max_height": null,
       "max_width": null,
       "min_height": null,
       "min_width": null,
       "object_fit": null,
       "object_position": null,
       "order": null,
       "overflow": null,
       "overflow_x": null,
       "overflow_y": null,
       "padding": null,
       "right": null,
       "top": null,
       "visibility": null,
       "width": null
      }
     },
     "ed9415c85ca949259d104450ed4b63ba": {
      "model_module": "@jupyter-widgets/controls",
      "model_module_version": "1.5.0",
      "model_name": "LabelModel",
      "state": {
       "_dom_classes": [],
       "_model_module": "@jupyter-widgets/controls",
       "_model_module_version": "1.5.0",
       "_model_name": "LabelModel",
       "_view_count": null,
       "_view_module": "@jupyter-widgets/controls",
       "_view_module_version": "1.5.0",
       "_view_name": "LabelView",
       "description": "",
       "description_tooltip": null,
       "layout": "IPY_MODEL_de70cd041d35468c967128adb0a3efd5",
       "placeholder": "​",
       "style": "IPY_MODEL_a3d99b70abf741f89c148ad42f7eeb0b",
       "value": "0.001 MB of 0.062 MB uploaded (0.000 MB deduped)\r"
      }
     },
     "effaebe5531442508c6caf3527904428": {
      "model_module": "@jupyter-widgets/controls",
      "model_module_version": "1.5.0",
      "model_name": "HBoxModel",
      "state": {
       "_dom_classes": [],
       "_model_module": "@jupyter-widgets/controls",
       "_model_module_version": "1.5.0",
       "_model_name": "HBoxModel",
       "_view_count": null,
       "_view_module": "@jupyter-widgets/controls",
       "_view_module_version": "1.5.0",
       "_view_name": "HBoxView",
       "box_style": "",
       "children": [
        "IPY_MODEL_67ea6f8c90f44918b97862690295fb01",
        "IPY_MODEL_bfc0d3bf1c6a4636892ed9c12aa11bd7",
        "IPY_MODEL_8c08095508114bee909ff6ad8bbcdb2d"
       ],
       "layout": "IPY_MODEL_165f81aa878c49539f29cb6354bf096d"
      }
     },
     "f6e1e404413e49a8b89f0564ed1d6b2a": {
      "model_module": "@jupyter-widgets/controls",
      "model_module_version": "1.5.0",
      "model_name": "HTMLModel",
      "state": {
       "_dom_classes": [],
       "_model_module": "@jupyter-widgets/controls",
       "_model_module_version": "1.5.0",
       "_model_name": "HTMLModel",
       "_view_count": null,
       "_view_module": "@jupyter-widgets/controls",
       "_view_module_version": "1.5.0",
       "_view_name": "HTMLView",
       "description": "",
       "description_tooltip": null,
       "layout": "IPY_MODEL_d6e7e56c59fb4fa586c2a59f26b4deda",
       "placeholder": "​",
       "style": "IPY_MODEL_bdea9f8deda64da8b65f9288d0056cf5",
       "value": "Downloading extra modules: 100%"
      }
     },
     "fedc8368441a4dc69dcd5578b8630d18": {
      "model_module": "@jupyter-widgets/base",
      "model_module_version": "1.2.0",
      "model_name": "LayoutModel",
      "state": {
       "_model_module": "@jupyter-widgets/base",
       "_model_module_version": "1.2.0",
       "_model_name": "LayoutModel",
       "_view_count": null,
       "_view_module": "@jupyter-widgets/base",
       "_view_module_version": "1.2.0",
       "_view_name": "LayoutView",
       "align_content": null,
       "align_items": null,
       "align_self": null,
       "border": null,
       "bottom": null,
       "display": null,
       "flex": null,
       "flex_flow": null,
       "grid_area": null,
       "grid_auto_columns": null,
       "grid_auto_flow": null,
       "grid_auto_rows": null,
       "grid_column": null,
       "grid_gap": null,
       "grid_row": null,
       "grid_template_areas": null,
       "grid_template_columns": null,
       "grid_template_rows": null,
       "height": null,
       "justify_content": null,
       "justify_items": null,
       "left": null,
       "margin": null,
       "max_height": null,
       "max_width": null,
       "min_height": null,
       "min_width": null,
       "object_fit": null,
       "object_position": null,
       "order": null,
       "overflow": null,
       "overflow_x": null,
       "overflow_y": null,
       "padding": null,
       "right": null,
       "top": null,
       "visibility": null,
       "width": null
      }
     },
     "ff0a6de34dd1464387a00f53ad4bc267": {
      "model_module": "@jupyter-widgets/controls",
      "model_module_version": "1.5.0",
      "model_name": "ProgressStyleModel",
      "state": {
       "_model_module": "@jupyter-widgets/controls",
       "_model_module_version": "1.5.0",
       "_model_name": "ProgressStyleModel",
       "_view_count": null,
       "_view_module": "@jupyter-widgets/base",
       "_view_module_version": "1.2.0",
       "_view_name": "StyleView",
       "bar_color": null,
       "description_width": ""
      }
     }
    },
    "version_major": 2,
    "version_minor": 0
   }
  }
 },
 "nbformat": 4,
 "nbformat_minor": 5
}
