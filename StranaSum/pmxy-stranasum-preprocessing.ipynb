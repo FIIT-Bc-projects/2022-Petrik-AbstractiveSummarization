{
 "cells": [
  {
   "cell_type": "markdown",
   "id": "b5b5fd3d",
   "metadata": {
    "papermill": {
     "duration": 0.006989,
     "end_time": "2023-03-20T16:04:11.775359",
     "exception": false,
     "start_time": "2023-03-20T16:04:11.768370",
     "status": "completed"
    },
    "tags": []
   },
   "source": [
    "# Sebastian Petrik - Abstractive summarization - Data preparation and preprocessing"
   ]
  },
  {
   "cell_type": "markdown",
   "id": "679e1264",
   "metadata": {
    "papermill": {
     "duration": 0.005099,
     "end_time": "2023-03-20T16:04:11.786111",
     "exception": false,
     "start_time": "2023-03-20T16:04:11.781012",
     "status": "completed"
    },
    "tags": []
   },
   "source": [
    "Datasets preprocessing, train-validation-test split, output as prepared frame with special tokens, ready for tokenization and training / inference / evaluation."
   ]
  },
  {
   "cell_type": "markdown",
   "id": "69509c1f",
   "metadata": {
    "papermill": {
     "duration": 0.004811,
     "end_time": "2023-03-20T16:04:11.796293",
     "exception": false,
     "start_time": "2023-03-20T16:04:11.791482",
     "status": "completed"
    },
    "tags": []
   },
   "source": [
    "## Setup"
   ]
  },
  {
   "cell_type": "code",
   "execution_count": 1,
   "id": "9ca73acc",
   "metadata": {
    "execution": {
     "iopub.execute_input": "2023-03-20T16:04:11.810094Z",
     "iopub.status.busy": "2023-03-20T16:04:11.809155Z",
     "iopub.status.idle": "2023-03-20T16:04:24.254843Z",
     "shell.execute_reply": "2023-03-20T16:04:24.253493Z"
    },
    "papermill": {
     "duration": 12.456212,
     "end_time": "2023-03-20T16:04:24.257991",
     "exception": false,
     "start_time": "2023-03-20T16:04:11.801779",
     "status": "completed"
    },
    "tags": []
   },
   "outputs": [
    {
     "name": "stdout",
     "output_type": "stream",
     "text": [
      "\u001b[33mWARNING: Running pip as the 'root' user can result in broken permissions and conflicting behaviour with the system package manager. It is recommended to use a virtual environment instead: https://pip.pypa.io/warnings/venv\u001b[0m\u001b[33m\r\n",
      "\u001b[0m"
     ]
    }
   ],
   "source": [
    "!pip install openpyxl contractions --quiet"
   ]
  },
  {
   "cell_type": "code",
   "execution_count": 2,
   "id": "1080713a",
   "metadata": {
    "execution": {
     "iopub.execute_input": "2023-03-20T16:04:24.272797Z",
     "iopub.status.busy": "2023-03-20T16:04:24.272344Z",
     "iopub.status.idle": "2023-03-20T16:04:24.278718Z",
     "shell.execute_reply": "2023-03-20T16:04:24.277655Z"
    },
    "papermill": {
     "duration": 0.017182,
     "end_time": "2023-03-20T16:04:24.281327",
     "exception": false,
     "start_time": "2023-03-20T16:04:24.264145",
     "status": "completed"
    },
    "tags": []
   },
   "outputs": [
    {
     "name": "stdout",
     "output_type": "stream",
     "text": [
      "kaggle_k7I2xo2TUDU16eXONm2JwdsojWqwWcBiWi0wq6VYXY-122793416-webtier\n"
     ]
    }
   ],
   "source": [
    "import os\n",
    "print(os.environ.get('KAGGLE_CONTAINER_NAME')) # check if kaggle"
   ]
  },
  {
   "cell_type": "code",
   "execution_count": 3,
   "id": "a4e97c28",
   "metadata": {
    "execution": {
     "iopub.execute_input": "2023-03-20T16:04:24.295234Z",
     "iopub.status.busy": "2023-03-20T16:04:24.294843Z",
     "iopub.status.idle": "2023-03-20T16:04:24.306806Z",
     "shell.execute_reply": "2023-03-20T16:04:24.305692Z"
    },
    "papermill": {
     "duration": 0.021654,
     "end_time": "2023-03-20T16:04:24.308858",
     "exception": false,
     "start_time": "2023-03-20T16:04:24.287204",
     "status": "completed"
    },
    "tags": []
   },
   "outputs": [
    {
     "data": {
      "text/plain": [
       "[('keras', '2.11.0'),\n",
       " ('numpy', '1.21.6'),\n",
       " ('pandas', '1.3.5'),\n",
       " ('tensorflow', '2.11.0'),\n",
       " ('tensorflow-datasets', '4.8.2'),\n",
       " ('tensorflow-estimator', '2.11.0'),\n",
       " ('tensorflow-text', '2.11.0')]"
      ]
     },
     "execution_count": 3,
     "metadata": {},
     "output_type": "execute_result"
    }
   ],
   "source": [
    "import pkg_resources\n",
    "sorted(list(filter(\n",
    "    lambda x: x[0] in ['numpy', 'pandas', 'tensorflow', 'tensorflow-text', 'keras', 'tensorflow-estimator', 'tensorflow-datasets', 'contractions'],\n",
    "    [(i.key, i.version) for i in pkg_resources.working_set]\n",
    ")))"
   ]
  },
  {
   "cell_type": "code",
   "execution_count": 4,
   "id": "14e7084c",
   "metadata": {
    "execution": {
     "iopub.execute_input": "2023-03-20T16:04:24.322733Z",
     "iopub.status.busy": "2023-03-20T16:04:24.322280Z",
     "iopub.status.idle": "2023-03-20T16:04:39.618203Z",
     "shell.execute_reply": "2023-03-20T16:04:39.616827Z"
    },
    "papermill": {
     "duration": 15.3062,
     "end_time": "2023-03-20T16:04:39.621262",
     "exception": false,
     "start_time": "2023-03-20T16:04:24.315062",
     "status": "completed"
    },
    "tags": []
   },
   "outputs": [],
   "source": [
    "# Imports\n",
    "import numpy as np\n",
    "import matplotlib.pyplot as plt\n",
    "import seaborn as sns\n",
    "import pandas as pd\n",
    "from collections import defaultdict\n",
    "import string\n",
    "import tensorflow as tf\n",
    "import re\n",
    "import os\n",
    "import time\n",
    "from tensorflow import keras\n",
    "from tensorflow.keras.layers import Dense, Input\n",
    "from tensorflow.keras.optimizers import Adam\n",
    "from tensorflow.keras.models import Model\n",
    "from tensorflow.keras.callbacks import ModelCheckpoint\n",
    "from sklearn.preprocessing import OneHotEncoder\n",
    "from sklearn.model_selection import train_test_split\n",
    "import operator as op\n",
    "import spacy\n",
    "import contractions"
   ]
  },
  {
   "cell_type": "markdown",
   "id": "1a166ccb",
   "metadata": {
    "papermill": {
     "duration": 0.00597,
     "end_time": "2023-03-20T16:04:39.633449",
     "exception": false,
     "start_time": "2023-03-20T16:04:39.627479",
     "status": "completed"
    },
    "tags": []
   },
   "source": [
    "## Data loading"
   ]
  },
  {
   "cell_type": "code",
   "execution_count": 5,
   "id": "40e5cc56",
   "metadata": {
    "execution": {
     "iopub.execute_input": "2023-03-20T16:04:39.647759Z",
     "iopub.status.busy": "2023-03-20T16:04:39.646917Z",
     "iopub.status.idle": "2023-03-20T16:04:42.919663Z",
     "shell.execute_reply": "2023-03-20T16:04:42.918279Z"
    },
    "papermill": {
     "duration": 3.283361,
     "end_time": "2023-03-20T16:04:42.922778",
     "exception": false,
     "start_time": "2023-03-20T16:04:39.639417",
     "status": "completed"
    },
    "tags": []
   },
   "outputs": [
    {
     "name": "stdout",
     "output_type": "stream",
     "text": [
      "inshorts-news-data  news-summarization\r\n",
      "'Inshorts Cleaned Data.xlsx'\r\n",
      "data.csv\r\n"
     ]
    }
   ],
   "source": [
    "# show available data\n",
    "!ls ../input\n",
    "!ls ../input/inshorts-news-data\n",
    "!ls ../input/news-summarization"
   ]
  },
  {
   "cell_type": "code",
   "execution_count": 6,
   "id": "f057aa91",
   "metadata": {
    "execution": {
     "iopub.execute_input": "2023-03-20T16:04:42.938797Z",
     "iopub.status.busy": "2023-03-20T16:04:42.937874Z",
     "iopub.status.idle": "2023-03-20T16:04:52.093441Z",
     "shell.execute_reply": "2023-03-20T16:04:52.092181Z"
    },
    "papermill": {
     "duration": 9.166773,
     "end_time": "2023-03-20T16:04:52.096162",
     "exception": false,
     "start_time": "2023-03-20T16:04:42.929389",
     "status": "completed"
    },
    "tags": []
   },
   "outputs": [
    {
     "data": {
      "text/html": [
       "<div>\n",
       "<style scoped>\n",
       "    .dataframe tbody tr th:only-of-type {\n",
       "        vertical-align: middle;\n",
       "    }\n",
       "\n",
       "    .dataframe tbody tr th {\n",
       "        vertical-align: top;\n",
       "    }\n",
       "\n",
       "    .dataframe thead th {\n",
       "        text-align: right;\n",
       "    }\n",
       "</style>\n",
       "<table border=\"1\" class=\"dataframe\">\n",
       "  <thead>\n",
       "    <tr style=\"text-align: right;\">\n",
       "      <th></th>\n",
       "      <th>Headline</th>\n",
       "      <th>Short</th>\n",
       "    </tr>\n",
       "  </thead>\n",
       "  <tbody>\n",
       "    <tr>\n",
       "      <th>0</th>\n",
       "      <td>4 ex-bank officials booked for cheating bank o...</td>\n",
       "      <td>The CBI on Saturday booked four former officia...</td>\n",
       "    </tr>\n",
       "    <tr>\n",
       "      <th>1</th>\n",
       "      <td>Supreme Court to go paperless in 6 months: CJI</td>\n",
       "      <td>Chief Justice JS Khehar has said the Supreme C...</td>\n",
       "    </tr>\n",
       "    <tr>\n",
       "      <th>2</th>\n",
       "      <td>At least 3 killed, 30 injured in blast in Sylh...</td>\n",
       "      <td>At least three people were killed, including a...</td>\n",
       "    </tr>\n",
       "    <tr>\n",
       "      <th>3</th>\n",
       "      <td>Why has Reliance been barred from trading in f...</td>\n",
       "      <td>Mukesh Ambani-led Reliance Industries (RIL) wa...</td>\n",
       "    </tr>\n",
       "    <tr>\n",
       "      <th>4</th>\n",
       "      <td>Was stopped from entering my own studio at Tim...</td>\n",
       "      <td>TV news anchor Arnab Goswami has said he was t...</td>\n",
       "    </tr>\n",
       "    <tr>\n",
       "      <th>...</th>\n",
       "      <td>...</td>\n",
       "      <td>...</td>\n",
       "    </tr>\n",
       "    <tr>\n",
       "      <th>55099</th>\n",
       "      <td>Sensex loses 400 points to hit 52-week low</td>\n",
       "      <td>Tracking weak cues from the Asian markets, the...</td>\n",
       "    </tr>\n",
       "    <tr>\n",
       "      <th>55100</th>\n",
       "      <td>China to inject $91 bn into the money markets</td>\n",
       "      <td>Amid growing concerns about China&amp;#39;s econom...</td>\n",
       "    </tr>\n",
       "    <tr>\n",
       "      <th>55101</th>\n",
       "      <td>Ghulam Ali set to make acting debut in Bollywood</td>\n",
       "      <td>Pakistani Ghazal singer Ghulam Ali will soon m...</td>\n",
       "    </tr>\n",
       "    <tr>\n",
       "      <th>55102</th>\n",
       "      <td>IS acknowledges death of Jihadi John: Report</td>\n",
       "      <td>The Islamic State (IS) has acknowledged the de...</td>\n",
       "    </tr>\n",
       "    <tr>\n",
       "      <th>55103</th>\n",
       "      <td>Cairn to seek $600 mn from India in damages</td>\n",
       "      <td>UK-based oil firm Cairn Energy on Tuesday said...</td>\n",
       "    </tr>\n",
       "  </tbody>\n",
       "</table>\n",
       "<p>55104 rows × 2 columns</p>\n",
       "</div>"
      ],
      "text/plain": [
       "                                                Headline  \\\n",
       "0      4 ex-bank officials booked for cheating bank o...   \n",
       "1         Supreme Court to go paperless in 6 months: CJI   \n",
       "2      At least 3 killed, 30 injured in blast in Sylh...   \n",
       "3      Why has Reliance been barred from trading in f...   \n",
       "4      Was stopped from entering my own studio at Tim...   \n",
       "...                                                  ...   \n",
       "55099         Sensex loses 400 points to hit 52-week low   \n",
       "55100      China to inject $91 bn into the money markets   \n",
       "55101   Ghulam Ali set to make acting debut in Bollywood   \n",
       "55102       IS acknowledges death of Jihadi John: Report   \n",
       "55103        Cairn to seek $600 mn from India in damages   \n",
       "\n",
       "                                                   Short  \n",
       "0      The CBI on Saturday booked four former officia...  \n",
       "1      Chief Justice JS Khehar has said the Supreme C...  \n",
       "2      At least three people were killed, including a...  \n",
       "3      Mukesh Ambani-led Reliance Industries (RIL) wa...  \n",
       "4      TV news anchor Arnab Goswami has said he was t...  \n",
       "...                                                  ...  \n",
       "55099  Tracking weak cues from the Asian markets, the...  \n",
       "55100  Amid growing concerns about China&#39;s econom...  \n",
       "55101  Pakistani Ghazal singer Ghulam Ali will soon m...  \n",
       "55102  The Islamic State (IS) has acknowledged the de...  \n",
       "55103  UK-based oil firm Cairn Energy on Tuesday said...  \n",
       "\n",
       "[55104 rows x 2 columns]"
      ]
     },
     "execution_count": 6,
     "metadata": {},
     "output_type": "execute_result"
    }
   ],
   "source": [
    "# Inshorts XLS dataset\n",
    "inshorts_raw = pd.read_excel(\"../input/inshorts-news-data/Inshorts Cleaned Data.xlsx\",engine = 'openpyxl')\n",
    "inshorts_raw.drop(['Source ', 'Time ', 'Publish Date'], axis=1, inplace=True)\n",
    "inshorts_raw"
   ]
  },
  {
   "cell_type": "code",
   "execution_count": 7,
   "id": "a8278aa5",
   "metadata": {
    "execution": {
     "iopub.execute_input": "2023-03-20T16:04:52.112677Z",
     "iopub.status.busy": "2023-03-20T16:04:52.111968Z",
     "iopub.status.idle": "2023-03-20T16:06:24.247501Z",
     "shell.execute_reply": "2023-03-20T16:06:24.246300Z"
    },
    "papermill": {
     "duration": 92.154417,
     "end_time": "2023-03-20T16:06:24.257310",
     "exception": false,
     "start_time": "2023-03-20T16:04:52.102893",
     "status": "completed"
    },
    "tags": []
   },
   "outputs": [
    {
     "data": {
      "text/html": [
       "<div>\n",
       "<style scoped>\n",
       "    .dataframe tbody tr th:only-of-type {\n",
       "        vertical-align: middle;\n",
       "    }\n",
       "\n",
       "    .dataframe tbody tr th {\n",
       "        vertical-align: top;\n",
       "    }\n",
       "\n",
       "    .dataframe thead th {\n",
       "        text-align: right;\n",
       "    }\n",
       "</style>\n",
       "<table border=\"1\" class=\"dataframe\">\n",
       "  <thead>\n",
       "    <tr style=\"text-align: right;\">\n",
       "      <th></th>\n",
       "      <th>ID</th>\n",
       "      <th>Content</th>\n",
       "      <th>Summary</th>\n",
       "      <th>Dataset</th>\n",
       "    </tr>\n",
       "  </thead>\n",
       "  <tbody>\n",
       "    <tr>\n",
       "      <th>0</th>\n",
       "      <td>f49ee725a0360aa6881ed1f7999cc531885dd06a</td>\n",
       "      <td>New York police are concerned drones could bec...</td>\n",
       "      <td>Police have investigated criminals who have ri...</td>\n",
       "      <td>CNN/Daily Mail</td>\n",
       "    </tr>\n",
       "    <tr>\n",
       "      <th>1</th>\n",
       "      <td>808fe317a53fbd3130c9b7563341a7eea6d15e94</td>\n",
       "      <td>By . Ryan Lipman . Perhaps Australian porn sta...</td>\n",
       "      <td>Porn star Angela White secretly filmed sex act...</td>\n",
       "      <td>CNN/Daily Mail</td>\n",
       "    </tr>\n",
       "    <tr>\n",
       "      <th>2</th>\n",
       "      <td>98fd67bd343e58bc4e275bbb5a4ea454ec827c0d</td>\n",
       "      <td>This was, Sergio Garcia conceded, much like be...</td>\n",
       "      <td>American draws inspiration from fellow country...</td>\n",
       "      <td>CNN/Daily Mail</td>\n",
       "    </tr>\n",
       "    <tr>\n",
       "      <th>3</th>\n",
       "      <td>e12b5bd7056287049d9ec98e41dbb287bd19a981</td>\n",
       "      <td>An Ebola outbreak that began in Guinea four mo...</td>\n",
       "      <td>World Health Organisation: 635 infections and ...</td>\n",
       "      <td>CNN/Daily Mail</td>\n",
       "    </tr>\n",
       "    <tr>\n",
       "      <th>4</th>\n",
       "      <td>b83e8bcfcd51419849160e789b6658b21a9aedcd</td>\n",
       "      <td>By . Associated Press and Daily Mail Reporter ...</td>\n",
       "      <td>A sinkhole opened up at 5:15am this morning in...</td>\n",
       "      <td>CNN/Daily Mail</td>\n",
       "    </tr>\n",
       "    <tr>\n",
       "      <th>...</th>\n",
       "      <td>...</td>\n",
       "      <td>...</td>\n",
       "      <td>...</td>\n",
       "      <td>...</td>\n",
       "    </tr>\n",
       "    <tr>\n",
       "      <th>870516</th>\n",
       "      <td>5d28cab74ffb4ea584cbb857d64a72a2157bf19f</td>\n",
       "      <td>The state of Oregon is ready to throw in the t...</td>\n",
       "      <td>Oregon is the only one of 16 states that has f...</td>\n",
       "      <td>CNN/Daily Mail</td>\n",
       "    </tr>\n",
       "    <tr>\n",
       "      <th>870517</th>\n",
       "      <td>6f3e12375fc400cf9dc3ad77b8191226e740e293</td>\n",
       "      <td>MADRID, Spain (CNN) -- A 92-year-old woman wit...</td>\n",
       "      <td>Two women, both from Uruguay, arrested after a...</td>\n",
       "      <td>CNN/Daily Mail</td>\n",
       "    </tr>\n",
       "    <tr>\n",
       "      <th>870518</th>\n",
       "      <td>NaN</td>\n",
       "      <td>A day after a 40-year-old man miraculously sur...</td>\n",
       "      <td>– Rescuers in Niagara Falls still haven't foun...</td>\n",
       "      <td>Multi-News</td>\n",
       "    </tr>\n",
       "    <tr>\n",
       "      <th>870519</th>\n",
       "      <td>9af32ebbdd03e1d543d5493e93b4ac8c8e489851</td>\n",
       "      <td>By . Deni Kirkova . PUBLISHED: . 09:27 EST, 23...</td>\n",
       "      <td>Women browse, evaluate and shop through an onl...</td>\n",
       "      <td>CNN/Daily Mail</td>\n",
       "    </tr>\n",
       "    <tr>\n",
       "      <th>870520</th>\n",
       "      <td>f566e97e2944891dc8aa116eea31e897d2f09ac7</td>\n",
       "      <td>Tiago Rocha, 26, has confessed to killing 39 p...</td>\n",
       "      <td>Tiago Henrique Gomes da Rocha, 26, confessed t...</td>\n",
       "      <td>CNN/Daily Mail</td>\n",
       "    </tr>\n",
       "  </tbody>\n",
       "</table>\n",
       "<p>870521 rows × 4 columns</p>\n",
       "</div>"
      ],
      "text/plain": [
       "                                              ID  \\\n",
       "0       f49ee725a0360aa6881ed1f7999cc531885dd06a   \n",
       "1       808fe317a53fbd3130c9b7563341a7eea6d15e94   \n",
       "2       98fd67bd343e58bc4e275bbb5a4ea454ec827c0d   \n",
       "3       e12b5bd7056287049d9ec98e41dbb287bd19a981   \n",
       "4       b83e8bcfcd51419849160e789b6658b21a9aedcd   \n",
       "...                                          ...   \n",
       "870516  5d28cab74ffb4ea584cbb857d64a72a2157bf19f   \n",
       "870517  6f3e12375fc400cf9dc3ad77b8191226e740e293   \n",
       "870518                                       NaN   \n",
       "870519  9af32ebbdd03e1d543d5493e93b4ac8c8e489851   \n",
       "870520  f566e97e2944891dc8aa116eea31e897d2f09ac7   \n",
       "\n",
       "                                                  Content  \\\n",
       "0       New York police are concerned drones could bec...   \n",
       "1       By . Ryan Lipman . Perhaps Australian porn sta...   \n",
       "2       This was, Sergio Garcia conceded, much like be...   \n",
       "3       An Ebola outbreak that began in Guinea four mo...   \n",
       "4       By . Associated Press and Daily Mail Reporter ...   \n",
       "...                                                   ...   \n",
       "870516  The state of Oregon is ready to throw in the t...   \n",
       "870517  MADRID, Spain (CNN) -- A 92-year-old woman wit...   \n",
       "870518  A day after a 40-year-old man miraculously sur...   \n",
       "870519  By . Deni Kirkova . PUBLISHED: . 09:27 EST, 23...   \n",
       "870520  Tiago Rocha, 26, has confessed to killing 39 p...   \n",
       "\n",
       "                                                  Summary         Dataset  \n",
       "0       Police have investigated criminals who have ri...  CNN/Daily Mail  \n",
       "1       Porn star Angela White secretly filmed sex act...  CNN/Daily Mail  \n",
       "2       American draws inspiration from fellow country...  CNN/Daily Mail  \n",
       "3       World Health Organisation: 635 infections and ...  CNN/Daily Mail  \n",
       "4       A sinkhole opened up at 5:15am this morning in...  CNN/Daily Mail  \n",
       "...                                                   ...             ...  \n",
       "870516  Oregon is the only one of 16 states that has f...  CNN/Daily Mail  \n",
       "870517  Two women, both from Uruguay, arrested after a...  CNN/Daily Mail  \n",
       "870518  – Rescuers in Niagara Falls still haven't foun...      Multi-News  \n",
       "870519  Women browse, evaluate and shop through an onl...  CNN/Daily Mail  \n",
       "870520  Tiago Henrique Gomes da Rocha, 26, confessed t...  CNN/Daily Mail  \n",
       "\n",
       "[870521 rows x 4 columns]"
      ]
     },
     "execution_count": 7,
     "metadata": {},
     "output_type": "execute_result"
    }
   ],
   "source": [
    "# combined 3 datasets 4GB\n",
    "news_sum_combined = pd.read_csv('../input/news-summarization/data.csv')\n",
    "news_sum_combined.drop(columns=news_sum_combined.columns[0], axis=1, inplace=True) # drop index col\n",
    "news_sum_combined"
   ]
  },
  {
   "cell_type": "markdown",
   "id": "e4fca219",
   "metadata": {
    "papermill": {
     "duration": 0.006574,
     "end_time": "2023-03-20T16:06:24.271078",
     "exception": false,
     "start_time": "2023-03-20T16:06:24.264504",
     "status": "completed"
    },
    "tags": []
   },
   "source": [
    "## Preprocessing"
   ]
  },
  {
   "cell_type": "code",
   "execution_count": 8,
   "id": "f1757637",
   "metadata": {
    "execution": {
     "iopub.execute_input": "2023-03-20T16:06:24.287836Z",
     "iopub.status.busy": "2023-03-20T16:06:24.286443Z",
     "iopub.status.idle": "2023-03-20T16:06:24.323737Z",
     "shell.execute_reply": "2023-03-20T16:06:24.322807Z"
    },
    "papermill": {
     "duration": 0.048592,
     "end_time": "2023-03-20T16:06:24.326427",
     "exception": false,
     "start_time": "2023-03-20T16:06:24.277835",
     "status": "completed"
    },
    "tags": []
   },
   "outputs": [
    {
     "data": {
      "text/plain": [
       "'this text my text is not very clean it would have been better if it was ok'"
      ]
     },
     "execution_count": 8,
     "metadata": {},
     "output_type": "execute_result"
    }
   ],
   "source": [
    "class Preprocessor:\n",
    "    \n",
    "    def __init__(self, dot_token_enabled=True):\n",
    "        self.dot_token_enabled = dot_token_enabled\n",
    "    \n",
    "    # Text cleanup\n",
    "    def clean_text(self, text: str):\n",
    "\n",
    "        # lowercase\n",
    "        text = str(text).lower()\n",
    "\n",
    "        # remove &-escaped characters\n",
    "        text = re.sub(r\"&.[1-9]+;\",\" \", str(text))\n",
    "\n",
    "        # remove escaped characters\n",
    "        text=re.sub(\"(\\\\t)\", ' ', str(text))\n",
    "        text=re.sub(\"(\\\\r)\", ' ', str(text))\n",
    "        text=re.sub(\"(\\\\n)\", ' ', str(text))\n",
    "\n",
    "        # remove double characters\n",
    "        text=re.sub(\"(__+)\", ' ', str(text))  #remove _ if it occurs more than one time consecutively\n",
    "        text=re.sub(\"(--+)\", ' ', str(text))   #remove - if it occurs more than one time consecutively\n",
    "        text=re.sub(\"(~~+)\", ' ', str(text))   #remove ~ if it occurs more than one time consecutively\n",
    "        text=re.sub(\"(\\+\\++)\", ' ', str(text))  #remove + if it occurs more than one time consecutively\n",
    "        text=re.sub(\"(\\.\\.+)\", ' ', str(text))  #remove . if it occurs more than one time consecutively\n",
    "        \n",
    "        # fix contractions to base form\n",
    "        text = contractions.fix(text)\n",
    "\n",
    "        #remove special tokens <>()|&©ø\"',;?~*!\n",
    "        text=re.sub(r\"[<>()|&©ø\\[\\]\\'\\\",;?~*!]\", ' ', str(text)).lower()\n",
    "\n",
    "        # CNN mail data cleanup\n",
    "        text=re.sub(\"(mailto:)\", ' ', str(text)) #remove mailto:\n",
    "        text=re.sub(r\"(\\\\x9\\d)\", ' ', str(text)) #remove \\x9* in text\n",
    "        text=re.sub(\"([iI][nN][cC]\\d+)\", 'INC_NUM', str(text)) #replace INC nums to INC_NUM\n",
    "        text=re.sub(\"([cC][mM]\\d+)|([cC][hH][gG]\\d+)\", 'CM_NUM', str(text)) #replace CM# and CHG# to CM_NUM\n",
    "\n",
    "        # url replacement into base form\n",
    "        try:\n",
    "            url = re.search(r'((https*:\\/*)([^\\/\\s]+))(.[^\\s]+)', str(text))\n",
    "            repl_url = url.group(3)\n",
    "            text = re.sub(r'((https*:\\/*)([^\\/\\s]+))(.[^\\s]+)',repl_url, str(text))\n",
    "        except:\n",
    "            pass\n",
    "\n",
    "\n",
    "        # handle dot at the end of words\n",
    "        if self.dot_token_enabled:\n",
    "            text=re.sub(\"(\\.\\s+)\", ' . ', str(text))\n",
    "        else:\n",
    "            text=re.sub(\"(\\.\\s+)\", ' ', str(text)) # or completely remove\n",
    "        \n",
    "        text=re.sub(\"(\\-\\s+)\", ' ', str(text)) #remove - at end of words(not between)\n",
    "        text=re.sub(\"(\\:\\s+)\", ' ', str(text)) #remove : at end of words(not between)\n",
    "\n",
    "        #remove multiple spaces\n",
    "        text=re.sub(\"(\\s+)\",' ',str(text))\n",
    "\n",
    "        # apply lowercase again\n",
    "        text = text.lower().strip()\n",
    "        \n",
    "        # remove trailing dot, we will apply end of sequence anyway\n",
    "        text = re.sub(\"(\\.)$\", '', str(text)).strip()\n",
    "\n",
    "        return text\n",
    "\n",
    "    def apply_special_tokens(self, text):\n",
    "        text = str(text).strip()\n",
    "        text = \"<sos> \" + str(text).strip() + \" <eos>\"\n",
    "        \n",
    "        if self.dot_token_enabled:\n",
    "            text = text.replace(\".\", \"<dot>\")\n",
    "        \n",
    "        return text\n",
    "\n",
    "    def remove_special_tokens(self, text):\n",
    "        text = text.lower()\n",
    "        text = text.replace(\"<sos>\", \"\").replace(\"<eos>\", \"\")\n",
    "        text = text.replace(\"<unk>\", \"##\")\n",
    "        text = text.replace(\"<dot>\", \". \") # normal syntax with dot at end\n",
    "        text = text.strip()\n",
    "        return text\n",
    "\n",
    "    def plot_approx_lengths(self, df: pd.DataFrame):\n",
    "        sns.displot(df['article_len_approx']), sns.displot(df['summary_len_approx'])\n",
    "\n",
    "    # preprocess sentence dataframe from raw format - clean, apply sos/eos tokens\n",
    "    # - removes articles with length outside bounds\n",
    "    def preprocess_frame(self, df: pd.DataFrame, article_len_range, summary_len_range):\n",
    "        \n",
    "        print(\"Preprocessing frame...\")\n",
    "\n",
    "        # apply text cleaning\n",
    "        df['article'] = df['article'].apply(self.clean_text)\n",
    "        df['summary'] = df['summary'].apply(self.clean_text)\n",
    "\n",
    "        # apply special tokens\n",
    "        df['article'] = df['article'].apply(self.apply_special_tokens)\n",
    "        df['summary'] = df['summary'].apply(self.apply_special_tokens)\n",
    "\n",
    "        # simple text length approximation for analysis\n",
    "        df['article_len_approx'] = df['article'].apply(lambda x: op.countOf(x, ' '))\n",
    "        df['summary_len_approx'] = df['summary'].apply(lambda x: op.countOf(x, ' '))\n",
    "\n",
    "        # remove longer than set length\n",
    "        article_min, article_max = article_len_range\n",
    "        summary_min, summary_max = summary_len_range\n",
    "        \n",
    "        df = df[\n",
    "            (df['article_len_approx'] <= article_max) &\n",
    "            (df['article_len_approx'] >= article_min) &\n",
    "            (df['summary_len_approx'] <= summary_max) &\n",
    "            (df['summary_len_approx'] >= summary_min)\n",
    "        ]\n",
    "\n",
    "        # print plots\n",
    "        self.plot_approx_lengths(df)\n",
    "\n",
    "        return df\n",
    "    \n",
    "preprocessor = Preprocessor(dot_token_enabled=False)\n",
    "\n",
    "# Test\n",
    "preprocessor.clean_text(\"  This text (my text ) isn't ]] very - clean.  it WOULd'Ve been betteR? if, it was ok  \")"
   ]
  },
  {
   "cell_type": "code",
   "execution_count": 9,
   "id": "517970d2",
   "metadata": {
    "execution": {
     "iopub.execute_input": "2023-03-20T16:06:24.342702Z",
     "iopub.status.busy": "2023-03-20T16:06:24.341941Z",
     "iopub.status.idle": "2023-03-20T16:06:24.354219Z",
     "shell.execute_reply": "2023-03-20T16:06:24.352966Z"
    },
    "papermill": {
     "duration": 0.023346,
     "end_time": "2023-03-20T16:06:24.356805",
     "exception": false,
     "start_time": "2023-03-20T16:06:24.333459",
     "status": "completed"
    },
    "tags": []
   },
   "outputs": [
    {
     "data": {
      "text/plain": [
       "'<sos> indian spinner ravichandran ashwin has broken the record for most wickets in a single test season taking his 79th this season during the dharamsala test against australia on saturday ashwin went past south african pacer dale steyn who had claimed 78 wickets in 12 tests in 2007-08 ashwin has taken seven five-wicket hauls this season in 13 matches <eos>'"
      ]
     },
     "execution_count": 9,
     "metadata": {},
     "output_type": "execute_result"
    }
   ],
   "source": [
    "preprocessor.apply_special_tokens(preprocessor.clean_text(inshorts_raw.iloc[100]['Short']))"
   ]
  },
  {
   "cell_type": "markdown",
   "id": "2a566a44",
   "metadata": {
    "papermill": {
     "duration": 0.00688,
     "end_time": "2023-03-20T16:06:24.370942",
     "exception": false,
     "start_time": "2023-03-20T16:06:24.364062",
     "status": "completed"
    },
    "tags": []
   },
   "source": [
    "## Inshorts dataset"
   ]
  },
  {
   "cell_type": "code",
   "execution_count": 10,
   "id": "6d1d751f",
   "metadata": {
    "execution": {
     "iopub.execute_input": "2023-03-20T16:06:24.387941Z",
     "iopub.status.busy": "2023-03-20T16:06:24.386738Z",
     "iopub.status.idle": "2023-03-20T16:06:35.394427Z",
     "shell.execute_reply": "2023-03-20T16:06:35.393158Z"
    },
    "papermill": {
     "duration": 11.018958,
     "end_time": "2023-03-20T16:06:35.397038",
     "exception": false,
     "start_time": "2023-03-20T16:06:24.378080",
     "status": "completed"
    },
    "tags": []
   },
   "outputs": [
    {
     "name": "stdout",
     "output_type": "stream",
     "text": [
      "Preprocessing frame...\n",
      "       article_len_approx  summary_len_approx\n",
      "count        55098.000000        55098.000000\n",
      "mean            60.144561            9.474046\n",
      "std              2.694679            1.620789\n",
      "min             41.000000            4.000000\n",
      "25%             59.000000            8.000000\n",
      "50%             61.000000            9.000000\n",
      "75%             62.000000           11.000000\n",
      "max             70.000000           16.000000\n"
     ]
    },
    {
     "data": {
      "text/html": [
       "<div>\n",
       "<style scoped>\n",
       "    .dataframe tbody tr th:only-of-type {\n",
       "        vertical-align: middle;\n",
       "    }\n",
       "\n",
       "    .dataframe tbody tr th {\n",
       "        vertical-align: top;\n",
       "    }\n",
       "\n",
       "    .dataframe thead th {\n",
       "        text-align: right;\n",
       "    }\n",
       "</style>\n",
       "<table border=\"1\" class=\"dataframe\">\n",
       "  <thead>\n",
       "    <tr style=\"text-align: right;\">\n",
       "      <th></th>\n",
       "      <th>summary</th>\n",
       "      <th>article</th>\n",
       "      <th>article_len_approx</th>\n",
       "      <th>summary_len_approx</th>\n",
       "    </tr>\n",
       "  </thead>\n",
       "  <tbody>\n",
       "    <tr>\n",
       "      <th>0</th>\n",
       "      <td>&lt;sos&gt; 4 ex-bank officials booked for cheating ...</td>\n",
       "      <td>&lt;sos&gt; the cbi on saturday booked four former o...</td>\n",
       "      <td>61</td>\n",
       "      <td>11</td>\n",
       "    </tr>\n",
       "    <tr>\n",
       "      <th>1</th>\n",
       "      <td>&lt;sos&gt; supreme court to go paperless in 6 month...</td>\n",
       "      <td>&lt;sos&gt; chief justice js khehar has said the sup...</td>\n",
       "      <td>59</td>\n",
       "      <td>10</td>\n",
       "    </tr>\n",
       "    <tr>\n",
       "      <th>2</th>\n",
       "      <td>&lt;sos&gt; at least 3 killed 30 injured in blast in...</td>\n",
       "      <td>&lt;sos&gt; at least three people were killed includ...</td>\n",
       "      <td>61</td>\n",
       "      <td>12</td>\n",
       "    </tr>\n",
       "    <tr>\n",
       "      <th>3</th>\n",
       "      <td>&lt;sos&gt; why has reliance been barred from tradin...</td>\n",
       "      <td>&lt;sos&gt; mukesh ambani-led reliance industries ri...</td>\n",
       "      <td>61</td>\n",
       "      <td>10</td>\n",
       "    </tr>\n",
       "    <tr>\n",
       "      <th>4</th>\n",
       "      <td>&lt;sos&gt; was stopped from entering my own studio ...</td>\n",
       "      <td>&lt;sos&gt; tv news anchor arnab goswami has said he...</td>\n",
       "      <td>61</td>\n",
       "      <td>12</td>\n",
       "    </tr>\n",
       "    <tr>\n",
       "      <th>...</th>\n",
       "      <td>...</td>\n",
       "      <td>...</td>\n",
       "      <td>...</td>\n",
       "      <td>...</td>\n",
       "    </tr>\n",
       "    <tr>\n",
       "      <th>55099</th>\n",
       "      <td>&lt;sos&gt; sensex loses 400 points to hit 52-week l...</td>\n",
       "      <td>&lt;sos&gt; tracking weak cues from the asian market...</td>\n",
       "      <td>62</td>\n",
       "      <td>9</td>\n",
       "    </tr>\n",
       "    <tr>\n",
       "      <th>55100</th>\n",
       "      <td>&lt;sos&gt; china to inject $91 bn into the money ma...</td>\n",
       "      <td>&lt;sos&gt; amid growing concerns about china s econ...</td>\n",
       "      <td>62</td>\n",
       "      <td>10</td>\n",
       "    </tr>\n",
       "    <tr>\n",
       "      <th>55101</th>\n",
       "      <td>&lt;sos&gt; ghulam ali set to make acting debut in b...</td>\n",
       "      <td>&lt;sos&gt; pakistani ghazal singer ghulam ali will ...</td>\n",
       "      <td>61</td>\n",
       "      <td>10</td>\n",
       "    </tr>\n",
       "    <tr>\n",
       "      <th>55102</th>\n",
       "      <td>&lt;sos&gt; is acknowledges death of jihadi john rep...</td>\n",
       "      <td>&lt;sos&gt; the islamic state is has acknowledged th...</td>\n",
       "      <td>61</td>\n",
       "      <td>8</td>\n",
       "    </tr>\n",
       "    <tr>\n",
       "      <th>55103</th>\n",
       "      <td>&lt;sos&gt; cairn to seek $600 mn from india in dama...</td>\n",
       "      <td>&lt;sos&gt; uk-based oil firm cairn energy on tuesda...</td>\n",
       "      <td>62</td>\n",
       "      <td>10</td>\n",
       "    </tr>\n",
       "  </tbody>\n",
       "</table>\n",
       "<p>55098 rows × 4 columns</p>\n",
       "</div>"
      ],
      "text/plain": [
       "                                                 summary  \\\n",
       "0      <sos> 4 ex-bank officials booked for cheating ...   \n",
       "1      <sos> supreme court to go paperless in 6 month...   \n",
       "2      <sos> at least 3 killed 30 injured in blast in...   \n",
       "3      <sos> why has reliance been barred from tradin...   \n",
       "4      <sos> was stopped from entering my own studio ...   \n",
       "...                                                  ...   \n",
       "55099  <sos> sensex loses 400 points to hit 52-week l...   \n",
       "55100  <sos> china to inject $91 bn into the money ma...   \n",
       "55101  <sos> ghulam ali set to make acting debut in b...   \n",
       "55102  <sos> is acknowledges death of jihadi john rep...   \n",
       "55103  <sos> cairn to seek $600 mn from india in dama...   \n",
       "\n",
       "                                                 article  article_len_approx  \\\n",
       "0      <sos> the cbi on saturday booked four former o...                  61   \n",
       "1      <sos> chief justice js khehar has said the sup...                  59   \n",
       "2      <sos> at least three people were killed includ...                  61   \n",
       "3      <sos> mukesh ambani-led reliance industries ri...                  61   \n",
       "4      <sos> tv news anchor arnab goswami has said he...                  61   \n",
       "...                                                  ...                 ...   \n",
       "55099  <sos> tracking weak cues from the asian market...                  62   \n",
       "55100  <sos> amid growing concerns about china s econ...                  62   \n",
       "55101  <sos> pakistani ghazal singer ghulam ali will ...                  61   \n",
       "55102  <sos> the islamic state is has acknowledged th...                  61   \n",
       "55103  <sos> uk-based oil firm cairn energy on tuesda...                  62   \n",
       "\n",
       "       summary_len_approx  \n",
       "0                      11  \n",
       "1                      10  \n",
       "2                      12  \n",
       "3                      10  \n",
       "4                      12  \n",
       "...                   ...  \n",
       "55099                   9  \n",
       "55100                  10  \n",
       "55101                  10  \n",
       "55102                   8  \n",
       "55103                  10  \n",
       "\n",
       "[55098 rows x 4 columns]"
      ]
     },
     "execution_count": 10,
     "metadata": {},
     "output_type": "execute_result"
    },
    {
     "data": {
      "image/png": "[encoded data removed]",
      "text/plain": [
       "<Figure size 500x500 with 1 Axes>"
      ]
     },
     "metadata": {},
     "output_type": "display_data"
    },
    {
     "data": {
      "image/png": "[encoded data removed]",
      "text/plain": [
       "<Figure size 500x500 with 1 Axes>"
      ]
     },
     "metadata": {},
     "output_type": "display_data"
    }
   ],
   "source": [
    "df_inshorts = preprocessor.preprocess_frame(\n",
    "        inshorts_raw.rename({\"Short\": \"article\", \"Headline\": \"summary\"}, axis=1).reset_index(drop=True),\n",
    "        (10, 70),\n",
    "        (3, 16)\n",
    ")\n",
    "print(df_inshorts.describe())\n",
    "df_inshorts"
   ]
  },
  {
   "cell_type": "code",
   "execution_count": 11,
   "id": "4371b817",
   "metadata": {
    "execution": {
     "iopub.execute_input": "2023-03-20T16:06:35.415834Z",
     "iopub.status.busy": "2023-03-20T16:06:35.415371Z",
     "iopub.status.idle": "2023-03-20T16:09:09.658790Z",
     "shell.execute_reply": "2023-03-20T16:09:09.657410Z"
    },
    "papermill": {
     "duration": 154.255815,
     "end_time": "2023-03-20T16:09:09.661526",
     "exception": false,
     "start_time": "2023-03-20T16:06:35.405711",
     "status": "completed"
    },
    "tags": []
   },
   "outputs": [
    {
     "name": "stdout",
     "output_type": "stream",
     "text": [
      "News sum available datasets: Dataset\n",
      "CNN/Daily Mail    587594\n",
      "Multi-News         56216\n",
      "XSum              226711\n",
      "Name: Dataset, dtype: int64\n",
      "Preparing xsum ...\n",
      "Preprocessing frame...\n",
      "       article_len_approx  summary_len_approx\n",
      "count       113521.000000       113521.000000\n",
      "mean           175.535963           21.388880\n",
      "std             75.622673            4.627048\n",
      "min             10.000000            3.000000\n",
      "25%            111.000000           18.000000\n",
      "50%            181.000000           21.000000\n",
      "75%            241.000000           25.000000\n",
      "max            300.000000           40.000000\n"
     ]
    },
    {
     "data": {
      "text/html": [
       "<div>\n",
       "<style scoped>\n",
       "    .dataframe tbody tr th:only-of-type {\n",
       "        vertical-align: middle;\n",
       "    }\n",
       "\n",
       "    .dataframe tbody tr th {\n",
       "        vertical-align: top;\n",
       "    }\n",
       "\n",
       "    .dataframe thead th {\n",
       "        text-align: right;\n",
       "    }\n",
       "</style>\n",
       "<table border=\"1\" class=\"dataframe\">\n",
       "  <thead>\n",
       "    <tr style=\"text-align: right;\">\n",
       "      <th></th>\n",
       "      <th>ID</th>\n",
       "      <th>article</th>\n",
       "      <th>summary</th>\n",
       "      <th>Dataset</th>\n",
       "      <th>article_len_approx</th>\n",
       "      <th>summary_len_approx</th>\n",
       "    </tr>\n",
       "  </thead>\n",
       "  <tbody>\n",
       "    <tr>\n",
       "      <th>1</th>\n",
       "      <td>36475048</td>\n",
       "      <td>&lt;sos&gt; 7 june 2016 last updated at 20:23 bst to...</td>\n",
       "      <td>&lt;sos&gt; terry butcher has been recalling alan br...</td>\n",
       "      <td>XSum</td>\n",
       "      <td>85</td>\n",
       "      <td>22</td>\n",
       "    </tr>\n",
       "    <tr>\n",
       "      <th>2</th>\n",
       "      <td>35586320</td>\n",
       "      <td>&lt;sos&gt; storms desmond eva frank and gertrude al...</td>\n",
       "      <td>&lt;sos&gt; borders councillors have been told the f...</td>\n",
       "      <td>XSum</td>\n",
       "      <td>133</td>\n",
       "      <td>19</td>\n",
       "    </tr>\n",
       "    <tr>\n",
       "      <th>7</th>\n",
       "      <td>27262382</td>\n",
       "      <td>&lt;sos&gt; thomas cook airlines will operate a week...</td>\n",
       "      <td>&lt;sos&gt; an airline has announced plans to introd...</td>\n",
       "      <td>XSum</td>\n",
       "      <td>240</td>\n",
       "      <td>17</td>\n",
       "    </tr>\n",
       "    <tr>\n",
       "      <th>9</th>\n",
       "      <td>34528727</td>\n",
       "      <td>&lt;sos&gt; roy hodgson s side are in pot one with w...</td>\n",
       "      <td>&lt;sos&gt; england wales and northern ireland canno...</td>\n",
       "      <td>XSum</td>\n",
       "      <td>157</td>\n",
       "      <td>29</td>\n",
       "    </tr>\n",
       "    <tr>\n",
       "      <th>12</th>\n",
       "      <td>14131354</td>\n",
       "      <td>&lt;sos&gt; mansfield district council debated the £...</td>\n",
       "      <td>&lt;sos&gt; plans for a major development of houses ...</td>\n",
       "      <td>XSum</td>\n",
       "      <td>265</td>\n",
       "      <td>18</td>\n",
       "    </tr>\n",
       "    <tr>\n",
       "      <th>...</th>\n",
       "      <td>...</td>\n",
       "      <td>...</td>\n",
       "      <td>...</td>\n",
       "      <td>...</td>\n",
       "      <td>...</td>\n",
       "      <td>...</td>\n",
       "    </tr>\n",
       "    <tr>\n",
       "      <th>226702</th>\n",
       "      <td>29718966</td>\n",
       "      <td>&lt;sos&gt; the man identified as robert kelvin elli...</td>\n",
       "      <td>&lt;sos&gt; the indonesian wife of a briton found wi...</td>\n",
       "      <td>XSum</td>\n",
       "      <td>207</td>\n",
       "      <td>28</td>\n",
       "    </tr>\n",
       "    <tr>\n",
       "      <th>226705</th>\n",
       "      <td>32071575</td>\n",
       "      <td>&lt;sos&gt; the 2000 olympic super-heavyweight champ...</td>\n",
       "      <td>&lt;sos&gt; audley harrison has retired from boxing ...</td>\n",
       "      <td>XSum</td>\n",
       "      <td>229</td>\n",
       "      <td>21</td>\n",
       "    </tr>\n",
       "    <tr>\n",
       "      <th>226706</th>\n",
       "      <td>15653768</td>\n",
       "      <td>&lt;sos&gt; the deal will begin in january and means...</td>\n",
       "      <td>&lt;sos&gt; microsoft yahoo and aol have announced a...</td>\n",
       "      <td>XSum</td>\n",
       "      <td>195</td>\n",
       "      <td>17</td>\n",
       "    </tr>\n",
       "    <tr>\n",
       "      <th>226708</th>\n",
       "      <td>37471696</td>\n",
       "      <td>&lt;sos&gt; the nigeria football federation nff want...</td>\n",
       "      <td>&lt;sos&gt; nigeria s players understand they will h...</td>\n",
       "      <td>XSum</td>\n",
       "      <td>263</td>\n",
       "      <td>23</td>\n",
       "    </tr>\n",
       "    <tr>\n",
       "      <th>226710</th>\n",
       "      <td>37512508</td>\n",
       "      <td>&lt;sos&gt; the first study of its kind in ni charts...</td>\n",
       "      <td>&lt;sos&gt; one in five older people in northern ire...</td>\n",
       "      <td>XSum</td>\n",
       "      <td>276</td>\n",
       "      <td>24</td>\n",
       "    </tr>\n",
       "  </tbody>\n",
       "</table>\n",
       "<p>113521 rows × 6 columns</p>\n",
       "</div>"
      ],
      "text/plain": [
       "              ID                                            article  \\\n",
       "1       36475048  <sos> 7 june 2016 last updated at 20:23 bst to...   \n",
       "2       35586320  <sos> storms desmond eva frank and gertrude al...   \n",
       "7       27262382  <sos> thomas cook airlines will operate a week...   \n",
       "9       34528727  <sos> roy hodgson s side are in pot one with w...   \n",
       "12      14131354  <sos> mansfield district council debated the £...   \n",
       "...          ...                                                ...   \n",
       "226702  29718966  <sos> the man identified as robert kelvin elli...   \n",
       "226705  32071575  <sos> the 2000 olympic super-heavyweight champ...   \n",
       "226706  15653768  <sos> the deal will begin in january and means...   \n",
       "226708  37471696  <sos> the nigeria football federation nff want...   \n",
       "226710  37512508  <sos> the first study of its kind in ni charts...   \n",
       "\n",
       "                                                  summary Dataset  \\\n",
       "1       <sos> terry butcher has been recalling alan br...    XSum   \n",
       "2       <sos> borders councillors have been told the f...    XSum   \n",
       "7       <sos> an airline has announced plans to introd...    XSum   \n",
       "9       <sos> england wales and northern ireland canno...    XSum   \n",
       "12      <sos> plans for a major development of houses ...    XSum   \n",
       "...                                                   ...     ...   \n",
       "226702  <sos> the indonesian wife of a briton found wi...    XSum   \n",
       "226705  <sos> audley harrison has retired from boxing ...    XSum   \n",
       "226706  <sos> microsoft yahoo and aol have announced a...    XSum   \n",
       "226708  <sos> nigeria s players understand they will h...    XSum   \n",
       "226710  <sos> one in five older people in northern ire...    XSum   \n",
       "\n",
       "        article_len_approx  summary_len_approx  \n",
       "1                       85                  22  \n",
       "2                      133                  19  \n",
       "7                      240                  17  \n",
       "9                      157                  29  \n",
       "12                     265                  18  \n",
       "...                    ...                 ...  \n",
       "226702                 207                  28  \n",
       "226705                 229                  21  \n",
       "226706                 195                  17  \n",
       "226708                 263                  23  \n",
       "226710                 276                  24  \n",
       "\n",
       "[113521 rows x 6 columns]"
      ]
     },
     "execution_count": 11,
     "metadata": {},
     "output_type": "execute_result"
    },
    {
     "data": {
      "image/png": "[encoded data removed]",
      "text/plain": [
       "<Figure size 500x500 with 1 Axes>"
      ]
     },
     "metadata": {},
     "output_type": "display_data"
    },
    {
     "data": {
      "image/png": "[encoded data removed]",
      "text/plain": [
       "<Figure size 500x500 with 1 Axes>"
      ]
     },
     "metadata": {},
     "output_type": "display_data"
    }
   ],
   "source": [
    "# Newssum combined\n",
    "print('News sum available datasets:', news_sum_combined.groupby('Dataset')['Dataset'].count())\n",
    "\n",
    "xsum_raw = news_sum_combined[ news_sum_combined['Dataset'] == 'XSum' ]\n",
    "\n",
    "print('Preparing xsum ...')\n",
    "df_xsum = preprocessor.preprocess_frame(\n",
    "    xsum_raw.rename({\"Content\": \"article\", \"Summary\": \"summary\"}, axis=1).reset_index(drop=True),\n",
    "    (10, 300),\n",
    "    (3, 40)\n",
    ")\n",
    "print(df_xsum.describe())\n",
    "df_xsum"
   ]
  },
  {
   "cell_type": "markdown",
   "id": "b07fa93f",
   "metadata": {
    "papermill": {
     "duration": 0.008965,
     "end_time": "2023-03-20T16:09:09.680037",
     "exception": false,
     "start_time": "2023-03-20T16:09:09.671072",
     "status": "completed"
    },
    "tags": []
   },
   "source": [
    "## Assemble final train, validation and test sets"
   ]
  },
  {
   "cell_type": "code",
   "execution_count": 12,
   "id": "4dbaa51f",
   "metadata": {
    "execution": {
     "iopub.execute_input": "2023-03-20T16:09:09.701579Z",
     "iopub.status.busy": "2023-03-20T16:09:09.700754Z",
     "iopub.status.idle": "2023-03-20T16:09:09.712310Z",
     "shell.execute_reply": "2023-03-20T16:09:09.711133Z"
    },
    "papermill": {
     "duration": 0.02603,
     "end_time": "2023-03-20T16:09:09.715270",
     "exception": false,
     "start_time": "2023-03-20T16:09:09.689240",
     "status": "completed"
    },
    "tags": []
   },
   "outputs": [],
   "source": [
    "#  drop articles with only one member of length category, this will allow stratified split\n",
    "def ensure_min_summary_length_group_size(df: pd.DataFrame):\n",
    "    df = df[df.groupby('article_len_approx').summary_len_approx.transform('count') > 1]\n",
    "    return df\n",
    "\n",
    "# Stratified split into train, validation, test by article length\n",
    "def stratified_triple_split_by_summary(df: pd.DataFrame, test_size=0.1, val_size=0.1):\n",
    "    df_trainval, df_test = train_test_split(df, test_size=test_size, stratify=df['article_len_approx'])\n",
    "    df_trainval.shape, df_test.shape\n",
    "\n",
    "    # split train+val to train and validation,\n",
    "    # relative original full set with test set is 1.1 so we multiply the ratio to get ~|test|\n",
    "\n",
    "    df_train, df_val = train_test_split(df_trainval, test_size=val_size * (1 + test_size), stratify=df_trainval['article_len_approx'])\n",
    "\n",
    "    return df_train, df_val, df_test\n",
    "\n",
    "def save_dataset(name: str, test_size: int, val_size: int, frame: int):\n",
    "    \n",
    "    print('Saving dataset ' + name)\n",
    "    \n",
    "    frame = frame[['article', 'summary', 'article_len_approx', 'summary_len_approx']].reset_index(drop=True)\n",
    "    \n",
    "    train, val, test = df_train, df_val, df_test = stratified_triple_split_by_summary(\n",
    "        ensure_min_summary_length_group_size(frame),\n",
    "        test_size=test_size,\n",
    "        val_size=val_size\n",
    "    )\n",
    "    \n",
    "    print(f\"Train:      {train.shape} - {1 - test_size - val_size}\")\n",
    "    print(f\"Validation: {val.shape} - {val_size}\")\n",
    "    print(f\"Test:       {test.shape} - {test_size}\")\n",
    "    \n",
    "    train.to_csv(name + '_train.csv')\n",
    "    val.to_csv(name + '_val.csv')\n",
    "    test.to_csv(name + '_test.csv')\n",
    "    \n",
    "    print('Split and saved dataset ' + name)\n",
    "    "
   ]
  },
  {
   "cell_type": "code",
   "execution_count": 13,
   "id": "d24430ae",
   "metadata": {
    "execution": {
     "iopub.execute_input": "2023-03-20T16:09:09.737290Z",
     "iopub.status.busy": "2023-03-20T16:09:09.736211Z",
     "iopub.status.idle": "2023-03-20T16:09:10.474831Z",
     "shell.execute_reply": "2023-03-20T16:09:10.473397Z"
    },
    "papermill": {
     "duration": 0.752485,
     "end_time": "2023-03-20T16:09:10.477465",
     "exception": false,
     "start_time": "2023-03-20T16:09:09.724980",
     "status": "completed"
    },
    "tags": []
   },
   "outputs": [
    {
     "name": "stdout",
     "output_type": "stream",
     "text": [
      "Saving dataset inshorts_nodot_10-70_3-16\n",
      "Train:      (44131, 4) - 0.8\n",
      "Validation: (5455, 4) - 0.1\n",
      "Test:       (5510, 4) - 0.1\n",
      "Split and saved dataset inshorts_nodot_10-70_3-16\n"
     ]
    }
   ],
   "source": [
    "# save \n",
    "save_dataset('inshorts_nodot_10-70_3-16', 0.1, 0.1, df_inshorts)"
   ]
  },
  {
   "cell_type": "code",
   "execution_count": 14,
   "id": "3cffe674",
   "metadata": {
    "execution": {
     "iopub.execute_input": "2023-03-20T16:09:10.499850Z",
     "iopub.status.busy": "2023-03-20T16:09:10.499059Z",
     "iopub.status.idle": "2023-03-20T16:09:13.609602Z",
     "shell.execute_reply": "2023-03-20T16:09:13.608421Z"
    },
    "papermill": {
     "duration": 3.12564,
     "end_time": "2023-03-20T16:09:13.613037",
     "exception": false,
     "start_time": "2023-03-20T16:09:10.487397",
     "status": "completed"
    },
    "tags": []
   },
   "outputs": [
    {
     "name": "stdout",
     "output_type": "stream",
     "text": [
      "Saving dataset xsum_nodot_10-300_3-40\n",
      "Train:      (90929, 4) - 0.8\n",
      "Validation: (11239, 4) - 0.1\n",
      "Test:       (11353, 4) - 0.1\n",
      "Split and saved dataset xsum_nodot_10-300_3-40\n"
     ]
    }
   ],
   "source": [
    "save_dataset('xsum_nodot_10-300_3-40', 0.1, 0.1, df_xsum)"
   ]
  },
  {
   "cell_type": "markdown",
   "id": "727aeaa4",
   "metadata": {
    "papermill": {
     "duration": 0.010619,
     "end_time": "2023-03-20T16:09:13.633989",
     "exception": false,
     "start_time": "2023-03-20T16:09:13.623370",
     "status": "completed"
    },
    "tags": []
   },
   "source": [
    "**DONE**"
   ]
  },
  {
   "cell_type": "code",
   "execution_count": 15,
   "id": "15c48ec4",
   "metadata": {
    "execution": {
     "iopub.execute_input": "2023-03-20T16:09:13.657513Z",
     "iopub.status.busy": "2023-03-20T16:09:13.657024Z",
     "iopub.status.idle": "2023-03-20T16:09:14.923144Z",
     "shell.execute_reply": "2023-03-20T16:09:14.921383Z"
    },
    "papermill": {
     "duration": 1.281652,
     "end_time": "2023-03-20T16:09:14.926763",
     "exception": false,
     "start_time": "2023-03-20T16:09:13.645111",
     "status": "completed"
    },
    "tags": []
   },
   "outputs": [
    {
     "name": "stdout",
     "output_type": "stream",
     "text": [
      "__notebook__.ipynb\t\t     xsum_nodot_10-300_3-40_test.csv\r\n",
      "inshorts_nodot_10-70_3-16_test.csv   xsum_nodot_10-300_3-40_train.csv\r\n",
      "inshorts_nodot_10-70_3-16_train.csv  xsum_nodot_10-300_3-40_val.csv\r\n",
      "inshorts_nodot_10-70_3-16_val.csv\r\n"
     ]
    }
   ],
   "source": [
    "!ls"
   ]
  },
  {
   "cell_type": "code",
   "execution_count": null,
   "id": "9426134e",
   "metadata": {
    "papermill": {
     "duration": 0.009712,
     "end_time": "2023-03-20T16:09:14.946811",
     "exception": false,
     "start_time": "2023-03-20T16:09:14.937099",
     "status": "completed"
    },
    "tags": []
   },
   "outputs": [],
   "source": []
  }
 ],
 "metadata": {
  "kernelspec": {
   "display_name": "Python 3",
   "language": "python",
   "name": "python3"
  },
  "language_info": {
   "codemirror_mode": {
    "name": "ipython",
    "version": 3
   },
   "file_extension": ".py",
   "mimetype": "text/x-python",
   "name": "python",
   "nbconvert_exporter": "python",
   "pygments_lexer": "ipython3",
   "version": "3.7.12"
  },
  "papermill": {
   "default_parameters": {},
   "duration": 315.879989,
   "end_time": "2023-03-20T16:09:17.981725",
   "environment_variables": {},
   "exception": null,
   "input_path": "__notebook__.ipynb",
   "output_path": "__notebook__.ipynb",
   "parameters": {},
   "start_time": "2023-03-20T16:04:02.101736",
   "version": "2.4.0"
  }
 },
 "nbformat": 4,
 "nbformat_minor": 5
}
